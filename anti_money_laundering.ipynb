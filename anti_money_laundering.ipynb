{
  "cells": [
    {
      "cell_type": "markdown",
      "metadata": {
        "id": "view-in-github",
        "colab_type": "text"
      },
      "source": [
        "<a href=\"https://colab.research.google.com/github/Skalwalker/AntiMoneyLaundering/blob/main/anti_money_laundering.ipynb\" target=\"_parent\"><img src=\"https://colab.research.google.com/assets/colab-badge.svg\" alt=\"Open In Colab\"/></a>"
      ]
    },
    {
      "cell_type": "markdown",
      "metadata": {
        "id": "ubxiWav99sa1"
      },
      "source": [
        "# IBM Transactions for Anti Money Laundering\n",
        "\n",
        "The project is based on the analysis of the «IBM Transactions for Anti Money Laundering» dataset published on [Kaggle](https://www.kaggle.com/datasets/ealtman2019/ibm-transactions-for-anti-money-laundering-aml) and released under the Community Data License Agreement – Sharing – Version 1.0. This dataset contains several CSV files, each having a different combination of data size and amount of illicit transactions.\n",
        "\n",
        "## About\n",
        "\n",
        "This project is a partial requisite for completing the courses of \"Algorithms for massive datasets\" and \"Statistical methods for ML\" on the masters degree computer science program from Università degli Studi di Milano.\n",
        "\n",
        "- **Author:** Renato Avellar Nobre\n",
        "- **Matriculation Number:** 984405\n",
        "- **Exam Project Year:** 22/23\n",
        "\n",
        "### Disclaimer\n",
        "\n",
        "\"I declare that this material, which I now submit for assessment, is entirely my own work and has not been taken from the work of others, save and to the extent that such work has been cited and acknowledged within the text of my work. I understand that plagiarism, collusion, and copying are grave and serious offences in the university and accept the penalties that would be imposed should I engage in plagiarism, collusion or copying. This assignment, or any part of it, has not been previously submitted by me or any other person for assessment on this or any other course of study.\"\n"
      ]
    },
    {
      "cell_type": "markdown",
      "metadata": {
        "id": "CL6OQSo_Ai65"
      },
      "source": [
        "# Overview\n",
        "\n",
        "The task is to implement a system which predicts whether or not a transaction is illicit, using the attribute \"Is Laundering\" as a label to be predicted. Classification should be done exploiting a random forest, organizing the project as follows.\n",
        "\n",
        "1. A sequential implementation (from scratch) of the learning algorithm for a decision tree should be provided, and tested using one or more subsets of the dataset which can be loaded in main memory.\n",
        "\n",
        "2. A mock-up code that uses spark in order to consider a dataset and processes it in order to distribute the creation of the single trees in a random forest should be proposed. In particular, the construction of each tree should be done by providing different data to each worker, both subsampling the number of rows (i.e., labeled objects) and columns (i.e., attributes) in the overall dataset. Concerning the first kind of subsampling, you might possibly consider introducing the so-called bootstrap sampling, in which the labeled objects are sampled with replacement and therefore a same object can occur more than once in the resulting dataset. It is not required to distribute the creation of a single decision tree: for this task you are free to use the implementation provided in point 1, as well as the implementation already available in scikit-learn.\n",
        "\n",
        "\n"
      ]
    },
    {
      "cell_type": "markdown",
      "metadata": {
        "id": "TvV088qACMaw"
      },
      "source": [
        "## Before we start...\n",
        "\n",
        "Please upload the JSON file of your Kaggle API by executing the code below. Kaggle API JSON files can be generated on your [Kaggle user profile setting](https://www.kaggle.com/settings)"
      ]
    },
    {
      "cell_type": "code",
      "execution_count": 1,
      "metadata": {
        "colab": {
          "base_uri": "https://localhost:8080/",
          "height": 86
        },
        "id": "5aA2qb0ICLtZ",
        "outputId": "07c50bda-9cb4-41b9-eac5-6090506fd397"
      },
      "outputs": [
        {
          "output_type": "display_data",
          "data": {
            "text/plain": [
              "<IPython.core.display.HTML object>"
            ],
            "text/html": [
              "\n",
              "     <input type=\"file\" id=\"files-7bb4b24e-75fa-4f59-b9cf-183ccd4d8bf1\" name=\"files[]\" multiple disabled\n",
              "        style=\"border:none\" />\n",
              "     <output id=\"result-7bb4b24e-75fa-4f59-b9cf-183ccd4d8bf1\">\n",
              "      Upload widget is only available when the cell has been executed in the\n",
              "      current browser session. Please rerun this cell to enable.\n",
              "      </output>\n",
              "      <script>// Copyright 2017 Google LLC\n",
              "//\n",
              "// Licensed under the Apache License, Version 2.0 (the \"License\");\n",
              "// you may not use this file except in compliance with the License.\n",
              "// You may obtain a copy of the License at\n",
              "//\n",
              "//      http://www.apache.org/licenses/LICENSE-2.0\n",
              "//\n",
              "// Unless required by applicable law or agreed to in writing, software\n",
              "// distributed under the License is distributed on an \"AS IS\" BASIS,\n",
              "// WITHOUT WARRANTIES OR CONDITIONS OF ANY KIND, either express or implied.\n",
              "// See the License for the specific language governing permissions and\n",
              "// limitations under the License.\n",
              "\n",
              "/**\n",
              " * @fileoverview Helpers for google.colab Python module.\n",
              " */\n",
              "(function(scope) {\n",
              "function span(text, styleAttributes = {}) {\n",
              "  const element = document.createElement('span');\n",
              "  element.textContent = text;\n",
              "  for (const key of Object.keys(styleAttributes)) {\n",
              "    element.style[key] = styleAttributes[key];\n",
              "  }\n",
              "  return element;\n",
              "}\n",
              "\n",
              "// Max number of bytes which will be uploaded at a time.\n",
              "const MAX_PAYLOAD_SIZE = 100 * 1024;\n",
              "\n",
              "function _uploadFiles(inputId, outputId) {\n",
              "  const steps = uploadFilesStep(inputId, outputId);\n",
              "  const outputElement = document.getElementById(outputId);\n",
              "  // Cache steps on the outputElement to make it available for the next call\n",
              "  // to uploadFilesContinue from Python.\n",
              "  outputElement.steps = steps;\n",
              "\n",
              "  return _uploadFilesContinue(outputId);\n",
              "}\n",
              "\n",
              "// This is roughly an async generator (not supported in the browser yet),\n",
              "// where there are multiple asynchronous steps and the Python side is going\n",
              "// to poll for completion of each step.\n",
              "// This uses a Promise to block the python side on completion of each step,\n",
              "// then passes the result of the previous step as the input to the next step.\n",
              "function _uploadFilesContinue(outputId) {\n",
              "  const outputElement = document.getElementById(outputId);\n",
              "  const steps = outputElement.steps;\n",
              "\n",
              "  const next = steps.next(outputElement.lastPromiseValue);\n",
              "  return Promise.resolve(next.value.promise).then((value) => {\n",
              "    // Cache the last promise value to make it available to the next\n",
              "    // step of the generator.\n",
              "    outputElement.lastPromiseValue = value;\n",
              "    return next.value.response;\n",
              "  });\n",
              "}\n",
              "\n",
              "/**\n",
              " * Generator function which is called between each async step of the upload\n",
              " * process.\n",
              " * @param {string} inputId Element ID of the input file picker element.\n",
              " * @param {string} outputId Element ID of the output display.\n",
              " * @return {!Iterable<!Object>} Iterable of next steps.\n",
              " */\n",
              "function* uploadFilesStep(inputId, outputId) {\n",
              "  const inputElement = document.getElementById(inputId);\n",
              "  inputElement.disabled = false;\n",
              "\n",
              "  const outputElement = document.getElementById(outputId);\n",
              "  outputElement.innerHTML = '';\n",
              "\n",
              "  const pickedPromise = new Promise((resolve) => {\n",
              "    inputElement.addEventListener('change', (e) => {\n",
              "      resolve(e.target.files);\n",
              "    });\n",
              "  });\n",
              "\n",
              "  const cancel = document.createElement('button');\n",
              "  inputElement.parentElement.appendChild(cancel);\n",
              "  cancel.textContent = 'Cancel upload';\n",
              "  const cancelPromise = new Promise((resolve) => {\n",
              "    cancel.onclick = () => {\n",
              "      resolve(null);\n",
              "    };\n",
              "  });\n",
              "\n",
              "  // Wait for the user to pick the files.\n",
              "  const files = yield {\n",
              "    promise: Promise.race([pickedPromise, cancelPromise]),\n",
              "    response: {\n",
              "      action: 'starting',\n",
              "    }\n",
              "  };\n",
              "\n",
              "  cancel.remove();\n",
              "\n",
              "  // Disable the input element since further picks are not allowed.\n",
              "  inputElement.disabled = true;\n",
              "\n",
              "  if (!files) {\n",
              "    return {\n",
              "      response: {\n",
              "        action: 'complete',\n",
              "      }\n",
              "    };\n",
              "  }\n",
              "\n",
              "  for (const file of files) {\n",
              "    const li = document.createElement('li');\n",
              "    li.append(span(file.name, {fontWeight: 'bold'}));\n",
              "    li.append(span(\n",
              "        `(${file.type || 'n/a'}) - ${file.size} bytes, ` +\n",
              "        `last modified: ${\n",
              "            file.lastModifiedDate ? file.lastModifiedDate.toLocaleDateString() :\n",
              "                                    'n/a'} - `));\n",
              "    const percent = span('0% done');\n",
              "    li.appendChild(percent);\n",
              "\n",
              "    outputElement.appendChild(li);\n",
              "\n",
              "    const fileDataPromise = new Promise((resolve) => {\n",
              "      const reader = new FileReader();\n",
              "      reader.onload = (e) => {\n",
              "        resolve(e.target.result);\n",
              "      };\n",
              "      reader.readAsArrayBuffer(file);\n",
              "    });\n",
              "    // Wait for the data to be ready.\n",
              "    let fileData = yield {\n",
              "      promise: fileDataPromise,\n",
              "      response: {\n",
              "        action: 'continue',\n",
              "      }\n",
              "    };\n",
              "\n",
              "    // Use a chunked sending to avoid message size limits. See b/62115660.\n",
              "    let position = 0;\n",
              "    do {\n",
              "      const length = Math.min(fileData.byteLength - position, MAX_PAYLOAD_SIZE);\n",
              "      const chunk = new Uint8Array(fileData, position, length);\n",
              "      position += length;\n",
              "\n",
              "      const base64 = btoa(String.fromCharCode.apply(null, chunk));\n",
              "      yield {\n",
              "        response: {\n",
              "          action: 'append',\n",
              "          file: file.name,\n",
              "          data: base64,\n",
              "        },\n",
              "      };\n",
              "\n",
              "      let percentDone = fileData.byteLength === 0 ?\n",
              "          100 :\n",
              "          Math.round((position / fileData.byteLength) * 100);\n",
              "      percent.textContent = `${percentDone}% done`;\n",
              "\n",
              "    } while (position < fileData.byteLength);\n",
              "  }\n",
              "\n",
              "  // All done.\n",
              "  yield {\n",
              "    response: {\n",
              "      action: 'complete',\n",
              "    }\n",
              "  };\n",
              "}\n",
              "\n",
              "scope.google = scope.google || {};\n",
              "scope.google.colab = scope.google.colab || {};\n",
              "scope.google.colab._files = {\n",
              "  _uploadFiles,\n",
              "  _uploadFilesContinue,\n",
              "};\n",
              "})(self);\n",
              "</script> "
            ]
          },
          "metadata": {}
        },
        {
          "output_type": "stream",
          "name": "stdout",
          "text": [
            "Saving kaggle.json to kaggle.json\n",
            "User uploaded file \"kaggle.json\" with length 66 bytes\n"
          ]
        }
      ],
      "source": [
        "from google.colab import files\n",
        "\n",
        "uploaded = files.upload()\n",
        "\n",
        "for fn in uploaded.keys():\n",
        "  print('User uploaded file \"{name}\" with length {length} bytes'.format(\n",
        "      name=fn, length=len(uploaded[fn])))\n",
        "\n",
        "# Move kaggle.json into the folder where the API expects to find it.\n",
        "!mkdir -p ~/.kaggle/ && mv kaggle.json ~/.kaggle/ && chmod 600 ~/.kaggle/kaggle.json"
      ]
    },
    {
      "cell_type": "markdown",
      "metadata": {
        "id": "dGnDQYvLB3rF"
      },
      "source": [
        "# Setup"
      ]
    },
    {
      "cell_type": "code",
      "execution_count": 2,
      "metadata": {
        "colab": {
          "base_uri": "https://localhost:8080/"
        },
        "id": "1YrUoObNGILG",
        "outputId": "cabc4ad8-994d-49ee-ffaf-7bd3be403b09"
      },
      "outputs": [
        {
          "output_type": "stream",
          "name": "stdout",
          "text": [
            "Directories created successfully\n"
          ]
        }
      ],
      "source": [
        "import os\n",
        "\n",
        "data_folders = [\"01_raw\"]\n",
        "\n",
        "try:\n",
        "    os.makedirs(\"data\", exist_ok = True)\n",
        "    [os.makedirs(\"data/\" + folder_name, exist_ok = True) for folder_name in data_folders]\n",
        "    print(\"Directories created successfully\")\n",
        "except OSError as error:\n",
        "    print(f\"Directories can not be created: {error}\")\n"
      ]
    },
    {
      "cell_type": "markdown",
      "metadata": {
        "id": "Bp_-mZuN5z2o"
      },
      "source": [
        "## Fetching Files from Kaggle"
      ]
    },
    {
      "cell_type": "code",
      "execution_count": 3,
      "metadata": {
        "colab": {
          "base_uri": "https://localhost:8080/"
        },
        "id": "3Z-WsFbK9BMU",
        "outputId": "27b7081a-7029-46c7-d09a-c700c85fec57"
      },
      "outputs": [
        {
          "output_type": "stream",
          "name": "stdout",
          "text": [
            "Downloading ibm-transactions-for-anti-money-laundering-aml.zip to /content\n",
            "100% 7.42G/7.42G [05:42<00:00, 24.7MB/s]\n",
            "100% 7.42G/7.42G [05:42<00:00, 23.2MB/s]\n"
          ]
        }
      ],
      "source": [
        "!kaggle datasets download -d ealtman2019/ibm-transactions-for-anti-money-laundering-aml"
      ]
    },
    {
      "cell_type": "code",
      "execution_count": 4,
      "metadata": {
        "colab": {
          "base_uri": "https://localhost:8080/"
        },
        "id": "QSb8QvE59Zk_",
        "outputId": "1623866b-6f6f-4dce-b711-6963e0f867e0"
      },
      "outputs": [
        {
          "output_type": "stream",
          "name": "stdout",
          "text": [
            "Archive:  ibm-transactions-for-anti-money-laundering-aml.zip\n",
            "  inflating: ./data/01_raw/HI-Large_Patterns.txt  \n",
            "  inflating: ./data/01_raw/HI-Large_Trans.csv  \n",
            "  inflating: ./data/01_raw/HI-Medium_Patterns.txt  \n",
            "  inflating: ./data/01_raw/HI-Medium_Trans.csv  \n",
            "  inflating: ./data/01_raw/HI-Small_Patterns.txt  \n",
            "  inflating: ./data/01_raw/HI-Small_Trans.csv  \n",
            "  inflating: ./data/01_raw/LI-Large_Patterns.txt  \n",
            "  inflating: ./data/01_raw/LI-Large_Trans.csv  \n",
            "  inflating: ./data/01_raw/LI-Medium_Patterns.txt  \n",
            "  inflating: ./data/01_raw/LI-Medium_Trans.csv  \n",
            "  inflating: ./data/01_raw/LI-Small_Patterns.txt  \n",
            "  inflating: ./data/01_raw/LI-Small_Trans.csv  \n"
          ]
        }
      ],
      "source": [
        "!unzip ibm-transactions-for-anti-money-laundering-aml.zip -d ./data/01_raw/"
      ]
    },
    {
      "cell_type": "code",
      "execution_count": 5,
      "metadata": {
        "id": "Zgow9c9nH0lN"
      },
      "outputs": [],
      "source": [
        "!rm ibm-transactions-for-anti-money-laundering-aml.zip\n",
        "!rm ./data/01_raw/*.txt"
      ]
    },
    {
      "cell_type": "markdown",
      "metadata": {
        "id": "Hszm7Ijy4VC1"
      },
      "source": [
        "## Installations"
      ]
    },
    {
      "cell_type": "code",
      "execution_count": 6,
      "metadata": {
        "colab": {
          "base_uri": "https://localhost:8080/"
        },
        "id": "z75NmbV24qv1",
        "outputId": "81727bfe-80e2-40be-a35c-3b3d03c717d2"
      },
      "outputs": [
        {
          "output_type": "stream",
          "name": "stdout",
          "text": [
            "Requirement already satisfied: ipykernel in /usr/local/lib/python3.10/dist-packages (5.5.6)\n",
            "Collecting ipykernel\n",
            "  Downloading ipykernel-6.23.3-py3-none-any.whl (152 kB)\n",
            "\u001b[2K     \u001b[90m━━━━━━━━━━━━━━━━━━━━━━━━━━━━━━━━━━━━━━━\u001b[0m \u001b[32m152.8/152.8 kB\u001b[0m \u001b[31m3.8 MB/s\u001b[0m eta \u001b[36m0:00:00\u001b[0m\n",
            "\u001b[?25hCollecting comm>=0.1.1 (from ipykernel)\n",
            "  Downloading comm-0.1.3-py3-none-any.whl (6.6 kB)\n",
            "Requirement already satisfied: debugpy>=1.6.5 in /usr/local/lib/python3.10/dist-packages (from ipykernel) (1.6.6)\n",
            "Requirement already satisfied: ipython>=7.23.1 in /usr/local/lib/python3.10/dist-packages (from ipykernel) (7.34.0)\n",
            "Requirement already satisfied: jupyter-client>=6.1.12 in /usr/local/lib/python3.10/dist-packages (from ipykernel) (6.1.12)\n",
            "Requirement already satisfied: jupyter-core!=5.0.*,>=4.12 in /usr/local/lib/python3.10/dist-packages (from ipykernel) (5.3.1)\n",
            "Requirement already satisfied: matplotlib-inline>=0.1 in /usr/local/lib/python3.10/dist-packages (from ipykernel) (0.1.6)\n",
            "Requirement already satisfied: nest-asyncio in /usr/local/lib/python3.10/dist-packages (from ipykernel) (1.5.6)\n",
            "Requirement already satisfied: packaging in /usr/local/lib/python3.10/dist-packages (from ipykernel) (23.1)\n",
            "Requirement already satisfied: psutil in /usr/local/lib/python3.10/dist-packages (from ipykernel) (5.9.5)\n",
            "Requirement already satisfied: pyzmq>=20 in /usr/local/lib/python3.10/dist-packages (from ipykernel) (23.2.1)\n",
            "Requirement already satisfied: tornado>=6.1 in /usr/local/lib/python3.10/dist-packages (from ipykernel) (6.3.1)\n",
            "Requirement already satisfied: traitlets>=5.4.0 in /usr/local/lib/python3.10/dist-packages (from ipykernel) (5.7.1)\n",
            "Requirement already satisfied: setuptools>=18.5 in /usr/local/lib/python3.10/dist-packages (from ipython>=7.23.1->ipykernel) (67.7.2)\n",
            "Collecting jedi>=0.16 (from ipython>=7.23.1->ipykernel)\n",
            "  Downloading jedi-0.18.2-py2.py3-none-any.whl (1.6 MB)\n",
            "\u001b[2K     \u001b[90m━━━━━━━━━━━━━━━━━━━━━━━━━━━━━━━━━━━━━━━━\u001b[0m \u001b[32m1.6/1.6 MB\u001b[0m \u001b[31m28.4 MB/s\u001b[0m eta \u001b[36m0:00:00\u001b[0m\n",
            "\u001b[?25hRequirement already satisfied: decorator in /usr/local/lib/python3.10/dist-packages (from ipython>=7.23.1->ipykernel) (4.4.2)\n",
            "Requirement already satisfied: pickleshare in /usr/local/lib/python3.10/dist-packages (from ipython>=7.23.1->ipykernel) (0.7.5)\n",
            "Requirement already satisfied: prompt-toolkit!=3.0.0,!=3.0.1,<3.1.0,>=2.0.0 in /usr/local/lib/python3.10/dist-packages (from ipython>=7.23.1->ipykernel) (3.0.38)\n",
            "Requirement already satisfied: pygments in /usr/local/lib/python3.10/dist-packages (from ipython>=7.23.1->ipykernel) (2.14.0)\n",
            "Requirement already satisfied: backcall in /usr/local/lib/python3.10/dist-packages (from ipython>=7.23.1->ipykernel) (0.2.0)\n",
            "Requirement already satisfied: pexpect>4.3 in /usr/local/lib/python3.10/dist-packages (from ipython>=7.23.1->ipykernel) (4.8.0)\n",
            "Requirement already satisfied: python-dateutil>=2.1 in /usr/local/lib/python3.10/dist-packages (from jupyter-client>=6.1.12->ipykernel) (2.8.2)\n",
            "Requirement already satisfied: platformdirs>=2.5 in /usr/local/lib/python3.10/dist-packages (from jupyter-core!=5.0.*,>=4.12->ipykernel) (3.7.0)\n",
            "Requirement already satisfied: parso<0.9.0,>=0.8.0 in /usr/local/lib/python3.10/dist-packages (from jedi>=0.16->ipython>=7.23.1->ipykernel) (0.8.3)\n",
            "Requirement already satisfied: ptyprocess>=0.5 in /usr/local/lib/python3.10/dist-packages (from pexpect>4.3->ipython>=7.23.1->ipykernel) (0.7.0)\n",
            "Requirement already satisfied: wcwidth in /usr/local/lib/python3.10/dist-packages (from prompt-toolkit!=3.0.0,!=3.0.1,<3.1.0,>=2.0.0->ipython>=7.23.1->ipykernel) (0.2.6)\n",
            "Requirement already satisfied: six>=1.5 in /usr/local/lib/python3.10/dist-packages (from python-dateutil>=2.1->jupyter-client>=6.1.12->ipykernel) (1.16.0)\n",
            "Installing collected packages: jedi, comm, ipykernel\n",
            "  Attempting uninstall: ipykernel\n",
            "    Found existing installation: ipykernel 5.5.6\n",
            "    Uninstalling ipykernel-5.5.6:\n",
            "      Successfully uninstalled ipykernel-5.5.6\n",
            "\u001b[31mERROR: pip's dependency resolver does not currently take into account all the packages that are installed. This behaviour is the source of the following dependency conflicts.\n",
            "google-colab 1.0.0 requires ipykernel==5.5.6, but you have ipykernel 6.23.3 which is incompatible.\u001b[0m\u001b[31m\n",
            "\u001b[0mSuccessfully installed comm-0.1.3 ipykernel-6.23.3 jedi-0.18.2\n",
            "Requirement already satisfied: kaggle in /usr/local/lib/python3.10/dist-packages (1.5.13)\n",
            "Requirement already satisfied: six>=1.10 in /usr/local/lib/python3.10/dist-packages (from kaggle) (1.16.0)\n",
            "Requirement already satisfied: certifi in /usr/local/lib/python3.10/dist-packages (from kaggle) (2023.5.7)\n",
            "Requirement already satisfied: python-dateutil in /usr/local/lib/python3.10/dist-packages (from kaggle) (2.8.2)\n",
            "Requirement already satisfied: requests in /usr/local/lib/python3.10/dist-packages (from kaggle) (2.27.1)\n",
            "Requirement already satisfied: tqdm in /usr/local/lib/python3.10/dist-packages (from kaggle) (4.65.0)\n",
            "Requirement already satisfied: python-slugify in /usr/local/lib/python3.10/dist-packages (from kaggle) (8.0.1)\n",
            "Requirement already satisfied: urllib3 in /usr/local/lib/python3.10/dist-packages (from kaggle) (1.26.16)\n",
            "Requirement already satisfied: text-unidecode>=1.3 in /usr/local/lib/python3.10/dist-packages (from python-slugify->kaggle) (1.3)\n",
            "Requirement already satisfied: charset-normalizer~=2.0.0 in /usr/local/lib/python3.10/dist-packages (from requests->kaggle) (2.0.12)\n",
            "Requirement already satisfied: idna<4,>=2.5 in /usr/local/lib/python3.10/dist-packages (from requests->kaggle) (3.4)\n",
            "Collecting pyspark\n",
            "  Downloading pyspark-3.4.1.tar.gz (310.8 MB)\n",
            "\u001b[2K     \u001b[90m━━━━━━━━━━━━━━━━━━━━━━━━━━━━━━━━━━━━━━━\u001b[0m \u001b[32m310.8/310.8 MB\u001b[0m \u001b[31m4.6 MB/s\u001b[0m eta \u001b[36m0:00:00\u001b[0m\n",
            "\u001b[?25h  Preparing metadata (setup.py) ... \u001b[?25l\u001b[?25hdone\n",
            "Requirement already satisfied: py4j==0.10.9.7 in /usr/local/lib/python3.10/dist-packages (from pyspark) (0.10.9.7)\n",
            "Building wheels for collected packages: pyspark\n",
            "  Building wheel for pyspark (setup.py) ... \u001b[?25l\u001b[?25hdone\n",
            "  Created wheel for pyspark: filename=pyspark-3.4.1-py2.py3-none-any.whl size=311285398 sha256=25d58f7f0f8ff41f8a777615c84830bdb57b5868f36a07fac5c2c9f9e4ed8f0c\n",
            "  Stored in directory: /root/.cache/pip/wheels/0d/77/a3/ff2f74cc9ab41f8f594dabf0579c2a7c6de920d584206e0834\n",
            "Successfully built pyspark\n",
            "Installing collected packages: pyspark\n",
            "Successfully installed pyspark-3.4.1\n"
          ]
        }
      ],
      "source": [
        "!pip install --upgrade ipykernel\n",
        "!pip install kaggle\n",
        "!pip install pyspark"
      ]
    },
    {
      "cell_type": "markdown",
      "metadata": {
        "id": "KU5_kZqazZVT"
      },
      "source": [
        "## Imports"
      ]
    },
    {
      "cell_type": "code",
      "execution_count": 7,
      "metadata": {
        "id": "kn7TuiLM4HDH"
      },
      "outputs": [],
      "source": [
        "import numpy as np\n",
        "import pandas as pd\n",
        "import seaborn as sns\n",
        "import matplotlib.pyplot as plt\n",
        "\n",
        "from sklearn import datasets\n",
        "\n",
        "from pyspark.sql import Window\n",
        "from pyspark.sql.types import *\n",
        "from pyspark.sql import SparkSession\n",
        "from pyspark.sql.functions import col, sum, lag, round, lit, to_timestamp, countDistinct, hour, dayofmonth, dayofmonth, minute, date_format, to_date, when, count, row_number, coalesce, unix_timestamp, max\n",
        "from pyspark.ml.feature import StringIndexer\n",
        "from sklearn.metrics import confusion_matrix, ConfusionMatrixDisplay"
      ]
    },
    {
      "cell_type": "markdown",
      "metadata": {
        "id": "yvBpD42vCK-R"
      },
      "source": [
        "## Setting Up PySpark"
      ]
    },
    {
      "cell_type": "code",
      "execution_count": 8,
      "metadata": {
        "id": "mb2XfyiCCOCr"
      },
      "outputs": [],
      "source": [
        "spark = None\n",
        "if spark:\n",
        "  spark.stop()\n",
        "\n",
        "spark = SparkSession.builder \\\n",
        "          .appName(\"MoneyLaundering\") \\\n",
        "          .config(\"spark.executor.memory\", \"2g\") \\\n",
        "          .config(\"spark.executor.cores\", \"5\") \\\n",
        "          .config(\"spark.driver.memory\", \"3g\") \\\n",
        "          .config(\"spark.executor.instances\", \"4\") \\\n",
        "          .config(\"spark.sql.shuffle.partitions\", \"16\") \\\n",
        "          .getOrCreate()\n",
        "\n",
        "spark.sparkContext.setLogLevel(\"OFF\")"
      ]
    },
    {
      "cell_type": "code",
      "execution_count": 9,
      "metadata": {
        "colab": {
          "base_uri": "https://localhost:8080/"
        },
        "id": "7joBfAxtSOyk",
        "outputId": "b805e550-579b-49c8-8f91-56dbf65d05d7"
      },
      "outputs": [
        {
          "output_type": "stream",
          "name": "stdout",
          "text": [
            "Spark executor memory: 2g\n",
            "Spark executor instances: 4\n",
            "Spark app starttime: 1688061395992\n",
            "Spark executor cores: 5\n",
            "Spark driver host: cd0f14b204fc\n",
            "Spark app name: MoneyLaundering\n",
            "Spark app submittime: 1688061395379\n",
            "Spark executor id: driver\n",
            "Spark sql shuffle partitions: 16\n",
            "Spark driver extrajavaoptions: -Djava.net.preferIPv6Addresses=false -XX:+IgnoreUnrecognizedVMOptions --add-opens=java.base/java.lang=ALL-UNNAMED --add-opens=java.base/java.lang.invoke=ALL-UNNAMED --add-opens=java.base/java.lang.reflect=ALL-UNNAMED --add-opens=java.base/java.io=ALL-UNNAMED --add-opens=java.base/java.net=ALL-UNNAMED --add-opens=java.base/java.nio=ALL-UNNAMED --add-opens=java.base/java.util=ALL-UNNAMED --add-opens=java.base/java.util.concurrent=ALL-UNNAMED --add-opens=java.base/java.util.concurrent.atomic=ALL-UNNAMED --add-opens=java.base/sun.nio.ch=ALL-UNNAMED --add-opens=java.base/sun.nio.cs=ALL-UNNAMED --add-opens=java.base/sun.security.action=ALL-UNNAMED --add-opens=java.base/sun.util.calendar=ALL-UNNAMED --add-opens=java.security.jgss/sun.security.krb5=ALL-UNNAMED -Djdk.reflect.useDirectMethodHandle=false\n",
            "Spark app id: local-1688061400691\n",
            "Spark driver memory: 3g\n",
            "Spark driver port: 44449\n",
            "Spark rdd compress: True\n",
            "Spark serializer objectstreamreset: 100\n",
            "Spark master: local[*]\n",
            "Spark submit pyfiles: \n",
            "Spark submit deploymode: client\n",
            "Spark ui showconsoleprogress: true\n",
            "Spark executor extrajavaoptions: -Djava.net.preferIPv6Addresses=false -XX:+IgnoreUnrecognizedVMOptions --add-opens=java.base/java.lang=ALL-UNNAMED --add-opens=java.base/java.lang.invoke=ALL-UNNAMED --add-opens=java.base/java.lang.reflect=ALL-UNNAMED --add-opens=java.base/java.io=ALL-UNNAMED --add-opens=java.base/java.net=ALL-UNNAMED --add-opens=java.base/java.nio=ALL-UNNAMED --add-opens=java.base/java.util=ALL-UNNAMED --add-opens=java.base/java.util.concurrent=ALL-UNNAMED --add-opens=java.base/java.util.concurrent.atomic=ALL-UNNAMED --add-opens=java.base/sun.nio.ch=ALL-UNNAMED --add-opens=java.base/sun.nio.cs=ALL-UNNAMED --add-opens=java.base/sun.security.action=ALL-UNNAMED --add-opens=java.base/sun.util.calendar=ALL-UNNAMED --add-opens=java.security.jgss/sun.security.krb5=ALL-UNNAMED -Djdk.reflect.useDirectMethodHandle=false\n"
          ]
        }
      ],
      "source": [
        "for x in spark.sparkContext.getConf().getAll():\n",
        "  print(f\"{x[0].replace('.', ' ').capitalize()}: {x[1]}\")"
      ]
    },
    {
      "cell_type": "markdown",
      "metadata": {
        "id": "nccoQ3Q4PBnx"
      },
      "source": [
        "# 0. Data Engineering Preparation"
      ]
    },
    {
      "cell_type": "code",
      "execution_count": 10,
      "metadata": {
        "colab": {
          "base_uri": "https://localhost:8080/"
        },
        "id": "MiZjjDhWJaQX",
        "outputId": "f9238e1c-0f3b-42ed-dcc1-b04fc1fa22b0"
      },
      "outputs": [
        {
          "output_type": "stream",
          "name": "stdout",
          "text": [
            "total 41GB\n",
            "-rw-r--r-- 1 root root 18GB Feb 28 11:54 HI-Large_Trans.csv\n",
            "-rw-r--r-- 1 root root  4GB Feb 28 12:08 HI-Medium_Trans.csv\n",
            "-rw-r--r-- 1 root root  1GB Feb 28 12:12 HI-Small_Trans.csv\n",
            "-rw-r--r-- 1 root root 17GB Feb 28 12:12 LI-Large_Trans.csv\n",
            "-rw-r--r-- 1 root root  3GB Feb 28 12:28 LI-Medium_Trans.csv\n",
            "-rw-r--r-- 1 root root  1GB Feb 28 12:31 LI-Small_Trans.csv\n"
          ]
        }
      ],
      "source": [
        "!ls -l --block-size=GB ./data/01_raw/"
      ]
    },
    {
      "cell_type": "markdown",
      "metadata": {
        "id": "RNcVyLXtbWWM"
      },
      "source": [
        "## Raw Data\n",
        "\n",
        "The raw layer is the starting point of the data pipeline and includes the sourced data model(s) that should never be altered. It serves as the single source of truth for all subsequent work. Typically, these data models are untyped, such as CSV files.\n",
        "\n",
        "* We never mutate the data here, only work on copies.\n",
        "\n"
      ]
    },
    {
      "cell_type": "code",
      "execution_count": 11,
      "metadata": {
        "id": "6QifwN0RPJtd"
      },
      "outputs": [],
      "source": [
        "# High Ilicity Datasets\n",
        "hi_small_df = spark.read.csv(\"./data/01_raw/HI-Small_Trans.csv\", header=True)\n",
        "hi_large_df = spark.read.csv(\"./data/01_raw/HI-Large_Trans.csv\", header=True)\n",
        "\n",
        "# Low Ilicity Datasets\n",
        "li_small_df = spark.read.csv(\"./data/01_raw/LI-Small_Trans.csv\", header=True)\n",
        "li_large_df = spark.read.csv(\"./data/01_raw/LI-Large_Trans.csv\", header=True)"
      ]
    },
    {
      "cell_type": "code",
      "execution_count": 12,
      "metadata": {
        "colab": {
          "base_uri": "https://localhost:8080/"
        },
        "id": "YcDICK_yMyfW",
        "outputId": "2f708850-6894-4aae-c9b4-f24d7a02b3a9"
      },
      "outputs": [
        {
          "output_type": "execute_result",
          "data": {
            "text/plain": [
              "['Timestamp',\n",
              " 'From Bank',\n",
              " 'Account2',\n",
              " 'To Bank',\n",
              " 'Account4',\n",
              " 'Amount Received',\n",
              " 'Receiving Currency',\n",
              " 'Amount Paid',\n",
              " 'Payment Currency',\n",
              " 'Payment Format',\n",
              " 'Is Laundering']"
            ]
          },
          "metadata": {},
          "execution_count": 12
        }
      ],
      "source": [
        "hi_small_df.columns"
      ]
    },
    {
      "cell_type": "code",
      "execution_count": 13,
      "metadata": {
        "colab": {
          "base_uri": "https://localhost:8080/"
        },
        "id": "wf2WhWPDGepz",
        "outputId": "a53e1dea-a17e-4a0c-9569-829233b39ba1"
      },
      "outputs": [
        {
          "output_type": "stream",
          "name": "stdout",
          "text": [
            "root\n",
            " |-- Timestamp: string (nullable = true)\n",
            " |-- From Bank: string (nullable = true)\n",
            " |-- Account2: string (nullable = true)\n",
            " |-- To Bank: string (nullable = true)\n",
            " |-- Account4: string (nullable = true)\n",
            " |-- Amount Received: string (nullable = true)\n",
            " |-- Receiving Currency: string (nullable = true)\n",
            " |-- Amount Paid: string (nullable = true)\n",
            " |-- Payment Currency: string (nullable = true)\n",
            " |-- Payment Format: string (nullable = true)\n",
            " |-- Is Laundering: string (nullable = true)\n",
            "\n"
          ]
        }
      ],
      "source": [
        "hi_small_df.printSchema()"
      ]
    },
    {
      "cell_type": "code",
      "execution_count": 14,
      "metadata": {
        "colab": {
          "base_uri": "https://localhost:8080/"
        },
        "id": "VNk_XM1JGtIO",
        "outputId": "2b31c7d8-3ab9-4af4-beca-7525eb2ad27e"
      },
      "outputs": [
        {
          "output_type": "stream",
          "name": "stdout",
          "text": [
            "Are all HI cols the same? True\n",
            "Are all LI cols the same? True\n",
            "Are LI cols the same in HI? True\n"
          ]
        }
      ],
      "source": [
        "# Verify if all columns are equal\n",
        "hi_cols_equal = (hi_small_df.columns == hi_large_df.columns)\n",
        "li_cols_equal = (li_large_df.columns == li_small_df.columns)\n",
        "\n",
        "print(f\"Are all HI cols the same? {hi_cols_equal}\")\n",
        "print(f\"Are all LI cols the same? {li_cols_equal}\")\n",
        "print(f\"Are LI cols the same in HI? {hi_cols_equal == li_cols_equal}\")"
      ]
    },
    {
      "cell_type": "code",
      "execution_count": 15,
      "metadata": {
        "colab": {
          "base_uri": "https://localhost:8080/"
        },
        "id": "O9-Nxt9SMPCP",
        "outputId": "2c0d896c-85f8-472c-e825-d375ea88dbd1"
      },
      "outputs": [
        {
          "output_type": "stream",
          "name": "stdout",
          "text": [
            "+----------------+---------+---------+-------+---------+---------------+------------------+-----------+----------------+--------------+-------------+\n",
            "|       Timestamp|From Bank| Account2|To Bank| Account4|Amount Received|Receiving Currency|Amount Paid|Payment Currency|Payment Format|Is Laundering|\n",
            "+----------------+---------+---------+-------+---------+---------------+------------------+-----------+----------------+--------------+-------------+\n",
            "|2022/09/01 00:20|      010|8000EBD30|    010|8000EBD30|        3697.34|         US Dollar|    3697.34|       US Dollar|  Reinvestment|            0|\n",
            "|2022/09/01 00:20|    03208|8000F4580|    001|8000F5340|           0.01|         US Dollar|       0.01|       US Dollar|        Cheque|            0|\n",
            "|2022/09/01 00:00|    03209|8000F4670|  03209|8000F4670|       14675.57|         US Dollar|   14675.57|       US Dollar|  Reinvestment|            0|\n",
            "|2022/09/01 00:02|      012|8000F5030|    012|8000F5030|        2806.97|         US Dollar|    2806.97|       US Dollar|  Reinvestment|            0|\n",
            "|2022/09/01 00:06|      010|8000F5200|    010|8000F5200|       36682.97|         US Dollar|   36682.97|       US Dollar|  Reinvestment|            0|\n",
            "|2022/09/01 00:03|      001|8000F5AD0|    001|8000F5AD0|        6162.44|         US Dollar|    6162.44|       US Dollar|  Reinvestment|            0|\n",
            "|2022/09/01 00:08|      001|8000EBAC0|    001|8000EBAC0|          14.26|         US Dollar|      14.26|       US Dollar|  Reinvestment|            0|\n",
            "|2022/09/01 00:16|      001|8000EC1E0|    001|8000EC1E0|          11.86|         US Dollar|      11.86|       US Dollar|  Reinvestment|            0|\n",
            "|2022/09/01 00:26|      012|8000EC280| 002439|8017BF800|           7.66|         US Dollar|       7.66|       US Dollar|   Credit Card|            0|\n",
            "|2022/09/01 00:21|      001|8000EDEC0|0211050|80AEF5310|         383.71|         US Dollar|     383.71|       US Dollar|   Credit Card|            0|\n",
            "|2022/09/01 00:04|      001|8000F4510| 011813|8011305D0|           9.82|         US Dollar|       9.82|       US Dollar|   Credit Card|            0|\n",
            "|2022/09/01 00:04|      001|8000F47F0|    001|8000F47F0|           9.38|         US Dollar|       9.38|       US Dollar|  Reinvestment|            0|\n",
            "|2022/09/01 00:08|      001|8000F4FE0|0245335|812ED62E0|           4.01|         US Dollar|       4.01|       US Dollar|   Credit Card|            0|\n",
            "|2022/09/01 00:17|      010|80012FD90|0036056|812ED6380|         106.70|         US Dollar|     106.70|       US Dollar|   Credit Card|            0|\n",
            "|2022/09/01 00:11|      012|80012FE00| 013037|805B34210|           0.54|         US Dollar|       0.54|       US Dollar|   Credit Card|            0|\n",
            "|2022/09/01 00:09|      001|80012FE50|    001|80012FE50|     3944232.29|         US Dollar| 3944232.29|       US Dollar|  Reinvestment|            0|\n",
            "|2022/09/01 00:11|      010|80012FEA0|    010|80012FEA0|       10020.68|         US Dollar|   10020.68|       US Dollar|  Reinvestment|            0|\n",
            "|2022/09/01 00:00|    01420|8005DFEB0|  01420|8005DFEB0|         897.37|         US Dollar|     897.37|       US Dollar|  Reinvestment|            0|\n",
            "|2022/09/01 00:28|    01665|8005E18F0|  01665|8005E18F0|         157.57|         US Dollar|     157.57|       US Dollar|  Reinvestment|            0|\n",
            "|2022/09/01 00:22|    01665|8005E24C0|  01665|8005E24C0|          52.75|         US Dollar|      52.75|       US Dollar|  Reinvestment|            0|\n",
            "+----------------+---------+---------+-------+---------+---------------+------------------+-----------+----------------+--------------+-------------+\n",
            "only showing top 20 rows\n",
            "\n"
          ]
        }
      ],
      "source": [
        "hi_small_df.show()"
      ]
    },
    {
      "cell_type": "code",
      "execution_count": 16,
      "metadata": {
        "colab": {
          "base_uri": "https://localhost:8080/"
        },
        "id": "HV78SInWS4Iy",
        "outputId": "5cf1f9c4-8915-4493-fb40-e41702f3a1a6"
      },
      "outputs": [
        {
          "output_type": "stream",
          "name": "stdout",
          "text": [
            "+---------+---------+--------+-------+--------+---------------+------------------+-----------+----------------+--------------+-------------+\n",
            "|Timestamp|From Bank|Account2|To Bank|Account4|Amount Received|Receiving Currency|Amount Paid|Payment Currency|Payment Format|Is Laundering|\n",
            "+---------+---------+--------+-------+--------+---------------+------------------+-----------+----------------+--------------+-------------+\n",
            "|        0|        0|       0|      0|       0|              0|                 0|          0|               0|             0|            0|\n",
            "+---------+---------+--------+-------+--------+---------------+------------------+-----------+----------------+--------------+-------------+\n",
            "\n"
          ]
        }
      ],
      "source": [
        "null_counts = hi_small_df.select([sum(col(column).isNull().cast(\"integer\")).alias(column) for column in hi_small_df.columns])\n",
        "null_counts.show()"
      ]
    },
    {
      "cell_type": "markdown",
      "metadata": {
        "id": "r06Dq3S7baMU"
      },
      "source": [
        "## Intermediate Data\n",
        "\n",
        "In practice the intermediate layer only needs to be a typed mirror of the raw layer still within the ‘source’ data model\n",
        "\n",
        "* Once the intermediate layer exists, you never have to touch the raw layer and we eliminate the risks associated with mutating the original data.\n",
        "\n",
        "* Profiling, EDA and any data quality assessments should be performed at this point.\n",
        "\n",
        "* Cleaning column names, parsing dates and dropping completely null columns are other ‘transformations’ commonly performed at this stage."
      ]
    },
    {
      "cell_type": "code",
      "execution_count": 17,
      "metadata": {
        "id": "o-lnxr6FP0cw"
      },
      "outputs": [],
      "source": [
        "schema = StructType([\n",
        "    StructField(\"Timestamp\", StringType(), nullable=False),\n",
        "    StructField(\"From Bank\", IntegerType(), nullable=False),\n",
        "    StructField(\"Account2\", StringType(), nullable=False),\n",
        "    StructField(\"To Bank\", IntegerType(), nullable=False),\n",
        "    StructField(\"Account4\", StringType(), nullable=False),\n",
        "    StructField(\"Amount Received\", FloatType(), nullable=False),\n",
        "    StructField(\"Receiving Currency\", StringType(), nullable=False),\n",
        "    StructField(\"Amount Paid\", FloatType(), nullable=False),\n",
        "    StructField(\"Payment Currency\", StringType(), nullable=False),\n",
        "    StructField(\"Payment Format\", StringType(), nullable=False),\n",
        "    StructField(\"Is Laundering\", IntegerType(), nullable=False),\n",
        "])"
      ]
    },
    {
      "cell_type": "code",
      "execution_count": 18,
      "metadata": {
        "id": "3wdznlpfMf28"
      },
      "outputs": [],
      "source": [
        "hi_small_df = spark.read.csv(\"./data/01_raw/HI-Small_Trans.csv\", header=True, schema=schema)\n",
        "hi_large_df = spark.read.csv(\"./data/01_raw/HI-Large_Trans.csv\", header=True, schema=schema)\n",
        "li_small_df = spark.read.csv(\"./data/01_raw/LI-Small_Trans.csv\", header=True, schema=schema)\n",
        "li_large_df = spark.read.csv(\"./data/01_raw/LI-Large_Trans.csv\", header=True, schema=schema)\n",
        "\n",
        "# Fixing Timestamp\n",
        "def fix_timestamp(df):\n",
        "  format = \"yyyy/MM/dd HH:mm\"\n",
        "  df = df.withColumn(\"Timestamp2\",to_timestamp(\"Timestamp\", format=format).cast('timestamp'))\n",
        "  df = df.drop(\"Timestamp\")\n",
        "  df = df.withColumnRenamed(\"Timestamp2\", \"Timestamp\")\n",
        "  return df\n",
        "\n",
        "hi_small_df = fix_timestamp(hi_small_df)\n",
        "hi_large_df = fix_timestamp(hi_large_df)\n",
        "li_small_df = fix_timestamp(li_small_df)\n",
        "li_large_df = fix_timestamp(li_large_df)"
      ]
    },
    {
      "cell_type": "code",
      "execution_count": 19,
      "metadata": {
        "colab": {
          "base_uri": "https://localhost:8080/"
        },
        "id": "CqLHkGFWhQmW",
        "outputId": "ce44088b-1969-41ca-878f-1fe81e46e158"
      },
      "outputs": [
        {
          "output_type": "stream",
          "name": "stdout",
          "text": [
            "root\n",
            " |-- From Bank: integer (nullable = true)\n",
            " |-- Account2: string (nullable = true)\n",
            " |-- To Bank: integer (nullable = true)\n",
            " |-- Account4: string (nullable = true)\n",
            " |-- Amount Received: float (nullable = true)\n",
            " |-- Receiving Currency: string (nullable = true)\n",
            " |-- Amount Paid: float (nullable = true)\n",
            " |-- Payment Currency: string (nullable = true)\n",
            " |-- Payment Format: string (nullable = true)\n",
            " |-- Is Laundering: integer (nullable = true)\n",
            " |-- Timestamp: timestamp (nullable = true)\n",
            "\n"
          ]
        }
      ],
      "source": [
        "li_small_df.printSchema()"
      ]
    },
    {
      "cell_type": "code",
      "execution_count": 20,
      "metadata": {
        "colab": {
          "base_uri": "https://localhost:8080/"
        },
        "id": "LbSid4mwm2eZ",
        "outputId": "a3ed1ab6-731d-4c41-f71f-8098d25bc26f"
      },
      "outputs": [
        {
          "output_type": "stream",
          "name": "stdout",
          "text": [
            "+---------+---------+-------+---------+---------------+------------------+-----------+----------------+--------------+-------------+-------------------+\n",
            "|From Bank| Account2|To Bank| Account4|Amount Received|Receiving Currency|Amount Paid|Payment Currency|Payment Format|Is Laundering|          Timestamp|\n",
            "+---------+---------+-------+---------+---------------+------------------+-----------+----------------+--------------+-------------+-------------------+\n",
            "|       11|8000ECA90|     11|8000ECA90|      3195403.0|         US Dollar|  3195403.0|       US Dollar|  Reinvestment|            0|2022-09-01 00:08:00|\n",
            "|     3402|80021DAD0|   3402|80021DAD0|        1858.96|         US Dollar|    1858.96|       US Dollar|  Reinvestment|            0|2022-09-01 00:21:00|\n",
            "|       11|8000ECA90|   1120|8006AA910|       592571.0|         US Dollar|   592571.0|       US Dollar|        Cheque|            0|2022-09-01 00:00:00|\n",
            "|     3814|8006AD080|   3814|8006AD080|          12.32|         US Dollar|      12.32|       US Dollar|  Reinvestment|            0|2022-09-01 00:16:00|\n",
            "|       20|8006AD530|     20|8006AD530|        2941.56|         US Dollar|    2941.56|       US Dollar|  Reinvestment|            0|2022-09-01 00:00:00|\n",
            "|       12|8006ADD30|     12|8006ADD30|        6473.62|         US Dollar|    6473.62|       US Dollar|  Reinvestment|            0|2022-09-01 00:24:00|\n",
            "|       11|800059120|   1217|8006AD4E0|        60562.0|         US Dollar|    60562.0|       US Dollar|           ACH|            0|2022-09-01 00:17:00|\n",
            "|       11|8000ECA90|     11|8000ECA90|          22.97|         US Dollar|      22.97|       US Dollar|  Reinvestment|            0|2022-09-01 00:07:00|\n",
            "|     1120|8006AA910| 243166|81470DCF0|          43.53|         US Dollar|      43.53|       US Dollar|   Credit Card|            0|2022-09-01 00:28:00|\n",
            "|     1217|8006AD4E0|   1217|8006AD4E0|           5.04|         US Dollar|       5.04|       US Dollar|  Reinvestment|            0|2022-09-01 00:22:00|\n",
            "|      224|8006AD580|  23319|80567ED00|           9.28|         US Dollar|       9.28|       US Dollar|   Credit Card|            0|2022-09-01 00:28:00|\n",
            "|      394|8006AF210| 214342|805586EA0|          93.85|         US Dollar|      93.85|       US Dollar|   Credit Card|            0|2022-09-01 00:28:00|\n",
            "|     3618|800929EA0|   1277|800929EF0|           0.05|         US Dollar|       0.05|       US Dollar|           ACH|            0|2022-09-01 00:29:00|\n",
            "|      394|80093BDB0|  21414|80092A6C0|        64335.0|         US Dollar|    64335.0|       US Dollar|           ACH|            0|2022-09-01 00:08:00|\n",
            "|     1291|80092A730|   1291|80092A730|        3975.24|         US Dollar|    3975.24|       US Dollar|  Reinvestment|            0|2022-09-01 00:04:00|\n",
            "|     1231|800B69730|  11265|80092AC50|         1986.0|         US Dollar|     1986.0|       US Dollar|        Cheque|            0|2022-09-01 00:20:00|\n",
            "|      394|80093BDB0|    394|80093BDB0|       14903.78|         US Dollar|   14903.78|       US Dollar|  Reinvestment|            0|2022-09-01 00:14:00|\n",
            "|     1231|800B69730|  21414|80093CED0|          217.0|         US Dollar|      217.0|       US Dollar|           ACH|            0|2022-09-01 00:23:00|\n",
            "|       20|800952940|     20|800952940|       21126.92|         US Dollar|   21126.92|       US Dollar|  Reinvestment|            0|2022-09-01 00:05:00|\n",
            "|    31811|800A8FCD0|  31811|800A8FCD0|        4455.63|         US Dollar|    4455.63|       US Dollar|  Reinvestment|            0|2022-09-01 00:03:00|\n",
            "+---------+---------+-------+---------+---------------+------------------+-----------+----------------+--------------+-------------+-------------------+\n",
            "only showing top 20 rows\n",
            "\n"
          ]
        }
      ],
      "source": [
        "li_small_df.show()"
      ]
    },
    {
      "cell_type": "markdown",
      "metadata": {
        "id": "7pXkRYcZkRjl"
      },
      "source": [
        "### Exploratory Data Analysis\n",
        "---\n",
        "\n",
        "For simplicity and time saving we will analyse only the LI Datasets\n",
        "\n",
        "**Insights:**\n",
        "\n",
        "\n",
        "* Reinvestment doesn't appear to have money laundry\n",
        "* Laundering occur in self transactions in few cases\n",
        "* Accounts are identifiers of the transaction\n",
        "* There is no money laundring happening in between currencies. Which mean we can keep only one variable for Receiving Currency and Payment Currency, and Amount Received and Amount Paid\n",
        "\n",
        "\n",
        "**Possible Features:**\n",
        "\n",
        "* Self Transaction flag\n",
        "* Time of the day transaction\n",
        "* Day of the month transaction?\n",
        "* Number of transactions in the day\n"
      ]
    },
    {
      "cell_type": "code",
      "execution_count": 21,
      "metadata": {
        "id": "a88Hk22NlBip"
      },
      "outputs": [],
      "source": [
        "small_df = li_small_df\n",
        "large_df = li_large_df"
      ]
    },
    {
      "cell_type": "markdown",
      "metadata": {
        "id": "vV7hb81EQA7Q"
      },
      "source": [
        "#### Small Dataset Analysis"
      ]
    },
    {
      "cell_type": "code",
      "execution_count": 22,
      "metadata": {
        "colab": {
          "base_uri": "https://localhost:8080/"
        },
        "id": "_I6abj9ukdPq",
        "outputId": "c80df77c-0bf8-4750-fad2-fa586b1f5269"
      },
      "outputs": [
        {
          "output_type": "stream",
          "name": "stdout",
          "text": [
            "+-------------+-------+\n",
            "|Is Laundering|  count|\n",
            "+-------------+-------+\n",
            "|            1|   3565|\n",
            "|            0|6920484|\n",
            "+-------------+-------+\n",
            "\n"
          ]
        }
      ],
      "source": [
        "# Get the label distribution in the dataset\n",
        "small_df.groupBy(\"Is Laundering\").count().show()"
      ]
    },
    {
      "cell_type": "code",
      "execution_count": 23,
      "metadata": {
        "colab": {
          "base_uri": "https://localhost:8080/"
        },
        "id": "pVclrJ2RQPFL",
        "outputId": "775f6e99-2f1f-452d-adcf-86b219d63040"
      },
      "outputs": [
        {
          "output_type": "stream",
          "name": "stdout",
          "text": [
            "+-------+--------------------+--------------------+\n",
            "|summary|     Amount Received|         Amount Paid|\n",
            "+-------+--------------------+--------------------+\n",
            "|  count|                3565|                3565|\n",
            "|   mean|  3626202.3871408654|  3626202.3871408654|\n",
            "| stddev|6.2200284356123395E7|6.2200284356123395E7|\n",
            "|    min|            0.001136|            0.001136|\n",
            "|    max|        2.47329536E9|        2.47329536E9|\n",
            "+-------+--------------------+--------------------+\n",
            "\n",
            "+-------+--------------------+--------------------+\n",
            "|summary|     Amount Received|         Amount Paid|\n",
            "+-------+--------------------+--------------------+\n",
            "|  count|             6920484|             6920484|\n",
            "|   mean|  6325456.3603514815|  4676576.7705724845|\n",
            "| stddev|2.1059128350347283E9|1.5444954950918577E9|\n",
            "|    min|              1.0E-6|              1.0E-6|\n",
            "|    max|       3.64485358E12|       3.64485358E12|\n",
            "+-------+--------------------+--------------------+\n",
            "\n"
          ]
        }
      ],
      "source": [
        "# Split the dataset into Legit and Laundering Transactions to analyze the feature in each case\n",
        "small_laundering_df = small_df.filter(small_df[\"Is Laundering\"] == 1)\n",
        "small_legit_df = small_df.filter(small_df[\"Is Laundering\"] == 0)\n",
        "\n",
        "float_columns = [\"Amount Received\", \"Amount Paid\"]\n",
        "small_laundering_df.select(float_columns).describe().show()\n",
        "small_legit_df.select(float_columns).describe().show()"
      ]
    },
    {
      "cell_type": "code",
      "execution_count": 24,
      "metadata": {
        "colab": {
          "base_uri": "https://localhost:8080/"
        },
        "id": "KOnyisMrSVUf",
        "outputId": "336a90db-3b04-4f46-813e-f9cc67dac888"
      },
      "outputs": [
        {
          "output_type": "execute_result",
          "data": {
            "text/plain": [
              "2382"
            ]
          },
          "metadata": {},
          "execution_count": 24
        }
      ],
      "source": [
        "# Distinct Ilegal Accounts\n",
        "small_laundering_df.select(countDistinct(\"Account2\")).first()[0]"
      ]
    },
    {
      "cell_type": "code",
      "execution_count": 25,
      "metadata": {
        "colab": {
          "base_uri": "https://localhost:8080/"
        },
        "id": "jHhLwAONTjpf",
        "outputId": "ac50d5d9-3093-44e6-f850-bdf95a3298bf"
      },
      "outputs": [
        {
          "output_type": "stream",
          "name": "stdout",
          "text": [
            "+--------------+-----+\n",
            "|Payment Format|count|\n",
            "+--------------+-----+\n",
            "|   Credit Card|  261|\n",
            "|           ACH| 2611|\n",
            "|          Cash|  124|\n",
            "|       Bitcoin|  110|\n",
            "|        Cheque|  459|\n",
            "+--------------+-----+\n",
            "\n",
            "+--------------+-------+\n",
            "|Payment Format|  count|\n",
            "+--------------+-------+\n",
            "|   Credit Card|1780128|\n",
            "|           ACH| 793970|\n",
            "|          Wire| 228567|\n",
            "|          Cash| 655564|\n",
            "|       Bitcoin| 309098|\n",
            "|  Reinvestment| 650458|\n",
            "|        Cheque|2502699|\n",
            "+--------------+-------+\n",
            "\n"
          ]
        }
      ],
      "source": [
        "# Analysis of Ilegality through payment formats\n",
        "small_laundering_df.groupBy(\"Payment Format\").count().show()\n",
        "small_legit_df.groupBy(\"Payment Format\").count().show()"
      ]
    },
    {
      "cell_type": "code",
      "execution_count": 26,
      "metadata": {
        "colab": {
          "base_uri": "https://localhost:8080/"
        },
        "id": "u1jvyqIwX6hK",
        "outputId": "f547391b-15de-4b1c-c7ba-42049bd1032f"
      },
      "outputs": [
        {
          "output_type": "stream",
          "name": "stdout",
          "text": [
            "+---------+---------+-------+---------+---------------+------------------+-----------+----------------+--------------+-------------+-------------------+\n",
            "|From Bank| Account2|To Bank| Account4|Amount Received|Receiving Currency|Amount Paid|Payment Currency|Payment Format|Is Laundering|          Timestamp|\n",
            "+---------+---------+-------+---------+---------------+------------------+-----------+----------------+--------------+-------------+-------------------+\n",
            "|      115|81522E390|    115|81522E390|       40877.23|            Shekel|   40877.23|          Shekel|           ACH|            1|2022-09-03 08:56:00|\n",
            "|    13354|802E1FDA0|  13354|802E1FDA0|        3038.63|         US Dollar|    3038.63|       US Dollar|           ACH|            1|2022-09-05 10:21:00|\n",
            "|    25788|8026EA1A0|  25788|8026EA1A0|        4418.15|              Euro|    4418.15|            Euro|           ACH|            1|2022-09-10 15:58:00|\n",
            "+---------+---------+-------+---------+---------------+------------------+-----------+----------------+--------------+-------------+-------------------+\n",
            "\n"
          ]
        }
      ],
      "source": [
        "# Show ilegal transactions are made for the same account\n",
        "small_laundering_df.filter(small_laundering_df[\"Account2\"] == small_laundering_df[\"Account4\"]).show()"
      ]
    },
    {
      "cell_type": "code",
      "execution_count": 27,
      "metadata": {
        "colab": {
          "base_uri": "https://localhost:8080/"
        },
        "id": "hCiHi0hOioaU",
        "outputId": "6d2b5a15-51ee-4489-89f0-cab36d292835"
      },
      "outputs": [
        {
          "output_type": "stream",
          "name": "stdout",
          "text": [
            "+---------+--------+-------+--------+---------------+------------------+-----------+----------------+--------------+-------------+---------+\n",
            "|From Bank|Account2|To Bank|Account4|Amount Received|Receiving Currency|Amount Paid|Payment Currency|Payment Format|Is Laundering|Timestamp|\n",
            "+---------+--------+-------+--------+---------------+------------------+-----------+----------------+--------------+-------------+---------+\n",
            "+---------+--------+-------+--------+---------------+------------------+-----------+----------------+--------------+-------------+---------+\n",
            "\n"
          ]
        }
      ],
      "source": [
        "# Show ilegal transactions difference in payment ammount\n",
        "small_laundering_df.filter(small_laundering_df[\"Amount Paid\"] != small_laundering_df[\"Amount Received\"]).show()"
      ]
    },
    {
      "cell_type": "code",
      "execution_count": 28,
      "metadata": {
        "colab": {
          "base_uri": "https://localhost:8080/"
        },
        "id": "CCFYRL4MZuPM",
        "outputId": "ba1d4bd8-8920-447e-e7e3-86e4bc48783d"
      },
      "outputs": [
        {
          "output_type": "stream",
          "name": "stdout",
          "text": [
            "+---------+--------+-------+--------+---------------+------------------+-----------+----------------+--------------+-------------+---------+\n",
            "|From Bank|Account2|To Bank|Account4|Amount Received|Receiving Currency|Amount Paid|Payment Currency|Payment Format|Is Laundering|Timestamp|\n",
            "+---------+--------+-------+--------+---------------+------------------+-----------+----------------+--------------+-------------+---------+\n",
            "+---------+--------+-------+--------+---------------+------------------+-----------+----------------+--------------+-------------+---------+\n",
            "\n"
          ]
        }
      ],
      "source": [
        "# Show ilegal transactions in different currencies\n",
        "small_laundering_df.filter(small_laundering_df[\"Receiving Currency\"] != small_laundering_df[\"Payment Currency\"]).show()"
      ]
    },
    {
      "cell_type": "code",
      "execution_count": 29,
      "metadata": {
        "colab": {
          "base_uri": "https://localhost:8080/"
        },
        "id": "-Marzpf3jMPK",
        "outputId": "ff153e30-e844-4cc1-8f37-205a3784627d"
      },
      "outputs": [
        {
          "output_type": "stream",
          "name": "stdout",
          "text": [
            "+------------------+-----+\n",
            "|Receiving Currency|count|\n",
            "+------------------+-----+\n",
            "|         US Dollar| 1456|\n",
            "|              Euro| 1025|\n",
            "|              Yuan|  189|\n",
            "|       Brazil Real|   72|\n",
            "|   Canadian Dollar|   86|\n",
            "|       Saudi Riyal|  115|\n",
            "| Australian Dollar|   77|\n",
            "|             Rupee|  112|\n",
            "|      Mexican Peso|   37|\n",
            "|             Ruble|   39|\n",
            "|          UK Pound|   40|\n",
            "|               Yen|   86|\n",
            "|           Bitcoin|  110|\n",
            "|       Swiss Franc|   56|\n",
            "|            Shekel|   65|\n",
            "+------------------+-----+\n",
            "\n",
            "+-----------------+-----+\n",
            "| Payment Currency|count|\n",
            "+-----------------+-----+\n",
            "|        US Dollar| 1456|\n",
            "|             Euro| 1025|\n",
            "|             Yuan|  189|\n",
            "|      Brazil Real|   72|\n",
            "|  Canadian Dollar|   86|\n",
            "|      Saudi Riyal|  115|\n",
            "|Australian Dollar|   77|\n",
            "|            Rupee|  112|\n",
            "|     Mexican Peso|   37|\n",
            "|            Ruble|   39|\n",
            "|         UK Pound|   40|\n",
            "|              Yen|   86|\n",
            "|          Bitcoin|  110|\n",
            "|      Swiss Franc|   56|\n",
            "|           Shekel|   65|\n",
            "+-----------------+-----+\n",
            "\n"
          ]
        }
      ],
      "source": [
        "small_laundering_df.groupBy(\"Receiving Currency\").count().show()\n",
        "small_laundering_df.groupBy(\"Payment Currency\").count().show()"
      ]
    },
    {
      "cell_type": "markdown",
      "metadata": {
        "id": "OsyFkP_12mM5"
      },
      "source": [
        "**Account-related analysis:**\n",
        "\n",
        "* Account activity: Unusually high transaction activity or a large number of accounts linked to a particular entity may indicate suspicious behavior.\n",
        "\n",
        "* Create features that capture the frequency and volume of transactions from both the \"From Account\" and \"To Account.\"\n",
        "* Including the account identifiers as features may introduce data leakage because the model can learn patterns specific to  accounts.\n",
        "* The destination bank appears to have strong predictive power in this case.\n",
        "* The destination accounts as well, it appears to be accounts never used before."
      ]
    },
    {
      "cell_type": "code",
      "execution_count": 30,
      "metadata": {
        "colab": {
          "base_uri": "https://localhost:8080/"
        },
        "id": "Mi-uLNTp06b1",
        "outputId": "22109ffe-c078-4921-83ba-50e37338ba40"
      },
      "outputs": [
        {
          "output_type": "stream",
          "name": "stdout",
          "text": [
            "+---------+---------+-------+---------+---------------+------------------+-----------+----------------+--------------+-------------+-------------------+\n",
            "|From Bank| Account2|To Bank| Account4|Amount Received|Receiving Currency|Amount Paid|Payment Currency|Payment Format|Is Laundering|          Timestamp|\n",
            "+---------+---------+-------+---------+---------------+------------------+-----------+----------------+--------------+-------------+-------------------+\n",
            "|       70|10042B6A8|     14|8000FEFD0|       33199.17|              Euro|   33199.17|            Euro|        Cheque|            0|2022-09-01 00:04:00|\n",
            "|       70|10042B6A8|     20|80011ABE0|       30999.19|              Euro|   30999.19|            Euro|        Cheque|            0|2022-09-01 00:09:00|\n",
            "|       70|10042B6A8|     20|8001AB3F0|        1445.39|              Euro|    1445.39|            Euro|        Cheque|            0|2022-09-01 00:19:00|\n",
            "|       70|10042B6A8|     20|8001AB3F0|         706.43|              Euro|     706.43|            Euro|   Credit Card|            0|2022-09-01 00:20:00|\n",
            "|       70|10042B6A8|     20|8001AB3F0|        1043.06|              Euro|    1043.06|            Euro|          Cash|            0|2022-09-01 00:07:00|\n",
            "|       70|10042B6A8|     11|800254EA0|       21293.75|              Euro|   21293.75|            Euro|        Cheque|            0|2022-09-01 00:04:00|\n",
            "|       70|10042B6A8|     11|800254EA0|       10859.21|              Euro|   10859.21|            Euro|   Credit Card|            0|2022-09-01 00:11:00|\n",
            "|       70|10042B6A8|     11|800254EA0|        2694.05|              Euro|    2694.05|            Euro|          Cash|            0|2022-09-01 00:16:00|\n",
            "|       70|10042B6A8|     14|800269C20|        1694.97|              Euro|    1694.97|            Euro|        Cheque|            0|2022-09-01 00:05:00|\n",
            "|       70|10042B6A8|     14|800269C20|       11133.38|              Euro|   11133.38|            Euro|   Credit Card|            0|2022-09-01 00:24:00|\n",
            "+---------+---------+-------+---------+---------------+------------------+-----------+----------------+--------------+-------------+-------------------+\n",
            "only showing top 10 rows\n",
            "\n"
          ]
        }
      ],
      "source": [
        "small_legit_df.where(small_laundering_df[\"Account2\"] == \"10042B6A8\").show(10)"
      ]
    },
    {
      "cell_type": "code",
      "execution_count": 31,
      "metadata": {
        "colab": {
          "base_uri": "https://localhost:8080/"
        },
        "id": "fsEbjMMsylcm",
        "outputId": "d5f483b6-f249-44b2-fe5b-24739f41c4a9"
      },
      "outputs": [
        {
          "output_type": "stream",
          "name": "stdout",
          "text": [
            "+---------+---------+-------+---------+---------------+------------------+-----------+----------------+--------------+-------------+-------------------+\n",
            "|From Bank| Account2|To Bank| Account4|Amount Received|Receiving Currency|Amount Paid|Payment Currency|Payment Format|Is Laundering|          Timestamp|\n",
            "+---------+---------+-------+---------+---------------+------------------+-----------+----------------+--------------+-------------+-------------------+\n",
            "|       70|10042B6A8| 212854|806242CD0|       22478.74|              Euro|   22478.74|            Euro|          Cash|            1|2022-09-01 00:03:00|\n",
            "|       70|10042B6A8| 115332|806573660|      9626868.0|              Euro|  9626868.0|            Euro|          Cash|            1|2022-09-01 00:03:00|\n",
            "|       70|10042B6A8|  38920|80E95DAC0|         323.25|              Euro|     323.25|            Euro|   Credit Card|            1|2022-09-01 00:59:00|\n",
            "|       70|10042B6A8|  24643|801F02820|        3572.59|              Euro|    3572.59|            Euro|        Cheque|            1|2022-09-01 02:15:00|\n",
            "|       70|10042B6A8| 215505|805F99460|          61.74|              Euro|      61.74|            Euro|          Cash|            1|2022-09-01 02:07:00|\n",
            "|       70|10042B6A8| 224191|80AEDE4A0|       910433.2|              Euro|   910433.2|            Euro|          Cash|            1|2022-09-01 02:10:00|\n",
            "|       70|10042B6A8| 110851|80B2862D0|          49.19|              Euro|      49.19|            Euro|        Cheque|            1|2022-09-01 02:21:00|\n",
            "|       70|10042B6A8|  24562|816325220|         328.61|              Euro|     328.61|            Euro|        Cheque|            1|2022-09-01 03:14:00|\n",
            "|       70|10042B6A8|    425|8041E5A30|       15496.46|              Euro|   15496.46|            Euro|          Cash|            1|2022-09-01 03:45:00|\n",
            "|       70|10042B6A8|   1768|8007D19B0|          12.06|              Euro|      12.06|            Euro|        Cheque|            1|2022-09-01 04:37:00|\n",
            "+---------+---------+-------+---------+---------------+------------------+-----------+----------------+--------------+-------------+-------------------+\n",
            "only showing top 10 rows\n",
            "\n"
          ]
        }
      ],
      "source": [
        "small_laundering_df.where(small_laundering_df[\"Account2\"] == \"10042B6A8\").show(10)"
      ]
    },
    {
      "cell_type": "code",
      "execution_count": 32,
      "metadata": {
        "colab": {
          "base_uri": "https://localhost:8080/"
        },
        "id": "7xtvkuDoqswr",
        "outputId": "2a90bcd7-b81e-4998-9bb3-6cea139580ab"
      },
      "outputs": [
        {
          "output_type": "stream",
          "name": "stdout",
          "text": [
            "+---------+---------+-------+---------+---------------+------------------+-----------+----------------+--------------+-------------+-------------------+\n",
            "|From Bank| Account2|To Bank| Account4|Amount Received|Receiving Currency|Amount Paid|Payment Currency|Payment Format|Is Laundering|          Timestamp|\n",
            "+---------+---------+-------+---------+---------------+------------------+-----------+----------------+--------------+-------------+-------------------+\n",
            "|      425|8041E5A30|   6681|8041E59E0|        2336.89|              Euro|    2336.89|            Euro|           ACH|            1|2022-09-01 13:58:00|\n",
            "+---------+---------+-------+---------+---------------+------------------+-----------+----------------+--------------+-------------+-------------------+\n",
            "\n"
          ]
        }
      ],
      "source": [
        "receinving_accs = [\"806242CD0\", \"806573660\", \"80E95DAC0\", \"801F02820\", \"805F99460\",\n",
        "                   \"80AEDE4A0\", \"80B2862D0\", \"816325220\", \"8041E5A30\", \"8007D19B0\"]\n",
        "small_laundering_df.where(small_laundering_df[\"Account2\"].isin(receinving_accs)).show(10)"
      ]
    },
    {
      "cell_type": "markdown",
      "metadata": {
        "id": "gckKIBz0yA_v"
      },
      "source": [
        "**Time-related analysis:**\n",
        "\n",
        "* Extract day of the week: Convert the timestamp into a day of the week feature. Illegal transactions may exhibit certain patterns or anomalies depending on the day of the week.\n",
        "\n",
        "* Extract hour of the day: Convert the timestamp into an hour of the day feature. Similar to the day of the week, certain hours may be more associated with illegal activities."
      ]
    },
    {
      "cell_type": "code",
      "execution_count": 33,
      "metadata": {
        "colab": {
          "base_uri": "https://localhost:8080/"
        },
        "id": "W9SOGr_OzIID",
        "outputId": "46298d37-710c-4677-b028-30ce70bcc7b4"
      },
      "outputs": [
        {
          "output_type": "stream",
          "name": "stdout",
          "text": [
            "+---------+-----+-------+---------------+\n",
            "|  Weekday|count| count2|Laundering Rate|\n",
            "+---------+-----+-------+---------------+\n",
            "|   Sunday|  338| 282215|   0.0011976684|\n",
            "| Saturday|  595| 565611|   0.0010519597|\n",
            "|  Tuesday|  409| 656809|   0.0006227077|\n",
            "|   Monday|  397| 657048|   0.0006042177|\n",
            "|Wednesday|  386| 658149|   0.0005864933|\n",
            "|   Friday|  722|1918616|   0.0003763129|\n",
            "| Thursday|  718|2182036|   0.0003290505|\n",
            "+---------+-----+-------+---------------+\n",
            "\n"
          ]
        }
      ],
      "source": [
        "weekly_laundering = small_laundering_df.withColumn(\"Weekday\", date_format('Timestamp', 'EEEE')).groupBy(\"Weekday\").count().cache()\n",
        "weekly_legit = small_legit_df.withColumn(\"Weekday\", date_format('Timestamp', 'EEEE')).groupBy(\"Weekday\").count().cache()\n",
        "weekly_laundering.join(weekly_legit.withColumnRenamed(\"count\", \"count2\"), \"Weekday\"). \\\n",
        "                 withColumn(\"Laundering Rate\", col(\"count\") / col(\"count2\")). \\\n",
        "                 withColumn(\"Laundering Rate\", col(\"Laundering Rate\").cast('Decimal(20,10)')). \\\n",
        "                 orderBy(col(\"Laundering Rate\").desc()). \\\n",
        "                 show()"
      ]
    },
    {
      "cell_type": "code",
      "execution_count": 34,
      "metadata": {
        "colab": {
          "base_uri": "https://localhost:8080/"
        },
        "id": "aRWhQpDS8sQe",
        "outputId": "95213d84-db1a-4f35-c1fb-4f88d13ba63e"
      },
      "outputs": [
        {
          "output_type": "stream",
          "name": "stdout",
          "text": [
            "+----+-----+------+------------+\n",
            "|Hour|count|count2| Hourly Rate|\n",
            "+----+-----+------+------------+\n",
            "|  13|  185|263201|0.0007028849|\n",
            "|  12|  183|262527|0.0006970712|\n",
            "|  14|  177|262009|0.0006755493|\n",
            "|  11|  176|262219|0.0006711947|\n",
            "|  16|  176|264201|0.0006661595|\n",
            "|  15|  174|262644|0.0006624937|\n",
            "|  19|  165|264212|0.0006244985|\n",
            "|  10|  163|263988|0.0006174523|\n",
            "|  18|  160|263955|0.0006061639|\n",
            "|   8|  153|262004|0.0005839606|\n",
            "|  20|  150|262244|0.0005719864|\n",
            "|   9|  149|262845|0.0005668740|\n",
            "|   7|  147|262048|0.0005609659|\n",
            "|   3|  143|263777|0.0005421246|\n",
            "|  17|  142|263004|0.0005399157|\n",
            "|   2|  134|261563|0.0005123049|\n",
            "|   5|  133|263235|0.0005052520|\n",
            "|  21|  133|264370|0.0005030828|\n",
            "|   4|  127|262450|0.0004839017|\n",
            "|  22|  122|263647|0.0004627400|\n",
            "+----+-----+------+------------+\n",
            "only showing top 20 rows\n",
            "\n"
          ]
        }
      ],
      "source": [
        "hourly_laundering = small_laundering_df.withColumn(\"Hour\", hour('Timestamp')).groupBy(\"Hour\").count().cache()\n",
        "hourly_legit = small_legit_df.withColumn(\"Hour\", hour('Timestamp')).groupBy(\"Hour\").count().cache()\n",
        "hourly_laundering.join(hourly_legit.withColumnRenamed(\"count\", \"count2\"), \"Hour\"). \\\n",
        "                 withColumn(\"Hourly Rate\", col(\"count\") / col(\"count2\")). \\\n",
        "                 withColumn(\"Hourly Rate\", col(\"Hourly Rate\").cast('Decimal(20,10)')). \\\n",
        "                 orderBy(col(\"Hourly Rate\").desc()). \\\n",
        "                 show()"
      ]
    },
    {
      "cell_type": "code",
      "execution_count": 35,
      "metadata": {
        "colab": {
          "base_uri": "https://localhost:8080/"
        },
        "id": "cgC03NMC90B-",
        "outputId": "ab14289f-53cf-4c35-e8e7-641cc4ef92e2"
      },
      "outputs": [
        {
          "output_type": "stream",
          "name": "stdout",
          "text": [
            "+----+-----+-------+------------+\n",
            "|Date|count| count2|  Daily Rate|\n",
            "+----+-----+-------+------------+\n",
            "|  16|    5|      2|2.5000000000|\n",
            "|  15|    6|      3|2.0000000000|\n",
            "|  17|    2|      1|2.0000000000|\n",
            "|  11|   47|     30|1.5666666667|\n",
            "|  13|   29|     19|1.5263157895|\n",
            "|  14|   18|     13|1.3846153846|\n",
            "|  12|   27|     21|1.2857142857|\n",
            "|  10|  301| 282576|0.0010652002|\n",
            "|   3|  292| 283034|0.0010316782|\n",
            "|   4|  291| 282185|0.0010312384|\n",
            "|   8|  402| 657536|0.0006113734|\n",
            "|   6|  380| 656790|0.0005785715|\n",
            "|   5|  370| 657027|0.0005631428|\n",
            "|   7|  368| 658136|0.0005591549|\n",
            "|   9|  367| 891206|0.0004118015|\n",
            "|   2|  350|1027408|0.0003406631|\n",
            "|   1|  310|1524497|0.0002033458|\n",
            "+----+-----+-------+------------+\n",
            "\n"
          ]
        }
      ],
      "source": [
        "daily_laundering = small_laundering_df.withColumn(\"Date\", dayofmonth('Timestamp')).groupBy(\"Date\").count().cache()\n",
        "daily_legit = small_legit_df.withColumn(\"Date\", dayofmonth('Timestamp')).groupBy(\"Date\").count().cache()\n",
        "daily_laundering.join(daily_legit.withColumnRenamed(\"count\", \"count2\"), \"Date\"). \\\n",
        "                 withColumn(\"Daily Rate\", col(\"count\") / col(\"count2\")). \\\n",
        "                 withColumn(\"Daily Rate\", col(\"Daily Rate\").cast('Decimal(20,10)')). \\\n",
        "                 orderBy(col(\"Daily Rate\").desc()). \\\n",
        "                 show()"
      ]
    },
    {
      "cell_type": "code",
      "execution_count": 36,
      "metadata": {
        "colab": {
          "base_uri": "https://localhost:8080/"
        },
        "id": "0s9Lj9SJCS5m",
        "outputId": "ad301830-61b5-4e91-c10f-fa0aec8d0cc4"
      },
      "outputs": [
        {
          "output_type": "stream",
          "name": "stdout",
          "text": [
            "+----------+-------+\n",
            "|      Date|  count|\n",
            "+----------+-------+\n",
            "|2022-09-02|1027758|\n",
            "|2022-09-06| 657170|\n",
            "|2022-09-04| 282476|\n",
            "|2022-09-05| 657397|\n",
            "|2022-09-03| 283326|\n",
            "|2022-09-01|1524807|\n",
            "|2022-09-10| 282877|\n",
            "|2022-09-07| 658504|\n",
            "|2022-09-09| 891573|\n",
            "|2022-09-08| 657938|\n",
            "|2022-09-12|     48|\n",
            "|2022-09-11|     77|\n",
            "|2022-09-13|     48|\n",
            "|2022-09-15|      9|\n",
            "|2022-09-14|     31|\n",
            "|2022-09-17|      3|\n",
            "|2022-09-16|      7|\n",
            "+----------+-------+\n",
            "\n"
          ]
        }
      ],
      "source": [
        "# Isnt small simulation supposed to be 10 days?\n",
        "small_df.withColumn(\"Date\", to_date('Timestamp')).groupby(\"Date\").count().show()"
      ]
    },
    {
      "cell_type": "code",
      "execution_count": 37,
      "metadata": {
        "colab": {
          "base_uri": "https://localhost:8080/"
        },
        "id": "Hk3UPkzCDUDd",
        "outputId": "4668f570-1198-401e-c00e-b2fe4c048a5d"
      },
      "outputs": [
        {
          "output_type": "stream",
          "name": "stdout",
          "text": [
            "+---------+---------+-------+---------+---------------+------------------+-----------+----------------+--------------+-------------+-------------------+\n",
            "|From Bank| Account2|To Bank| Account4|Amount Received|Receiving Currency|Amount Paid|Payment Currency|Payment Format|Is Laundering|          Timestamp|\n",
            "+---------+---------+-------+---------+---------------+------------------+-----------+----------------+--------------+-------------+-------------------+\n",
            "|     1291|8001F2990|      1|8002BBDF0|        3419.89|         US Dollar|    3419.89|       US Dollar|           ACH|            1|2022-09-16 00:00:00|\n",
            "|     1291|8001F2990|     12|8001F8B00|        8515.97|         US Dollar|    8515.97|       US Dollar|           ACH|            1|2022-09-16 12:41:00|\n",
            "|       11|8001AB0D0|     20|801CD38E0|         693.55|              Euro|     693.55|            Euro|           ACH|            1|2022-09-16 06:54:00|\n",
            "|       11|8001AB0D0|     11|8001AB0D0|        6921.45|         US Dollar|    5906.76|            Euro|           ACH|            0|2022-09-16 12:10:00|\n",
            "|       11|8001AB0D0|  23319|8013FA900|        6921.45|         US Dollar|    6921.45|       US Dollar|           ACH|            1|2022-09-16 12:10:00|\n",
            "|       11|8001AB0D0|     11|8001AB0D0|       14709.16|         US Dollar|    12552.8|            Euro|           ACH|            0|2022-09-16 13:24:00|\n",
            "|       11|8001AB0D0|   1439|8011BC1F0|       14709.16|         US Dollar|   14709.16|       US Dollar|           ACH|            1|2022-09-16 13:24:00|\n",
            "+---------+---------+-------+---------+---------------+------------------+-----------+----------------+--------------+-------------+-------------------+\n",
            "\n"
          ]
        }
      ],
      "source": [
        "# Very odd\n",
        "small_df.where(to_date(col(\"Timestamp\")).cast(\"string\") == \"2022-09-16\").show()"
      ]
    },
    {
      "cell_type": "markdown",
      "metadata": {
        "id": "dc_6TNHvQKot"
      },
      "source": [
        "#### Large Dataset Analysis"
      ]
    },
    {
      "cell_type": "code",
      "execution_count": 38,
      "metadata": {
        "colab": {
          "base_uri": "https://localhost:8080/"
        },
        "id": "iFaAG2XmlTxc",
        "outputId": "459cf811-57fd-4c82-e626-b06f9320a754"
      },
      "outputs": [
        {
          "output_type": "stream",
          "name": "stdout",
          "text": [
            "+-------------+---------+\n",
            "|Is Laundering|    count|\n",
            "+-------------+---------+\n",
            "|            1|   100604|\n",
            "|            0|175965953|\n",
            "+-------------+---------+\n",
            "\n"
          ]
        }
      ],
      "source": [
        "# Get the label distribution in the dataset\n",
        "large_df.groupBy(\"Is Laundering\").count().show()"
      ]
    },
    {
      "cell_type": "code",
      "execution_count": 39,
      "metadata": {
        "colab": {
          "base_uri": "https://localhost:8080/"
        },
        "id": "DT4EyGYON65z",
        "outputId": "c25bfb14-c41d-422a-fd7a-3d5edd04c672"
      },
      "outputs": [
        {
          "output_type": "stream",
          "name": "stdout",
          "text": [
            "+-------+--------------------+--------------------+\n",
            "|summary|     Amount Received|         Amount Paid|\n",
            "+-------+--------------------+--------------------+\n",
            "|  count|              100604|              100604|\n",
            "|   mean|5.7111282719604835E7|5.7111282719604835E7|\n",
            "| stddev|3.7370226655451694E9|3.7370226655451694E9|\n",
            "|    min|             2.81E-4|             2.81E-4|\n",
            "|    max|        6.2154002E11|        6.2154002E11|\n",
            "+-------+--------------------+--------------------+\n",
            "\n",
            "+-------+--------------------+--------------------+\n",
            "|summary|     Amount Received|         Amount Paid|\n",
            "+-------+--------------------+--------------------+\n",
            "|  count|           175965953|           175965953|\n",
            "|   mean|   7238086.466158445|   4857038.847415218|\n",
            "| stddev|1.7038381685874453E9|1.2869724486626391E9|\n",
            "|    min|              1.0E-6|              1.0E-6|\n",
            "|    max|        4.8345818E12|        4.8345818E12|\n",
            "+-------+--------------------+--------------------+\n",
            "\n"
          ]
        }
      ],
      "source": [
        "# Split the dataset into Legit and Laundering Transactions to analyze the feature in each case\n",
        "large_laundering_df = large_df.filter(large_df[\"Is Laundering\"] == 1)\n",
        "large_legit_df = large_df.filter(large_df[\"Is Laundering\"] == 0)\n",
        "\n",
        "float_columns = [\"Amount Received\", \"Amount Paid\"]\n",
        "large_laundering_df.select(float_columns).describe().show()\n",
        "large_legit_df.select(float_columns).describe().show()"
      ]
    },
    {
      "cell_type": "code",
      "execution_count": 40,
      "metadata": {
        "colab": {
          "base_uri": "https://localhost:8080/"
        },
        "id": "ZsBOoxRFUjS-",
        "outputId": "3b7e4fa8-630d-4856-a70c-5f64f66634e6"
      },
      "outputs": [
        {
          "output_type": "execute_result",
          "data": {
            "text/plain": [
              "60608"
            ]
          },
          "metadata": {},
          "execution_count": 40
        }
      ],
      "source": [
        "# Distinct Ilegal Accounts\n",
        "large_laundering_df.select(countDistinct(\"Account2\")).first()[0]"
      ]
    },
    {
      "cell_type": "code",
      "execution_count": 41,
      "metadata": {
        "colab": {
          "base_uri": "https://localhost:8080/"
        },
        "id": "GZOBArNrUzZK",
        "outputId": "3f9efad5-0abe-49d7-a96b-1295e5301985"
      },
      "outputs": [
        {
          "output_type": "stream",
          "name": "stdout",
          "text": [
            "+--------------+-----+\n",
            "|Payment Format|count|\n",
            "+--------------+-----+\n",
            "|   Credit Card| 7554|\n",
            "|           ACH|75031|\n",
            "|          Cash| 3514|\n",
            "|       Bitcoin| 1499|\n",
            "|        Cheque|13003|\n",
            "|          Wire|    3|\n",
            "+--------------+-----+\n",
            "\n",
            "+--------------+--------+\n",
            "|Payment Format|   count|\n",
            "+--------------+--------+\n",
            "|   Credit Card|49904336|\n",
            "|           ACH|21492746|\n",
            "|          Cash|18037238|\n",
            "|          Wire| 6339914|\n",
            "|       Bitcoin| 3585151|\n",
            "|  Reinvestment| 7258238|\n",
            "|        Cheque|69348330|\n",
            "+--------------+--------+\n",
            "\n"
          ]
        }
      ],
      "source": [
        "# Analysis of Ilegality through payment formats\n",
        "large_laundering_df.groupBy(\"Payment Format\").count().show()\n",
        "large_legit_df.groupBy(\"Payment Format\").count().show()"
      ]
    },
    {
      "cell_type": "code",
      "execution_count": 42,
      "metadata": {
        "colab": {
          "base_uri": "https://localhost:8080/"
        },
        "id": "m1XgxEZfYy4K",
        "outputId": "4efa904d-cebe-429d-8f20-c26c0b8f568e"
      },
      "outputs": [
        {
          "output_type": "execute_result",
          "data": {
            "text/plain": [
              "41"
            ]
          },
          "metadata": {},
          "execution_count": 42
        }
      ],
      "source": [
        "# Count how many ilegal transactions are made for the same account\n",
        "large_laundering_df.filter(large_laundering_df[\"Account2\"] == large_laundering_df[\"Account4\"]).count()"
      ]
    },
    {
      "cell_type": "code",
      "execution_count": 43,
      "metadata": {
        "colab": {
          "base_uri": "https://localhost:8080/"
        },
        "id": "Q4uS3nNreba9",
        "outputId": "d35fc848-1f20-4507-89af-d1bda1b0789b"
      },
      "outputs": [
        {
          "output_type": "stream",
          "name": "stdout",
          "text": [
            "+---------+--------+-------+--------+---------------+------------------+-----------+----------------+--------------+-------------+---------+\n",
            "|From Bank|Account2|To Bank|Account4|Amount Received|Receiving Currency|Amount Paid|Payment Currency|Payment Format|Is Laundering|Timestamp|\n",
            "+---------+--------+-------+--------+---------------+------------------+-----------+----------------+--------------+-------------+---------+\n",
            "+---------+--------+-------+--------+---------------+------------------+-----------+----------------+--------------+-------------+---------+\n",
            "\n"
          ]
        }
      ],
      "source": [
        "large_laundering_df.filter(large_laundering_df[\"Amount Paid\"] != large_laundering_df[\"Amount Received\"]).show()"
      ]
    },
    {
      "cell_type": "code",
      "execution_count": 44,
      "metadata": {
        "colab": {
          "base_uri": "https://localhost:8080/"
        },
        "id": "kjofzeCrc_Oc",
        "outputId": "da80713c-088c-435c-d2bb-2e79e8f1b9fe"
      },
      "outputs": [
        {
          "output_type": "stream",
          "name": "stdout",
          "text": [
            "+---------+--------+-------+--------+---------------+------------------+-----------+----------------+--------------+-------------+---------+\n",
            "|From Bank|Account2|To Bank|Account4|Amount Received|Receiving Currency|Amount Paid|Payment Currency|Payment Format|Is Laundering|Timestamp|\n",
            "+---------+--------+-------+--------+---------------+------------------+-----------+----------------+--------------+-------------+---------+\n",
            "+---------+--------+-------+--------+---------------+------------------+-----------+----------------+--------------+-------------+---------+\n",
            "\n"
          ]
        }
      ],
      "source": [
        "# Show ilegal transactions in different currencies\n",
        "large_laundering_df.filter(large_laundering_df[\"Receiving Currency\"] != large_laundering_df[\"Payment Currency\"]).show()"
      ]
    },
    {
      "cell_type": "code",
      "execution_count": 45,
      "metadata": {
        "colab": {
          "base_uri": "https://localhost:8080/"
        },
        "id": "iZAfyxYgkmnV",
        "outputId": "c93bbe7f-abf7-4ac9-c6cb-31aa223798e4"
      },
      "outputs": [
        {
          "output_type": "stream",
          "name": "stdout",
          "text": [
            "+------------------+-----+\n",
            "|Receiving Currency|count|\n",
            "+------------------+-----+\n",
            "|         US Dollar|38346|\n",
            "|              Euro|26022|\n",
            "|              Yuan| 5597|\n",
            "|       Brazil Real| 2265|\n",
            "|   Canadian Dollar| 3178|\n",
            "|             Rupee| 3896|\n",
            "| Australian Dollar| 2764|\n",
            "|       Saudi Riyal| 1662|\n",
            "|             Ruble| 2906|\n",
            "|               Yen| 3363|\n",
            "|          UK Pound| 2960|\n",
            "|           Bitcoin| 1499|\n",
            "|       Swiss Franc| 2532|\n",
            "|      Mexican Peso| 1774|\n",
            "|            Shekel| 1840|\n",
            "+------------------+-----+\n",
            "\n",
            "+-----------------+-----+\n",
            "| Payment Currency|count|\n",
            "+-----------------+-----+\n",
            "|        US Dollar|38346|\n",
            "|             Euro|26022|\n",
            "|             Yuan| 5597|\n",
            "|      Brazil Real| 2265|\n",
            "|  Canadian Dollar| 3178|\n",
            "|            Rupee| 3896|\n",
            "|Australian Dollar| 2764|\n",
            "|      Saudi Riyal| 1662|\n",
            "|            Ruble| 2906|\n",
            "|              Yen| 3363|\n",
            "|         UK Pound| 2960|\n",
            "|          Bitcoin| 1499|\n",
            "|      Swiss Franc| 2532|\n",
            "|     Mexican Peso| 1774|\n",
            "|           Shekel| 1840|\n",
            "+-----------------+-----+\n",
            "\n"
          ]
        }
      ],
      "source": [
        "large_laundering_df.groupBy(\"Receiving Currency\").count().show()\n",
        "large_laundering_df.groupBy(\"Payment Currency\").count().show()"
      ]
    },
    {
      "cell_type": "markdown",
      "metadata": {
        "id": "0-QI1eIgEOwH"
      },
      "source": [
        "**Time-related analysis:**\n",
        "\n",
        "* Extract day of the week: Convert the timestamp into a day of the week feature. Illegal transactions may exhibit certain patterns or anomalies depending on the day of the week.\n",
        "\n",
        "* Extract hour of the day: Convert the timestamp into an hour of the day feature. Similar to the day of the week, certain hours may be more associated with illegal activities."
      ]
    },
    {
      "cell_type": "code",
      "execution_count": 46,
      "metadata": {
        "colab": {
          "base_uri": "https://localhost:8080/"
        },
        "id": "uqkkFBPEEOcW",
        "outputId": "6320ddbc-6c0b-40fb-e64d-3b6f0544e07e"
      },
      "outputs": [
        {
          "output_type": "stream",
          "name": "stdout",
          "text": [
            "+---------+-----+--------+---------------+\n",
            "|  Weekday|count|  count2|Laundering Rate|\n",
            "+---------+-----+--------+---------------+\n",
            "| Saturday|12796|11386828|   0.0011237546|\n",
            "|   Sunday|12051|12931953|   0.0009318778|\n",
            "| Thursday|14863|26463559|   0.0005616403|\n",
            "|  Tuesday|14787|26468510|   0.0005586639|\n",
            "|Wednesday|14903|28778723|   0.0005178479|\n",
            "|   Monday|14825|28965215|   0.0005118208|\n",
            "|   Friday|16379|40971165|   0.0003997690|\n",
            "+---------+-----+--------+---------------+\n",
            "\n"
          ]
        }
      ],
      "source": [
        "weekly_laundering = large_laundering_df.withColumn(\"Weekday\", date_format('Timestamp', 'EEEE')).groupBy(\"Weekday\").count().cache()\n",
        "weekly_legit = large_legit_df.withColumn(\"Weekday\", date_format('Timestamp', 'EEEE')).groupBy(\"Weekday\").count().cache()\n",
        "weekly_laundering.join(weekly_legit.withColumnRenamed(\"count\", \"count2\"), \"Weekday\"). \\\n",
        "                 withColumn(\"Laundering Rate\", col(\"count\") / col(\"count2\")). \\\n",
        "                 withColumn(\"Laundering Rate\", col(\"Laundering Rate\").cast('Decimal(20,10)')). \\\n",
        "                 orderBy(col(\"Laundering Rate\").desc()). \\\n",
        "                 show()"
      ]
    },
    {
      "cell_type": "code",
      "execution_count": 47,
      "metadata": {
        "colab": {
          "base_uri": "https://localhost:8080/"
        },
        "id": "TycaBhsbEUcN",
        "outputId": "d50f7f8b-e677-468e-f2f6-946d3e26ae82"
      },
      "outputs": [
        {
          "output_type": "stream",
          "name": "stdout",
          "text": [
            "+----+-----+-------+------------+\n",
            "|Hour|count| count2| Hourly Rate|\n",
            "+----+-----+-------+------------+\n",
            "|  12| 4846|6855024|0.0007069268|\n",
            "|  11| 4831|6851304|0.0007051212|\n",
            "|  16| 4835|6858909|0.0007049226|\n",
            "|  15| 4709|6854639|0.0006869800|\n",
            "|  13| 4698|6860037|0.0006848360|\n",
            "|  14| 4691|6856477|0.0006841706|\n",
            "|  18| 4386|6860614|0.0006393014|\n",
            "|  19| 4344|6857660|0.0006334522|\n",
            "|  17| 4279|6853010|0.0006243972|\n",
            "|  10| 4268|6848716|0.0006231825|\n",
            "|   8| 4237|6855684|0.0006180273|\n",
            "|   9| 4215|6851019|0.0006152369|\n",
            "|   5| 4128|6861127|0.0006016504|\n",
            "|   7| 4108|6856407|0.0005991476|\n",
            "|   6| 3979|6862286|0.0005798359|\n",
            "|   3| 3890|6861294|0.0005669485|\n",
            "|   2| 3850|6858052|0.0005613839|\n",
            "|   4| 3816|6852737|0.0005568578|\n",
            "|   1| 3801|6870525|0.0005532328|\n",
            "|  22| 3719|6851093|0.0005428331|\n",
            "+----+-----+-------+------------+\n",
            "only showing top 20 rows\n",
            "\n"
          ]
        }
      ],
      "source": [
        "hourly_laundering = large_laundering_df.withColumn(\"Hour\", hour('Timestamp')).groupBy(\"Hour\").count().cache()\n",
        "hourly_legit = large_legit_df.withColumn(\"Hour\", hour('Timestamp')).groupBy(\"Hour\").count().cache()\n",
        "hourly_laundering.join(hourly_legit.withColumnRenamed(\"count\", \"count2\"), \"Hour\"). \\\n",
        "                 withColumn(\"Hourly Rate\", col(\"count\") / col(\"count2\")). \\\n",
        "                 withColumn(\"Hourly Rate\", col(\"Hourly Rate\").cast('Decimal(20,10)')). \\\n",
        "                 orderBy(col(\"Hourly Rate\").desc()). \\\n",
        "                 show()"
      ]
    },
    {
      "cell_type": "code",
      "execution_count": 48,
      "metadata": {
        "colab": {
          "base_uri": "https://localhost:8080/"
        },
        "id": "ex_E1ug0EUtX",
        "outputId": "4195ca73-cc29-47bb-eaeb-8d5187fd9725"
      },
      "outputs": [
        {
          "output_type": "stream",
          "name": "stdout",
          "text": [
            "+----+-----+-------+------------+\n",
            "|Date|count| count2|  Daily Rate|\n",
            "+----+-----+-------+------------+\n",
            "|  25| 3190|4594404|0.0006943229|\n",
            "|  20| 3143|4594374|0.0006840976|\n",
            "|  29| 3143|4596368|0.0006838008|\n",
            "|  27| 3089|4590902|0.0006728525|\n",
            "|  18| 3084|4592763|0.0006714912|\n",
            "|  22| 3076|4596914|0.0006691446|\n",
            "|   8| 3059|4595246|0.0006656880|\n",
            "|  15| 3050|4594305|0.0006638654|\n",
            "|  11| 3037|4592294|0.0006613253|\n",
            "|  24| 3026|4592248|0.0006589365|\n",
            "|  17| 3005|4593527|0.0006541814|\n",
            "|   6| 2993|4594398|0.0006514455|\n",
            "|  13| 2965|4594941|0.0006452749|\n",
            "|  10| 2944|4592106|0.0006411002|\n",
            "|  23| 3178|5271296|0.0006028878|\n",
            "|   9| 3167|5271940|0.0006007276|\n",
            "|   3| 3861|6484799|0.0005953924|\n",
            "|  21| 3086|5272882|0.0005852587|\n",
            "|  28| 3288|5654568|0.0005814768|\n",
            "|   7| 3004|5272204|0.0005697807|\n",
            "+----+-----+-------+------------+\n",
            "only showing top 20 rows\n",
            "\n"
          ]
        }
      ],
      "source": [
        "daily_laundering = large_laundering_df.withColumn(\"Date\", dayofmonth('Timestamp')).groupBy(\"Date\").count().cache()\n",
        "daily_legit = large_legit_df.withColumn(\"Date\", dayofmonth('Timestamp')).groupBy(\"Date\").count().cache()\n",
        "daily_laundering.join(daily_legit.withColumnRenamed(\"count\", \"count2\"), \"Date\"). \\\n",
        "                 withColumn(\"Daily Rate\", col(\"count\") / col(\"count2\")). \\\n",
        "                 withColumn(\"Daily Rate\", col(\"Daily Rate\").cast('Decimal(20,10)')). \\\n",
        "                 orderBy(col(\"Daily Rate\").desc()). \\\n",
        "                 show()"
      ]
    },
    {
      "cell_type": "markdown",
      "metadata": {
        "id": "_Uin1y6rgK3_"
      },
      "source": [
        "## Feature Data\n",
        "\n",
        "\n",
        "The feature data layer comprises an analytics-specific data model that includes a collection of features defined based on the primary data. In practical terms, this layer represents both the independent variables and the target variable, which serve as the foundation for exploring and applying machine learning techniques."
      ]
    },
    {
      "cell_type": "code",
      "execution_count": 49,
      "metadata": {
        "colab": {
          "base_uri": "https://localhost:8080/"
        },
        "id": "yhXUHIILbLFO",
        "outputId": "1c28d545-2083-425b-ea6d-bb3cf65459f6"
      },
      "outputs": [
        {
          "output_type": "stream",
          "name": "stdout",
          "text": [
            "+---------+---------+-------+---------+---------------+------------------+-----------+----------------+--------------+-------------+-------------------+----+---+------+----------+--------+\n",
            "|From Bank| Account2|To Bank| Account4|Amount Received|Receiving Currency|Amount Paid|Payment Currency|Payment Format|Is Laundering|          Timestamp|Hour|Day|Minute|      Date| Weekday|\n",
            "+---------+---------+-------+---------+---------------+------------------+-----------+----------------+--------------+-------------+-------------------+----+---+------+----------+--------+\n",
            "|       11|8000ECA90|     11|8000ECA90|      3195403.0|         US Dollar|  3195403.0|       US Dollar|  Reinvestment|            0|2022-09-01 00:08:00|   0|  1|     8|2022-09-01|Thursday|\n",
            "|     3402|80021DAD0|   3402|80021DAD0|        1858.96|         US Dollar|    1858.96|       US Dollar|  Reinvestment|            0|2022-09-01 00:21:00|   0|  1|    21|2022-09-01|Thursday|\n",
            "|       11|8000ECA90|   1120|8006AA910|       592571.0|         US Dollar|   592571.0|       US Dollar|        Cheque|            0|2022-09-01 00:00:00|   0|  1|     0|2022-09-01|Thursday|\n",
            "|     3814|8006AD080|   3814|8006AD080|          12.32|         US Dollar|      12.32|       US Dollar|  Reinvestment|            0|2022-09-01 00:16:00|   0|  1|    16|2022-09-01|Thursday|\n",
            "|       20|8006AD530|     20|8006AD530|        2941.56|         US Dollar|    2941.56|       US Dollar|  Reinvestment|            0|2022-09-01 00:00:00|   0|  1|     0|2022-09-01|Thursday|\n",
            "+---------+---------+-------+---------+---------------+------------------+-----------+----------------+--------------+-------------+-------------------+----+---+------+----------+--------+\n",
            "only showing top 5 rows\n",
            "\n"
          ]
        }
      ],
      "source": [
        "def create_time_features(ds):\n",
        "  ds = ds.withColumn(\"Hour\", hour('Timestamp'))\n",
        "  ds = ds.withColumn(\"Day\", dayofmonth('Timestamp'))\n",
        "  ds = ds.withColumn(\"Minute\", minute('Timestamp'))\n",
        "  ds = ds.withColumn(\"Date\", to_date('Timestamp'))\n",
        "  ds = ds.withColumn(\"Weekday\", date_format('Timestamp', 'EEEE'))\n",
        "  return ds\n",
        "\n",
        "small_df = create_time_features(small_df)\n",
        "small_df.show(5)"
      ]
    },
    {
      "cell_type": "code",
      "execution_count": 50,
      "metadata": {
        "colab": {
          "base_uri": "https://localhost:8080/"
        },
        "id": "Dx-RHVKpcB-8",
        "outputId": "9faf49fe-7820-4c2f-f19b-574f6f790155"
      },
      "outputs": [
        {
          "output_type": "stream",
          "name": "stdout",
          "text": [
            "+--------------+-------+\n",
            "|Payment Format|  count|\n",
            "+--------------+-------+\n",
            "|   Credit Card|1780389|\n",
            "|           ACH| 796581|\n",
            "|          Wire| 228567|\n",
            "|          Cash| 655688|\n",
            "|       Bitcoin| 309208|\n",
            "|        Cheque|2503158|\n",
            "+--------------+-------+\n",
            "\n",
            "+-----------+-------+\n",
            "|SelfPayment|  count|\n",
            "+-----------+-------+\n",
            "|          1| 154019|\n",
            "|          0|6119572|\n",
            "+-----------+-------+\n",
            "\n"
          ]
        }
      ],
      "source": [
        "def create_self_payment_feature(ds):\n",
        "  ds = ds.withColumn(\"SelfPayment\", when(col(\"Account2\") == col(\"Account4\"), 1).otherwise(0))\n",
        "  return ds\n",
        "\n",
        "def clean_payment_format(ds):\n",
        "  ds = ds.where(col(\"Payment Format\") != \"Reinvestment\")\n",
        "  return ds\n",
        "\n",
        "small_df = create_self_payment_feature(small_df)\n",
        "small_df = clean_payment_format(small_df)\n",
        "small_df.groupBy(\"Payment Format\").count().show()\n",
        "small_df.groupBy(\"SelfPayment\").count().show()"
      ]
    },
    {
      "cell_type": "code",
      "execution_count": 51,
      "metadata": {
        "colab": {
          "base_uri": "https://localhost:8080/"
        },
        "id": "oS_EdqYBeuh4",
        "outputId": "365011f3-b283-45a8-8ff5-60ad74f2a4e0"
      },
      "outputs": [
        {
          "output_type": "stream",
          "name": "stdout",
          "text": [
            "+---------+---------+-------+---------+---------------+---------+-----------+--------------+-------------+-------------------+----+---+------+----------+--------+-----------+-----------------------+\n",
            "|From Bank| Account2|To Bank| Account4|Amount Received| Currency|Amount Paid|Payment Format|Is Laundering|          Timestamp|Hour|Day|Minute|      Date| Weekday|SelfPayment|SameCurrencyTransaction|\n",
            "+---------+---------+-------+---------+---------------+---------+-----------+--------------+-------------+-------------------+----+---+------+----------+--------+-----------+-----------------------+\n",
            "|       11|8000ECA90|   1120|8006AA910|       592571.0|US Dollar|   592571.0|        Cheque|            0|2022-09-01 00:00:00|   0|  1|     0|2022-09-01|Thursday|          0|                      1|\n",
            "|       11|800059120|   1217|8006AD4E0|        60562.0|US Dollar|    60562.0|           ACH|            0|2022-09-01 00:17:00|   0|  1|    17|2022-09-01|Thursday|          0|                      1|\n",
            "|     1120|8006AA910| 243166|81470DCF0|          43.53|US Dollar|      43.53|   Credit Card|            0|2022-09-01 00:28:00|   0|  1|    28|2022-09-01|Thursday|          0|                      1|\n",
            "|      224|8006AD580|  23319|80567ED00|           9.28|US Dollar|       9.28|   Credit Card|            0|2022-09-01 00:28:00|   0|  1|    28|2022-09-01|Thursday|          0|                      1|\n",
            "|      394|8006AF210| 214342|805586EA0|          93.85|US Dollar|      93.85|   Credit Card|            0|2022-09-01 00:28:00|   0|  1|    28|2022-09-01|Thursday|          0|                      1|\n",
            "+---------+---------+-------+---------+---------------+---------+-----------+--------------+-------------+-------------------+----+---+------+----------+--------+-----------+-----------------------+\n",
            "only showing top 5 rows\n",
            "\n"
          ]
        }
      ],
      "source": [
        "def create_currency_features(ds):\n",
        "  ds = ds.withColumn(\"SameCurrencyTransaction\", when(col(\"Receiving Currency\") == col(\"Payment Currency\"), 1).otherwise(0))\n",
        "  ds = ds.drop(\"Payment Currency\")\n",
        "  ds = ds.withColumnRenamed(\"Receiving Currency\", \"Currency\")\n",
        "  return ds\n",
        "\n",
        "small_df = create_currency_features(small_df)\n",
        "small_df.show(5)"
      ]
    },
    {
      "cell_type": "code",
      "execution_count": 52,
      "metadata": {
        "colab": {
          "base_uri": "https://localhost:8080/"
        },
        "id": "VZdH1SBIf6Nf",
        "outputId": "022f3bde-7f0e-445a-cdbd-8b014cec551d"
      },
      "outputs": [
        {
          "output_type": "stream",
          "name": "stdout",
          "text": [
            "+---------+---------+-------+---------+-----------+---------+--------------+-------------+-------------------+----+---+------+----------+--------+-----------+-----------------------+----------------+\n",
            "|From Bank| Account2|To Bank| Account4|AmtReceived| Currency|Payment Format|Is Laundering|          Timestamp|Hour|Day|Minute|      Date| Weekday|SelfPayment|SameCurrencyTransaction|AmtReceivedRatio|\n",
            "+---------+---------+-------+---------+-----------+---------+--------------+-------------+-------------------+----+---+------+----------+--------+-----------+-----------------------+----------------+\n",
            "|       11|8000ECA90|   1120|8006AA910|   592571.0|US Dollar|        Cheque|            0|2022-09-01 00:00:00|   0|  1|     0|2022-09-01|Thursday|          0|                      1|             1.0|\n",
            "|       11|800059120|   1217|8006AD4E0|    60562.0|US Dollar|           ACH|            0|2022-09-01 00:17:00|   0|  1|    17|2022-09-01|Thursday|          0|                      1|             1.0|\n",
            "|     1120|8006AA910| 243166|81470DCF0|      43.53|US Dollar|   Credit Card|            0|2022-09-01 00:28:00|   0|  1|    28|2022-09-01|Thursday|          0|                      1|             1.0|\n",
            "|      224|8006AD580|  23319|80567ED00|       9.28|US Dollar|   Credit Card|            0|2022-09-01 00:28:00|   0|  1|    28|2022-09-01|Thursday|          0|                      1|             1.0|\n",
            "|      394|8006AF210| 214342|805586EA0|      93.85|US Dollar|   Credit Card|            0|2022-09-01 00:28:00|   0|  1|    28|2022-09-01|Thursday|          0|                      1|             1.0|\n",
            "+---------+---------+-------+---------+-----------+---------+--------------+-------------+-------------------+----+---+------+----------+--------+-----------+-----------------------+----------------+\n",
            "only showing top 5 rows\n",
            "\n"
          ]
        }
      ],
      "source": [
        "def create_ammount_features(ds):\n",
        "  ds = ds.withColumn(\"AmtReceivedRatio\",  col(\"Amount Received\") / col(\"Amount Paid\"))\n",
        "  ds = ds.drop(\"Amount Paid\")\n",
        "  ds = ds.withColumnRenamed(\"Amount Received\", \"AmtReceived\")\n",
        "  return ds\n",
        "\n",
        "small_df = create_ammount_features(small_df)\n",
        "small_df.show(5)"
      ]
    },
    {
      "cell_type": "code",
      "execution_count": 53,
      "metadata": {
        "id": "2iwgT6SRhjB0"
      },
      "outputs": [],
      "source": [
        "def trans_by_acc_features(ds):\n",
        "  # Total Transaction Ammount in Hour\n",
        "  temp = ds.groupBy(\"Account2\", \"Hour\").agg(count(\"*\").alias(\"AccTransAmtInHour\")).cache()\n",
        "  ds = ds.join(temp, on=[\"Account2\", \"Hour\"], how=\"left\")\n",
        "  # Total Transaction Ammount in Day\n",
        "  temp = ds.groupBy(\"Account2\", \"Day\").agg(count(\"*\").alias(\"AccTransAmtInDay\")).cache()\n",
        "  ds = ds.join(temp, on=[\"Account2\", \"Day\"], how=\"left\")\n",
        "\n",
        "  # Transaction Number by the Account in the Hour\n",
        "  w = Window.partitionBy(ds[\"Account2\"], ds[\"Date\"], ds[\"Hour\"]).orderBy(ds[\"Minute\"])\n",
        "  ds = ds.withColumn('AccTransNumByHour', row_number().over(w))\n",
        "  # Transaction Number by the Account in the Day\n",
        "  w = Window.partitionBy(ds[\"Account2\"], ds[\"Date\"]).orderBy(ds[\"Hour\"], ds[\"Minute\"])\n",
        "  ds = ds.withColumn('AccTransNumByDay', row_number().over(w))\n",
        "\n",
        "  # Time in mins since last transaction\n",
        "  w = Window.partitionBy(ds[\"Account2\"]).orderBy(ds[\"Timestamp\"])\n",
        "  ds = ds.withColumn(\"MinsSinceLastTrans\", coalesce(round((unix_timestamp(\"Timestamp\") - lag(unix_timestamp(\"Timestamp\"), 1).over(w))/60), lit(0)))\n",
        "\n",
        "  return ds\n",
        "\n",
        "small_df = trans_by_acc_features(small_df)"
      ]
    },
    {
      "cell_type": "code",
      "execution_count": 54,
      "metadata": {
        "id": "0ESUrofmhwRo"
      },
      "outputs": [],
      "source": [
        "def receiving_acc_features(ds):\n",
        "  # Total Transaction Ammount to same account in Hour\n",
        "  temp = ds.groupBy(\"Account2\", \"Account4\", \"Hour\").agg(count(\"*\").alias(\"HourAccTransAmtToSameAcc\")).cache()\n",
        "  ds = ds.join(temp, on=[\"Account2\", \"Account4\", \"Hour\"], how=\"left\")\n",
        "  # Total Transaction Ammount to same account in Day\n",
        "  temp = ds.groupBy(\"Account2\", \"Account4\", \"Day\").agg(count(\"*\").alias(\"DayAccTransAmtToSameAcc\")).cache()\n",
        "  ds = ds.join(temp, on=[\"Account2\", \"Account4\", \"Day\"], how=\"left\")\n",
        "\n",
        "  # Transaction Number by the Account to same account in the Hour\n",
        "  w = Window.partitionBy(ds[\"Account2\"], ds[\"Account4\"], ds[\"Date\"], ds[\"Hour\"]).orderBy(ds[\"Minute\"])\n",
        "  ds = ds.withColumn('HourAccTransNumToSameAcc', row_number().over(w))\n",
        "  # Transaction Number by the Account to same account in the Day\n",
        "  w = Window.partitionBy(ds[\"Account2\"], ds[\"Account4\"], ds[\"Date\"]).orderBy(ds[\"Hour\"], ds[\"Minute\"])\n",
        "  ds = ds.withColumn('DayAccTransNumToSameAcc', row_number().over(w))\n",
        "\n",
        "  # Time in mins since last transaction to same account\n",
        "  w = Window.partitionBy(ds[\"Account2\"], ds[\"Account4\"]).orderBy(ds[\"Timestamp\"])\n",
        "  ds = ds.withColumn(\"MinsSinceLastTransToSameAcc\", coalesce(round((unix_timestamp(\"Timestamp\") - lag(unix_timestamp(\"Timestamp\"), 1).over(w))/60), lit(0)))\n",
        "\n",
        "  # Amt of Transactions to Acc4 in Last Hour\n",
        "  w = Window.partitionBy(ds['Account4'], ds[\"Date\"], ds[\"Hour\"]).orderBy('Minute')\n",
        "  ds = ds.withColumn('HourDestAccTransReceived', count('Account2').over(w))\n",
        "\n",
        "  # Amt of Transactions to Acc4 in Last Day\n",
        "  w = Window.partitionBy(ds['Account4'], ds[\"Date\"]).orderBy(ds[\"Hour\"], ds[\"Minute\"])\n",
        "  ds = ds.withColumn('DayDestAccTransReceived', count('Account2').over(w))\n",
        "\n",
        "\n",
        "  return ds\n",
        "\n",
        "small_df = receiving_acc_features(small_df)"
      ]
    },
    {
      "cell_type": "code",
      "execution_count": 55,
      "metadata": {
        "colab": {
          "base_uri": "https://localhost:8080/"
        },
        "id": "Sb7CUNz2sq2_",
        "outputId": "7bd1a8db-26e9-462c-a6dd-447bdae4e35e"
      },
      "outputs": [
        {
          "output_type": "stream",
          "name": "stdout",
          "text": [
            "+---------+---------+---+----+---------+-------+-----------+---------+--------------+-------------+-------------------+------+----------+--------+-----------+-----------------------+----------------+-----------------+----------------+-----------------+----------------+------------------+------------------------+-----------------------+------------------------+-----------------------+---------------------------+------------------------+-----------------------+\n",
            "| Account2| Account4|Day|Hour|From Bank|To Bank|AmtReceived| Currency|Payment Format|Is Laundering|          Timestamp|Minute|      Date| Weekday|SelfPayment|SameCurrencyTransaction|AmtReceivedRatio|AccTransAmtInHour|AccTransAmtInDay|AccTransNumByHour|AccTransNumByDay|MinsSinceLastTrans|HourAccTransAmtToSameAcc|DayAccTransAmtToSameAcc|HourAccTransNumToSameAcc|DayAccTransNumToSameAcc|MinsSinceLastTransToSameAcc|HourDestAccTransReceived|DayDestAccTransReceived|\n",
            "+---------+---------+---+----+---------+-------+-----------+---------+--------------+-------------+-------------------+------+----------+--------+-----------+-----------------------+----------------+-----------------+----------------+-----------------+----------------+------------------+------------------------+-----------------------+------------------------+-----------------------+---------------------------+------------------------+-----------------------+\n",
            "|81A731C90|10042B660|  1|   0|   328658|     70|       0.01|US Dollar|          Cash|            0|2022-09-01 00:05:00|     5|2022-09-01|Thursday|          0|                      1|             1.0|                1|               1|                1|               1|               0.0|                       1|                      1|                       1|                      1|                        0.0|                       1|                      1|\n",
            "|800ABAD90|10042B660|  1|   0|     3412|     70|       0.01|US Dollar|          Cash|            0|2022-09-01 00:08:00|     8|2022-09-01|Thursday|          0|                      1|             1.0|                1|               1|                1|               1|               0.0|                       1|                      1|                       1|                      1|                        0.0|                       2|                      2|\n",
            "|80B676EE0|10042B660|  1|   0|    35803|     70|       0.02|US Dollar|          Cash|            0|2022-09-01 00:13:00|    13|2022-09-01|Thursday|          0|                      1|             1.0|                1|               1|                1|               1|               0.0|                       1|                      1|                       1|                      1|                        0.0|                       4|                      4|\n",
            "|81BD7B530|10042B660|  1|   0|   324070|     70|       0.17|US Dollar|          Cash|            0|2022-09-01 00:13:00|    13|2022-09-01|Thursday|          0|                      1|             1.0|                1|               1|                1|               1|               0.0|                       1|                      1|                       1|                      1|                        0.0|                       4|                      4|\n",
            "|819A0A4F0|10042B660|  1|   0|   369910|     70|       0.07|US Dollar|          Cash|            0|2022-09-01 00:18:00|    18|2022-09-01|Thursday|          0|                      1|             1.0|                1|               1|                1|               1|               0.0|                       1|                      1|                       1|                      1|                        0.0|                       5|                      5|\n",
            "+---------+---------+---+----+---------+-------+-----------+---------+--------------+-------------+-------------------+------+----------+--------+-----------+-----------------------+----------------+-----------------+----------------+-----------------+----------------+------------------+------------------------+-----------------------+------------------------+-----------------------+---------------------------+------------------------+-----------------------+\n",
            "only showing top 5 rows\n",
            "\n"
          ]
        }
      ],
      "source": [
        "small_df.show(5)"
      ]
    },
    {
      "cell_type": "code",
      "execution_count": 56,
      "metadata": {
        "colab": {
          "base_uri": "https://localhost:8080/"
        },
        "id": "kqdgDqjKFHE9",
        "outputId": "68b84a64-1d6c-4cdc-b717-9d19fae11ec5"
      },
      "outputs": [
        {
          "output_type": "stream",
          "name": "stdout",
          "text": [
            "+---------+---------+---+----+---------+-------+-----------+---------------+--------------+-------------+-------------------+------+----------+--------+-----------+-----------------------+------------------+-----------------+----------------+-----------------+----------------+------------------+------------------------+-----------------------+------------------------+-----------------------+---------------------------+------------------------+-----------------------+\n",
            "| Account2| Account4|Day|Hour|From Bank|To Bank|AmtReceived|       Currency|Payment Format|Is Laundering|          Timestamp|Minute|      Date| Weekday|SelfPayment|SameCurrencyTransaction|  AmtReceivedRatio|AccTransAmtInHour|AccTransAmtInDay|AccTransNumByHour|AccTransNumByDay|MinsSinceLastTrans|HourAccTransAmtToSameAcc|DayAccTransAmtToSameAcc|HourAccTransNumToSameAcc|DayAccTransNumToSameAcc|MinsSinceLastTransToSameAcc|HourDestAccTransReceived|DayDestAccTransReceived|\n",
            "+---------+---------+---+----+---------+-------+-----------+---------------+--------------+-------------+-------------------+------+----------+--------+-----------+-----------------------+------------------+-----------------+----------------+-----------------+----------------+------------------+------------------------+-----------------------+------------------------+-----------------------+---------------------------+------------------------+-----------------------+\n",
            "|8000ECA90|8006AA910|  1|   0|       11|   1120|   592571.0|      US Dollar|        Cheque|            0|2022-09-01 00:00:00|     0|2022-09-01|Thursday|          0|                      1|               1.0|               11|               9|                1|               1|               0.0|                       1|                      1|                       1|                      1|                        0.0|                       1|                      1|\n",
            "|8000ECA90|8000ECA90|  1|   0|       11|     11|     2561.4|           Euro|           ACH|            0|2022-09-01 00:10:00|    10|2022-09-01|Thursday|          1|                      0|0.8533988949692018|               11|               9|                2|               2|              10.0|                       2|                      2|                       1|                      1|                        0.0|                       2|                      2|\n",
            "|8000ECA90|80308AD00|  1|   0|       11|  27737|     2561.4|           Euro|          Cash|            0|2022-09-01 00:10:00|    10|2022-09-01|Thursday|          0|                      1|               1.0|               11|               9|                3|               3|               0.0|                       1|                      1|                       1|                      1|                        0.0|                       1|                      1|\n",
            "|8000ECA90|80DEE0AC0|  1|   0|       11| 235735|    4831.77|Canadian Dollar|           ACH|            0|2022-09-01 00:16:00|    16|2022-09-01|Thursday|          0|                      1|               1.0|               11|               9|                5|               5|               0.0|                       1|                      1|                       1|                      1|                        0.0|                       1|                      1|\n",
            "|8000ECA90|8000ECA90|  1|   0|       11|     11|    4831.77|Canadian Dollar|           ACH|            0|2022-09-01 00:16:00|    16|2022-09-01|Thursday|          1|                      0| 1.319297881196509|               11|               9|                4|               4|               6.0|                       2|                      2|                       2|                      2|                        6.0|                       3|                      3|\n",
            "|8000ECA90|800AC5040|  1|  10|       11|  21393|       0.27|      US Dollar|   Credit Card|            0|2022-09-01 10:00:00|     0|2022-09-01|Thursday|          0|                      1|               1.0|                3|               9|                1|               6|             584.0|                       3|                      3|                       1|                      1|                        0.0|                       1|                      4|\n",
            "|8000ECA90|800AC5040|  1|  10|       11|  21393|     215.88|      US Dollar|        Cheque|            0|2022-09-01 10:06:00|     6|2022-09-01|Thursday|          0|                      1|               1.0|                3|               9|                2|               7|               6.0|                       3|                      3|                       2|                      2|                        6.0|                       2|                      5|\n",
            "|8000ECA90|800AC5040|  1|  10|       11|  21393|       0.47|      US Dollar|          Wire|            0|2022-09-01 10:23:00|    23|2022-09-01|Thursday|          0|                      1|               1.0|                3|               9|                3|               8|              17.0|                       3|                      3|                       3|                      3|                       17.0|                       3|                      6|\n",
            "|8000ECA90|8006AF210|  1|  17|       11|    394|  7495533.0|      US Dollar|        Cheque|            0|2022-09-01 17:04:00|     4|2022-09-01|Thursday|          0|                      1|               1.0|                1|               9|                1|               9|             401.0|                       1|                      1|                       1|                      1|                        0.0|                       1|                      1|\n",
            "|8000ECA90|800AC5040|  2|   9|       11|  21393|       0.47|      US Dollar|          Wire|            0|2022-09-02 09:17:00|    17|2022-09-02|  Friday|          0|                      1|               1.0|                3|               5|                1|               1|             973.0|                       3|                      3|                       1|                      1|                     1374.0|                       2|                      2|\n",
            "|8000ECA90|800AC5040|  2|   9|       11|  21393|     215.88|      US Dollar|        Cheque|            0|2022-09-02 09:22:00|    22|2022-09-02|  Friday|          0|                      1|               1.0|                3|               5|                2|               2|               5.0|                       3|                      3|                       2|                      2|                        5.0|                       4|                      4|\n",
            "|8000ECA90|800AC5040|  2|   9|       11|  21393|       0.27|      US Dollar|   Credit Card|            0|2022-09-02 09:29:00|    29|2022-09-02|  Friday|          0|                      1|               1.0|                3|               5|                3|               3|               7.0|                       3|                      3|                       3|                      3|                        7.0|                       5|                      5|\n",
            "|8000ECA90|8000ECA90|  2|  14|       11|     11|   602037.1|           Yuan|           ACH|            0|2022-09-02 14:55:00|    55|2022-09-02|  Friday|          1|                      0|6.6975995519448706|                2|               5|                1|               4|             326.0|                       1|                      1|                       1|                      1|                     2319.0|                       1|                      5|\n",
            "|8000ECA90|804C3EC70|  2|  14|       11| 211524|   602037.1|           Yuan|          Wire|            0|2022-09-02 14:55:00|    55|2022-09-02|  Friday|          0|                      1|               1.0|                2|               5|                2|               5|               0.0|                       1|                      1|                       1|                      1|                        0.0|                       1|                      1|\n",
            "|8000ECA90|800AC5040|  3|   0|       11|  21393|     215.88|      US Dollar|        Cheque|            0|2022-09-03 00:40:00|    40|2022-09-03|Saturday|          0|                      1|               1.0|               11|               3|                1|               1|             585.0|                       6|                      3|                       1|                      1|                      911.0|                       2|                      2|\n",
            "|8000ECA90|800AC5040|  3|   0|       11|  21393|       0.27|      US Dollar|   Credit Card|            0|2022-09-03 00:47:00|    47|2022-09-03|Saturday|          0|                      1|               1.0|               11|               3|                2|               2|               7.0|                       6|                      3|                       2|                      2|                        7.0|                       3|                      3|\n",
            "|8000ECA90|800AC5040|  3|   0|       11|  21393|       0.47|      US Dollar|          Wire|            0|2022-09-03 00:56:00|    56|2022-09-03|Saturday|          0|                      1|               1.0|               11|               3|                3|               3|               9.0|                       6|                      3|                       3|                      3|                        9.0|                       4|                      4|\n",
            "|8000ECA90|800AC5040|  4|  22|       11|  21393|     215.88|      US Dollar|        Cheque|            0|2022-09-04 22:35:00|    35|2022-09-04|  Sunday|          0|                      1|               1.0|                3|               3|                1|               1|            2739.0|                       3|                      3|                       1|                      1|                     2739.0|                       1|                      1|\n",
            "|8000ECA90|800AC5040|  4|  22|       11|  21393|       0.27|      US Dollar|   Credit Card|            0|2022-09-04 22:42:00|    42|2022-09-04|  Sunday|          0|                      1|               1.0|                3|               3|                2|               2|               7.0|                       3|                      3|                       2|                      2|                        7.0|                       3|                      3|\n",
            "|8000ECA90|800AC5040|  4|  22|       11|  21393|       0.47|      US Dollar|          Wire|            0|2022-09-04 22:42:00|    42|2022-09-04|  Sunday|          0|                      1|               1.0|                3|               3|                3|               3|               0.0|                       3|                      3|                       3|                      3|                        0.0|                       3|                      3|\n",
            "+---------+---------+---+----+---------+-------+-----------+---------------+--------------+-------------+-------------------+------+----------+--------+-----------+-----------------------+------------------+-----------------+----------------+-----------------+----------------+------------------+------------------------+-----------------------+------------------------+-----------------------+---------------------------+------------------------+-----------------------+\n",
            "only showing top 20 rows\n",
            "\n"
          ]
        }
      ],
      "source": [
        "small_df.where(col(\"Account2\") == \"8000ECA90\").orderBy(\"Timestamp\").show()"
      ]
    },
    {
      "cell_type": "code",
      "execution_count": 57,
      "metadata": {
        "id": "5KvQRxolHF9I"
      },
      "outputs": [],
      "source": [
        "def cleanup(ds):\n",
        "   ds = ds.drop(\"Date\")\n",
        "   ds = ds.drop(\"Timestamp\")\n",
        "   ds = ds.drop(\"Account2\")\n",
        "   ds = ds.drop(\"Account4\")\n",
        "   return ds\n",
        "\n",
        "small_df = cleanup(small_df)"
      ]
    },
    {
      "cell_type": "code",
      "execution_count": 58,
      "metadata": {
        "colab": {
          "base_uri": "https://localhost:8080/"
        },
        "id": "b4nvwN6buR3x",
        "outputId": "4e1a93ee-fea0-4e1f-f8c1-56839e2342d4"
      },
      "outputs": [
        {
          "output_type": "stream",
          "name": "stdout",
          "text": [
            "+---+----+---------+-------+-----------+---------+--------------+-------------+------+--------+-----------+-----------------------+----------------+-----------------+----------------+-----------------+----------------+------------------+------------------------+-----------------------+------------------------+-----------------------+---------------------------+------------------------+-----------------------+\n",
            "|Day|Hour|From Bank|To Bank|AmtReceived| Currency|Payment Format|Is Laundering|Minute| Weekday|SelfPayment|SameCurrencyTransaction|AmtReceivedRatio|AccTransAmtInHour|AccTransAmtInDay|AccTransNumByHour|AccTransNumByDay|MinsSinceLastTrans|HourAccTransAmtToSameAcc|DayAccTransAmtToSameAcc|HourAccTransNumToSameAcc|DayAccTransNumToSameAcc|MinsSinceLastTransToSameAcc|HourDestAccTransReceived|DayDestAccTransReceived|\n",
            "+---+----+---------+-------+-----------+---------+--------------+-------------+------+--------+-----------+-----------------------+----------------+-----------------+----------------+-----------------+----------------+------------------+------------------------+-----------------------+------------------------+-----------------------+---------------------------+------------------------+-----------------------+\n",
            "|  1|   0|   328658|     70|       0.01|US Dollar|          Cash|            0|     5|Thursday|          0|                      1|             1.0|                1|               1|                1|               1|               0.0|                       1|                      1|                       1|                      1|                        0.0|                       1|                      1|\n",
            "|  1|   0|     3412|     70|       0.01|US Dollar|          Cash|            0|     8|Thursday|          0|                      1|             1.0|                1|               1|                1|               1|               0.0|                       1|                      1|                       1|                      1|                        0.0|                       2|                      2|\n",
            "|  1|   0|    35803|     70|       0.02|US Dollar|          Cash|            0|    13|Thursday|          0|                      1|             1.0|                1|               1|                1|               1|               0.0|                       1|                      1|                       1|                      1|                        0.0|                       4|                      4|\n",
            "|  1|   0|   324070|     70|       0.17|US Dollar|          Cash|            0|    13|Thursday|          0|                      1|             1.0|                1|               1|                1|               1|               0.0|                       1|                      1|                       1|                      1|                        0.0|                       4|                      4|\n",
            "|  1|   0|   369910|     70|       0.07|US Dollar|          Cash|            0|    18|Thursday|          0|                      1|             1.0|                1|               1|                1|               1|               0.0|                       1|                      1|                       1|                      1|                        0.0|                       5|                      5|\n",
            "+---+----+---------+-------+-----------+---------+--------------+-------------+------+--------+-----------+-----------------------+----------------+-----------------+----------------+-----------------+----------------+------------------+------------------------+-----------------------+------------------------+-----------------------+---------------------------+------------------------+-----------------------+\n",
            "only showing top 5 rows\n",
            "\n"
          ]
        }
      ],
      "source": [
        "small_df.show(5)"
      ]
    },
    {
      "cell_type": "code",
      "execution_count": 59,
      "metadata": {
        "id": "qzxks-7CuLzP"
      },
      "outputs": [],
      "source": [
        "def feature_creation_pipeline(ds):\n",
        "  ds = create_time_features(ds)\n",
        "  ds = create_self_payment_feature(ds)\n",
        "  ds = clean_payment_format(ds)\n",
        "  ds = create_currency_features(ds)\n",
        "  ds = create_ammount_features(ds)\n",
        "  ds = trans_by_acc_features(ds)\n",
        "  ds = receiving_acc_features(ds)\n",
        "  ds = cleanup(ds)\n",
        "  return ds"
      ]
    },
    {
      "cell_type": "markdown",
      "metadata": {
        "id": "QbcHikZiHZgx"
      },
      "source": [
        "## Model Inputs"
      ]
    },
    {
      "cell_type": "code",
      "execution_count": 60,
      "metadata": {
        "id": "N-NxvDKLYJhZ"
      },
      "outputs": [],
      "source": [
        "def encode_categorical(ds):\n",
        "  indexer1 = StringIndexer(inputCol=\"Currency\", outputCol=\"CodedCurrency\")\n",
        "  indexer2 = StringIndexer(inputCol=\"Payment Format\", outputCol=\"CodedPaymentFormat\")\n",
        "  indexer3 = StringIndexer(inputCol=\"Weekday\", outputCol=\"CodedWeekday\")\n",
        "  ds = indexer1.fit(ds).transform(ds)\n",
        "  ds = indexer2.fit(ds).transform(ds)\n",
        "  ds = indexer3.fit(ds).transform(ds)\n",
        "  ds = ds.drop(\"Currency\")\n",
        "  ds = ds.drop(\"Weekday\")\n",
        "  ds = ds.drop(\"Payment Format\")\n",
        "  return ds\n",
        "\n",
        "small_df = encode_categorical(small_df)"
      ]
    },
    {
      "cell_type": "code",
      "execution_count": 61,
      "metadata": {
        "colab": {
          "base_uri": "https://localhost:8080/"
        },
        "id": "WsIloqnX4tgH",
        "outputId": "a74b9d3b-d9da-436c-ac76-3d800f40e2f3"
      },
      "outputs": [
        {
          "output_type": "stream",
          "name": "stdout",
          "text": [
            "+---+----+---------+-------+-----------+-------------+------+-----------+-----------------------+----------------+-----------------+----------------+-----------------+----------------+------------------+------------------------+-----------------------+------------------------+-----------------------+---------------------------+------------------------+-----------------------+-------------+------------------+------------+\n",
            "|Day|Hour|From Bank|To Bank|AmtReceived|Is Laundering|Minute|SelfPayment|SameCurrencyTransaction|AmtReceivedRatio|AccTransAmtInHour|AccTransAmtInDay|AccTransNumByHour|AccTransNumByDay|MinsSinceLastTrans|HourAccTransAmtToSameAcc|DayAccTransAmtToSameAcc|HourAccTransNumToSameAcc|DayAccTransNumToSameAcc|MinsSinceLastTransToSameAcc|HourDestAccTransReceived|DayDestAccTransReceived|CodedCurrency|CodedPaymentFormat|CodedWeekday|\n",
            "+---+----+---------+-------+-----------+-------------+------+-----------+-----------------------+----------------+-----------------+----------------+-----------------+----------------+------------------+------------------------+-----------------------+------------------------+-----------------------+---------------------------+------------------------+-----------------------+-------------+------------------+------------+\n",
            "|  1|   0|   328658|     70|       0.01|            0|     5|          0|                      1|             1.0|                1|               1|                1|               1|               0.0|                       1|                      1|                       1|                      1|                        0.0|                       1|                      1|          0.0|               3.0|         1.0|\n",
            "|  1|   0|     3412|     70|       0.01|            0|     8|          0|                      1|             1.0|                1|               1|                1|               1|               0.0|                       1|                      1|                       1|                      1|                        0.0|                       2|                      2|          0.0|               3.0|         1.0|\n",
            "|  1|   0|    35803|     70|       0.02|            0|    13|          0|                      1|             1.0|                1|               1|                1|               1|               0.0|                       1|                      1|                       1|                      1|                        0.0|                       4|                      4|          0.0|               3.0|         1.0|\n",
            "|  1|   0|   324070|     70|       0.17|            0|    13|          0|                      1|             1.0|                1|               1|                1|               1|               0.0|                       1|                      1|                       1|                      1|                        0.0|                       4|                      4|          0.0|               3.0|         1.0|\n",
            "|  1|   0|   369910|     70|       0.07|            0|    18|          0|                      1|             1.0|                1|               1|                1|               1|               0.0|                       1|                      1|                       1|                      1|                        0.0|                       5|                      5|          0.0|               3.0|         1.0|\n",
            "+---+----+---------+-------+-----------+-------------+------+-----------+-----------------------+----------------+-----------------+----------------+-----------------+----------------+------------------+------------------------+-----------------------+------------------------+-----------------------+---------------------------+------------------------+-----------------------+-------------+------------------+------------+\n",
            "only showing top 5 rows\n",
            "\n"
          ]
        }
      ],
      "source": [
        "small_df.show(5)"
      ]
    },
    {
      "cell_type": "code",
      "execution_count": 62,
      "metadata": {
        "id": "z-dAHXGWYD48"
      },
      "outputs": [],
      "source": [
        "def model_input_pipeline(ds):\n",
        "  ds = encode_categorical(ds)\n",
        "\n",
        "  return ds"
      ]
    },
    {
      "cell_type": "code",
      "execution_count": 63,
      "metadata": {
        "id": "_5hAqnYQYqyV"
      },
      "outputs": [],
      "source": [
        "def data_pipeline(ds):\n",
        "  ds = feature_creation_pipeline(ds)\n",
        "  ds = model_input_pipeline(ds)\n",
        "  return ds\n",
        "\n",
        "hi_small_model_input = data_pipeline(hi_small_df)\n",
        "li_small_model_input = data_pipeline(li_small_df)\n",
        "# hi_large_model_input = data_pipeline(hi_large_df)\n",
        "# li_large_model_input = data_pipeline(li_large_df)"
      ]
    },
    {
      "cell_type": "code",
      "execution_count": 64,
      "metadata": {
        "id": "eqLoh-7UZYjf"
      },
      "outputs": [],
      "source": [
        "# hi_large_model_input.show(5)\n",
        "# li_large_model_input.show(5)"
      ]
    },
    {
      "cell_type": "markdown",
      "metadata": {
        "id": "ceE3IHdCOAAo"
      },
      "source": [
        "### Correlation Matrix"
      ]
    },
    {
      "cell_type": "code",
      "execution_count": 65,
      "metadata": {
        "id": "F0JHbcZNOORX"
      },
      "outputs": [],
      "source": [
        "from pyspark.ml.stat import Correlation\n",
        "from pyspark.ml.feature import VectorAssembler\n",
        "\n",
        "# convert to vector column first\n",
        "vector_col = \"corr_features\"\n",
        "assembler = VectorAssembler(inputCols=hi_small_model_input.columns, outputCol=vector_col)\n",
        "df_vector = assembler.transform(hi_small_model_input).select(vector_col)\n",
        "\n",
        "# get correlation matrix\n",
        "matrix = Correlation.corr(df_vector, vector_col)\n",
        "cor_np = matrix.collect()[0][matrix.columns[0]].toArray()"
      ]
    },
    {
      "cell_type": "code",
      "execution_count": 66,
      "metadata": {
        "colab": {
          "base_uri": "https://localhost:8080/",
          "height": 616
        },
        "id": "YlZ-nvmEN8cP",
        "outputId": "d256e4b3-4840-40e9-bf13-4f0e1ac5a9e5"
      },
      "outputs": [
        {
          "output_type": "display_data",
          "data": {
            "text/plain": [
              "<Figure size 1600x500 with 2 Axes>"
            ],
            "image/png": "[encoded data removed]"
          },
          "metadata": {}
        }
      ],
      "source": [
        "import seaborn as sns\n",
        "import matplotlib.pyplot as plt\n",
        "\n",
        "labels = hi_small_model_input.columns\n",
        "plt.figure(figsize=(16,5))\n",
        "sns.heatmap(cor_np, xticklabels=labels, yticklabels=labels);"
      ]
    },
    {
      "cell_type": "markdown",
      "metadata": {
        "id": "Tb2sybU5POQ_"
      },
      "source": [
        "# 1. Decision Tree"
      ]
    },
    {
      "cell_type": "markdown",
      "metadata": {
        "id": "F4obs6eWu1XY"
      },
      "source": [
        "## Iris Dataset\n",
        "\n",
        "Even though the objective of the project is to classify the transactions in the IBM Transactions for Anti Money Laundering dataset, a good approach into developing a machine learning algorithm from scratch it to start developing it in a well controlled environment. Therefore, this project will use the Iris dataset to guide the development of a decision tree. This decision allow us to evaluate the implementation of the model in a common dataset which we know that the decision tree should perfom well. Therefore serving as a baseline and sanity check of the model implementation.\n",
        "\n",
        "The Iris dataset is a traditional dataset used in the machine learning domain to evaluate models. It consists of 3 different types of irises' (Setosa, Versicolour, and Virginica) stored in a 150x4 numpy array. Every type of iris has exactly 50 samples, thus being a well balanced dataset. However, we will constuct a tree focused on binary classification and not multiclass classification, and to do such we remve on the types on the data. The data set data is shown bellow:\n",
        "\n",
        "<img src=\"https://upload.wikimedia.org/wikipedia/commons/5/56/Iris_dataset_scatterplot.svg\" alt=\"drawing\" width=\"500\"/>\n",
        "\n",
        "> *Image courtesy of [wikipedia](https://en.wikipedia.org/wiki/Iris_flower_data_set)*\n",
        "\n",
        "\n"
      ]
    },
    {
      "cell_type": "code",
      "execution_count": 67,
      "metadata": {
        "id": "ggLC_j4Otu8A"
      },
      "outputs": [],
      "source": [
        "iris = datasets.load_iris()\n"
      ]
    },
    {
      "cell_type": "code",
      "execution_count": 68,
      "metadata": {
        "colab": {
          "base_uri": "https://localhost:8080/"
        },
        "id": "8dW3E8kB1bmx",
        "outputId": "3402b2ab-f7b5-4a34-9b61-de49713318a2"
      },
      "outputs": [
        {
          "output_type": "stream",
          "name": "stdout",
          "text": [
            ".. _iris_dataset:\n",
            "\n",
            "Iris plants dataset\n",
            "--------------------\n",
            "\n",
            "**Data Set Characteristics:**\n",
            "\n",
            "    :Number of Instances: 150 (50 in each of three classes)\n",
            "    :Number of Attributes: 4 numeric, predictive attributes and the class\n",
            "    :Attribute Information:\n",
            "        - sepal length in cm\n",
            "        - sepal width in cm\n",
            "        - petal length in cm\n",
            "        - petal width in cm\n",
            "        - class:\n",
            "                - Iris-Setosa\n",
            "                - Iris-Versicolour\n",
            "                - Iris-Virginica\n",
            "                \n",
            "    :Summary Statistics:\n",
            "\n",
            "    ============== ==== ==== ======= ===== ====================\n",
            "                    Min  Max   Mean    SD   Class Correlation\n",
            "    ============== ==== ==== ======= ===== ====================\n",
            "    sepal length:   4.3  7.9   5.84   0.83    0.7826\n",
            "    sepal width:    2.0  4.4   3.05   0.43   -0.4194\n",
            "    petal length:   1.0  6.9   3.76   1.76    0.9490  (high!)\n",
            "    petal width:    0.1  2.5   1.20   0.76    0.9565  (high!)\n",
            "    ============== ==== ==== ======= ===== ====================\n",
            "\n",
            "    :Missing Attribute Values: None\n",
            "    :Class Distribution: 33.3% for each of 3 classes.\n",
            "    :Creator: R.A. Fisher\n",
            "    :Donor: Michael Marshall (MARSHALL%PLU@io.arc.nasa.gov)\n",
            "    :Date: July, 1988\n",
            "\n",
            "The famous Iris database, first used by Sir R.A. Fisher. The dataset is taken\n",
            "from Fisher's paper. Note that it's the same as in R, but not as in the UCI\n",
            "Machine Learning Repository, which has two wrong data points.\n",
            "\n",
            "This is perhaps the best known database to be found in the\n",
            "pattern recognition literature.  Fisher's paper is a classic in the field and\n",
            "is referenced frequently to this day.  (See Duda & Hart, for example.)  The\n",
            "data set contains 3 classes of 50 instances each, where each class refers to a\n",
            "type of iris plant.  One class is linearly separable from the other 2; the\n",
            "latter are NOT linearly separable from each other.\n",
            "\n",
            ".. topic:: References\n",
            "\n",
            "   - Fisher, R.A. \"The use of multiple measurements in taxonomic problems\"\n",
            "     Annual Eugenics, 7, Part II, 179-188 (1936); also in \"Contributions to\n",
            "     Mathematical Statistics\" (John Wiley, NY, 1950).\n",
            "   - Duda, R.O., & Hart, P.E. (1973) Pattern Classification and Scene Analysis.\n",
            "     (Q327.D83) John Wiley & Sons.  ISBN 0-471-22361-1.  See page 218.\n",
            "   - Dasarathy, B.V. (1980) \"Nosing Around the Neighborhood: A New System\n",
            "     Structure and Classification Rule for Recognition in Partially Exposed\n",
            "     Environments\".  IEEE Transactions on Pattern Analysis and Machine\n",
            "     Intelligence, Vol. PAMI-2, No. 1, 67-71.\n",
            "   - Gates, G.W. (1972) \"The Reduced Nearest Neighbor Rule\".  IEEE Transactions\n",
            "     on Information Theory, May 1972, 431-433.\n",
            "   - See also: 1988 MLC Proceedings, 54-64.  Cheeseman et al\"s AUTOCLASS II\n",
            "     conceptual clustering system finds 3 classes in the data.\n",
            "   - Many, many more ...\n"
          ]
        }
      ],
      "source": [
        "print(iris['DESCR'])"
      ]
    },
    {
      "cell_type": "code",
      "execution_count": 69,
      "metadata": {
        "colab": {
          "base_uri": "https://localhost:8080/",
          "height": 419
        },
        "id": "EJ6I8zs6uyMo",
        "outputId": "fab95792-ee3c-4b5c-e2c7-a185a5b68fb8"
      },
      "outputs": [
        {
          "output_type": "execute_result",
          "data": {
            "text/plain": [
              "     sepal length (cm)  sepal width (cm)  petal length (cm)  petal width (cm)  \\\n",
              "0                  5.1               3.5                1.4               0.2   \n",
              "1                  4.9               3.0                1.4               0.2   \n",
              "2                  4.7               3.2                1.3               0.2   \n",
              "3                  4.6               3.1                1.5               0.2   \n",
              "4                  5.0               3.6                1.4               0.2   \n",
              "..                 ...               ...                ...               ...   \n",
              "145                6.7               3.0                5.2               2.3   \n",
              "146                6.3               2.5                5.0               1.9   \n",
              "147                6.5               3.0                5.2               2.0   \n",
              "148                6.2               3.4                5.4               2.3   \n",
              "149                5.9               3.0                5.1               1.8   \n",
              "\n",
              "     target  \n",
              "0         0  \n",
              "1         0  \n",
              "2         0  \n",
              "3         0  \n",
              "4         0  \n",
              "..      ...  \n",
              "145       2  \n",
              "146       2  \n",
              "147       2  \n",
              "148       2  \n",
              "149       2  \n",
              "\n",
              "[150 rows x 5 columns]"
            ],
            "text/html": [
              "\n",
              "  <div id=\"df-d8eab3bd-259e-4168-ba82-8f6604106376\">\n",
              "    <div class=\"colab-df-container\">\n",
              "      <div>\n",
              "<style scoped>\n",
              "    .dataframe tbody tr th:only-of-type {\n",
              "        vertical-align: middle;\n",
              "    }\n",
              "\n",
              "    .dataframe tbody tr th {\n",
              "        vertical-align: top;\n",
              "    }\n",
              "\n",
              "    .dataframe thead th {\n",
              "        text-align: right;\n",
              "    }\n",
              "</style>\n",
              "<table border=\"1\" class=\"dataframe\">\n",
              "  <thead>\n",
              "    <tr style=\"text-align: right;\">\n",
              "      <th></th>\n",
              "      <th>sepal length (cm)</th>\n",
              "      <th>sepal width (cm)</th>\n",
              "      <th>petal length (cm)</th>\n",
              "      <th>petal width (cm)</th>\n",
              "      <th>target</th>\n",
              "    </tr>\n",
              "  </thead>\n",
              "  <tbody>\n",
              "    <tr>\n",
              "      <th>0</th>\n",
              "      <td>5.1</td>\n",
              "      <td>3.5</td>\n",
              "      <td>1.4</td>\n",
              "      <td>0.2</td>\n",
              "      <td>0</td>\n",
              "    </tr>\n",
              "    <tr>\n",
              "      <th>1</th>\n",
              "      <td>4.9</td>\n",
              "      <td>3.0</td>\n",
              "      <td>1.4</td>\n",
              "      <td>0.2</td>\n",
              "      <td>0</td>\n",
              "    </tr>\n",
              "    <tr>\n",
              "      <th>2</th>\n",
              "      <td>4.7</td>\n",
              "      <td>3.2</td>\n",
              "      <td>1.3</td>\n",
              "      <td>0.2</td>\n",
              "      <td>0</td>\n",
              "    </tr>\n",
              "    <tr>\n",
              "      <th>3</th>\n",
              "      <td>4.6</td>\n",
              "      <td>3.1</td>\n",
              "      <td>1.5</td>\n",
              "      <td>0.2</td>\n",
              "      <td>0</td>\n",
              "    </tr>\n",
              "    <tr>\n",
              "      <th>4</th>\n",
              "      <td>5.0</td>\n",
              "      <td>3.6</td>\n",
              "      <td>1.4</td>\n",
              "      <td>0.2</td>\n",
              "      <td>0</td>\n",
              "    </tr>\n",
              "    <tr>\n",
              "      <th>...</th>\n",
              "      <td>...</td>\n",
              "      <td>...</td>\n",
              "      <td>...</td>\n",
              "      <td>...</td>\n",
              "      <td>...</td>\n",
              "    </tr>\n",
              "    <tr>\n",
              "      <th>145</th>\n",
              "      <td>6.7</td>\n",
              "      <td>3.0</td>\n",
              "      <td>5.2</td>\n",
              "      <td>2.3</td>\n",
              "      <td>2</td>\n",
              "    </tr>\n",
              "    <tr>\n",
              "      <th>146</th>\n",
              "      <td>6.3</td>\n",
              "      <td>2.5</td>\n",
              "      <td>5.0</td>\n",
              "      <td>1.9</td>\n",
              "      <td>2</td>\n",
              "    </tr>\n",
              "    <tr>\n",
              "      <th>147</th>\n",
              "      <td>6.5</td>\n",
              "      <td>3.0</td>\n",
              "      <td>5.2</td>\n",
              "      <td>2.0</td>\n",
              "      <td>2</td>\n",
              "    </tr>\n",
              "    <tr>\n",
              "      <th>148</th>\n",
              "      <td>6.2</td>\n",
              "      <td>3.4</td>\n",
              "      <td>5.4</td>\n",
              "      <td>2.3</td>\n",
              "      <td>2</td>\n",
              "    </tr>\n",
              "    <tr>\n",
              "      <th>149</th>\n",
              "      <td>5.9</td>\n",
              "      <td>3.0</td>\n",
              "      <td>5.1</td>\n",
              "      <td>1.8</td>\n",
              "      <td>2</td>\n",
              "    </tr>\n",
              "  </tbody>\n",
              "</table>\n",
              "<p>150 rows × 5 columns</p>\n",
              "</div>\n",
              "      <button class=\"colab-df-convert\" onclick=\"convertToInteractive('df-d8eab3bd-259e-4168-ba82-8f6604106376')\"\n",
              "              title=\"Convert this dataframe to an interactive table.\"\n",
              "              style=\"display:none;\">\n",
              "        \n",
              "  <svg xmlns=\"http://www.w3.org/2000/svg\" height=\"24px\"viewBox=\"0 0 24 24\"\n",
              "       width=\"24px\">\n",
              "    <path d=\"M0 0h24v24H0V0z\" fill=\"none\"/>\n",
              "    <path d=\"M18.56 5.44l.94 2.06.94-2.06 2.06-.94-2.06-.94-.94-2.06-.94 2.06-2.06.94zm-11 1L8.5 8.5l.94-2.06 2.06-.94-2.06-.94L8.5 2.5l-.94 2.06-2.06.94zm10 10l.94 2.06.94-2.06 2.06-.94-2.06-.94-.94-2.06-.94 2.06-2.06.94z\"/><path d=\"M17.41 7.96l-1.37-1.37c-.4-.4-.92-.59-1.43-.59-.52 0-1.04.2-1.43.59L10.3 9.45l-7.72 7.72c-.78.78-.78 2.05 0 2.83L4 21.41c.39.39.9.59 1.41.59.51 0 1.02-.2 1.41-.59l7.78-7.78 2.81-2.81c.8-.78.8-2.07 0-2.86zM5.41 20L4 18.59l7.72-7.72 1.47 1.35L5.41 20z\"/>\n",
              "  </svg>\n",
              "      </button>\n",
              "      \n",
              "  <style>\n",
              "    .colab-df-container {\n",
              "      display:flex;\n",
              "      flex-wrap:wrap;\n",
              "      gap: 12px;\n",
              "    }\n",
              "\n",
              "    .colab-df-convert {\n",
              "      background-color: #E8F0FE;\n",
              "      border: none;\n",
              "      border-radius: 50%;\n",
              "      cursor: pointer;\n",
              "      display: none;\n",
              "      fill: #1967D2;\n",
              "      height: 32px;\n",
              "      padding: 0 0 0 0;\n",
              "      width: 32px;\n",
              "    }\n",
              "\n",
              "    .colab-df-convert:hover {\n",
              "      background-color: #E2EBFA;\n",
              "      box-shadow: 0px 1px 2px rgba(60, 64, 67, 0.3), 0px 1px 3px 1px rgba(60, 64, 67, 0.15);\n",
              "      fill: #174EA6;\n",
              "    }\n",
              "\n",
              "    [theme=dark] .colab-df-convert {\n",
              "      background-color: #3B4455;\n",
              "      fill: #D2E3FC;\n",
              "    }\n",
              "\n",
              "    [theme=dark] .colab-df-convert:hover {\n",
              "      background-color: #434B5C;\n",
              "      box-shadow: 0px 1px 3px 1px rgba(0, 0, 0, 0.15);\n",
              "      filter: drop-shadow(0px 1px 2px rgba(0, 0, 0, 0.3));\n",
              "      fill: #FFFFFF;\n",
              "    }\n",
              "  </style>\n",
              "\n",
              "      <script>\n",
              "        const buttonEl =\n",
              "          document.querySelector('#df-d8eab3bd-259e-4168-ba82-8f6604106376 button.colab-df-convert');\n",
              "        buttonEl.style.display =\n",
              "          google.colab.kernel.accessAllowed ? 'block' : 'none';\n",
              "\n",
              "        async function convertToInteractive(key) {\n",
              "          const element = document.querySelector('#df-d8eab3bd-259e-4168-ba82-8f6604106376');\n",
              "          const dataTable =\n",
              "            await google.colab.kernel.invokeFunction('convertToInteractive',\n",
              "                                                     [key], {});\n",
              "          if (!dataTable) return;\n",
              "\n",
              "          const docLinkHtml = 'Like what you see? Visit the ' +\n",
              "            '<a target=\"_blank\" href=https://colab.research.google.com/notebooks/data_table.ipynb>data table notebook</a>'\n",
              "            + ' to learn more about interactive tables.';\n",
              "          element.innerHTML = '';\n",
              "          dataTable['output_type'] = 'display_data';\n",
              "          await google.colab.output.renderOutput(dataTable, element);\n",
              "          const docLink = document.createElement('div');\n",
              "          docLink.innerHTML = docLinkHtml;\n",
              "          element.appendChild(docLink);\n",
              "        }\n",
              "      </script>\n",
              "    </div>\n",
              "  </div>\n",
              "  "
            ]
          },
          "metadata": {},
          "execution_count": 69
        }
      ],
      "source": [
        "iris_df = pd.DataFrame(data= np.c_[iris['data'], iris['target']],\n",
        "                     columns= iris['feature_names'] + ['target'])\n",
        "iris_df.target = iris_df.target.astype('int')\n",
        "iris_df"
      ]
    },
    {
      "cell_type": "markdown",
      "metadata": {
        "id": "M2oIJV80z9N1"
      },
      "source": [
        "We will split the dataset into two. The first dataset will have the setosa and the versicolor while the second will have the versicolor and virginica. From the data visualization image the former dataset will be linear separable in multiple thus being easier to classify, while the latter is not linear separable thus probabliy more difficult.\n",
        "\n",
        "- 0 = setosa\n",
        "- 1 = versicolor\n",
        "- 2 = virginica"
      ]
    },
    {
      "cell_type": "code",
      "execution_count": 70,
      "metadata": {
        "id": "CZk168Qo0tGg"
      },
      "outputs": [],
      "source": [
        "def split_test_val(data, label_col, val_rate = 0.3, seed=41):\n",
        "  data = data.sample(frac = 1, random_state=seed).reset_index(drop=True)\n",
        "  split_index = int(np.round(len(data)*(1-val_rate)))\n",
        "  data_train = data[:split_index]\n",
        "  data_val = data[split_index:]\n",
        "\n",
        "  train_X = data_train.drop(labels=label_col, axis=1)\n",
        "  train_y = data_train[label_col]\n",
        "\n",
        "  val_X = data_val.drop(labels=label_col, axis=1)\n",
        "  val_y = data_val[label_col]\n",
        "\n",
        "  return train_X, train_y, val_X, val_y\n",
        "\n",
        "iris_easy = iris_df.loc[(iris_df.target == 0 )| (iris_df.target == 1)]\n",
        "iris_hard = iris_df.loc[(iris_df.target == 1 )| (iris_df.target == 2)]"
      ]
    },
    {
      "cell_type": "markdown",
      "metadata": {
        "id": "PauYUQMy30rn"
      },
      "source": [
        "## The Tree Structure\n",
        "\n",
        "A tree predictor has the structure of an ordered and rooted tree where each node is either a leaf (if it has zero children) or an internal node (if it has at least two children).\n",
        "\n",
        "The predictior is usualy defined by a tree T whose internal nodes are tagged with tests and leaves are tagged with labels. A test in an internal node with a funtion over an atribute of the dataset with separate the data into multiple subsets. Since we are implementing a binary tree this function will only split into two subsets.\n",
        "\n",
        "Therefore, the primary structure of the tree is a node, which might be internal (having a attribute and a test) or a leaf (having a label). For simplicity we build a generic node which can be adapted for whichever case."
      ]
    },
    {
      "cell_type": "code",
      "execution_count": 71,
      "metadata": {
        "id": "6v9hdTsPs1-A"
      },
      "outputs": [],
      "source": [
        "class Node:\n",
        "\n",
        "    def __init__(self, label=None, attribute=None, split_test=None):\n",
        "        self.label = label\n",
        "        self.attribute = attribute\n",
        "        self.split_test = split_test\n",
        "        self.is_leaf = True\n",
        "        self.left_child = None\n",
        "        self.right_child = None"
      ]
    },
    {
      "cell_type": "markdown",
      "metadata": {
        "id": "o5lgECrS75UY"
      },
      "source": [
        "## Building a Binary Tree\n",
        "\n",
        "We focus on the case of binary trees (all internal nodes have exacly two children) for binary classification. The main idea of building the tree is growing it starting from a single node tree (which is a leaf) that corresponds to the classifier assigning to any data point the label that occurs most frequently in the traning set. The tree is grown by picking a leaf and replacing it with an internal node and two new leaves.\n",
        "\n",
        "However this description of a binary tree leaves some questions open. How do we select an attribute? How do we select the best threshold to split this attribute? How do we select a node to grow? When do we stop growing the tree? How do we calculate the training error?"
      ]
    },
    {
      "cell_type": "markdown",
      "metadata": {
        "id": "x10C6WFvmhGZ"
      },
      "source": [
        "### Calculating the Training Error\n",
        "\n",
        "One step of the tree building process is measuring the error of the constructed tree. Suppose we have grown a tree up to a certain point and built a classifier. We consider the training error as the sum of the contributions of all leaves in the tree.\n",
        "\n",
        "When a leaf does not contribute to the training error, we say that that leaf is pure. On the other hand leaves that does contribute are impure and thus we focus on measuring the impurity of the tree (the entropy). Additionally, the decision tree may also suffer from overfitting, that usually happens when the tree overgrows the cardinality of the training set. Therefore its important to choose the leaf expension guaranteeing the largest decrease in the training error. Thus making a well informed decision such that the error decreases the largest with the least ammount of growth.\n",
        "\n",
        "\n"
      ]
    },
    {
      "cell_type": "code",
      "execution_count": 72,
      "metadata": {
        "id": "GXsSz_sDmO2B"
      },
      "outputs": [],
      "source": [
        "def calculate_entropy(labels, func_type):\n",
        "  # Get counts of zero and ones as vector\n",
        "  _, counts = np.unique(labels, return_counts=True)\n",
        "  # Normalize\n",
        "  p_vec = counts / len(labels)\n",
        "\n",
        "  # Calculate proper entropy criterion\n",
        "  if func_type == 'shannon':\n",
        "    return -np.sum(p_vec * np.log2(p_vec))\n",
        "  elif func_type == 'scaled':\n",
        "    return -np.sum((p_vec/2) * np.log2(p_vec))\n",
        "  elif func_type == 'gini':\n",
        "    return 1 - np.sum(np.square(p_vec))\n",
        "\n",
        "def calculate_information_gain(data, labels, left_labels, right_labels, func_type):\n",
        "    total_entropy = calculate_entropy(labels, func_type)\n",
        "    left_entropy = calculate_entropy(left_labels, func_type)\n",
        "    right_entropy = calculate_entropy(right_labels, func_type)\n",
        "\n",
        "    left_weighted_entropy = (len(left_labels) / len(labels)) * left_entropy\n",
        "    right_weighted_entropy = (len(right_labels) / len(right_labels)) * right_entropy\n",
        "    information_gain = total_entropy - (left_weighted_entropy + right_weighted_entropy)\n",
        "    return information_gain\n"
      ]
    },
    {
      "cell_type": "markdown",
      "metadata": {
        "id": "OdcrC2zL-G6M"
      },
      "source": [
        "### Attribute and Threshold Selection"
      ]
    },
    {
      "cell_type": "code",
      "execution_count": 73,
      "metadata": {
        "id": "IIIfJtl4mEnw"
      },
      "outputs": [],
      "source": [
        "def select_attribute(data, labels, func_type):\n",
        "    best_feature = None\n",
        "    best_threshold = None\n",
        "    best_information_gain = -np.inf\n",
        "\n",
        "    for feature in data.columns:\n",
        "        # Get index of the column\n",
        "        col_idx = data.columns.get_loc(feature)\n",
        "        # Get possible values within this feature\n",
        "        feature_values = data.iloc[:, col_idx]\n",
        "        # Filter only the unique\n",
        "        unique_values = np.unique(feature_values)\n",
        "        # Get possible thresholds\n",
        "        thresholds = (unique_values[:-1] + unique_values[1:]) / 2.0\n",
        "\n",
        "        # Calculate info gain of each threshold\n",
        "        for threshold in thresholds:\n",
        "            # Get the possible labels for the left node\n",
        "            left_labels = labels[data.iloc[:, col_idx] <= threshold]\n",
        "\n",
        "            # Get the possible labels for the right node\n",
        "            right_labels = labels[data.iloc[:, col_idx] > threshold]\n",
        "             # labels[np.where(data.iloc[:, col_idx] > threshold)[0]]\n",
        "\n",
        "            # Calculate the information gain of the split\n",
        "            information_gain = calculate_information_gain(data, labels, left_labels, right_labels, func_type)\n",
        "\n",
        "            # Keep if best\n",
        "            if information_gain > best_information_gain:\n",
        "                best_feature = col_idx\n",
        "                best_threshold = threshold\n",
        "                best_information_gain = information_gain\n",
        "\n",
        "    return best_feature, best_threshold"
      ]
    },
    {
      "cell_type": "code",
      "execution_count": 74,
      "metadata": {
        "colab": {
          "base_uri": "https://localhost:8080/",
          "height": 500
        },
        "id": "r8GKnSoW9p4Y",
        "outputId": "72d167a7-96ac-4402-b53d-14ae1258ef3e"
      },
      "outputs": [
        {
          "output_type": "stream",
          "name": "stdout",
          "text": [
            "Best Feature: 3\n",
            "Best Threshold: 1.75\n"
          ]
        },
        {
          "output_type": "execute_result",
          "data": {
            "text/plain": [
              "<matplotlib.lines.Line2D at 0x7fa8bee7ff70>"
            ]
          },
          "metadata": {},
          "execution_count": 74
        },
        {
          "output_type": "display_data",
          "data": {
            "text/plain": [
              "<Figure size 640x480 with 1 Axes>"
            ],
            "image/png": "[encoded data removed]"
          },
          "metadata": {}
        }
      ],
      "source": [
        "data, labels, _, _ = split_test_val(iris_hard, 'target', val_rate = 0.3)\n",
        "best_feature, best_treshold = select_attribute(data, labels, 'shannon')\n",
        "\n",
        "print(f\"Best Feature: {best_feature}\")\n",
        "print(f\"Best Threshold: {best_treshold}\")\n",
        "\n",
        "data[\"target\"] = labels\n",
        "\n",
        "sns.swarmplot(data=data, x=data.columns[best_feature], hue=\"target\")\n",
        "plt.axvline(x=best_treshold, color='grey')"
      ]
    },
    {
      "cell_type": "markdown",
      "metadata": {
        "id": "3dF0p8z1-fOU"
      },
      "source": [
        "### Stopping Criterias"
      ]
    },
    {
      "cell_type": "code",
      "execution_count": 75,
      "metadata": {
        "id": "pO1YNTL0L10r"
      },
      "outputs": [],
      "source": [
        "def max_depth_stop(depth, max_depth):\n",
        "  return depth==max_depth\n",
        "\n",
        "def no_labels_to_split_stop(labels):\n",
        "  return len(np.unique(labels)) == 1\n",
        "\n",
        "def min_samples_split_stop(labels, min_samples_per_split):\n",
        "  return len(labels) < min_samples_per_split"
      ]
    },
    {
      "cell_type": "markdown",
      "metadata": {
        "id": "Ontg1Ydh-DmJ"
      },
      "source": [
        "### Building the Tree"
      ]
    },
    {
      "cell_type": "code",
      "execution_count": 76,
      "metadata": {
        "id": "79EoP4ZKke9h"
      },
      "outputs": [],
      "source": [
        "def build_decision_tree(data, labels, depth=0, max_depth=10, min_samples_per_split=2, func_type='shannon'):\n",
        "    # Initialize an empty root node\n",
        "    node = Node()\n",
        "\n",
        "    if max_depth_stop(depth, max_depth) or no_labels_to_split_stop(labels) or min_samples_split_stop(labels, min_samples_per_split):\n",
        "        node.label = np.bincount(labels).argmax()\n",
        "        return node\n",
        "\n",
        "    # Attribute selection\n",
        "    best_feature, best_threshold = select_attribute(data, labels, func_type)\n",
        "    node.attribute = best_feature\n",
        "    node.split_test = best_threshold\n",
        "    node.is_leaf = False\n",
        "\n",
        "\n",
        "    # Split the data to create Sl' and Sl'' based on the selected attribute and threshold\n",
        "    left_indices = data.iloc[:, best_feature] <= best_threshold\n",
        "    right_indices = data.iloc[:, best_feature] > best_threshold\n",
        "\n",
        "    left_data, left_labels = data.loc[left_indices], labels.loc[left_indices]\n",
        "    right_data, right_labels = data.loc[right_indices], labels.loc[right_indices]\n",
        "\n",
        "    # Recursively build the left and right subtrees\n",
        "    if len(left_data) > 0:\n",
        "        node.left_child = build_decision_tree(left_data, left_labels, depth = depth+1,\n",
        "                                              max_depth=max_depth, min_samples_per_split=min_samples_per_split, func_type=func_type)\n",
        "    if len(right_data) > 0:\n",
        "        node.right_child = build_decision_tree(right_data, right_labels, depth = depth+1,\n",
        "                                               max_depth=max_depth, min_samples_per_split=min_samples_per_split, func_type=func_type)\n",
        "\n",
        "    return node\n"
      ]
    },
    {
      "cell_type": "code",
      "execution_count": 77,
      "metadata": {
        "id": "4-ZfZj_um0-Z"
      },
      "outputs": [],
      "source": [
        "easy_train_X, easy_train_y, easy_test_X, easy_test_y = split_test_val(iris_easy, 'target', val_rate = 0.3)\n",
        "easy_tree = build_decision_tree(easy_train_X, easy_train_y, max_depth=1)\n",
        "\n",
        "hard_train_X, hard_train_y, hard_test_X, hard_test_y = split_test_val(iris_hard, 'target', val_rate = 0.3)\n",
        "hard_tree = build_decision_tree(hard_train_X, hard_train_y, max_depth=10)"
      ]
    },
    {
      "cell_type": "markdown",
      "metadata": {
        "id": "KTwYtKI0mhr7"
      },
      "source": [
        "#### Viewing Iris Trees"
      ]
    },
    {
      "cell_type": "code",
      "execution_count": 78,
      "metadata": {
        "id": "QBIRjiiJVWz8"
      },
      "outputs": [],
      "source": [
        "def print_decision_tree(node, columns, indent=\"\"):\n",
        "    if node.is_leaf:\n",
        "        print(indent + \"Label:\", node.label)\n",
        "        return\n",
        "\n",
        "    if not node.is_leaf:\n",
        "        print(indent + columns[node.attribute] + \" <= \" + str(node.split_test))\n",
        "\n",
        "    print(indent + \"Left:\")\n",
        "    print_decision_tree(node.left_child, columns, indent + \"  \")\n",
        "\n",
        "    print(indent + \"Right:\")\n",
        "    print_decision_tree(node.right_child, columns, indent + \"  \")"
      ]
    },
    {
      "cell_type": "code",
      "execution_count": 79,
      "metadata": {
        "colab": {
          "base_uri": "https://localhost:8080/"
        },
        "id": "-8gDI7Z3O3I0",
        "outputId": "2b430504-25aa-491b-bde2-e4db697333fb"
      },
      "outputs": [
        {
          "output_type": "stream",
          "name": "stdout",
          "text": [
            "petal length (cm) <= 2.5999999999999996\n",
            "Left:\n",
            "  Label: 0\n",
            "Right:\n",
            "  Label: 1\n"
          ]
        }
      ],
      "source": [
        "print_decision_tree(easy_tree, easy_train_X.columns)"
      ]
    },
    {
      "cell_type": "code",
      "execution_count": 80,
      "metadata": {
        "colab": {
          "base_uri": "https://localhost:8080/"
        },
        "id": "y8SIAykvnHyf",
        "outputId": "789d084f-78a5-489d-cc2e-618f3fd7dd89"
      },
      "outputs": [
        {
          "output_type": "stream",
          "name": "stdout",
          "text": [
            "petal width (cm) <= 1.75\n",
            "Left:\n",
            "  sepal length (cm) <= 7.1\n",
            "  Left:\n",
            "    sepal width (cm) <= 2.8499999999999996\n",
            "    Left:\n",
            "      sepal width (cm) <= 2.25\n",
            "      Left:\n",
            "        petal length (cm) <= 4.75\n",
            "        Left:\n",
            "          Label: 1\n",
            "        Right:\n",
            "          Label: 2\n",
            "      Right:\n",
            "        petal width (cm) <= 1.55\n",
            "        Left:\n",
            "          petal length (cm) <= 5.0\n",
            "          Left:\n",
            "            Label: 1\n",
            "          Right:\n",
            "            Label: 2\n",
            "        Right:\n",
            "          Label: 1\n",
            "    Right:\n",
            "      Label: 1\n",
            "  Right:\n",
            "    Label: 2\n",
            "Right:\n",
            "  petal length (cm) <= 4.85\n",
            "  Left:\n",
            "    sepal length (cm) <= 5.95\n",
            "    Left:\n",
            "      Label: 1\n",
            "    Right:\n",
            "      Label: 2\n",
            "  Right:\n",
            "    Label: 2\n"
          ]
        }
      ],
      "source": [
        "print_decision_tree(hard_tree, hard_train_X.columns)"
      ]
    },
    {
      "cell_type": "markdown",
      "metadata": {
        "id": "vOCDdpo6jEnt"
      },
      "source": [
        "## Predict & Error in Iris"
      ]
    },
    {
      "cell_type": "code",
      "execution_count": 81,
      "metadata": {
        "id": "rH0jlxhbjHtU"
      },
      "outputs": [],
      "source": [
        "def _predict_single(node, instance):\n",
        "    if node.label is not None:\n",
        "        return node.label\n",
        "\n",
        "    if instance[node.attribute] <= node.split_test:\n",
        "        return _predict_single(node.left_child, instance)\n",
        "    else:\n",
        "        return _predict_single(node.right_child, instance)\n",
        "\n",
        "def predict(root_node, data):\n",
        "  predictions = [_predict_single(root_node, instance[1]) for instance in data.iterrows()]\n",
        "  return predictions\n",
        "\n",
        "def calculate_error(predictions, labels):\n",
        "    wrong_predictions = np.sum(predictions != labels)\n",
        "    error = wrong_predictions / len(labels)\n",
        "    return error"
      ]
    },
    {
      "cell_type": "code",
      "execution_count": 82,
      "metadata": {
        "colab": {
          "base_uri": "https://localhost:8080/"
        },
        "id": "4SCdYs6KjNFG",
        "outputId": "3f728766-4305-47fb-9176-587bb2dd12f4"
      },
      "outputs": [
        {
          "output_type": "stream",
          "name": "stdout",
          "text": [
            "Linear Separable IRIS Set: Training Error 0.0; Test Error: 0.0\n",
            "Non Linear Separable IRIS Set: Training Error 0.0; Test Error: 0.03333333333333333\n"
          ]
        }
      ],
      "source": [
        "easy_train_preds = predict(easy_tree, easy_train_X)\n",
        "easy_test_preds = predict(easy_tree, easy_test_X)\n",
        "error_easy_train = calculate_error(easy_train_preds, easy_train_y)\n",
        "error_easy_test = calculate_error(easy_test_preds, easy_test_y)\n",
        "\n",
        "hard_train_preds = predict(hard_tree, hard_train_X)\n",
        "hard_test_preds = predict(hard_tree, hard_test_X)\n",
        "error_hard_train = calculate_error(hard_train_preds, hard_train_y)\n",
        "error_hard_test = calculate_error(hard_test_preds, hard_test_y)\n",
        "\n",
        "print(f\"Linear Separable IRIS Set: Training Error {error_easy_train}; Test Error: {error_easy_test}\")\n",
        "print(f\"Non Linear Separable IRIS Set: Training Error {error_hard_train}; Test Error: {error_hard_test}\")"
      ]
    },
    {
      "cell_type": "markdown",
      "metadata": {
        "id": "dRiy02nBpBYe"
      },
      "source": [
        "## The DecisionTree Class"
      ]
    },
    {
      "cell_type": "code",
      "execution_count": 83,
      "metadata": {
        "id": "3mjLfrfbY_sm"
      },
      "outputs": [],
      "source": [
        "def calculate_error(predictions, labels):\n",
        "    wrong_predictions = np.sum(predictions != labels)\n",
        "    error = wrong_predictions / len(labels)\n",
        "    return error\n",
        "\n",
        "def accuracy(predictions, labels):\n",
        "    correct_predictions = np.sum(predictions == labels)\n",
        "    return correct_predictions / len(labels)\n",
        "\n",
        "def precision(predictions, labels):\n",
        "    tp = np.sum((predictions == 1) & (labels == 1))\n",
        "    fp = np.sum((predictions == 1) & (labels == 0))\n",
        "    return (tp / (tp + fp))\n",
        "\n",
        "def recall(predictions, labels):\n",
        "    tp = np.sum((predictions == 1) & (labels == 1))\n",
        "    fn = np.sum((predictions == 0) & (labels == 1))\n",
        "    return tp / (tp + fn)\n",
        "\n",
        "def specificity(predictions, labels):\n",
        "    true_negatives = np.sum((predictions == 0) & (labels == 0))\n",
        "    false_positives = np.sum((predictions == 1) & (labels == 0))\n",
        "    return true_negatives / (true_negatives + false_positives)\n",
        "\n",
        "def f1_score(predictions, labels):\n",
        "    prec = precision(predictions, labels)\n",
        "    rec = recall(predictions, labels)\n",
        "    return  2 * (prec * rec) / (prec + rec)\n",
        "\n",
        "class Node:\n",
        "    def __init__(self, label=None, attribute=None, split_test=None):\n",
        "        self.label = label\n",
        "        self.attribute = attribute\n",
        "        self.split_test = split_test\n",
        "        self.is_leaf = True\n",
        "        self.left_child = None\n",
        "        self.right_child = None"
      ]
    },
    {
      "cell_type": "code",
      "execution_count": 84,
      "metadata": {
        "id": "DUqLZp2UpAV3"
      },
      "outputs": [],
      "source": [
        "class DecisionTree:\n",
        "  def __init__(self, verbose=1, max_depth=10, min_samples_per_split=2, func_type='shannon', threshold_method='all', threshold_buckets=10, class_weights=[]):\n",
        "    self.max_depth = max_depth\n",
        "    self.min_samples_per_split = min_samples_per_split\n",
        "    self.func_type = func_type\n",
        "    self.threshold_method = threshold_method\n",
        "    self.n_buckets = threshold_buckets\n",
        "    self.verbose = verbose\n",
        "    self.class_weights = class_weights\n",
        "    self.cols = None\n",
        "    self.root = None\n",
        "\n",
        "  def fit(self, data, label):\n",
        "    self.cols = data.columns\n",
        "    self.root = self._build_decision_tree(data, label)\n",
        "\n",
        "    if self.verbose==1:\n",
        "      preds = self.predict(data, label)\n",
        "\n",
        "    return self\n",
        "\n",
        "  def predict(self, data, labels=[]):\n",
        "    if not self.root:\n",
        "      raise NotImplementedError(\"Model not yet fitted.\")\n",
        "\n",
        "    predictions = [self._predict_single(self.root, instance[1]) for instance in data.iterrows()]\n",
        "\n",
        "    if len(labels):\n",
        "      self.calc_metrics(predictions, labels)\n",
        "\n",
        "    return predictions\n",
        "\n",
        "\n",
        "  def print_tree(self, node=None, indent=\"\"):\n",
        "      if not self.root:\n",
        "        raise NotImplementedError(\"Model not yet fitted.\")\n",
        "\n",
        "      if not node:\n",
        "        node = self.root\n",
        "\n",
        "      if node.is_leaf:\n",
        "          print(indent + \"Label:\", node.label)\n",
        "          return\n",
        "\n",
        "      if not node.is_leaf:\n",
        "          print(indent + self.cols[node.attribute] + \" <= \" + str(node.split_test))\n",
        "\n",
        "      print(indent + \"Left:\")\n",
        "      self.print_tree(node.left_child, indent + \"  \")\n",
        "\n",
        "      print(indent + \"Right:\")\n",
        "      self.print_tree(node.right_child, indent + \"  \")\n",
        "\n",
        "  def calc_metrics(self, preds, label):\n",
        "    preds = np.array(preds, dtype='int')\n",
        "    label = label.to_numpy()\n",
        "    print(f\"Model Error: {calculate_error(preds, label)}\")\n",
        "    print(f\"Model Accuracy: {accuracy(preds, label)}\")\n",
        "    print(f\"Model Precision: {precision(preds, label)}\")\n",
        "    print(f\"Model Recall: {recall(preds, label)}\")\n",
        "    print(f\"Model Specificity: {specificity(preds, label)}\")\n",
        "    print(f\"Model F1-Score: {f1_score(preds, label)}\")\n",
        "    return preds\n",
        "\n",
        "\n",
        "  def _calculate_entropy(self, labels):\n",
        "    # Get counts of zero and ones as vector\n",
        "    values, counts = np.unique(labels, return_counts=True)\n",
        "\n",
        "    # Normalize\n",
        "    p_vec = counts / len(labels)\n",
        "    if len(self.class_weights) and len(p_vec):\n",
        "      weights = self.class_weights\n",
        "      if len(values) == 1:\n",
        "        weights = self.class_weights[values[0]]\n",
        "      p_vec = p_vec*weights\n",
        "\n",
        "    # Calculate proper entropy criterion\n",
        "    if self.func_type == 'shannon':\n",
        "      return -np.sum(p_vec * np.log2(p_vec))\n",
        "    elif self.func_type == 'scaled':\n",
        "      return -np.sum((p_vec/2) * np.log2(p_vec))\n",
        "    elif self.func_type == 'gini':\n",
        "      return 1 - np.sum(np.square(p_vec))\n",
        "\n",
        "  def _calculate_information_gain(self, data, labels, left_labels, right_labels):\n",
        "    total_entropy = self._calculate_entropy(labels)\n",
        "    left_entropy = self._calculate_entropy(left_labels)\n",
        "    right_entropy = self._calculate_entropy(right_labels)\n",
        "\n",
        "    left_weighted_entropy = (len(left_labels) / len(labels)) * left_entropy\n",
        "    right_weighted_entropy = (len(right_labels) / len(labels)) * right_entropy\n",
        "    information_gain = total_entropy - (left_weighted_entropy + right_weighted_entropy)\n",
        "    return information_gain\n",
        "\n",
        "  def _select_attribute(self, data, labels):\n",
        "    best_feature = None\n",
        "    best_threshold = None\n",
        "    best_information_gain = -np.inf\n",
        "\n",
        "    for feature in data.columns:\n",
        "        # Get index of the column\n",
        "        col_idx = data.columns.get_loc(feature)\n",
        "        # Get possible values within this feature\n",
        "        feature_values = data.iloc[:, col_idx]\n",
        "        # Filter only the unique\n",
        "        thresholds = []\n",
        "        if self.threshold_method == 'all':\n",
        "          unique_values = np.unique(feature_values)\n",
        "          # Get possible thresholds\n",
        "          thresholds = (unique_values[:-1] + unique_values[1:]) / 2.0\n",
        "        elif self.threshold_method == 'bigdata':\n",
        "          thresholds = np.percentile(feature_values, np.linspace(0, 100, self.n_buckets))\n",
        "\n",
        "        # Calculate info gain of each threshold\n",
        "        for threshold in thresholds:\n",
        "            # Get the possible labels for the left node\n",
        "            left_labels = labels[data.iloc[:, col_idx] <= threshold]\n",
        "\n",
        "            # Get the possible labels for the right node\n",
        "            right_labels = labels[data.iloc[:, col_idx] > threshold]\n",
        "            # labels[np.where(data.iloc[:, col_idx] > threshold)[0]]\n",
        "\n",
        "            # Calculate the information gain of the split\n",
        "            information_gain = self._calculate_information_gain(data, labels, left_labels, right_labels)\n",
        "\n",
        "            # Keep if best\n",
        "            if information_gain > best_information_gain:\n",
        "                best_feature = col_idx\n",
        "                best_threshold = threshold\n",
        "                best_information_gain = information_gain\n",
        "\n",
        "    return best_feature, best_threshold\n",
        "\n",
        "  def _max_depth(self, depth):\n",
        "    return depth==self.max_depth\n",
        "\n",
        "  def _no_labels_to_split(self, labels):\n",
        "    return len(np.unique(labels)) == 1\n",
        "\n",
        "  def _min_samples_split(self, labels):\n",
        "    return len(labels) < self.min_samples_per_split\n",
        "\n",
        "  def _build_decision_tree(self, data, labels, depth=0):\n",
        "    # Initialize an empty root node\n",
        "    node = Node()\n",
        "\n",
        "    if self._max_depth(depth) or self._no_labels_to_split(labels) or self._min_samples_split(labels):\n",
        "        node.label = np.bincount(labels).argmax()\n",
        "        return node\n",
        "\n",
        "    # Attribute selection\n",
        "    best_feature, best_threshold = self._select_attribute(data, labels)\n",
        "    node.attribute = best_feature\n",
        "    node.split_test = best_threshold\n",
        "    node.is_leaf = False\n",
        "\n",
        "\n",
        "    # Split the data to create Sl' and Sl'' based on the selected attribute and threshold\n",
        "    left_indices = data.iloc[:, best_feature] <= best_threshold\n",
        "    right_indices = data.iloc[:, best_feature] > best_threshold\n",
        "\n",
        "    left_data, left_labels = data.loc[left_indices], labels.loc[left_indices]\n",
        "    right_data, right_labels = data.loc[right_indices], labels.loc[right_indices]\n",
        "\n",
        "    # Recursively build the left and right subtrees\n",
        "    if len(left_data) > 0:\n",
        "        node.left_child = self._build_decision_tree(left_data, left_labels, depth = depth+1)\n",
        "    if len(right_data) > 0:\n",
        "        node.right_child = self._build_decision_tree(right_data, right_labels, depth = depth+1)\n",
        "\n",
        "    return node\n",
        "\n",
        "  def _predict_single(self, node, instance):\n",
        "\n",
        "    if node.label is not None:\n",
        "        return node.label\n",
        "\n",
        "    if instance[node.attribute] <= node.split_test:\n",
        "        if node.left_child is None:\n",
        "          print(node.attribute)\n",
        "          print(node.split_test)\n",
        "        return self._predict_single(node.left_child, instance)\n",
        "    else:\n",
        "        if node.right_child is None:\n",
        "          print(node.attribute)\n",
        "          print(node.split_test)\n",
        "        return self._predict_single(node.right_child, instance)"
      ]
    },
    {
      "cell_type": "code",
      "execution_count": 85,
      "metadata": {
        "colab": {
          "base_uri": "https://localhost:8080/"
        },
        "id": "_YyQSujtvwpR",
        "outputId": "aa43c214-694a-4c21-99fd-20a8ee328d36"
      },
      "outputs": [
        {
          "output_type": "stream",
          "name": "stdout",
          "text": [
            "Model Error: 0.0\n",
            "Model Accuracy: 1.0\n",
            "Model Precision: 1.0\n",
            "Model Recall: 1.0\n",
            "Model Specificity: 1.0\n",
            "Model F1-Score: 1.0\n"
          ]
        }
      ],
      "source": [
        "hard_train_X, hard_train_y, hard_test_X, hard_test_y = split_test_val(iris_hard, 'target', val_rate = 0.3)\n",
        "hard_train_y[hard_train_y == 2] = 0\n",
        "hard_test_y[hard_test_y == 2] = 0\n",
        "\n",
        "clf = DecisionTree()\n",
        "clf = clf.fit(hard_train_X, hard_train_y)"
      ]
    },
    {
      "cell_type": "code",
      "execution_count": 86,
      "metadata": {
        "colab": {
          "base_uri": "https://localhost:8080/"
        },
        "id": "gpYuRdTxwod1",
        "outputId": "7e8a307a-03ea-43f1-e337-607c144ade32"
      },
      "outputs": [
        {
          "output_type": "stream",
          "name": "stdout",
          "text": [
            "petal length (cm) <= 4.75\n",
            "Left:\n",
            "  Label: 1\n",
            "Right:\n",
            "  petal width (cm) <= 1.75\n",
            "  Left:\n",
            "    petal length (cm) <= 4.95\n",
            "    Left:\n",
            "      Label: 1\n",
            "    Right:\n",
            "      petal width (cm) <= 1.55\n",
            "      Left:\n",
            "        Label: 0\n",
            "      Right:\n",
            "        sepal length (cm) <= 6.95\n",
            "        Left:\n",
            "          Label: 1\n",
            "        Right:\n",
            "          Label: 0\n",
            "  Right:\n",
            "    petal length (cm) <= 4.85\n",
            "    Left:\n",
            "      sepal length (cm) <= 5.95\n",
            "      Left:\n",
            "        Label: 1\n",
            "      Right:\n",
            "        Label: 0\n",
            "    Right:\n",
            "      Label: 0\n"
          ]
        }
      ],
      "source": [
        "clf.print_tree()"
      ]
    },
    {
      "cell_type": "code",
      "execution_count": 87,
      "metadata": {
        "colab": {
          "base_uri": "https://localhost:8080/"
        },
        "id": "1enFGlkOxtm5",
        "outputId": "2e3ea5dc-f9d3-4dac-b53a-256c2c876770"
      },
      "outputs": [
        {
          "output_type": "stream",
          "name": "stdout",
          "text": [
            "Model Error: 0.03333333333333333\n",
            "Model Accuracy: 0.9666666666666667\n",
            "Model Precision: 0.9166666666666666\n",
            "Model Recall: 1.0\n",
            "Model Specificity: 0.9473684210526315\n",
            "Model F1-Score: 0.9565217391304348\n"
          ]
        }
      ],
      "source": [
        "preds = clf.predict(hard_test_X, hard_test_y)"
      ]
    },
    {
      "cell_type": "markdown",
      "metadata": {
        "id": "huTMaC4c7_ry"
      },
      "source": [
        "## IBM Transaction Data DT"
      ]
    },
    {
      "cell_type": "markdown",
      "metadata": {
        "id": "iShXmK2AGkJ7"
      },
      "source": [
        "### Higher Illicit Dataset"
      ]
    },
    {
      "cell_type": "code",
      "execution_count": 88,
      "metadata": {
        "id": "0nf4hv5K7-bM"
      },
      "outputs": [],
      "source": [
        "hi_small_pandas = hi_small_model_input.sample(fraction=0.3, seed=42).toPandas()"
      ]
    },
    {
      "cell_type": "code",
      "execution_count": 89,
      "metadata": {
        "colab": {
          "base_uri": "https://localhost:8080/"
        },
        "id": "3U3fBrhx_PyP",
        "outputId": "76e37d8e-aa87-4173-e4e5-8d3c52138f23"
      },
      "outputs": [
        {
          "output_type": "stream",
          "name": "stdout",
          "text": [
            "<class 'pandas.core.frame.DataFrame'>\n",
            "RangeIndex: 1379990 entries, 0 to 1379989\n",
            "Data columns (total 25 columns):\n",
            " #   Column                       Non-Null Count    Dtype  \n",
            "---  ------                       --------------    -----  \n",
            " 0   Day                          1379990 non-null  int32  \n",
            " 1   Hour                         1379990 non-null  int32  \n",
            " 2   From Bank                    1379990 non-null  int32  \n",
            " 3   To Bank                      1379990 non-null  int32  \n",
            " 4   AmtReceived                  1379990 non-null  float32\n",
            " 5   Is Laundering                1379990 non-null  int32  \n",
            " 6   Minute                       1379990 non-null  int32  \n",
            " 7   SelfPayment                  1379990 non-null  int32  \n",
            " 8   SameCurrencyTransaction      1379990 non-null  int32  \n",
            " 9   AmtReceivedRatio             1379990 non-null  float64\n",
            " 10  AccTransAmtInHour            1379990 non-null  int64  \n",
            " 11  AccTransAmtInDay             1379990 non-null  int64  \n",
            " 12  AccTransNumByHour            1379990 non-null  int32  \n",
            " 13  AccTransNumByDay             1379990 non-null  int32  \n",
            " 14  MinsSinceLastTrans           1379990 non-null  float64\n",
            " 15  HourAccTransAmtToSameAcc     1379990 non-null  int64  \n",
            " 16  DayAccTransAmtToSameAcc      1379990 non-null  int64  \n",
            " 17  HourAccTransNumToSameAcc     1379990 non-null  int32  \n",
            " 18  DayAccTransNumToSameAcc      1379990 non-null  int32  \n",
            " 19  MinsSinceLastTransToSameAcc  1379990 non-null  float64\n",
            " 20  HourDestAccTransReceived     1379990 non-null  int64  \n",
            " 21  DayDestAccTransReceived      1379990 non-null  int64  \n",
            " 22  CodedCurrency                1379990 non-null  float64\n",
            " 23  CodedPaymentFormat           1379990 non-null  float64\n",
            " 24  CodedWeekday                 1379990 non-null  float64\n",
            "dtypes: float32(1), float64(6), int32(12), int64(6)\n",
            "memory usage: 194.8 MB\n"
          ]
        }
      ],
      "source": [
        "hi_small_pandas.info()"
      ]
    },
    {
      "cell_type": "code",
      "execution_count": 90,
      "metadata": {
        "colab": {
          "base_uri": "https://localhost:8080/"
        },
        "id": "iL4HSZ2q-i_u",
        "outputId": "69b0b360-2304-42f5-e05e-b170844f0286"
      },
      "outputs": [
        {
          "output_type": "stream",
          "name": "stdout",
          "text": [
            "0    1378455\n",
            "1       1535\n",
            "Name: Is Laundering, dtype: int64\n",
            "[1.0, 898.0162866449512]\n"
          ]
        }
      ],
      "source": [
        "label_counts = hi_small_pandas[\"Is Laundering\"].value_counts()\n",
        "hi_class_weights = [1.0, label_counts[0]/label_counts[1]]\n",
        "print(label_counts)\n",
        "print(hi_class_weights)"
      ]
    },
    {
      "cell_type": "code",
      "execution_count": 91,
      "metadata": {
        "id": "E96rlXjh_9kz"
      },
      "outputs": [],
      "source": [
        "hi_train_X, hi_train_y, hi_test_X, hi_test_y = split_test_val(hi_small_pandas, \"Is Laundering\", val_rate=0.2)"
      ]
    },
    {
      "cell_type": "code",
      "execution_count": 92,
      "metadata": {
        "colab": {
          "base_uri": "https://localhost:8080/"
        },
        "id": "xzDmCW6abqjX",
        "outputId": "03cb1b88-9d76-4475-8bd5-6cc9fbe58d51"
      },
      "outputs": [
        {
          "output_type": "stream",
          "name": "stdout",
          "text": [
            "Model Error: 0.0006068884557134472\n",
            "Model Accuracy: 0.9993931115442866\n",
            "Model Precision: 0.988929889298893\n",
            "Model Recall: 0.44666666666666666\n",
            "Model Specificity: 0.9999945592641223\n",
            "Model F1-Score: 0.6153846153846154\n"
          ]
        }
      ],
      "source": [
        "clf = DecisionTree(max_depth=10, threshold_method='bigdata', threshold_buckets=10, class_weights=hi_class_weights, min_samples_per_split=5)\n",
        "clf = clf.fit(hi_train_X, hi_train_y)"
      ]
    },
    {
      "cell_type": "code",
      "execution_count": 93,
      "metadata": {
        "colab": {
          "base_uri": "https://localhost:8080/"
        },
        "id": "fQYlO9vaY645",
        "outputId": "c9b6ee1c-0cc7-4d7c-a283-e2a91f2e7de2"
      },
      "outputs": [
        {
          "output_type": "stream",
          "name": "stdout",
          "text": [
            "Model Error: 0.0007753679374488221\n",
            "Model Accuracy: 0.9992246320625512\n",
            "Model Precision: 0.9290780141843972\n",
            "Model Recall: 0.39104477611940297\n",
            "Model Specificity: 0.9999637238222032\n",
            "Model F1-Score: 0.5504201680672268\n"
          ]
        }
      ],
      "source": [
        "preds = clf.predict(hi_test_X, hi_test_y)"
      ]
    },
    {
      "cell_type": "code",
      "execution_count": 94,
      "metadata": {
        "colab": {
          "base_uri": "https://localhost:8080/",
          "height": 449
        },
        "id": "U4ECuV4MGQHO",
        "outputId": "f36bea22-3005-4cad-f72a-eb67054b0c7f"
      },
      "outputs": [
        {
          "output_type": "display_data",
          "data": {
            "text/plain": [
              "<Figure size 640x480 with 2 Axes>"
            ],
            "image/png": "[encoded data removed]"
          },
          "metadata": {}
        }
      ],
      "source": [
        "cm = confusion_matrix(hi_test_y, preds, labels=[0, 1])\n",
        "disp = ConfusionMatrixDisplay(confusion_matrix=cm,\n",
        "                              display_labels=[0, 1])\n",
        "disp.plot();"
      ]
    },
    {
      "cell_type": "code",
      "execution_count": 95,
      "metadata": {
        "id": "j259RZGNQOIP"
      },
      "outputs": [],
      "source": [
        "# Get back the memory\n",
        "del hi_train_X, hi_train_y, hi_test_X, hi_test_y, hi_small_pandas"
      ]
    },
    {
      "cell_type": "markdown",
      "metadata": {
        "id": "LSHrUb99G1MB"
      },
      "source": [
        "### Lower Illicit Dataset"
      ]
    },
    {
      "cell_type": "code",
      "execution_count": 96,
      "metadata": {
        "colab": {
          "base_uri": "https://localhost:8080/"
        },
        "id": "GG1u-zDNG0Cs",
        "outputId": "badd60f0-3c68-4bb2-8080-20fd47d557bd"
      },
      "outputs": [
        {
          "output_type": "stream",
          "name": "stdout",
          "text": [
            "<class 'pandas.core.frame.DataFrame'>\n",
            "RangeIndex: 1883172 entries, 0 to 1883171\n",
            "Data columns (total 25 columns):\n",
            " #   Column                       Dtype  \n",
            "---  ------                       -----  \n",
            " 0   Day                          int32  \n",
            " 1   Hour                         int32  \n",
            " 2   From Bank                    int32  \n",
            " 3   To Bank                      int32  \n",
            " 4   AmtReceived                  float32\n",
            " 5   Is Laundering                int32  \n",
            " 6   Minute                       int32  \n",
            " 7   SelfPayment                  int32  \n",
            " 8   SameCurrencyTransaction      int32  \n",
            " 9   AmtReceivedRatio             float64\n",
            " 10  AccTransAmtInHour            int64  \n",
            " 11  AccTransAmtInDay             int64  \n",
            " 12  AccTransNumByHour            int32  \n",
            " 13  AccTransNumByDay             int32  \n",
            " 14  MinsSinceLastTrans           float64\n",
            " 15  HourAccTransAmtToSameAcc     int64  \n",
            " 16  DayAccTransAmtToSameAcc      int64  \n",
            " 17  HourAccTransNumToSameAcc     int32  \n",
            " 18  DayAccTransNumToSameAcc      int32  \n",
            " 19  MinsSinceLastTransToSameAcc  float64\n",
            " 20  HourDestAccTransReceived     int64  \n",
            " 21  DayDestAccTransReceived      int64  \n",
            " 22  CodedCurrency                float64\n",
            " 23  CodedPaymentFormat           float64\n",
            " 24  CodedWeekday                 float64\n",
            "dtypes: float32(1), float64(6), int32(12), int64(6)\n",
            "memory usage: 265.8 MB\n"
          ]
        }
      ],
      "source": [
        "li_small_pandas = li_small_model_input.sample(fraction=0.3, seed=42).toPandas()\n",
        "li_small_pandas.info()"
      ]
    },
    {
      "cell_type": "code",
      "execution_count": 97,
      "metadata": {
        "colab": {
          "base_uri": "https://localhost:8080/"
        },
        "id": "tEvEyP6WIflK",
        "outputId": "8b85631d-1a8a-4498-9a7e-9683eb15f3ef"
      },
      "outputs": [
        {
          "output_type": "stream",
          "name": "stdout",
          "text": [
            "0    1882103\n",
            "1       1069\n",
            "Name: Is Laundering, dtype: int64\n",
            "[1.0, 1760.620205799813]\n"
          ]
        }
      ],
      "source": [
        "label_counts = li_small_pandas[\"Is Laundering\"].value_counts()\n",
        "li_class_weights = [1.0, label_counts[0]/label_counts[1]]\n",
        "print(label_counts)\n",
        "print(li_class_weights)"
      ]
    },
    {
      "cell_type": "code",
      "execution_count": 98,
      "metadata": {
        "colab": {
          "base_uri": "https://localhost:8080/"
        },
        "id": "Ln5BLEN6Ir2i",
        "outputId": "78994f3c-8d2f-4f2c-8384-3f258b25636c"
      },
      "outputs": [
        {
          "output_type": "stream",
          "name": "stdout",
          "text": [
            "Model Error: 0.0004726067314598105\n",
            "Model Accuracy: 0.9995273932685402\n",
            "Model Precision: 0.975609756097561\n",
            "Model Recall: 0.18433179723502305\n",
            "Model Specificity: 0.9999973433753744\n",
            "Model F1-Score: 0.31007751937984496\n"
          ]
        }
      ],
      "source": [
        "# Split the dataset\n",
        "li_train_X, li_train_y, li_test_X, li_test_y = split_test_val(li_small_pandas, \"Is Laundering\", val_rate=0.2)\n",
        "\n",
        "# Train Model\n",
        "clf = DecisionTree(max_depth=10, threshold_method='bigdata', threshold_buckets=10, class_weights=li_class_weights)\n",
        "clf = clf.fit(li_train_X, li_train_y)"
      ]
    },
    {
      "cell_type": "code",
      "execution_count": 99,
      "metadata": {
        "colab": {
          "base_uri": "https://localhost:8080/"
        },
        "id": "jdMWTmLSI4LZ",
        "outputId": "bb8204d2-ea53-40b8-c052-63423473f317"
      },
      "outputs": [
        {
          "output_type": "stream",
          "name": "stdout",
          "text": [
            "Model Error: 0.0004434012861292395\n",
            "Model Accuracy: 0.9995565987138708\n",
            "Model Precision: 0.8863636363636364\n",
            "Model Recall: 0.19402985074626866\n",
            "Model Specificity: 0.9999867174238178\n",
            "Model F1-Score: 0.3183673469387755\n"
          ]
        }
      ],
      "source": [
        "preds = clf.predict(li_test_X, li_test_y)"
      ]
    },
    {
      "cell_type": "code",
      "execution_count": 100,
      "metadata": {
        "colab": {
          "base_uri": "https://localhost:8080/",
          "height": 449
        },
        "id": "POzXwJXDK8Kr",
        "outputId": "1139a510-e363-4816-9e08-54087b17666a"
      },
      "outputs": [
        {
          "output_type": "display_data",
          "data": {
            "text/plain": [
              "<Figure size 640x480 with 2 Axes>"
            ],
            "image/png": "[encoded data removed]"
          },
          "metadata": {}
        }
      ],
      "source": [
        "cm = confusion_matrix(li_test_y, preds, labels=[0, 1])\n",
        "disp = ConfusionMatrixDisplay(confusion_matrix=cm,\n",
        "                              display_labels=[0, 1])\n",
        "disp.plot();"
      ]
    },
    {
      "cell_type": "markdown",
      "metadata": {
        "id": "2QUtVFgDPVio"
      },
      "source": [
        "# 2. Distributed Workers"
      ]
    },
    {
      "cell_type": "markdown",
      "metadata": {
        "id": "rF8G4-LkDmea"
      },
      "source": [
        "## Dataset Preparation"
      ]
    },
    {
      "cell_type": "code",
      "execution_count": 100,
      "metadata": {
        "id": "3psnJQSMDjc3"
      },
      "outputs": [],
      "source": []
    },
    {
      "cell_type": "markdown",
      "metadata": {
        "id": "_s1H2pr7DXRW"
      },
      "source": [
        "### Rows Subsampling"
      ]
    },
    {
      "cell_type": "code",
      "execution_count": 100,
      "metadata": {
        "id": "7FpEYE6XDxNT"
      },
      "outputs": [],
      "source": []
    },
    {
      "cell_type": "markdown",
      "metadata": {
        "id": "mumz3KeyDtqM"
      },
      "source": [
        "### Features Subsampling"
      ]
    },
    {
      "cell_type": "code",
      "execution_count": null,
      "metadata": {
        "id": "OTRN93R1Dw9H"
      },
      "outputs": [],
      "source": []
    }
  ],
  "metadata": {
    "colab": {
      "provenance": [],
      "authorship_tag": "ABX9TyN0ChurKfPxdfaE1O8TL/33",
      "include_colab_link": true
    },
    "kernelspec": {
      "display_name": "Python 3",
      "name": "python3"
    },
    "language_info": {
      "name": "python"
    }
  },
  "nbformat": 4,
  "nbformat_minor": 0
}