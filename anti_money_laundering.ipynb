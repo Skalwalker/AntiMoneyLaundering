{
  "cells": [
    {
      "cell_type": "markdown",
      "metadata": {
        "id": "view-in-github",
        "colab_type": "text"
      },
      "source": [
        "<a href=\"https://colab.research.google.com/github/Skalwalker/AntiMoneyLaundering/blob/main/anti_money_laundering.ipynb\" target=\"_parent\"><img src=\"https://colab.research.google.com/assets/colab-badge.svg\" alt=\"Open In Colab\"/></a>"
      ]
    },
    {
      "cell_type": "markdown",
      "metadata": {
        "id": "ubxiWav99sa1"
      },
      "source": [
        "# IBM Transactions for Anti Money Laundering\n",
        "\n",
        "The project is based on the analysis of the «IBM Transactions for Anti Money Laundering» dataset published on [Kaggle](https://www.kaggle.com/datasets/ealtman2019/ibm-transactions-for-anti-money-laundering-aml) and released under the Community Data License Agreement – Sharing – Version 1.0. This dataset contains several CSV files, each having a different combination of data size and amount of illicit transactions.\n",
        "\n",
        "## About\n",
        "\n",
        "This project is a partial requisite for completing the courses of \"Algorithms for massive datasets\" and \"Statistical methods for ML\" on the masters degree computer science program from Università degli Studi di Milano.\n",
        "\n",
        "- **Author:** Renato Avellar Nobre\n",
        "- **Matriculation Number:** 984405\n",
        "- **Exam Project Year:** 22/23\n",
        "\n",
        "### Disclaimer\n",
        "\n",
        "\"I declare that this material, which I now submit for assessment, is entirely my own work and has not been taken from the work of others, save and to the extent that such work has been cited and acknowledged within the text of my work. I understand that plagiarism, collusion, and copying are grave and serious offences in the university and accept the penalties that would be imposed should I engage in plagiarism, collusion or copying. This assignment, or any part of it, has not been previously submitted by me or any other person for assessment on this or any other course of study.\"\n"
      ]
    },
    {
      "cell_type": "markdown",
      "metadata": {
        "id": "CL6OQSo_Ai65"
      },
      "source": [
        "# Overview\n",
        "\n",
        "The task is to implement a system which predicts whether or not a transaction is illicit, using the attribute \"Is Laundering\" as a label to be predicted. Classification should be done exploiting a random forest, organizing the project as follows.\n",
        "\n",
        "1. A sequential implementation (from scratch) of the learning algorithm for a decision tree should be provided, and tested using one or more subsets of the dataset which can be loaded in main memory.\n",
        "\n",
        "2. A mock-up code that uses spark in order to consider a dataset and processes it in order to distribute the creation of the single trees in a random forest should be proposed. In particular, the construction of each tree should be done by providing different data to each worker, both subsampling the number of rows (i.e., labeled objects) and columns (i.e., attributes) in the overall dataset. Concerning the first kind of subsampling, you might possibly consider introducing the so-called bootstrap sampling, in which the labeled objects are sampled with replacement and therefore a same object can occur more than once in the resulting dataset. It is not required to distribute the creation of a single decision tree: for this task you are free to use the implementation provided in point 1, as well as the implementation already available in scikit-learn.\n",
        "\n",
        "\n"
      ]
    },
    {
      "cell_type": "markdown",
      "metadata": {
        "id": "TvV088qACMaw"
      },
      "source": [
        "## Before we start...\n",
        "\n",
        "Please upload the JSON file of your Kaggle API by executing the code below. Kaggle API JSON files can be generated on your [Kaggle user profile setting](https://www.kaggle.com/settings)"
      ]
    },
    {
      "cell_type": "code",
      "execution_count": 1,
      "metadata": {
        "colab": {
          "base_uri": "https://localhost:8080/",
          "height": 86
        },
        "id": "5aA2qb0ICLtZ",
        "outputId": "a525e145-ac97-4f31-b767-db2a8a9d1aed"
      },
      "outputs": [
        {
          "output_type": "display_data",
          "data": {
            "text/plain": [
              "<IPython.core.display.HTML object>"
            ],
            "text/html": [
              "\n",
              "     <input type=\"file\" id=\"files-412d01c0-27d4-4036-a4c7-7ea2a909d663\" name=\"files[]\" multiple disabled\n",
              "        style=\"border:none\" />\n",
              "     <output id=\"result-412d01c0-27d4-4036-a4c7-7ea2a909d663\">\n",
              "      Upload widget is only available when the cell has been executed in the\n",
              "      current browser session. Please rerun this cell to enable.\n",
              "      </output>\n",
              "      <script>// Copyright 2017 Google LLC\n",
              "//\n",
              "// Licensed under the Apache License, Version 2.0 (the \"License\");\n",
              "// you may not use this file except in compliance with the License.\n",
              "// You may obtain a copy of the License at\n",
              "//\n",
              "//      http://www.apache.org/licenses/LICENSE-2.0\n",
              "//\n",
              "// Unless required by applicable law or agreed to in writing, software\n",
              "// distributed under the License is distributed on an \"AS IS\" BASIS,\n",
              "// WITHOUT WARRANTIES OR CONDITIONS OF ANY KIND, either express or implied.\n",
              "// See the License for the specific language governing permissions and\n",
              "// limitations under the License.\n",
              "\n",
              "/**\n",
              " * @fileoverview Helpers for google.colab Python module.\n",
              " */\n",
              "(function(scope) {\n",
              "function span(text, styleAttributes = {}) {\n",
              "  const element = document.createElement('span');\n",
              "  element.textContent = text;\n",
              "  for (const key of Object.keys(styleAttributes)) {\n",
              "    element.style[key] = styleAttributes[key];\n",
              "  }\n",
              "  return element;\n",
              "}\n",
              "\n",
              "// Max number of bytes which will be uploaded at a time.\n",
              "const MAX_PAYLOAD_SIZE = 100 * 1024;\n",
              "\n",
              "function _uploadFiles(inputId, outputId) {\n",
              "  const steps = uploadFilesStep(inputId, outputId);\n",
              "  const outputElement = document.getElementById(outputId);\n",
              "  // Cache steps on the outputElement to make it available for the next call\n",
              "  // to uploadFilesContinue from Python.\n",
              "  outputElement.steps = steps;\n",
              "\n",
              "  return _uploadFilesContinue(outputId);\n",
              "}\n",
              "\n",
              "// This is roughly an async generator (not supported in the browser yet),\n",
              "// where there are multiple asynchronous steps and the Python side is going\n",
              "// to poll for completion of each step.\n",
              "// This uses a Promise to block the python side on completion of each step,\n",
              "// then passes the result of the previous step as the input to the next step.\n",
              "function _uploadFilesContinue(outputId) {\n",
              "  const outputElement = document.getElementById(outputId);\n",
              "  const steps = outputElement.steps;\n",
              "\n",
              "  const next = steps.next(outputElement.lastPromiseValue);\n",
              "  return Promise.resolve(next.value.promise).then((value) => {\n",
              "    // Cache the last promise value to make it available to the next\n",
              "    // step of the generator.\n",
              "    outputElement.lastPromiseValue = value;\n",
              "    return next.value.response;\n",
              "  });\n",
              "}\n",
              "\n",
              "/**\n",
              " * Generator function which is called between each async step of the upload\n",
              " * process.\n",
              " * @param {string} inputId Element ID of the input file picker element.\n",
              " * @param {string} outputId Element ID of the output display.\n",
              " * @return {!Iterable<!Object>} Iterable of next steps.\n",
              " */\n",
              "function* uploadFilesStep(inputId, outputId) {\n",
              "  const inputElement = document.getElementById(inputId);\n",
              "  inputElement.disabled = false;\n",
              "\n",
              "  const outputElement = document.getElementById(outputId);\n",
              "  outputElement.innerHTML = '';\n",
              "\n",
              "  const pickedPromise = new Promise((resolve) => {\n",
              "    inputElement.addEventListener('change', (e) => {\n",
              "      resolve(e.target.files);\n",
              "    });\n",
              "  });\n",
              "\n",
              "  const cancel = document.createElement('button');\n",
              "  inputElement.parentElement.appendChild(cancel);\n",
              "  cancel.textContent = 'Cancel upload';\n",
              "  const cancelPromise = new Promise((resolve) => {\n",
              "    cancel.onclick = () => {\n",
              "      resolve(null);\n",
              "    };\n",
              "  });\n",
              "\n",
              "  // Wait for the user to pick the files.\n",
              "  const files = yield {\n",
              "    promise: Promise.race([pickedPromise, cancelPromise]),\n",
              "    response: {\n",
              "      action: 'starting',\n",
              "    }\n",
              "  };\n",
              "\n",
              "  cancel.remove();\n",
              "\n",
              "  // Disable the input element since further picks are not allowed.\n",
              "  inputElement.disabled = true;\n",
              "\n",
              "  if (!files) {\n",
              "    return {\n",
              "      response: {\n",
              "        action: 'complete',\n",
              "      }\n",
              "    };\n",
              "  }\n",
              "\n",
              "  for (const file of files) {\n",
              "    const li = document.createElement('li');\n",
              "    li.append(span(file.name, {fontWeight: 'bold'}));\n",
              "    li.append(span(\n",
              "        `(${file.type || 'n/a'}) - ${file.size} bytes, ` +\n",
              "        `last modified: ${\n",
              "            file.lastModifiedDate ? file.lastModifiedDate.toLocaleDateString() :\n",
              "                                    'n/a'} - `));\n",
              "    const percent = span('0% done');\n",
              "    li.appendChild(percent);\n",
              "\n",
              "    outputElement.appendChild(li);\n",
              "\n",
              "    const fileDataPromise = new Promise((resolve) => {\n",
              "      const reader = new FileReader();\n",
              "      reader.onload = (e) => {\n",
              "        resolve(e.target.result);\n",
              "      };\n",
              "      reader.readAsArrayBuffer(file);\n",
              "    });\n",
              "    // Wait for the data to be ready.\n",
              "    let fileData = yield {\n",
              "      promise: fileDataPromise,\n",
              "      response: {\n",
              "        action: 'continue',\n",
              "      }\n",
              "    };\n",
              "\n",
              "    // Use a chunked sending to avoid message size limits. See b/62115660.\n",
              "    let position = 0;\n",
              "    do {\n",
              "      const length = Math.min(fileData.byteLength - position, MAX_PAYLOAD_SIZE);\n",
              "      const chunk = new Uint8Array(fileData, position, length);\n",
              "      position += length;\n",
              "\n",
              "      const base64 = btoa(String.fromCharCode.apply(null, chunk));\n",
              "      yield {\n",
              "        response: {\n",
              "          action: 'append',\n",
              "          file: file.name,\n",
              "          data: base64,\n",
              "        },\n",
              "      };\n",
              "\n",
              "      let percentDone = fileData.byteLength === 0 ?\n",
              "          100 :\n",
              "          Math.round((position / fileData.byteLength) * 100);\n",
              "      percent.textContent = `${percentDone}% done`;\n",
              "\n",
              "    } while (position < fileData.byteLength);\n",
              "  }\n",
              "\n",
              "  // All done.\n",
              "  yield {\n",
              "    response: {\n",
              "      action: 'complete',\n",
              "    }\n",
              "  };\n",
              "}\n",
              "\n",
              "scope.google = scope.google || {};\n",
              "scope.google.colab = scope.google.colab || {};\n",
              "scope.google.colab._files = {\n",
              "  _uploadFiles,\n",
              "  _uploadFilesContinue,\n",
              "};\n",
              "})(self);\n",
              "</script> "
            ]
          },
          "metadata": {}
        },
        {
          "output_type": "stream",
          "name": "stdout",
          "text": [
            "Saving kaggle.json to kaggle.json\n",
            "User uploaded file \"kaggle.json\" with length 66 bytes\n"
          ]
        }
      ],
      "source": [
        "from google.colab import files\n",
        "\n",
        "uploaded = files.upload()\n",
        "\n",
        "for fn in uploaded.keys():\n",
        "  print('User uploaded file \"{name}\" with length {length} bytes'.format(\n",
        "      name=fn, length=len(uploaded[fn])))\n",
        "\n",
        "# Move kaggle.json into the folder where the API expects to find it.\n",
        "!mkdir -p ~/.kaggle/ && mv kaggle.json ~/.kaggle/ && chmod 600 ~/.kaggle/kaggle.json"
      ]
    },
    {
      "cell_type": "markdown",
      "metadata": {
        "id": "oxVAJKcSJPOx"
      },
      "source": [
        "Also, choose whether to run or skip the Exploratory Data Analysis Process and Feature Vizualisation.\n",
        "\n",
        "\n",
        "*   **Processing** may take a while\n",
        "*   **Skipping** will remove previous outputs\n",
        "\n"
      ]
    },
    {
      "cell_type": "code",
      "execution_count": 2,
      "metadata": {
        "id": "gE0MXsFjJKOa"
      },
      "outputs": [],
      "source": [
        "skip_eda = False\n",
        "skip_feature_viz = False"
      ]
    },
    {
      "cell_type": "markdown",
      "metadata": {
        "id": "dGnDQYvLB3rF"
      },
      "source": [
        "# Setup"
      ]
    },
    {
      "cell_type": "code",
      "execution_count": 3,
      "metadata": {
        "colab": {
          "base_uri": "https://localhost:8080/"
        },
        "id": "1YrUoObNGILG",
        "outputId": "f61f543d-4e88-4e79-8e1e-b29a3e77611f"
      },
      "outputs": [
        {
          "output_type": "stream",
          "name": "stdout",
          "text": [
            "Directories created successfully\n"
          ]
        }
      ],
      "source": [
        "import os\n",
        "\n",
        "data_folders = [\"01_raw\"]\n",
        "\n",
        "try:\n",
        "    os.makedirs(\"data\", exist_ok = True)\n",
        "    [os.makedirs(\"data/\" + folder_name, exist_ok = True) for folder_name in data_folders]\n",
        "    print(\"Directories created successfully\")\n",
        "except OSError as error:\n",
        "    print(f\"Directories can not be created: {error}\")\n"
      ]
    },
    {
      "cell_type": "markdown",
      "metadata": {
        "id": "Bp_-mZuN5z2o"
      },
      "source": [
        "## Fetching Files from Kaggle"
      ]
    },
    {
      "cell_type": "code",
      "execution_count": 4,
      "metadata": {
        "colab": {
          "base_uri": "https://localhost:8080/"
        },
        "id": "3Z-WsFbK9BMU",
        "outputId": "9920086e-c1a6-468e-fadd-4aafc1275238"
      },
      "outputs": [
        {
          "output_type": "stream",
          "name": "stdout",
          "text": [
            "Requirement already satisfied: kaggle in /usr/local/lib/python3.10/dist-packages (1.5.13)\n",
            "Requirement already satisfied: six>=1.10 in /usr/local/lib/python3.10/dist-packages (from kaggle) (1.16.0)\n",
            "Requirement already satisfied: certifi in /usr/local/lib/python3.10/dist-packages (from kaggle) (2023.5.7)\n",
            "Requirement already satisfied: python-dateutil in /usr/local/lib/python3.10/dist-packages (from kaggle) (2.8.2)\n",
            "Requirement already satisfied: requests in /usr/local/lib/python3.10/dist-packages (from kaggle) (2.27.1)\n",
            "Requirement already satisfied: tqdm in /usr/local/lib/python3.10/dist-packages (from kaggle) (4.65.0)\n",
            "Requirement already satisfied: python-slugify in /usr/local/lib/python3.10/dist-packages (from kaggle) (8.0.1)\n",
            "Requirement already satisfied: urllib3 in /usr/local/lib/python3.10/dist-packages (from kaggle) (1.26.16)\n",
            "Requirement already satisfied: text-unidecode>=1.3 in /usr/local/lib/python3.10/dist-packages (from python-slugify->kaggle) (1.3)\n",
            "Requirement already satisfied: charset-normalizer~=2.0.0 in /usr/local/lib/python3.10/dist-packages (from requests->kaggle) (2.0.12)\n",
            "Requirement already satisfied: idna<4,>=2.5 in /usr/local/lib/python3.10/dist-packages (from requests->kaggle) (3.4)\n",
            "Downloading ibm-transactions-for-anti-money-laundering-aml.zip to /content\n",
            "100% 7.42G/7.42G [04:38<00:00, 20.4MB/s]\n",
            "100% 7.42G/7.42G [04:38<00:00, 28.6MB/s]\n"
          ]
        }
      ],
      "source": [
        "!pip install kaggle\n",
        "!kaggle datasets download -d ealtman2019/ibm-transactions-for-anti-money-laundering-aml"
      ]
    },
    {
      "cell_type": "code",
      "execution_count": 5,
      "metadata": {
        "colab": {
          "base_uri": "https://localhost:8080/"
        },
        "id": "QSb8QvE59Zk_",
        "outputId": "cfc01bd9-cba9-44dc-a555-b18e7903ce85"
      },
      "outputs": [
        {
          "output_type": "stream",
          "name": "stdout",
          "text": [
            "Archive:  ibm-transactions-for-anti-money-laundering-aml.zip\n",
            "  inflating: ./data/01_raw/HI-Medium_Patterns.txt  \n",
            "  inflating: ./data/01_raw/HI-Medium_Trans.csv  \n",
            "  inflating: ./data/01_raw/HI-Small_Patterns.txt  \n",
            "  inflating: ./data/01_raw/HI-Small_Trans.csv  \n"
          ]
        }
      ],
      "source": [
        "!unzip ibm-transactions-for-anti-money-laundering-aml.zip -d ./data/01_raw/ -x \"LI*\" \"HI-Large*\""
      ]
    },
    {
      "cell_type": "code",
      "execution_count": 6,
      "metadata": {
        "id": "Zgow9c9nH0lN"
      },
      "outputs": [],
      "source": [
        "!rm ibm-transactions-for-anti-money-laundering-aml.zip\n",
        "!rm ./data/01_raw/*.txt"
      ]
    },
    {
      "cell_type": "markdown",
      "metadata": {
        "id": "Hszm7Ijy4VC1"
      },
      "source": [
        "## Installations"
      ]
    },
    {
      "cell_type": "code",
      "execution_count": 7,
      "metadata": {
        "colab": {
          "base_uri": "https://localhost:8080/"
        },
        "id": "z75NmbV24qv1",
        "outputId": "4cec7eb1-3e44-42ec-f426-b236755d2d3b"
      },
      "outputs": [
        {
          "output_type": "stream",
          "name": "stdout",
          "text": [
            "Requirement already satisfied: ipykernel in /usr/local/lib/python3.10/dist-packages (5.5.6)\n",
            "Collecting ipykernel\n",
            "  Downloading ipykernel-6.23.3-py3-none-any.whl (152 kB)\n",
            "\u001b[2K     \u001b[90m━━━━━━━━━━━━━━━━━━━━━━━━━━━━━━━━━━━━━━━\u001b[0m \u001b[32m152.8/152.8 kB\u001b[0m \u001b[31m1.9 MB/s\u001b[0m eta \u001b[36m0:00:00\u001b[0m\n",
            "\u001b[?25hCollecting comm>=0.1.1 (from ipykernel)\n",
            "  Downloading comm-0.1.3-py3-none-any.whl (6.6 kB)\n",
            "Requirement already satisfied: debugpy>=1.6.5 in /usr/local/lib/python3.10/dist-packages (from ipykernel) (1.6.6)\n",
            "Requirement already satisfied: ipython>=7.23.1 in /usr/local/lib/python3.10/dist-packages (from ipykernel) (7.34.0)\n",
            "Requirement already satisfied: jupyter-client>=6.1.12 in /usr/local/lib/python3.10/dist-packages (from ipykernel) (6.1.12)\n",
            "Requirement already satisfied: jupyter-core!=5.0.*,>=4.12 in /usr/local/lib/python3.10/dist-packages (from ipykernel) (5.3.1)\n",
            "Requirement already satisfied: matplotlib-inline>=0.1 in /usr/local/lib/python3.10/dist-packages (from ipykernel) (0.1.6)\n",
            "Requirement already satisfied: nest-asyncio in /usr/local/lib/python3.10/dist-packages (from ipykernel) (1.5.6)\n",
            "Requirement already satisfied: packaging in /usr/local/lib/python3.10/dist-packages (from ipykernel) (23.1)\n",
            "Requirement already satisfied: psutil in /usr/local/lib/python3.10/dist-packages (from ipykernel) (5.9.5)\n",
            "Requirement already satisfied: pyzmq>=20 in /usr/local/lib/python3.10/dist-packages (from ipykernel) (23.2.1)\n",
            "Requirement already satisfied: tornado>=6.1 in /usr/local/lib/python3.10/dist-packages (from ipykernel) (6.3.1)\n",
            "Requirement already satisfied: traitlets>=5.4.0 in /usr/local/lib/python3.10/dist-packages (from ipykernel) (5.7.1)\n",
            "Requirement already satisfied: setuptools>=18.5 in /usr/local/lib/python3.10/dist-packages (from ipython>=7.23.1->ipykernel) (67.7.2)\n",
            "Collecting jedi>=0.16 (from ipython>=7.23.1->ipykernel)\n",
            "  Downloading jedi-0.18.2-py2.py3-none-any.whl (1.6 MB)\n",
            "\u001b[2K     \u001b[90m━━━━━━━━━━━━━━━━━━━━━━━━━━━━━━━━━━━━━━━━\u001b[0m \u001b[32m1.6/1.6 MB\u001b[0m \u001b[31m55.1 MB/s\u001b[0m eta \u001b[36m0:00:00\u001b[0m\n",
            "\u001b[?25hRequirement already satisfied: decorator in /usr/local/lib/python3.10/dist-packages (from ipython>=7.23.1->ipykernel) (4.4.2)\n",
            "Requirement already satisfied: pickleshare in /usr/local/lib/python3.10/dist-packages (from ipython>=7.23.1->ipykernel) (0.7.5)\n",
            "Requirement already satisfied: prompt-toolkit!=3.0.0,!=3.0.1,<3.1.0,>=2.0.0 in /usr/local/lib/python3.10/dist-packages (from ipython>=7.23.1->ipykernel) (3.0.38)\n",
            "Requirement already satisfied: pygments in /usr/local/lib/python3.10/dist-packages (from ipython>=7.23.1->ipykernel) (2.14.0)\n",
            "Requirement already satisfied: backcall in /usr/local/lib/python3.10/dist-packages (from ipython>=7.23.1->ipykernel) (0.2.0)\n",
            "Requirement already satisfied: pexpect>4.3 in /usr/local/lib/python3.10/dist-packages (from ipython>=7.23.1->ipykernel) (4.8.0)\n",
            "Requirement already satisfied: python-dateutil>=2.1 in /usr/local/lib/python3.10/dist-packages (from jupyter-client>=6.1.12->ipykernel) (2.8.2)\n",
            "Requirement already satisfied: platformdirs>=2.5 in /usr/local/lib/python3.10/dist-packages (from jupyter-core!=5.0.*,>=4.12->ipykernel) (3.7.0)\n",
            "Requirement already satisfied: parso<0.9.0,>=0.8.0 in /usr/local/lib/python3.10/dist-packages (from jedi>=0.16->ipython>=7.23.1->ipykernel) (0.8.3)\n",
            "Requirement already satisfied: ptyprocess>=0.5 in /usr/local/lib/python3.10/dist-packages (from pexpect>4.3->ipython>=7.23.1->ipykernel) (0.7.0)\n",
            "Requirement already satisfied: wcwidth in /usr/local/lib/python3.10/dist-packages (from prompt-toolkit!=3.0.0,!=3.0.1,<3.1.0,>=2.0.0->ipython>=7.23.1->ipykernel) (0.2.6)\n",
            "Requirement already satisfied: six>=1.5 in /usr/local/lib/python3.10/dist-packages (from python-dateutil>=2.1->jupyter-client>=6.1.12->ipykernel) (1.16.0)\n",
            "Installing collected packages: jedi, comm, ipykernel\n",
            "  Attempting uninstall: ipykernel\n",
            "    Found existing installation: ipykernel 5.5.6\n",
            "    Uninstalling ipykernel-5.5.6:\n",
            "      Successfully uninstalled ipykernel-5.5.6\n",
            "\u001b[31mERROR: pip's dependency resolver does not currently take into account all the packages that are installed. This behaviour is the source of the following dependency conflicts.\n",
            "google-colab 1.0.0 requires ipykernel==5.5.6, but you have ipykernel 6.23.3 which is incompatible.\u001b[0m\u001b[31m\n",
            "\u001b[0mSuccessfully installed comm-0.1.3 ipykernel-6.23.3 jedi-0.18.2\n",
            "Collecting pyspark\n",
            "  Downloading pyspark-3.4.1.tar.gz (310.8 MB)\n",
            "\u001b[2K     \u001b[90m━━━━━━━━━━━━━━━━━━━━━━━━━━━━━━━━━━━━━━━\u001b[0m \u001b[32m310.8/310.8 MB\u001b[0m \u001b[31m4.2 MB/s\u001b[0m eta \u001b[36m0:00:00\u001b[0m\n",
            "\u001b[?25h  Preparing metadata (setup.py) ... \u001b[?25l\u001b[?25hdone\n",
            "Requirement already satisfied: py4j==0.10.9.7 in /usr/local/lib/python3.10/dist-packages (from pyspark) (0.10.9.7)\n",
            "Building wheels for collected packages: pyspark\n",
            "  Building wheel for pyspark (setup.py) ... \u001b[?25l\u001b[?25hdone\n",
            "  Created wheel for pyspark: filename=pyspark-3.4.1-py2.py3-none-any.whl size=311285398 sha256=3a925a28c481fb33f8abb41a2a89a90d29e5a0f010880bc8aaef466b7940dd5b\n",
            "  Stored in directory: /root/.cache/pip/wheels/0d/77/a3/ff2f74cc9ab41f8f594dabf0579c2a7c6de920d584206e0834\n",
            "Successfully built pyspark\n",
            "Installing collected packages: pyspark\n",
            "Successfully installed pyspark-3.4.1\n"
          ]
        }
      ],
      "source": [
        "!pip install --upgrade ipykernel\n",
        "!pip install pyspark"
      ]
    },
    {
      "cell_type": "markdown",
      "metadata": {
        "id": "KU5_kZqazZVT"
      },
      "source": [
        "## Imports"
      ]
    },
    {
      "cell_type": "code",
      "execution_count": 8,
      "metadata": {
        "id": "kn7TuiLM4HDH"
      },
      "outputs": [],
      "source": [
        "import random\n",
        "\n",
        "import numpy as np\n",
        "import pandas as pd\n",
        "import seaborn as sns\n",
        "import multiprocessing\n",
        "import matplotlib.pyplot as plt\n",
        "\n",
        "from scipy import stats\n",
        "from sklearn import datasets\n",
        "from sklearn.metrics import confusion_matrix, ConfusionMatrixDisplay\n",
        "\n",
        "from pyspark.sql import Window\n",
        "from pyspark.sql.types import *\n",
        "from pyspark.sql import SparkSession\n",
        "from pyspark.ml.stat import Correlation\n",
        "from pyspark.ml.feature import StringIndexer, VectorAssembler, FeatureHasher\n",
        "from pyspark.sql.functions import (col, sum, lag, round, lit, to_timestamp, countDistinct, hour,\n",
        "                                   dayofmonth, dayofmonth, minute, date_format, to_date, when,\n",
        "                                   count, row_number, coalesce, unix_timestamp, max)\n",
        "\n",
        "from IPython.core.magic import register_line_cell_magic\n",
        "\n",
        "@register_line_cell_magic\n",
        "def skip(line, cell=None):\n",
        "\n",
        "    if eval(line):\n",
        "        return\n",
        "\n",
        "    get_ipython().ex(cell)"
      ]
    },
    {
      "cell_type": "markdown",
      "metadata": {
        "id": "yvBpD42vCK-R"
      },
      "source": [
        "## Setting Up PySpark"
      ]
    },
    {
      "cell_type": "code",
      "execution_count": 9,
      "metadata": {
        "id": "mb2XfyiCCOCr"
      },
      "outputs": [],
      "source": [
        "if 'spark' in vars():\n",
        "  spark.stop()\n",
        "\n",
        "cores = multiprocessing.cpu_count()\n",
        "instances = cores\n",
        "\n",
        "spark = SparkSession.builder \\\n",
        "          .appName(\"MoneyLaundering\") \\\n",
        "          .config(\"spark.driver.memory\", \"3g\") \\\n",
        "          .config(\"spark.executor.memory\", \"4g\") \\\n",
        "          .config(\"spark.executor.instances\", cores) \\\n",
        "          .config(\"spark.executor.cores\", cores//instances) \\\n",
        "          .config(\"spark.sql.shuffle.partitions\", cores) \\\n",
        "          .config(\"spark.sql.execution.arrow.pyspark.enabled\", \"true\") \\\n",
        "          .config(\"spark.sql.execution.arrow.enabled\", \"true\") \\\n",
        "          .getOrCreate()\n",
        "\n",
        "spark.sparkContext.setLogLevel(\"OFF\")"
      ]
    },
    {
      "cell_type": "code",
      "execution_count": 10,
      "metadata": {
        "colab": {
          "base_uri": "https://localhost:8080/"
        },
        "id": "7joBfAxtSOyk",
        "outputId": "b73babdd-f71f-4b36-c755-42d1f6166123"
      },
      "outputs": [
        {
          "output_type": "stream",
          "name": "stdout",
          "text": [
            "Spark app submittime: 1688289257323\n",
            "Spark app id: local-1688289260391\n",
            "Spark sql execution arrow enabled: true\n",
            "Spark driver port: 36931\n",
            "Spark app starttime: 1688289257732\n",
            "Spark executor memory: 4g\n",
            "Spark app name: MoneyLaundering\n",
            "Spark executor id: driver\n",
            "Spark sql shuffle partitions: 2\n",
            "Spark driver extrajavaoptions: -Djava.net.preferIPv6Addresses=false -XX:+IgnoreUnrecognizedVMOptions --add-opens=java.base/java.lang=ALL-UNNAMED --add-opens=java.base/java.lang.invoke=ALL-UNNAMED --add-opens=java.base/java.lang.reflect=ALL-UNNAMED --add-opens=java.base/java.io=ALL-UNNAMED --add-opens=java.base/java.net=ALL-UNNAMED --add-opens=java.base/java.nio=ALL-UNNAMED --add-opens=java.base/java.util=ALL-UNNAMED --add-opens=java.base/java.util.concurrent=ALL-UNNAMED --add-opens=java.base/java.util.concurrent.atomic=ALL-UNNAMED --add-opens=java.base/sun.nio.ch=ALL-UNNAMED --add-opens=java.base/sun.nio.cs=ALL-UNNAMED --add-opens=java.base/sun.security.action=ALL-UNNAMED --add-opens=java.base/sun.util.calendar=ALL-UNNAMED --add-opens=java.security.jgss/sun.security.krb5=ALL-UNNAMED -Djdk.reflect.useDirectMethodHandle=false\n",
            "Spark driver memory: 3g\n",
            "Spark rdd compress: True\n",
            "Spark executor instances: 2\n",
            "Spark driver host: e25f5e427e49\n",
            "Spark serializer objectstreamreset: 100\n",
            "Spark master: local[*]\n",
            "Spark submit pyfiles: \n",
            "Spark executor cores: 1\n",
            "Spark submit deploymode: client\n",
            "Spark ui showconsoleprogress: true\n",
            "Spark sql execution arrow pyspark enabled: true\n",
            "Spark executor extrajavaoptions: -Djava.net.preferIPv6Addresses=false -XX:+IgnoreUnrecognizedVMOptions --add-opens=java.base/java.lang=ALL-UNNAMED --add-opens=java.base/java.lang.invoke=ALL-UNNAMED --add-opens=java.base/java.lang.reflect=ALL-UNNAMED --add-opens=java.base/java.io=ALL-UNNAMED --add-opens=java.base/java.net=ALL-UNNAMED --add-opens=java.base/java.nio=ALL-UNNAMED --add-opens=java.base/java.util=ALL-UNNAMED --add-opens=java.base/java.util.concurrent=ALL-UNNAMED --add-opens=java.base/java.util.concurrent.atomic=ALL-UNNAMED --add-opens=java.base/sun.nio.ch=ALL-UNNAMED --add-opens=java.base/sun.nio.cs=ALL-UNNAMED --add-opens=java.base/sun.security.action=ALL-UNNAMED --add-opens=java.base/sun.util.calendar=ALL-UNNAMED --add-opens=java.security.jgss/sun.security.krb5=ALL-UNNAMED -Djdk.reflect.useDirectMethodHandle=false\n"
          ]
        }
      ],
      "source": [
        "for x in spark.sparkContext.getConf().getAll():\n",
        "  print(f\"{x[0].replace('.', ' ').capitalize()}: {x[1]}\")"
      ]
    },
    {
      "cell_type": "markdown",
      "metadata": {
        "id": "nccoQ3Q4PBnx"
      },
      "source": [
        "# 0. Data Engineering Preparation"
      ]
    },
    {
      "cell_type": "code",
      "execution_count": 11,
      "metadata": {
        "colab": {
          "base_uri": "https://localhost:8080/"
        },
        "id": "MiZjjDhWJaQX",
        "outputId": "c9212632-03af-4dad-df26-8d2d0a33bf43"
      },
      "outputs": [
        {
          "output_type": "stream",
          "name": "stdout",
          "text": [
            "total 4GB\n",
            "-rw-r--r-- 1 root root 4GB Feb 28 12:08 HI-Medium_Trans.csv\n",
            "-rw-r--r-- 1 root root 1GB Feb 28 12:12 HI-Small_Trans.csv\n"
          ]
        }
      ],
      "source": [
        "!ls -l --block-size=GB ./data/01_raw/"
      ]
    },
    {
      "cell_type": "markdown",
      "metadata": {
        "id": "RNcVyLXtbWWM"
      },
      "source": [
        "## Raw Data\n",
        "\n",
        "The raw layer is the starting point of the data pipeline and includes the sourced data model(s) that should never be altered. It serves as the single source of truth for all subsequent work. Typically, these data models are untyped, such as CSV files.\n",
        "\n",
        "* We never mutate the data here, only work on copies.\n",
        "\n"
      ]
    },
    {
      "cell_type": "code",
      "execution_count": 12,
      "metadata": {
        "id": "6QifwN0RPJtd"
      },
      "outputs": [],
      "source": [
        "# High Ilicity Datasets\n",
        "hi_small_df = spark.read.csv(\"./data/01_raw/HI-Small_Trans.csv\", header=True)\n",
        "hi_medium_df = spark.read.csv(\"./data/01_raw/HI-Medium_Trans.csv\", header=True)"
      ]
    },
    {
      "cell_type": "code",
      "execution_count": 13,
      "metadata": {
        "colab": {
          "base_uri": "https://localhost:8080/"
        },
        "id": "YcDICK_yMyfW",
        "outputId": "c38404fd-015a-40e7-b8d0-52c84a67f0af"
      },
      "outputs": [
        {
          "output_type": "execute_result",
          "data": {
            "text/plain": [
              "['Timestamp',\n",
              " 'From Bank',\n",
              " 'Account2',\n",
              " 'To Bank',\n",
              " 'Account4',\n",
              " 'Amount Received',\n",
              " 'Receiving Currency',\n",
              " 'Amount Paid',\n",
              " 'Payment Currency',\n",
              " 'Payment Format',\n",
              " 'Is Laundering']"
            ]
          },
          "metadata": {},
          "execution_count": 13
        }
      ],
      "source": [
        "hi_small_df.columns"
      ]
    },
    {
      "cell_type": "code",
      "execution_count": 14,
      "metadata": {
        "colab": {
          "base_uri": "https://localhost:8080/"
        },
        "id": "wf2WhWPDGepz",
        "outputId": "7deab983-2014-448c-844c-59aaf5366019"
      },
      "outputs": [
        {
          "output_type": "stream",
          "name": "stdout",
          "text": [
            "root\n",
            " |-- Timestamp: string (nullable = true)\n",
            " |-- From Bank: string (nullable = true)\n",
            " |-- Account2: string (nullable = true)\n",
            " |-- To Bank: string (nullable = true)\n",
            " |-- Account4: string (nullable = true)\n",
            " |-- Amount Received: string (nullable = true)\n",
            " |-- Receiving Currency: string (nullable = true)\n",
            " |-- Amount Paid: string (nullable = true)\n",
            " |-- Payment Currency: string (nullable = true)\n",
            " |-- Payment Format: string (nullable = true)\n",
            " |-- Is Laundering: string (nullable = true)\n",
            "\n"
          ]
        }
      ],
      "source": [
        "hi_small_df.printSchema()"
      ]
    },
    {
      "cell_type": "code",
      "execution_count": 15,
      "metadata": {
        "colab": {
          "base_uri": "https://localhost:8080/"
        },
        "id": "VNk_XM1JGtIO",
        "outputId": "919f9e31-19df-4326-bfd1-2e2abdbd2982"
      },
      "outputs": [
        {
          "output_type": "stream",
          "name": "stdout",
          "text": [
            "Are all Small and Medium Dataset cols the same? True\n"
          ]
        }
      ],
      "source": [
        "# Verify if all columns are equal\n",
        "hi_cols_equal = (hi_small_df.columns == hi_medium_df.columns)\n",
        "\n",
        "print(f\"Are all Small and Medium Dataset cols the same? {hi_cols_equal}\")"
      ]
    },
    {
      "cell_type": "code",
      "execution_count": 16,
      "metadata": {
        "colab": {
          "base_uri": "https://localhost:8080/"
        },
        "id": "O9-Nxt9SMPCP",
        "outputId": "ea894e81-7490-42cd-ce1e-0331cb58c567"
      },
      "outputs": [
        {
          "output_type": "stream",
          "name": "stdout",
          "text": [
            "+----------------+---------+---------+-------+---------+---------------+------------------+-----------+----------------+--------------+-------------+\n",
            "|       Timestamp|From Bank| Account2|To Bank| Account4|Amount Received|Receiving Currency|Amount Paid|Payment Currency|Payment Format|Is Laundering|\n",
            "+----------------+---------+---------+-------+---------+---------------+------------------+-----------+----------------+--------------+-------------+\n",
            "|2022/09/01 00:20|      010|8000EBD30|    010|8000EBD30|        3697.34|         US Dollar|    3697.34|       US Dollar|  Reinvestment|            0|\n",
            "|2022/09/01 00:20|    03208|8000F4580|    001|8000F5340|           0.01|         US Dollar|       0.01|       US Dollar|        Cheque|            0|\n",
            "|2022/09/01 00:00|    03209|8000F4670|  03209|8000F4670|       14675.57|         US Dollar|   14675.57|       US Dollar|  Reinvestment|            0|\n",
            "|2022/09/01 00:02|      012|8000F5030|    012|8000F5030|        2806.97|         US Dollar|    2806.97|       US Dollar|  Reinvestment|            0|\n",
            "|2022/09/01 00:06|      010|8000F5200|    010|8000F5200|       36682.97|         US Dollar|   36682.97|       US Dollar|  Reinvestment|            0|\n",
            "|2022/09/01 00:03|      001|8000F5AD0|    001|8000F5AD0|        6162.44|         US Dollar|    6162.44|       US Dollar|  Reinvestment|            0|\n",
            "|2022/09/01 00:08|      001|8000EBAC0|    001|8000EBAC0|          14.26|         US Dollar|      14.26|       US Dollar|  Reinvestment|            0|\n",
            "|2022/09/01 00:16|      001|8000EC1E0|    001|8000EC1E0|          11.86|         US Dollar|      11.86|       US Dollar|  Reinvestment|            0|\n",
            "|2022/09/01 00:26|      012|8000EC280| 002439|8017BF800|           7.66|         US Dollar|       7.66|       US Dollar|   Credit Card|            0|\n",
            "|2022/09/01 00:21|      001|8000EDEC0|0211050|80AEF5310|         383.71|         US Dollar|     383.71|       US Dollar|   Credit Card|            0|\n",
            "|2022/09/01 00:04|      001|8000F4510| 011813|8011305D0|           9.82|         US Dollar|       9.82|       US Dollar|   Credit Card|            0|\n",
            "|2022/09/01 00:04|      001|8000F47F0|    001|8000F47F0|           9.38|         US Dollar|       9.38|       US Dollar|  Reinvestment|            0|\n",
            "|2022/09/01 00:08|      001|8000F4FE0|0245335|812ED62E0|           4.01|         US Dollar|       4.01|       US Dollar|   Credit Card|            0|\n",
            "|2022/09/01 00:17|      010|80012FD90|0036056|812ED6380|         106.70|         US Dollar|     106.70|       US Dollar|   Credit Card|            0|\n",
            "|2022/09/01 00:11|      012|80012FE00| 013037|805B34210|           0.54|         US Dollar|       0.54|       US Dollar|   Credit Card|            0|\n",
            "|2022/09/01 00:09|      001|80012FE50|    001|80012FE50|     3944232.29|         US Dollar| 3944232.29|       US Dollar|  Reinvestment|            0|\n",
            "|2022/09/01 00:11|      010|80012FEA0|    010|80012FEA0|       10020.68|         US Dollar|   10020.68|       US Dollar|  Reinvestment|            0|\n",
            "|2022/09/01 00:00|    01420|8005DFEB0|  01420|8005DFEB0|         897.37|         US Dollar|     897.37|       US Dollar|  Reinvestment|            0|\n",
            "|2022/09/01 00:28|    01665|8005E18F0|  01665|8005E18F0|         157.57|         US Dollar|     157.57|       US Dollar|  Reinvestment|            0|\n",
            "|2022/09/01 00:22|    01665|8005E24C0|  01665|8005E24C0|          52.75|         US Dollar|      52.75|       US Dollar|  Reinvestment|            0|\n",
            "+----------------+---------+---------+-------+---------+---------------+------------------+-----------+----------------+--------------+-------------+\n",
            "only showing top 20 rows\n",
            "\n"
          ]
        }
      ],
      "source": [
        "hi_small_df.show()"
      ]
    },
    {
      "cell_type": "code",
      "execution_count": 17,
      "metadata": {
        "colab": {
          "base_uri": "https://localhost:8080/"
        },
        "id": "HV78SInWS4Iy",
        "outputId": "686bd755-e85a-41ef-dd49-808d694e991e"
      },
      "outputs": [
        {
          "output_type": "stream",
          "name": "stdout",
          "text": [
            "+---------+---------+--------+-------+--------+---------------+------------------+-----------+----------------+--------------+-------------+\n",
            "|Timestamp|From Bank|Account2|To Bank|Account4|Amount Received|Receiving Currency|Amount Paid|Payment Currency|Payment Format|Is Laundering|\n",
            "+---------+---------+--------+-------+--------+---------------+------------------+-----------+----------------+--------------+-------------+\n",
            "|        0|        0|       0|      0|       0|              0|                 0|          0|               0|             0|            0|\n",
            "+---------+---------+--------+-------+--------+---------------+------------------+-----------+----------------+--------------+-------------+\n",
            "\n"
          ]
        }
      ],
      "source": [
        "null_counts = hi_small_df.select([sum(col(column).isNull().cast(\"integer\")).alias(column) for column in hi_small_df.columns])\n",
        "null_counts.show()"
      ]
    },
    {
      "cell_type": "markdown",
      "metadata": {
        "id": "r06Dq3S7baMU"
      },
      "source": [
        "## Intermediate Data\n",
        "\n",
        "In practice the intermediate layer only needs to be a typed mirror of the raw layer still within the ‘source’ data model\n",
        "\n",
        "* Once the intermediate layer exists, you never have to touch the raw layer and we eliminate the risks associated with mutating the original data.\n",
        "\n",
        "* Profiling, EDA and any data quality assessments should be performed at this point.\n",
        "\n",
        "* Cleaning column names, parsing dates and dropping completely null columns are other ‘transformations’ commonly performed at this stage."
      ]
    },
    {
      "cell_type": "code",
      "execution_count": 18,
      "metadata": {
        "id": "o-lnxr6FP0cw"
      },
      "outputs": [],
      "source": [
        "schema = StructType([\n",
        "    StructField(\"Timestamp\", StringType(), nullable=False),\n",
        "    StructField(\"From Bank\", IntegerType(), nullable=False),\n",
        "    StructField(\"Account2\", StringType(), nullable=False),\n",
        "    StructField(\"To Bank\", IntegerType(), nullable=False),\n",
        "    StructField(\"Account4\", StringType(), nullable=False),\n",
        "    StructField(\"Amount Received\", FloatType(), nullable=False),\n",
        "    StructField(\"Receiving Currency\", StringType(), nullable=False),\n",
        "    StructField(\"Amount Paid\", FloatType(), nullable=False),\n",
        "    StructField(\"Payment Currency\", StringType(), nullable=False),\n",
        "    StructField(\"Payment Format\", StringType(), nullable=False),\n",
        "    StructField(\"Is Laundering\", IntegerType(), nullable=False),\n",
        "])"
      ]
    },
    {
      "cell_type": "code",
      "execution_count": 19,
      "metadata": {
        "id": "3wdznlpfMf28"
      },
      "outputs": [],
      "source": [
        "hi_small_df = spark.read.csv(\"./data/01_raw/HI-Small_Trans.csv\", header=True, schema=schema)\n",
        "hi_medium_df = spark.read.csv(\"./data/01_raw/HI-Medium_Trans.csv\", header=True, schema=schema)\n",
        "\n",
        "# Fixing Timestamp\n",
        "def fix_timestamp(df):\n",
        "  format = \"yyyy/MM/dd HH:mm\"\n",
        "  df = df.withColumn(\"Timestamp2\",to_timestamp(\"Timestamp\", format=format).cast('timestamp'))\n",
        "  df = df.drop(\"Timestamp\")\n",
        "  df = df.withColumnRenamed(\"Timestamp2\", \"Timestamp\")\n",
        "  return df\n",
        "\n",
        "hi_small_df = fix_timestamp(hi_small_df)\n",
        "hi_medium_df = fix_timestamp(hi_medium_df)"
      ]
    },
    {
      "cell_type": "code",
      "execution_count": 20,
      "metadata": {
        "colab": {
          "base_uri": "https://localhost:8080/"
        },
        "id": "CqLHkGFWhQmW",
        "outputId": "71199ae3-b80d-402d-dedf-8d4e737962a9"
      },
      "outputs": [
        {
          "output_type": "stream",
          "name": "stdout",
          "text": [
            "root\n",
            " |-- From Bank: integer (nullable = true)\n",
            " |-- Account2: string (nullable = true)\n",
            " |-- To Bank: integer (nullable = true)\n",
            " |-- Account4: string (nullable = true)\n",
            " |-- Amount Received: float (nullable = true)\n",
            " |-- Receiving Currency: string (nullable = true)\n",
            " |-- Amount Paid: float (nullable = true)\n",
            " |-- Payment Currency: string (nullable = true)\n",
            " |-- Payment Format: string (nullable = true)\n",
            " |-- Is Laundering: integer (nullable = true)\n",
            " |-- Timestamp: timestamp (nullable = true)\n",
            "\n"
          ]
        }
      ],
      "source": [
        "hi_small_df.printSchema()"
      ]
    },
    {
      "cell_type": "code",
      "execution_count": 21,
      "metadata": {
        "colab": {
          "base_uri": "https://localhost:8080/"
        },
        "id": "LbSid4mwm2eZ",
        "outputId": "ffc3a654-0cc1-4d05-f3fa-1159bd9809a4"
      },
      "outputs": [
        {
          "output_type": "stream",
          "name": "stdout",
          "text": [
            "+---------+---------+-------+---------+---------------+------------------+-----------+----------------+--------------+-------------+-------------------+\n",
            "|From Bank| Account2|To Bank| Account4|Amount Received|Receiving Currency|Amount Paid|Payment Currency|Payment Format|Is Laundering|          Timestamp|\n",
            "+---------+---------+-------+---------+---------------+------------------+-----------+----------------+--------------+-------------+-------------------+\n",
            "|       10|8000EBD30|     10|8000EBD30|        3697.34|         US Dollar|    3697.34|       US Dollar|  Reinvestment|            0|2022-09-01 00:20:00|\n",
            "|     3208|8000F4580|      1|8000F5340|           0.01|         US Dollar|       0.01|       US Dollar|        Cheque|            0|2022-09-01 00:20:00|\n",
            "|     3209|8000F4670|   3209|8000F4670|       14675.57|         US Dollar|   14675.57|       US Dollar|  Reinvestment|            0|2022-09-01 00:00:00|\n",
            "|       12|8000F5030|     12|8000F5030|        2806.97|         US Dollar|    2806.97|       US Dollar|  Reinvestment|            0|2022-09-01 00:02:00|\n",
            "|       10|8000F5200|     10|8000F5200|       36682.97|         US Dollar|   36682.97|       US Dollar|  Reinvestment|            0|2022-09-01 00:06:00|\n",
            "|        1|8000F5AD0|      1|8000F5AD0|        6162.44|         US Dollar|    6162.44|       US Dollar|  Reinvestment|            0|2022-09-01 00:03:00|\n",
            "|        1|8000EBAC0|      1|8000EBAC0|          14.26|         US Dollar|      14.26|       US Dollar|  Reinvestment|            0|2022-09-01 00:08:00|\n",
            "|        1|8000EC1E0|      1|8000EC1E0|          11.86|         US Dollar|      11.86|       US Dollar|  Reinvestment|            0|2022-09-01 00:16:00|\n",
            "|       12|8000EC280|   2439|8017BF800|           7.66|         US Dollar|       7.66|       US Dollar|   Credit Card|            0|2022-09-01 00:26:00|\n",
            "|        1|8000EDEC0| 211050|80AEF5310|         383.71|         US Dollar|     383.71|       US Dollar|   Credit Card|            0|2022-09-01 00:21:00|\n",
            "|        1|8000F4510|  11813|8011305D0|           9.82|         US Dollar|       9.82|       US Dollar|   Credit Card|            0|2022-09-01 00:04:00|\n",
            "|        1|8000F47F0|      1|8000F47F0|           9.38|         US Dollar|       9.38|       US Dollar|  Reinvestment|            0|2022-09-01 00:04:00|\n",
            "|        1|8000F4FE0| 245335|812ED62E0|           4.01|         US Dollar|       4.01|       US Dollar|   Credit Card|            0|2022-09-01 00:08:00|\n",
            "|       10|80012FD90|  36056|812ED6380|          106.7|         US Dollar|      106.7|       US Dollar|   Credit Card|            0|2022-09-01 00:17:00|\n",
            "|       12|80012FE00|  13037|805B34210|           0.54|         US Dollar|       0.54|       US Dollar|   Credit Card|            0|2022-09-01 00:11:00|\n",
            "|        1|80012FE50|      1|80012FE50|      3944232.2|         US Dollar|  3944232.2|       US Dollar|  Reinvestment|            0|2022-09-01 00:09:00|\n",
            "|       10|80012FEA0|     10|80012FEA0|       10020.68|         US Dollar|   10020.68|       US Dollar|  Reinvestment|            0|2022-09-01 00:11:00|\n",
            "|     1420|8005DFEB0|   1420|8005DFEB0|         897.37|         US Dollar|     897.37|       US Dollar|  Reinvestment|            0|2022-09-01 00:00:00|\n",
            "|     1665|8005E18F0|   1665|8005E18F0|         157.57|         US Dollar|     157.57|       US Dollar|  Reinvestment|            0|2022-09-01 00:28:00|\n",
            "|     1665|8005E24C0|   1665|8005E24C0|          52.75|         US Dollar|      52.75|       US Dollar|  Reinvestment|            0|2022-09-01 00:22:00|\n",
            "+---------+---------+-------+---------+---------------+------------------+-----------+----------------+--------------+-------------+-------------------+\n",
            "only showing top 20 rows\n",
            "\n"
          ]
        }
      ],
      "source": [
        "hi_small_df.show()"
      ]
    },
    {
      "cell_type": "markdown",
      "metadata": {
        "id": "7pXkRYcZkRjl"
      },
      "source": [
        "### Exploratory Data Analysis\n",
        "---\n",
        "\n",
        "For simplicity and time saving we will analyse only the small Datasets\n",
        "\n",
        "**Insights:**\n",
        "\n",
        "\n",
        "* Reinvestment doesn't appear to have money laundry\n",
        "* Laundering occur in self transactions in few cases\n",
        "* Accounts are identifiers of the transaction\n",
        "* There is no money laundring happening in between currencies. Which mean we can keep only one variable for Receiving Currency and Payment Currency, and Amount Received and Amount Paid\n",
        "\n",
        "\n",
        "**Possible Features:**\n",
        "\n",
        "* Self Transaction flag\n",
        "* Time of the day transaction\n",
        "* Day of the month transaction?\n",
        "* Number of transactions in the day\n"
      ]
    },
    {
      "cell_type": "code",
      "execution_count": 22,
      "metadata": {
        "id": "a88Hk22NlBip"
      },
      "outputs": [],
      "source": [
        "%%skip $skip_eda\n",
        "small_df = hi_small_df"
      ]
    },
    {
      "cell_type": "code",
      "execution_count": 23,
      "metadata": {
        "colab": {
          "base_uri": "https://localhost:8080/"
        },
        "id": "_I6abj9ukdPq",
        "outputId": "a375c3cc-5cf7-4c74-d33c-56273c9fde25"
      },
      "outputs": [
        {
          "output_type": "stream",
          "name": "stdout",
          "text": [
            "+-------------+-------+\n",
            "|Is Laundering|  count|\n",
            "+-------------+-------+\n",
            "|            0|5073168|\n",
            "|            1|   5177|\n",
            "+-------------+-------+\n",
            "\n"
          ]
        }
      ],
      "source": [
        "%%skip $skip_eda\n",
        "# Get the label distribution in the dataset\n",
        "small_df.groupBy(\"Is Laundering\").count().show()"
      ]
    },
    {
      "cell_type": "code",
      "execution_count": 24,
      "metadata": {
        "colab": {
          "base_uri": "https://localhost:8080/"
        },
        "id": "pVclrJ2RQPFL",
        "outputId": "458071f8-eaca-43fd-e473-ecf264268bab"
      },
      "outputs": [
        {
          "output_type": "stream",
          "name": "stdout",
          "text": [
            "+-------+--------------------+--------------------+\n",
            "|summary|     Amount Received|         Amount Paid|\n",
            "+-------+--------------------+--------------------+\n",
            "|  count|                5177|                5177|\n",
            "|   mean| 3.613531071586281E7| 3.613531071586281E7|\n",
            "| stddev|1.5279186868932502E9|1.5279186868932502E9|\n",
            "|    min|            0.003227|            0.003227|\n",
            "|    max|        8.4853146E10|        8.4853146E10|\n",
            "+-------+--------------------+--------------------+\n",
            "\n",
            "+-------+--------------------+-------------------+\n",
            "|summary|     Amount Received|        Amount Paid|\n",
            "+-------+--------------------+-------------------+\n",
            "|  count|             5073168|            5073168|\n",
            "|   mean|   5957962.500255194|  4477000.057857775|\n",
            "| stddev|1.0365634624133482E9|8.688463078849382E8|\n",
            "|    min|              1.0E-6|             1.0E-6|\n",
            "|    max|       1.04630236E12|      1.04630236E12|\n",
            "+-------+--------------------+-------------------+\n",
            "\n"
          ]
        }
      ],
      "source": [
        "%%skip $skip_eda\n",
        "# Split the dataset into Legit and Laundering Transactions to analyze the feature in each case\n",
        "small_laundering_df = small_df.filter(small_df[\"Is Laundering\"] == 1)\n",
        "small_legit_df = small_df.filter(small_df[\"Is Laundering\"] == 0)\n",
        "\n",
        "float_columns = [\"Amount Received\", \"Amount Paid\"]\n",
        "small_laundering_df.select(float_columns).describe().show()\n",
        "small_legit_df.select(float_columns).describe().show()"
      ]
    },
    {
      "cell_type": "code",
      "execution_count": 25,
      "metadata": {
        "id": "KOnyisMrSVUf"
      },
      "outputs": [],
      "source": [
        "%%skip $skip_eda\n",
        "\n",
        "# Distinct Ilegal Accounts\n",
        "small_laundering_df.select(countDistinct(\"Account2\")).first()[0]"
      ]
    },
    {
      "cell_type": "code",
      "execution_count": 26,
      "metadata": {
        "colab": {
          "base_uri": "https://localhost:8080/"
        },
        "id": "jHhLwAONTjpf",
        "outputId": "51dcb540-6d23-4dfc-a0a6-6edb287eb1ba"
      },
      "outputs": [
        {
          "output_type": "stream",
          "name": "stdout",
          "text": [
            "+--------------+-----+\n",
            "|Payment Format|count|\n",
            "+--------------+-----+\n",
            "|           ACH| 4483|\n",
            "|       Bitcoin|   56|\n",
            "|        Cheque|  324|\n",
            "|   Credit Card|  206|\n",
            "|          Cash|  108|\n",
            "+--------------+-----+\n",
            "\n",
            "+--------------+-------+\n",
            "|Payment Format|  count|\n",
            "+--------------+-------+\n",
            "|           ACH| 596314|\n",
            "|       Bitcoin| 146035|\n",
            "|  Reinvestment| 481056|\n",
            "|        Cheque|1864007|\n",
            "|   Credit Card|1323118|\n",
            "|          Cash| 490783|\n",
            "|          Wire| 171855|\n",
            "+--------------+-------+\n",
            "\n"
          ]
        }
      ],
      "source": [
        "%%skip $skip_eda\n",
        "\n",
        "# Analysis of Ilegality through payment formats\n",
        "small_laundering_df.groupBy(\"Payment Format\").count().show()\n",
        "small_legit_df.groupBy(\"Payment Format\").count().show()"
      ]
    },
    {
      "cell_type": "code",
      "execution_count": 27,
      "metadata": {
        "colab": {
          "base_uri": "https://localhost:8080/"
        },
        "id": "u1jvyqIwX6hK",
        "outputId": "031f11c3-cd34-433e-df1b-ea349f8c6672"
      },
      "outputs": [
        {
          "output_type": "stream",
          "name": "stdout",
          "text": [
            "+---------+---------+-------+---------+---------------+------------------+-----------+----------------+--------------+-------------+-------------------+\n",
            "|From Bank| Account2|To Bank| Account4|Amount Received|Receiving Currency|Amount Paid|Payment Currency|Payment Format|Is Laundering|          Timestamp|\n",
            "+---------+---------+-------+---------+---------------+------------------+-----------+----------------+--------------+-------------+-------------------+\n",
            "|    48309|811C599A0|  48309|811C599A0|       48649.42|       Saudi Riyal|   48649.42|     Saudi Riyal|           ACH|            1|2022-09-04 05:03:00|\n",
            "|    15231|80266F880|  15231|80266F880|       14998.24|              Euro|   14998.24|            Euro|           ACH|            1|2022-09-01 14:04:00|\n",
            "|    15231|80266F880|  15231|80266F880|        4895.52|              Euro|    4895.52|            Euro|           ACH|            1|2022-09-03 19:55:00|\n",
            "|   150240|812D22980| 150240|812D22980|       71726.48|       Saudi Riyal|   71726.48|     Saudi Riyal|           ACH|            1|2022-09-04 21:37:00|\n",
            "|    23691|8021353D0|  23691|8021353D0|        13178.6|              Euro|    13178.6|            Euro|           ACH|            1|2022-09-05 15:41:00|\n",
            "|    48309|811C599A0|  48309|811C599A0|       47970.16|       Saudi Riyal|   47970.16|     Saudi Riyal|           ACH|            1|2022-09-09 09:08:00|\n",
            "|      119|812A09CF0|    119|812A09CF0|       30855.39|       Saudi Riyal|   30855.39|     Saudi Riyal|           ACH|            1|2022-09-06 23:04:00|\n",
            "|      119|811C597B0|    119|811C597B0|    1.4144807E7|       Saudi Riyal|1.4144807E7|     Saudi Riyal|           ACH|            1|2022-09-10 23:17:00|\n",
            "|    48309|811C599A0|  48309|811C599A0|       52436.24|       Saudi Riyal|   52436.24|     Saudi Riyal|           ACH|            1|2022-09-11 05:36:00|\n",
            "|      118|811B6E170|    118|811B6E170|       11868.44|       Saudi Riyal|   11868.44|     Saudi Riyal|           ACH|            1|2022-09-17 17:23:00|\n",
            "|    48309|811C599A0|  48309|811C599A0|       46862.34|       Saudi Riyal|   46862.34|     Saudi Riyal|           ACH|            1|2022-09-15 13:55:00|\n",
            "+---------+---------+-------+---------+---------------+------------------+-----------+----------------+--------------+-------------+-------------------+\n",
            "\n"
          ]
        }
      ],
      "source": [
        "%%skip $skip_eda\n",
        "\n",
        "# Show ilegal transactions are made for the same account\n",
        "small_laundering_df.filter(small_laundering_df[\"Account2\"] == small_laundering_df[\"Account4\"]).show()"
      ]
    },
    {
      "cell_type": "code",
      "execution_count": 28,
      "metadata": {
        "colab": {
          "base_uri": "https://localhost:8080/"
        },
        "id": "hCiHi0hOioaU",
        "outputId": "65d0f913-e9bc-4694-8b18-5ec16f27aa3d"
      },
      "outputs": [
        {
          "output_type": "stream",
          "name": "stdout",
          "text": [
            "+---------+--------+-------+--------+---------------+------------------+-----------+----------------+--------------+-------------+---------+\n",
            "|From Bank|Account2|To Bank|Account4|Amount Received|Receiving Currency|Amount Paid|Payment Currency|Payment Format|Is Laundering|Timestamp|\n",
            "+---------+--------+-------+--------+---------------+------------------+-----------+----------------+--------------+-------------+---------+\n",
            "+---------+--------+-------+--------+---------------+------------------+-----------+----------------+--------------+-------------+---------+\n",
            "\n"
          ]
        }
      ],
      "source": [
        "%%skip $skip_eda\n",
        "\n",
        "# Show ilegal transactions difference in payment ammount\n",
        "small_laundering_df.filter(small_laundering_df[\"Amount Paid\"] != small_laundering_df[\"Amount Received\"]).show()"
      ]
    },
    {
      "cell_type": "code",
      "execution_count": 29,
      "metadata": {
        "colab": {
          "base_uri": "https://localhost:8080/"
        },
        "id": "CCFYRL4MZuPM",
        "outputId": "f6a730e4-6722-4250-8829-41d1bcc3b682"
      },
      "outputs": [
        {
          "output_type": "stream",
          "name": "stdout",
          "text": [
            "+---------+--------+-------+--------+---------------+------------------+-----------+----------------+--------------+-------------+---------+\n",
            "|From Bank|Account2|To Bank|Account4|Amount Received|Receiving Currency|Amount Paid|Payment Currency|Payment Format|Is Laundering|Timestamp|\n",
            "+---------+--------+-------+--------+---------------+------------------+-----------+----------------+--------------+-------------+---------+\n",
            "+---------+--------+-------+--------+---------------+------------------+-----------+----------------+--------------+-------------+---------+\n",
            "\n"
          ]
        }
      ],
      "source": [
        "%%skip $skip_eda\n",
        "\n",
        "# Show ilegal transactions in different currencies\n",
        "small_laundering_df.filter(small_laundering_df[\"Receiving Currency\"] != small_laundering_df[\"Payment Currency\"]).show()"
      ]
    },
    {
      "cell_type": "code",
      "execution_count": 30,
      "metadata": {
        "colab": {
          "base_uri": "https://localhost:8080/"
        },
        "id": "-Marzpf3jMPK",
        "outputId": "d15dce80-ac90-45ef-d23c-8b4f84431fbf"
      },
      "outputs": [
        {
          "output_type": "stream",
          "name": "stdout",
          "text": [
            "+------------------+-----+\n",
            "|Receiving Currency|count|\n",
            "+------------------+-----+\n",
            "|         US Dollar| 1912|\n",
            "|              Euro| 1372|\n",
            "|              Yuan|  184|\n",
            "|               Yen|  155|\n",
            "|       Swiss Franc|  193|\n",
            "|             Rupee|  167|\n",
            "| Australian Dollar|  127|\n",
            "|       Saudi Riyal|  374|\n",
            "|      Mexican Peso|   92|\n",
            "|          UK Pound|  132|\n",
            "|       Brazil Real|   57|\n",
            "|           Bitcoin|   56|\n",
            "|   Canadian Dollar|  128|\n",
            "|            Shekel|   95|\n",
            "|             Ruble|  133|\n",
            "+------------------+-----+\n",
            "\n",
            "+-----------------+-----+\n",
            "| Payment Currency|count|\n",
            "+-----------------+-----+\n",
            "|        US Dollar| 1912|\n",
            "|             Euro| 1372|\n",
            "|             Yuan|  184|\n",
            "|              Yen|  155|\n",
            "|      Swiss Franc|  193|\n",
            "|            Rupee|  167|\n",
            "|Australian Dollar|  127|\n",
            "|      Saudi Riyal|  374|\n",
            "|     Mexican Peso|   92|\n",
            "|         UK Pound|  132|\n",
            "|      Brazil Real|   57|\n",
            "|          Bitcoin|   56|\n",
            "|  Canadian Dollar|  128|\n",
            "|           Shekel|   95|\n",
            "|            Ruble|  133|\n",
            "+-----------------+-----+\n",
            "\n"
          ]
        }
      ],
      "source": [
        "%%skip $skip_eda\n",
        "\n",
        "small_laundering_df.groupBy(\"Receiving Currency\").count().show()\n",
        "small_laundering_df.groupBy(\"Payment Currency\").count().show()"
      ]
    },
    {
      "cell_type": "markdown",
      "metadata": {
        "id": "OsyFkP_12mM5"
      },
      "source": [
        "**Account-related analysis:**\n",
        "\n",
        "* Account activity: Unusually high transaction activity or a large number of accounts linked to a particular entity may indicate suspicious behavior.\n",
        "\n",
        "* Create features that capture the frequency and volume of transactions from both the \"From Account\" and \"To Account.\"\n",
        "* Including the account identifiers as features may introduce data leakage because the model can learn patterns specific to  accounts.\n",
        "* The destination bank appears to have strong predictive power in this case.\n",
        "* The destination accounts as well, it appears to be accounts never used before."
      ]
    },
    {
      "cell_type": "code",
      "execution_count": 31,
      "metadata": {
        "colab": {
          "base_uri": "https://localhost:8080/"
        },
        "id": "Mi-uLNTp06b1",
        "outputId": "93150430-9365-4451-91ea-77eeb43deef8"
      },
      "outputs": [
        {
          "output_type": "stream",
          "name": "stdout",
          "text": [
            "+---------+--------+-------+--------+---------------+------------------+-----------+----------------+--------------+-------------+---------+\n",
            "|From Bank|Account2|To Bank|Account4|Amount Received|Receiving Currency|Amount Paid|Payment Currency|Payment Format|Is Laundering|Timestamp|\n",
            "+---------+--------+-------+--------+---------------+------------------+-----------+----------------+--------------+-------------+---------+\n",
            "+---------+--------+-------+--------+---------------+------------------+-----------+----------------+--------------+-------------+---------+\n",
            "\n"
          ]
        }
      ],
      "source": [
        "%%skip $skip_eda\n",
        "\n",
        "small_legit_df.where(small_laundering_df[\"Account2\"] == \"10042B6A8\").show(10)"
      ]
    },
    {
      "cell_type": "code",
      "execution_count": 32,
      "metadata": {
        "colab": {
          "base_uri": "https://localhost:8080/"
        },
        "id": "fsEbjMMsylcm",
        "outputId": "01eb67d8-01c4-414f-e459-54f32b1a619f"
      },
      "outputs": [
        {
          "output_type": "stream",
          "name": "stdout",
          "text": [
            "+---------+--------+-------+--------+---------------+------------------+-----------+----------------+--------------+-------------+---------+\n",
            "|From Bank|Account2|To Bank|Account4|Amount Received|Receiving Currency|Amount Paid|Payment Currency|Payment Format|Is Laundering|Timestamp|\n",
            "+---------+--------+-------+--------+---------------+------------------+-----------+----------------+--------------+-------------+---------+\n",
            "+---------+--------+-------+--------+---------------+------------------+-----------+----------------+--------------+-------------+---------+\n",
            "\n"
          ]
        }
      ],
      "source": [
        "%%skip $skip_eda\n",
        "\n",
        "small_laundering_df.where(small_laundering_df[\"Account2\"] == \"10042B6A8\").show(10)"
      ]
    },
    {
      "cell_type": "code",
      "execution_count": 33,
      "metadata": {
        "colab": {
          "base_uri": "https://localhost:8080/"
        },
        "id": "7xtvkuDoqswr",
        "outputId": "e5d2d8d1-9443-4466-c9d4-76372d678eb1"
      },
      "outputs": [
        {
          "output_type": "stream",
          "name": "stdout",
          "text": [
            "+---------+--------+-------+--------+---------------+------------------+-----------+----------------+--------------+-------------+---------+\n",
            "|From Bank|Account2|To Bank|Account4|Amount Received|Receiving Currency|Amount Paid|Payment Currency|Payment Format|Is Laundering|Timestamp|\n",
            "+---------+--------+-------+--------+---------------+------------------+-----------+----------------+--------------+-------------+---------+\n",
            "+---------+--------+-------+--------+---------------+------------------+-----------+----------------+--------------+-------------+---------+\n",
            "\n"
          ]
        }
      ],
      "source": [
        "%%skip $skip_eda\n",
        "\n",
        "receinving_accs = [\"806242CD0\", \"806573660\", \"80E95DAC0\", \"801F02820\", \"805F99460\",\n",
        "                   \"80AEDE4A0\", \"80B2862D0\", \"816325220\", \"8041E5A30\", \"8007D19B0\"]\n",
        "small_laundering_df.where(small_laundering_df[\"Account2\"].isin(receinving_accs)).show(10)"
      ]
    },
    {
      "cell_type": "markdown",
      "metadata": {
        "id": "gckKIBz0yA_v"
      },
      "source": [
        "**Time-related analysis:**\n",
        "\n",
        "* Extract day of the week: Convert the timestamp into a day of the week feature. Illegal transactions may exhibit certain patterns or anomalies depending on the day of the week.\n",
        "\n",
        "* Extract hour of the day: Convert the timestamp into an hour of the day feature. Similar to the day of the week, certain hours may be more associated with illegal activities."
      ]
    },
    {
      "cell_type": "code",
      "execution_count": 34,
      "metadata": {
        "colab": {
          "base_uri": "https://localhost:8080/"
        },
        "id": "W9SOGr_OzIID",
        "outputId": "777a3aae-e1a0-447c-e1a8-9a6444384b3b"
      },
      "outputs": [
        {
          "output_type": "stream",
          "name": "stdout",
          "text": [
            "+---------+-----+-------+---------------+\n",
            "|  Weekday|count| count2|Laundering Rate|\n",
            "+---------+-----+-------+---------------+\n",
            "|   Sunday|  647| 207190|   0.0031227376|\n",
            "| Saturday|  848| 414882|   0.0020439547|\n",
            "|   Monday|  641| 482290|   0.0013290759|\n",
            "|  Tuesday|  637| 481636|   0.0013225756|\n",
            "|Wednesday|  567| 482305|   0.0011756046|\n",
            "|   Friday|  948|1408014|   0.0006732888|\n",
            "| Thursday|  889|1596851|   0.0005567207|\n",
            "+---------+-----+-------+---------------+\n",
            "\n"
          ]
        }
      ],
      "source": [
        "%%skip $skip_eda\n",
        "\n",
        "weekly_laundering = small_laundering_df.withColumn(\"Weekday\", date_format('Timestamp', 'EEEE')).groupBy(\"Weekday\").count().cache()\n",
        "weekly_legit = small_legit_df.withColumn(\"Weekday\", date_format('Timestamp', 'EEEE')).groupBy(\"Weekday\").count().cache()\n",
        "weekly_laundering.join(weekly_legit.withColumnRenamed(\"count\", \"count2\"), \"Weekday\"). \\\n",
        "                 withColumn(\"Laundering Rate\", col(\"count\") / col(\"count2\")). \\\n",
        "                 withColumn(\"Laundering Rate\", col(\"Laundering Rate\").cast('Decimal(20,10)')). \\\n",
        "                 orderBy(col(\"Laundering Rate\").desc()). \\\n",
        "                 show()"
      ]
    },
    {
      "cell_type": "code",
      "execution_count": 35,
      "metadata": {
        "colab": {
          "base_uri": "https://localhost:8080/"
        },
        "id": "aRWhQpDS8sQe",
        "outputId": "0a8b34a6-2b4d-4acb-ae2a-8991b385956e"
      },
      "outputs": [
        {
          "output_type": "stream",
          "name": "stdout",
          "text": [
            "+----+-----+------+------------+\n",
            "|Hour|count|count2| Hourly Rate|\n",
            "+----+-----+------+------------+\n",
            "|  12|  336|192636|0.0017442223|\n",
            "|  16|  311|193096|0.0016105978|\n",
            "|  11|  295|193205|0.0015268756|\n",
            "|  13|  292|192229|0.0015190216|\n",
            "|  14|  279|192508|0.0014492904|\n",
            "|  15|  263|194608|0.0013514347|\n",
            "|   8|  258|192663|0.0013391258|\n",
            "|  17|  257|192897|0.0013323172|\n",
            "|  18|  255|193066|0.0013207919|\n",
            "|  10|  234|192995|0.0012124666|\n",
            "|  19|  231|192593|0.0011994205|\n",
            "|   9|  217|192735|0.0011258983|\n",
            "|   6|  207|194249|0.0010656426|\n",
            "|   7|  195|193141|0.0010096251|\n",
            "|   5|  188|193712|0.0009705129|\n",
            "|   2|  165|192978|0.0008550197|\n",
            "|  21|  154|192038|0.0008019246|\n",
            "|   4|  154|193012|0.0007978779|\n",
            "|   1|  152|193576|0.0007852213|\n",
            "|  23|  150|193195|0.0007764176|\n",
            "+----+-----+------+------------+\n",
            "only showing top 20 rows\n",
            "\n"
          ]
        }
      ],
      "source": [
        "%%skip $skip_eda\n",
        "\n",
        "hourly_laundering = small_laundering_df.withColumn(\"Hour\", hour('Timestamp')).groupBy(\"Hour\").count().cache()\n",
        "hourly_legit = small_legit_df.withColumn(\"Hour\", hour('Timestamp')).groupBy(\"Hour\").count().cache()\n",
        "hourly_laundering.join(hourly_legit.withColumnRenamed(\"count\", \"count2\"), \"Hour\"). \\\n",
        "                 withColumn(\"Hourly Rate\", col(\"count\") / col(\"count2\")). \\\n",
        "                 withColumn(\"Hourly Rate\", col(\"Hourly Rate\").cast('Decimal(20,10)')). \\\n",
        "                 orderBy(col(\"Hourly Rate\").desc()). \\\n",
        "                 show()"
      ]
    },
    {
      "cell_type": "code",
      "execution_count": 36,
      "metadata": {
        "colab": {
          "base_uri": "https://localhost:8080/"
        },
        "id": "cgC03NMC90B-",
        "outputId": "18c2c648-8738-47a8-e128-c676fdacac62"
      },
      "outputs": [
        {
          "output_type": "stream",
          "name": "stdout",
          "text": [
            "+----+-----+-------+------------+\n",
            "|Date|count| count2|  Daily Rate|\n",
            "+----+-----+-------+------------+\n",
            "|  18|    8|      3|2.6666666667|\n",
            "|  17|   15|      8|1.8750000000|\n",
            "|  15|   28|     18|1.5555555556|\n",
            "|  12|  170|    111|1.5315315315|\n",
            "|  11|  232|    164|1.4146341463|\n",
            "|  14|   70|     51|1.3725490196|\n",
            "|  13|  106|     78|1.3589743590|\n",
            "|  16|   26|     20|1.3000000000|\n",
            "|  10|  442| 207883|0.0021261960|\n",
            "|   4|  407| 207023|0.0019659651|\n",
            "|   3|  391| 206991|0.0018889710|\n",
            "|   8|  539| 482234|0.0011177146|\n",
            "|   6|  531| 481558|0.0011026709|\n",
            "|   7|  497| 482254|0.0010305772|\n",
            "|   5|  471| 482179|0.0009768157|\n",
            "|   9|  514| 653953|0.0007859892|\n",
            "|   2|  408| 754041|0.0005410846|\n",
            "|   1|  322|1114599|0.0002888931|\n",
            "+----+-----+-------+------------+\n",
            "\n"
          ]
        }
      ],
      "source": [
        "%%skip $skip_eda\n",
        "\n",
        "daily_laundering = small_laundering_df.withColumn(\"Date\", dayofmonth('Timestamp')).groupBy(\"Date\").count().cache()\n",
        "daily_legit = small_legit_df.withColumn(\"Date\", dayofmonth('Timestamp')).groupBy(\"Date\").count().cache()\n",
        "daily_laundering.join(daily_legit.withColumnRenamed(\"count\", \"count2\"), \"Date\"). \\\n",
        "                 withColumn(\"Daily Rate\", col(\"count\") / col(\"count2\")). \\\n",
        "                 withColumn(\"Daily Rate\", col(\"Daily Rate\").cast('Decimal(20,10)')). \\\n",
        "                 orderBy(col(\"Daily Rate\").desc()). \\\n",
        "                 show()"
      ]
    },
    {
      "cell_type": "markdown",
      "metadata": {
        "id": "_Uin1y6rgK3_"
      },
      "source": [
        "## Feature Data\n",
        "\n",
        "\n",
        "The feature data layer comprises an analytics-specific data model that includes a collection of features defined based on the primary data. In practical terms, this layer represents both the independent variables and the target variable, which serve as the foundation for exploring and applying machine learning techniques."
      ]
    },
    {
      "cell_type": "code",
      "execution_count": 37,
      "metadata": {
        "id": "yhXUHIILbLFO"
      },
      "outputs": [],
      "source": [
        "def create_time_features(ds):\n",
        "  ds = ds.withColumn(\"Hour\", hour('Timestamp'))\n",
        "  ds = ds.withColumn(\"Day\", dayofmonth('Timestamp'))\n",
        "  ds = ds.withColumn(\"Minute\", minute('Timestamp'))\n",
        "  ds = ds.withColumn(\"Date\", to_date('Timestamp'))\n",
        "  ds = ds.withColumn(\"Weekday\", date_format('Timestamp', 'EEEE'))\n",
        "  return ds\n",
        "\n",
        "def create_self_payment_feature(ds):\n",
        "  ds = ds.withColumn(\"SelfPayment\", when(col(\"Account2\") == col(\"Account4\"), 1).otherwise(0))\n",
        "  return ds\n",
        "\n",
        "def clean_payment_format(ds):\n",
        "  ds = ds.where(col(\"Payment Format\") != \"Reinvestment\")\n",
        "  return ds\n",
        "\n",
        "def create_currency_features(ds):\n",
        "  ds = ds.withColumn(\"SameCurrencyTransaction\", when(col(\"Receiving Currency\") == col(\"Payment Currency\"), 1).otherwise(0))\n",
        "  ds = ds.drop(\"Payment Currency\")\n",
        "  ds = ds.withColumnRenamed(\"Receiving Currency\", \"Currency\")\n",
        "  return ds\n",
        "\n",
        "def create_ammount_features(ds):\n",
        "  ds = ds.withColumn(\"AmtReceivedRatio\",  col(\"Amount Received\") / col(\"Amount Paid\"))\n",
        "  ds = ds.drop(\"Amount Paid\")\n",
        "  ds = ds.withColumnRenamed(\"Amount Received\", \"AmtReceived\")\n",
        "  return ds\n",
        "\n",
        "def trans_by_acc_features(ds):\n",
        "  # Total Transaction Ammount in Hour\n",
        "  temp = ds.groupBy(\"Account2\", \"Hour\").agg(count(\"*\").alias(\"AccTransAmtInHour\")).cache()\n",
        "  ds = ds.join(temp, on=[\"Account2\", \"Hour\"], how=\"left\")\n",
        "  # Total Transaction Ammount in Day\n",
        "  temp = ds.groupBy(\"Account2\", \"Day\").agg(count(\"*\").alias(\"AccTransAmtInDay\")).cache()\n",
        "  ds = ds.join(temp, on=[\"Account2\", \"Day\"], how=\"left\")\n",
        "\n",
        "  # Transaction Number by the Account in the Hour\n",
        "  w = Window.partitionBy(ds[\"Account2\"], ds[\"Date\"], ds[\"Hour\"]).orderBy(ds[\"Minute\"])\n",
        "  ds = ds.withColumn('AccTransNumByHour', row_number().over(w))\n",
        "  # Transaction Number by the Account in the Day\n",
        "  w = Window.partitionBy(ds[\"Account2\"], ds[\"Date\"]).orderBy(ds[\"Hour\"], ds[\"Minute\"])\n",
        "  ds = ds.withColumn('AccTransNumByDay', row_number().over(w))\n",
        "\n",
        "  # Time in mins since last transaction\n",
        "  w = Window.partitionBy(ds[\"Account2\"]).orderBy(ds[\"Timestamp\"])\n",
        "  ds = ds.withColumn(\"MinsSinceLastTrans\", coalesce(round((unix_timestamp(\"Timestamp\") - lag(unix_timestamp(\"Timestamp\"), 1).over(w))/60), lit(0)))\n",
        "\n",
        "  return ds\n",
        "\n",
        "def receiving_acc_features(ds):\n",
        "  # Total Transaction Ammount to same account in Hour\n",
        "  temp = ds.groupBy(\"Account2\", \"Account4\", \"Hour\").agg(count(\"*\").alias(\"HourAccTransAmtToSameAcc\")).cache()\n",
        "  ds = ds.join(temp, on=[\"Account2\", \"Account4\", \"Hour\"], how=\"left\")\n",
        "  # Total Transaction Ammount to same account in Day\n",
        "  temp = ds.groupBy(\"Account2\", \"Account4\", \"Day\").agg(count(\"*\").alias(\"DayAccTransAmtToSameAcc\")).cache()\n",
        "  ds = ds.join(temp, on=[\"Account2\", \"Account4\", \"Day\"], how=\"left\")\n",
        "\n",
        "  # Transaction Number by the Account to same account in the Hour\n",
        "  w = Window.partitionBy(ds[\"Account2\"], ds[\"Account4\"], ds[\"Date\"], ds[\"Hour\"]).orderBy(ds[\"Minute\"])\n",
        "  ds = ds.withColumn('HourAccTransNumToSameAcc', row_number().over(w))\n",
        "  # Transaction Number by the Account to same account in the Day\n",
        "  w = Window.partitionBy(ds[\"Account2\"], ds[\"Account4\"], ds[\"Date\"]).orderBy(ds[\"Hour\"], ds[\"Minute\"])\n",
        "  ds = ds.withColumn('DayAccTransNumToSameAcc', row_number().over(w))\n",
        "\n",
        "  # Time in mins since last transaction to same account\n",
        "  w = Window.partitionBy(ds[\"Account2\"], ds[\"Account4\"]).orderBy(ds[\"Timestamp\"])\n",
        "  ds = ds.withColumn(\"MinsSinceLastTransToSameAcc\", coalesce(round((unix_timestamp(\"Timestamp\") - lag(unix_timestamp(\"Timestamp\"), 1).over(w))/60), lit(0)))\n",
        "\n",
        "  # Amt of Transactions to Acc4 in Last Hour\n",
        "  w = Window.partitionBy(ds['Account4'], ds[\"Date\"], ds[\"Hour\"]).orderBy('Minute')\n",
        "  ds = ds.withColumn('HourDestAccTransReceived', count('Account2').over(w))\n",
        "\n",
        "  # Amt of Transactions to Acc4 in Last Day\n",
        "  w = Window.partitionBy(ds['Account4'], ds[\"Date\"]).orderBy(ds[\"Hour\"], ds[\"Minute\"])\n",
        "  ds = ds.withColumn('DayDestAccTransReceived', count('Account2').over(w))\n",
        "\n",
        "  return ds\n",
        "\n",
        "def cleanup(ds):\n",
        "   ds = ds.drop(\"Date\")\n",
        "   ds = ds.drop(\"Timestamp\")\n",
        "   ds = ds.drop(\"Account2\")\n",
        "   ds = ds.drop(\"Account4\")\n",
        "   return ds"
      ]
    },
    {
      "cell_type": "code",
      "execution_count": 38,
      "metadata": {
        "id": "HY8ntz0QedGm"
      },
      "outputs": [],
      "source": [
        "%%skip $skip_feature_viz\n",
        "small_df = hi_small_df"
      ]
    },
    {
      "cell_type": "code",
      "execution_count": 39,
      "metadata": {
        "colab": {
          "base_uri": "https://localhost:8080/"
        },
        "id": "zxkINfAEdxAl",
        "outputId": "d0f3b0aa-d94b-4d14-fcf0-1c1ea9c5fb51"
      },
      "outputs": [
        {
          "output_type": "stream",
          "name": "stdout",
          "text": [
            "+---------+---------+-------+---------+---------------+------------------+-----------+----------------+--------------+-------------+-------------------+----+---+------+----------+--------+\n",
            "|From Bank| Account2|To Bank| Account4|Amount Received|Receiving Currency|Amount Paid|Payment Currency|Payment Format|Is Laundering|          Timestamp|Hour|Day|Minute|      Date| Weekday|\n",
            "+---------+---------+-------+---------+---------------+------------------+-----------+----------------+--------------+-------------+-------------------+----+---+------+----------+--------+\n",
            "|       10|8000EBD30|     10|8000EBD30|        3697.34|         US Dollar|    3697.34|       US Dollar|  Reinvestment|            0|2022-09-01 00:20:00|   0|  1|    20|2022-09-01|Thursday|\n",
            "|     3208|8000F4580|      1|8000F5340|           0.01|         US Dollar|       0.01|       US Dollar|        Cheque|            0|2022-09-01 00:20:00|   0|  1|    20|2022-09-01|Thursday|\n",
            "|     3209|8000F4670|   3209|8000F4670|       14675.57|         US Dollar|   14675.57|       US Dollar|  Reinvestment|            0|2022-09-01 00:00:00|   0|  1|     0|2022-09-01|Thursday|\n",
            "|       12|8000F5030|     12|8000F5030|        2806.97|         US Dollar|    2806.97|       US Dollar|  Reinvestment|            0|2022-09-01 00:02:00|   0|  1|     2|2022-09-01|Thursday|\n",
            "|       10|8000F5200|     10|8000F5200|       36682.97|         US Dollar|   36682.97|       US Dollar|  Reinvestment|            0|2022-09-01 00:06:00|   0|  1|     6|2022-09-01|Thursday|\n",
            "+---------+---------+-------+---------+---------------+------------------+-----------+----------------+--------------+-------------+-------------------+----+---+------+----------+--------+\n",
            "only showing top 5 rows\n",
            "\n"
          ]
        }
      ],
      "source": [
        "%%skip $skip_feature_viz\n",
        "small_df = create_time_features(small_df)\n",
        "small_df.show(5)"
      ]
    },
    {
      "cell_type": "code",
      "execution_count": 40,
      "metadata": {
        "colab": {
          "base_uri": "https://localhost:8080/"
        },
        "id": "420H_dETdzqG",
        "outputId": "bb507146-8bcb-4def-a543-bc71595ea793"
      },
      "outputs": [
        {
          "output_type": "stream",
          "name": "stdout",
          "text": [
            "+--------------+-------+\n",
            "|Payment Format|  count|\n",
            "+--------------+-------+\n",
            "|           ACH| 600797|\n",
            "|       Bitcoin| 146091|\n",
            "|        Cheque|1864331|\n",
            "|   Credit Card|1323324|\n",
            "|          Cash| 490891|\n",
            "|          Wire| 171855|\n",
            "+--------------+-------+\n",
            "\n",
            "+-----------+-------+\n",
            "|SelfPayment|  count|\n",
            "+-----------+-------+\n",
            "|          0|4487133|\n",
            "|          1| 110156|\n",
            "+-----------+-------+\n",
            "\n"
          ]
        }
      ],
      "source": [
        "%%skip $skip_feature_viz\n",
        "small_df = create_self_payment_feature(small_df)\n",
        "small_df = clean_payment_format(small_df)\n",
        "small_df.groupBy(\"Payment Format\").count().show()\n",
        "small_df.groupBy(\"SelfPayment\").count().show()"
      ]
    },
    {
      "cell_type": "code",
      "execution_count": 41,
      "metadata": {
        "colab": {
          "base_uri": "https://localhost:8080/"
        },
        "id": "vLxfgMG3d4uF",
        "outputId": "0e7920cd-fa73-4746-f362-2aed4d37d6b8"
      },
      "outputs": [
        {
          "output_type": "stream",
          "name": "stdout",
          "text": [
            "+---------+---------+-------+---------+---------------+---------+-----------+--------------+-------------+-------------------+----+---+------+----------+--------+-----------+-----------------------+\n",
            "|From Bank| Account2|To Bank| Account4|Amount Received| Currency|Amount Paid|Payment Format|Is Laundering|          Timestamp|Hour|Day|Minute|      Date| Weekday|SelfPayment|SameCurrencyTransaction|\n",
            "+---------+---------+-------+---------+---------------+---------+-----------+--------------+-------------+-------------------+----+---+------+----------+--------+-----------+-----------------------+\n",
            "|     3208|8000F4580|      1|8000F5340|           0.01|US Dollar|       0.01|        Cheque|            0|2022-09-01 00:20:00|   0|  1|    20|2022-09-01|Thursday|          0|                      1|\n",
            "|       12|8000EC280|   2439|8017BF800|           7.66|US Dollar|       7.66|   Credit Card|            0|2022-09-01 00:26:00|   0|  1|    26|2022-09-01|Thursday|          0|                      1|\n",
            "|        1|8000EDEC0| 211050|80AEF5310|         383.71|US Dollar|     383.71|   Credit Card|            0|2022-09-01 00:21:00|   0|  1|    21|2022-09-01|Thursday|          0|                      1|\n",
            "|        1|8000F4510|  11813|8011305D0|           9.82|US Dollar|       9.82|   Credit Card|            0|2022-09-01 00:04:00|   0|  1|     4|2022-09-01|Thursday|          0|                      1|\n",
            "|        1|8000F4FE0| 245335|812ED62E0|           4.01|US Dollar|       4.01|   Credit Card|            0|2022-09-01 00:08:00|   0|  1|     8|2022-09-01|Thursday|          0|                      1|\n",
            "+---------+---------+-------+---------+---------------+---------+-----------+--------------+-------------+-------------------+----+---+------+----------+--------+-----------+-----------------------+\n",
            "only showing top 5 rows\n",
            "\n"
          ]
        }
      ],
      "source": [
        "%%skip $skip_feature_viz\n",
        "small_df = create_currency_features(small_df)\n",
        "small_df.show(5)"
      ]
    },
    {
      "cell_type": "code",
      "execution_count": 42,
      "metadata": {
        "colab": {
          "base_uri": "https://localhost:8080/"
        },
        "id": "--4405kTd7tu",
        "outputId": "2443e342-b8f5-4d8b-a4ad-96343bd398e9"
      },
      "outputs": [
        {
          "output_type": "stream",
          "name": "stdout",
          "text": [
            "+---------+---------+-------+---------+-----------+---------+--------------+-------------+-------------------+----+---+------+----------+--------+-----------+-----------------------+----------------+\n",
            "|From Bank| Account2|To Bank| Account4|AmtReceived| Currency|Payment Format|Is Laundering|          Timestamp|Hour|Day|Minute|      Date| Weekday|SelfPayment|SameCurrencyTransaction|AmtReceivedRatio|\n",
            "+---------+---------+-------+---------+-----------+---------+--------------+-------------+-------------------+----+---+------+----------+--------+-----------+-----------------------+----------------+\n",
            "|     3208|8000F4580|      1|8000F5340|       0.01|US Dollar|        Cheque|            0|2022-09-01 00:20:00|   0|  1|    20|2022-09-01|Thursday|          0|                      1|             1.0|\n",
            "|       12|8000EC280|   2439|8017BF800|       7.66|US Dollar|   Credit Card|            0|2022-09-01 00:26:00|   0|  1|    26|2022-09-01|Thursday|          0|                      1|             1.0|\n",
            "|        1|8000EDEC0| 211050|80AEF5310|     383.71|US Dollar|   Credit Card|            0|2022-09-01 00:21:00|   0|  1|    21|2022-09-01|Thursday|          0|                      1|             1.0|\n",
            "|        1|8000F4510|  11813|8011305D0|       9.82|US Dollar|   Credit Card|            0|2022-09-01 00:04:00|   0|  1|     4|2022-09-01|Thursday|          0|                      1|             1.0|\n",
            "|        1|8000F4FE0| 245335|812ED62E0|       4.01|US Dollar|   Credit Card|            0|2022-09-01 00:08:00|   0|  1|     8|2022-09-01|Thursday|          0|                      1|             1.0|\n",
            "+---------+---------+-------+---------+-----------+---------+--------------+-------------+-------------------+----+---+------+----------+--------+-----------+-----------------------+----------------+\n",
            "only showing top 5 rows\n",
            "\n"
          ]
        }
      ],
      "source": [
        "%%skip $skip_feature_viz\n",
        "small_df = create_ammount_features(small_df)\n",
        "small_df.show(5)"
      ]
    },
    {
      "cell_type": "code",
      "execution_count": 43,
      "metadata": {
        "colab": {
          "base_uri": "https://localhost:8080/"
        },
        "id": "2iwgT6SRhjB0",
        "outputId": "a76ac134-14d1-4add-af8f-6e5fa6f7f14e"
      },
      "outputs": [
        {
          "output_type": "stream",
          "name": "stdout",
          "text": [
            "+---------+---------+---+----+---------+-------+-----------+---------+--------------+-------------+-------------------+------+----------+--------+-----------+-----------------------+----------------+-----------------+----------------+-----------------+----------------+------------------+------------------------+-----------------------+------------------------+-----------------------+---------------------------+------------------------+-----------------------+\n",
            "| Account2| Account4|Day|Hour|From Bank|To Bank|AmtReceived| Currency|Payment Format|Is Laundering|          Timestamp|Minute|      Date| Weekday|SelfPayment|SameCurrencyTransaction|AmtReceivedRatio|AccTransAmtInHour|AccTransAmtInDay|AccTransNumByHour|AccTransNumByDay|MinsSinceLastTrans|HourAccTransAmtToSameAcc|DayAccTransAmtToSameAcc|HourAccTransNumToSameAcc|DayAccTransNumToSameAcc|MinsSinceLastTransToSameAcc|HourDestAccTransReceived|DayDestAccTransReceived|\n",
            "+---------+---------+---+----+---------+-------+-----------+---------+--------------+-------------+-------------------+------+----------+--------+-----------+-----------------------+----------------+-----------------+----------------+-----------------+----------------+------------------+------------------------+-----------------------+------------------------+-----------------------+---------------------------+------------------------+-----------------------+\n",
            "|80E0DD780|100428660|  1|   0|   320085|     70|       0.06|US Dollar|          Cash|            0|2022-09-01 00:06:00|     6|2022-09-01|Thursday|          0|                      1|             1.0|                1|               1|                1|               1|               0.0|                       1|                      1|                       1|                      1|                        0.0|                       1|                      1|\n",
            "|8032E38E0|100428660|  1|   0|    31438|     70|       0.01|US Dollar|          Cash|            0|2022-09-01 00:22:00|    22|2022-09-01|Thursday|          0|                      1|             1.0|                1|               1|                1|               1|               0.0|                       1|                      1|                       1|                      1|                        0.0|                       2|                      2|\n",
            "|80DFCB240|100428660|  1|   5|   310836|     70|       0.03|US Dollar|          Cash|            0|2022-09-01 05:38:00|    38|2022-09-01|Thursday|          0|                      1|             1.0|                1|               1|                1|               1|               0.0|                       1|                      1|                       1|                      1|                        0.0|                       1|                      3|\n",
            "|80E2C5A90|100428660|  1|  13|    33138|     70|       0.02|US Dollar|          Cash|            0|2022-09-01 13:37:00|    37|2022-09-01|Thursday|          0|                      1|             1.0|                1|               1|                1|               1|               0.0|                       1|                      1|                       1|                      1|                        0.0|                       1|                      4|\n",
            "|80E157840|100428660|  1|  14|    33407|     70|       0.01|US Dollar|          Cash|            0|2022-09-01 14:28:00|    28|2022-09-01|Thursday|          0|                      1|             1.0|                1|               1|                1|               1|               0.0|                       1|                      1|                       1|                      1|                        0.0|                       1|                      5|\n",
            "+---------+---------+---+----+---------+-------+-----------+---------+--------------+-------------+-------------------+------+----------+--------+-----------+-----------------------+----------------+-----------------+----------------+-----------------+----------------+------------------+------------------------+-----------------------+------------------------+-----------------------+---------------------------+------------------------+-----------------------+\n",
            "only showing top 5 rows\n",
            "\n"
          ]
        }
      ],
      "source": [
        "%%skip $skip_feature_viz\n",
        "small_df = trans_by_acc_features(small_df)\n",
        "small_df = receiving_acc_features(small_df)\n",
        "small_df.show(5)"
      ]
    },
    {
      "cell_type": "code",
      "execution_count": 44,
      "metadata": {
        "colab": {
          "base_uri": "https://localhost:8080/"
        },
        "id": "5KvQRxolHF9I",
        "outputId": "369c5dc1-082f-421f-b168-f4706be4e199"
      },
      "outputs": [
        {
          "output_type": "stream",
          "name": "stdout",
          "text": [
            "+---+----+---------+-------+-----------+---------+--------------+-------------+------+--------+-----------+-----------------------+----------------+-----------------+----------------+-----------------+----------------+------------------+------------------------+-----------------------+------------------------+-----------------------+---------------------------+------------------------+-----------------------+\n",
            "|Day|Hour|From Bank|To Bank|AmtReceived| Currency|Payment Format|Is Laundering|Minute| Weekday|SelfPayment|SameCurrencyTransaction|AmtReceivedRatio|AccTransAmtInHour|AccTransAmtInDay|AccTransNumByHour|AccTransNumByDay|MinsSinceLastTrans|HourAccTransAmtToSameAcc|DayAccTransAmtToSameAcc|HourAccTransNumToSameAcc|DayAccTransNumToSameAcc|MinsSinceLastTransToSameAcc|HourDestAccTransReceived|DayDestAccTransReceived|\n",
            "+---+----+---------+-------+-----------+---------+--------------+-------------+------+--------+-----------+-----------------------+----------------+-----------------+----------------+-----------------+----------------+------------------+------------------------+-----------------------+------------------------+-----------------------+---------------------------+------------------------+-----------------------+\n",
            "|  1|   0|   320085|     70|       0.06|US Dollar|          Cash|            0|     6|Thursday|          0|                      1|             1.0|                1|               1|                1|               1|               0.0|                       1|                      1|                       1|                      1|                        0.0|                       1|                      1|\n",
            "|  1|   0|    31438|     70|       0.01|US Dollar|          Cash|            0|    22|Thursday|          0|                      1|             1.0|                1|               1|                1|               1|               0.0|                       1|                      1|                       1|                      1|                        0.0|                       2|                      2|\n",
            "|  1|   5|   310836|     70|       0.03|US Dollar|          Cash|            0|    38|Thursday|          0|                      1|             1.0|                1|               1|                1|               1|               0.0|                       1|                      1|                       1|                      1|                        0.0|                       1|                      3|\n",
            "|  1|  13|    33138|     70|       0.02|US Dollar|          Cash|            0|    37|Thursday|          0|                      1|             1.0|                1|               1|                1|               1|               0.0|                       1|                      1|                       1|                      1|                        0.0|                       1|                      4|\n",
            "|  1|  14|    33407|     70|       0.01|US Dollar|          Cash|            0|    28|Thursday|          0|                      1|             1.0|                1|               1|                1|               1|               0.0|                       1|                      1|                       1|                      1|                        0.0|                       1|                      5|\n",
            "|  1|  22|    33387|     70|       0.06|US Dollar|          Cash|            0|    11|Thursday|          0|                      1|             1.0|                1|               1|                1|               1|               0.0|                       1|                      1|                       1|                      1|                        0.0|                       1|                      6|\n",
            "|  2|   0|   317614|     70|      48.02|US Dollar|          Cash|            0|     2|  Friday|          0|                      1|             1.0|                1|               1|                1|               1|               0.0|                       1|                      1|                       1|                      1|                        0.0|                       1|                      1|\n",
            "|  2|   0|    31080|     70|     186.55|US Dollar|          Cash|            0|     3|  Friday|          0|                      1|             1.0|                1|               1|                1|               1|               0.0|                       1|                      1|                       1|                      1|                        0.0|                       2|                      2|\n",
            "|  2|   0|    31277|     70|     169.69|US Dollar|          Cash|            0|     5|  Friday|          0|                      1|             1.0|                1|               1|                1|               1|               0.0|                       1|                      1|                       1|                      1|                        0.0|                       3|                      3|\n",
            "|  2|   0|    32206|     70|      73.75|US Dollar|          Cash|            0|    16|  Friday|          0|                      1|             1.0|                2|               1|                1|               1|               0.0|                       2|                      1|                       1|                      1|                        0.0|                       4|                      4|\n",
            "|  2|   0|   315500|     70|     161.11|US Dollar|          Cash|            0|    19|  Friday|          0|                      1|             1.0|                1|               1|                1|               1|               0.0|                       1|                      1|                       1|                      1|                        0.0|                       5|                      5|\n",
            "|  2|   0|    33783|     70|      58.63|US Dollar|          Cash|            0|    20|  Friday|          0|                      1|             1.0|                1|               1|                1|               1|               0.0|                       1|                      1|                       1|                      1|                        0.0|                       6|                      6|\n",
            "|  2|   0|   313531|     70|      45.27|US Dollar|          Cash|            0|    25|  Friday|          0|                      1|             1.0|                1|               1|                1|               1|               0.0|                       1|                      1|                       1|                      1|                        0.0|                       7|                      7|\n",
            "|  2|   0|     3475|     70|     196.46|US Dollar|          Cash|            0|    27|  Friday|          0|                      1|             1.0|                1|               1|                1|               1|               0.0|                       1|                      1|                       1|                      1|                        0.0|                       8|                      8|\n",
            "|  2|   0|    31266|     70|     168.03|US Dollar|          Cash|            0|    33|  Friday|          0|                      1|             1.0|                1|               1|                1|               1|               0.0|                       1|                      1|                       1|                      1|                        0.0|                       9|                      9|\n",
            "|  2|   0|   315069|     70|     285.38|US Dollar|          Cash|            0|    34|  Friday|          0|                      1|             1.0|                1|               1|                1|               1|               0.0|                       1|                      1|                       1|                      1|                        0.0|                      10|                     10|\n",
            "|  2|   0|    38294|     70|     309.76|US Dollar|          Cash|            0|    35|  Friday|          0|                      1|             1.0|                1|               1|                1|               1|               0.0|                       1|                      1|                       1|                      1|                        0.0|                      11|                     11|\n",
            "|  2|   0|   338279|     70|      75.49|US Dollar|          Cash|            0|    36|  Friday|          0|                      1|             1.0|                1|               1|                1|               1|               0.0|                       1|                      1|                       1|                      1|                        0.0|                      12|                     12|\n",
            "|  2|   0|   316300|     70|     212.96|US Dollar|          Cash|            0|    37|  Friday|          0|                      1|             1.0|                2|               1|                1|               1|               0.0|                       2|                      1|                       1|                      1|                        0.0|                      14|                     14|\n",
            "|  2|   0|   330036|     70|     102.99|US Dollar|          Cash|            0|    37|  Friday|          0|                      1|             1.0|                1|               1|                1|               1|               0.0|                       1|                      1|                       1|                      1|                        0.0|                      14|                     14|\n",
            "+---+----+---------+-------+-----------+---------+--------------+-------------+------+--------+-----------+-----------------------+----------------+-----------------+----------------+-----------------+----------------+------------------+------------------------+-----------------------+------------------------+-----------------------+---------------------------+------------------------+-----------------------+\n",
            "only showing top 20 rows\n",
            "\n"
          ]
        }
      ],
      "source": [
        "%%skip $skip_feature_viz\n",
        "small_df = cleanup(small_df)\n",
        "small_df.show()"
      ]
    },
    {
      "cell_type": "code",
      "execution_count": 45,
      "metadata": {
        "id": "qzxks-7CuLzP"
      },
      "outputs": [],
      "source": [
        "def feature_creation_pipeline(ds):\n",
        "  ds = create_time_features(ds)\n",
        "  ds = create_self_payment_feature(ds)\n",
        "  ds = clean_payment_format(ds)\n",
        "  ds = create_currency_features(ds)\n",
        "  ds = create_ammount_features(ds)\n",
        "  ds = trans_by_acc_features(ds)\n",
        "  ds = receiving_acc_features(ds)\n",
        "  ds = cleanup(ds)\n",
        "  return ds"
      ]
    },
    {
      "cell_type": "markdown",
      "metadata": {
        "id": "QbcHikZiHZgx"
      },
      "source": [
        "## Model Inputs"
      ]
    },
    {
      "cell_type": "code",
      "execution_count": 46,
      "metadata": {
        "id": "N-NxvDKLYJhZ"
      },
      "outputs": [],
      "source": [
        "def encode_categorical(ds):\n",
        "  indexer1 = StringIndexer(inputCol=\"Currency\", outputCol=\"CodedCurrency\")\n",
        "  indexer2 = StringIndexer(inputCol=\"Payment Format\", outputCol=\"CodedPaymentFormat\")\n",
        "  indexer3 = StringIndexer(inputCol=\"Weekday\", outputCol=\"CodedWeekday\")\n",
        "  ds = indexer1.fit(ds).transform(ds)\n",
        "  ds = indexer2.fit(ds).transform(ds)\n",
        "  ds = indexer3.fit(ds).transform(ds)\n",
        "  ds = ds.drop(\"Currency\")\n",
        "  ds = ds.drop(\"Weekday\")\n",
        "  ds = ds.drop(\"Payment Format\")\n",
        "  return ds\n",
        "\n",
        "def model_input_pipeline(ds):\n",
        "  ds = encode_categorical(ds)\n",
        "\n",
        "  return ds"
      ]
    },
    {
      "cell_type": "code",
      "execution_count": 47,
      "metadata": {
        "colab": {
          "base_uri": "https://localhost:8080/"
        },
        "id": "WsIloqnX4tgH",
        "outputId": "84ffb402-17e7-479f-ee14-d4695fbb925f"
      },
      "outputs": [
        {
          "output_type": "stream",
          "name": "stdout",
          "text": [
            "+---+----+---------+-------+-----------+-------------+------+-----------+-----------------------+----------------+-----------------+----------------+-----------------+----------------+------------------+------------------------+-----------------------+------------------------+-----------------------+---------------------------+------------------------+-----------------------+-------------+------------------+------------+\n",
            "|Day|Hour|From Bank|To Bank|AmtReceived|Is Laundering|Minute|SelfPayment|SameCurrencyTransaction|AmtReceivedRatio|AccTransAmtInHour|AccTransAmtInDay|AccTransNumByHour|AccTransNumByDay|MinsSinceLastTrans|HourAccTransAmtToSameAcc|DayAccTransAmtToSameAcc|HourAccTransNumToSameAcc|DayAccTransNumToSameAcc|MinsSinceLastTransToSameAcc|HourDestAccTransReceived|DayDestAccTransReceived|CodedCurrency|CodedPaymentFormat|CodedWeekday|\n",
            "+---+----+---------+-------+-----------+-------------+------+-----------+-----------------------+----------------+-----------------+----------------+-----------------+----------------+------------------+------------------------+-----------------------+------------------------+-----------------------+---------------------------+------------------------+-----------------------+-------------+------------------+------------+\n",
            "|  1|   0|   320085|     70|       0.06|            0|     6|          0|                      1|             1.0|                1|               1|                1|               1|               0.0|                       1|                      1|                       1|                      1|                        0.0|                       1|                      1|          0.0|               3.0|         1.0|\n",
            "|  1|   0|    31438|     70|       0.01|            0|    22|          0|                      1|             1.0|                1|               1|                1|               1|               0.0|                       1|                      1|                       1|                      1|                        0.0|                       2|                      2|          0.0|               3.0|         1.0|\n",
            "|  1|   5|   310836|     70|       0.03|            0|    38|          0|                      1|             1.0|                1|               1|                1|               1|               0.0|                       1|                      1|                       1|                      1|                        0.0|                       1|                      3|          0.0|               3.0|         1.0|\n",
            "|  1|  13|    33138|     70|       0.02|            0|    37|          0|                      1|             1.0|                1|               1|                1|               1|               0.0|                       1|                      1|                       1|                      1|                        0.0|                       1|                      4|          0.0|               3.0|         1.0|\n",
            "|  1|  14|    33407|     70|       0.01|            0|    28|          0|                      1|             1.0|                1|               1|                1|               1|               0.0|                       1|                      1|                       1|                      1|                        0.0|                       1|                      5|          0.0|               3.0|         1.0|\n",
            "+---+----+---------+-------+-----------+-------------+------+-----------+-----------------------+----------------+-----------------+----------------+-----------------+----------------+------------------+------------------------+-----------------------+------------------------+-----------------------+---------------------------+------------------------+-----------------------+-------------+------------------+------------+\n",
            "only showing top 5 rows\n",
            "\n"
          ]
        }
      ],
      "source": [
        "%%skip $skip_feature_viz\n",
        "model_input_pipeline(small_df).show(5)"
      ]
    },
    {
      "cell_type": "code",
      "execution_count": 48,
      "metadata": {
        "id": "_5hAqnYQYqyV"
      },
      "outputs": [],
      "source": [
        "def data_pipeline(ds):\n",
        "  ds = feature_creation_pipeline(ds)\n",
        "  ds = model_input_pipeline(ds)\n",
        "  return ds\n",
        "\n",
        "hi_small_model_input = data_pipeline(hi_small_df)\n",
        "hi_medium_model_input = data_pipeline(hi_medium_df)"
      ]
    },
    {
      "cell_type": "markdown",
      "metadata": {
        "id": "ceE3IHdCOAAo"
      },
      "source": [
        "### Correlation Matrix"
      ]
    },
    {
      "cell_type": "code",
      "execution_count": 49,
      "metadata": {
        "id": "I_rKRJcZ64Y4"
      },
      "outputs": [],
      "source": [
        "def plot_correlation_matrix(dataset):\n",
        "  # convert to vector column first\n",
        "  vector_col = \"corr_features\"\n",
        "  assembler = VectorAssembler(inputCols=dataset.columns, outputCol=vector_col)\n",
        "  df_vector = assembler.transform(dataset).select(vector_col)\n",
        "\n",
        "  # get correlation matrix\n",
        "  matrix = Correlation.corr(df_vector, vector_col)\n",
        "  cor_np = matrix.collect()[0][matrix.columns[0]].toArray()\n",
        "\n",
        "  labels = dataset.columns\n",
        "  plt.figure(figsize=(16,5))\n",
        "  sns.heatmap(cor_np, xticklabels=labels, yticklabels=labels);"
      ]
    },
    {
      "cell_type": "code",
      "execution_count": 50,
      "metadata": {
        "colab": {
          "base_uri": "https://localhost:8080/",
          "height": 388
        },
        "id": "YlZ-nvmEN8cP",
        "outputId": "9f0faa3c-a9ca-432c-f7e3-be8509ae9540"
      },
      "outputs": [
        {
          "output_type": "display_data",
          "data": {
            "text/plain": [
              "<Figure size 1600x500 with 2 Axes>"
            ],
            "image/png": "[encoded data removed]"
          },
          "metadata": {}
        }
      ],
      "source": [
        "%%skip $skip_feature_viz\n",
        "plot_correlation_matrix(hi_small_model_input)"
      ]
    },
    {
      "cell_type": "markdown",
      "metadata": {
        "id": "m0C4NLdPHTl2"
      },
      "source": [
        "### Split and Save"
      ]
    },
    {
      "cell_type": "code",
      "execution_count": 51,
      "metadata": {
        "id": "guMyeg_QHWol"
      },
      "outputs": [],
      "source": [
        "hi_small_train, hi_small_test = hi_small_model_input.randomSplit([0.7, 0.3], seed=42)\n",
        "hi_medium_train, hi_medium_test = hi_medium_model_input.randomSplit([0.7, 0.3], seed=42)\n",
        "\n",
        "hi_small_train.write.parquet(\"data/02_model_input/hi_small_train.parquet\")\n",
        "hi_small_test.write.parquet(\"data/02_model_input/hi_small_test.parquet\")\n",
        "\n",
        "hi_medium_train.write.parquet(\"data/02_model_input/hi_medium_train.parquet\")\n",
        "hi_medium_test.write.parquet(\"data/02_model_input/hi_medium_test.parquet\")"
      ]
    },
    {
      "cell_type": "markdown",
      "metadata": {
        "id": "Tb2sybU5POQ_"
      },
      "source": [
        "# 1. Decision Tree"
      ]
    },
    {
      "cell_type": "markdown",
      "metadata": {
        "id": "F4obs6eWu1XY"
      },
      "source": [
        "## Iris Dataset\n",
        "\n",
        "Even though the objective of the project is to classify the transactions in the IBM Transactions for Anti Money Laundering dataset, a good approach into developing a machine learning algorithm from scratch it to start developing it in a well controlled environment. Therefore, this project will use the Iris dataset to guide the development of a decision tree. This decision allow us to evaluate the implementation of the model in a common dataset which we know that the decision tree should perfom well. Therefore serving as a baseline and sanity check of the model implementation.\n",
        "\n",
        "The Iris dataset is a traditional dataset used in the machine learning domain to evaluate models. It consists of 3 different types of irises' (Setosa, Versicolour, and Virginica) stored in a 150x4 numpy array. Every type of iris has exactly 50 samples, thus being a well balanced dataset. However, we will constuct a tree focused on binary classification and not multiclass classification, and to do such we remve on the types on the data. The data set data is shown bellow:\n",
        "\n",
        "<img src=\"https://upload.wikimedia.org/wikipedia/commons/5/56/Iris_dataset_scatterplot.svg\" alt=\"drawing\" width=\"500\"/>\n",
        "\n",
        "> *Image courtesy of [wikipedia](https://en.wikipedia.org/wiki/Iris_flower_data_set)*\n",
        "\n",
        "\n"
      ]
    },
    {
      "cell_type": "code",
      "execution_count": 52,
      "metadata": {
        "colab": {
          "base_uri": "https://localhost:8080/",
          "height": 419
        },
        "id": "ggLC_j4Otu8A",
        "outputId": "290558f2-e0d3-47e9-dba5-abe5fbad3df2"
      },
      "outputs": [
        {
          "output_type": "execute_result",
          "data": {
            "text/plain": [
              "     sepal length (cm)  sepal width (cm)  petal length (cm)  petal width (cm)  \\\n",
              "0                  5.1               3.5                1.4               0.2   \n",
              "1                  4.9               3.0                1.4               0.2   \n",
              "2                  4.7               3.2                1.3               0.2   \n",
              "3                  4.6               3.1                1.5               0.2   \n",
              "4                  5.0               3.6                1.4               0.2   \n",
              "..                 ...               ...                ...               ...   \n",
              "145                6.7               3.0                5.2               2.3   \n",
              "146                6.3               2.5                5.0               1.9   \n",
              "147                6.5               3.0                5.2               2.0   \n",
              "148                6.2               3.4                5.4               2.3   \n",
              "149                5.9               3.0                5.1               1.8   \n",
              "\n",
              "     target  \n",
              "0         0  \n",
              "1         0  \n",
              "2         0  \n",
              "3         0  \n",
              "4         0  \n",
              "..      ...  \n",
              "145       2  \n",
              "146       2  \n",
              "147       2  \n",
              "148       2  \n",
              "149       2  \n",
              "\n",
              "[150 rows x 5 columns]"
            ],
            "text/html": [
              "\n",
              "  <div id=\"df-be08665c-dbaa-4236-8021-3b2b555cb494\">\n",
              "    <div class=\"colab-df-container\">\n",
              "      <div>\n",
              "<style scoped>\n",
              "    .dataframe tbody tr th:only-of-type {\n",
              "        vertical-align: middle;\n",
              "    }\n",
              "\n",
              "    .dataframe tbody tr th {\n",
              "        vertical-align: top;\n",
              "    }\n",
              "\n",
              "    .dataframe thead th {\n",
              "        text-align: right;\n",
              "    }\n",
              "</style>\n",
              "<table border=\"1\" class=\"dataframe\">\n",
              "  <thead>\n",
              "    <tr style=\"text-align: right;\">\n",
              "      <th></th>\n",
              "      <th>sepal length (cm)</th>\n",
              "      <th>sepal width (cm)</th>\n",
              "      <th>petal length (cm)</th>\n",
              "      <th>petal width (cm)</th>\n",
              "      <th>target</th>\n",
              "    </tr>\n",
              "  </thead>\n",
              "  <tbody>\n",
              "    <tr>\n",
              "      <th>0</th>\n",
              "      <td>5.1</td>\n",
              "      <td>3.5</td>\n",
              "      <td>1.4</td>\n",
              "      <td>0.2</td>\n",
              "      <td>0</td>\n",
              "    </tr>\n",
              "    <tr>\n",
              "      <th>1</th>\n",
              "      <td>4.9</td>\n",
              "      <td>3.0</td>\n",
              "      <td>1.4</td>\n",
              "      <td>0.2</td>\n",
              "      <td>0</td>\n",
              "    </tr>\n",
              "    <tr>\n",
              "      <th>2</th>\n",
              "      <td>4.7</td>\n",
              "      <td>3.2</td>\n",
              "      <td>1.3</td>\n",
              "      <td>0.2</td>\n",
              "      <td>0</td>\n",
              "    </tr>\n",
              "    <tr>\n",
              "      <th>3</th>\n",
              "      <td>4.6</td>\n",
              "      <td>3.1</td>\n",
              "      <td>1.5</td>\n",
              "      <td>0.2</td>\n",
              "      <td>0</td>\n",
              "    </tr>\n",
              "    <tr>\n",
              "      <th>4</th>\n",
              "      <td>5.0</td>\n",
              "      <td>3.6</td>\n",
              "      <td>1.4</td>\n",
              "      <td>0.2</td>\n",
              "      <td>0</td>\n",
              "    </tr>\n",
              "    <tr>\n",
              "      <th>...</th>\n",
              "      <td>...</td>\n",
              "      <td>...</td>\n",
              "      <td>...</td>\n",
              "      <td>...</td>\n",
              "      <td>...</td>\n",
              "    </tr>\n",
              "    <tr>\n",
              "      <th>145</th>\n",
              "      <td>6.7</td>\n",
              "      <td>3.0</td>\n",
              "      <td>5.2</td>\n",
              "      <td>2.3</td>\n",
              "      <td>2</td>\n",
              "    </tr>\n",
              "    <tr>\n",
              "      <th>146</th>\n",
              "      <td>6.3</td>\n",
              "      <td>2.5</td>\n",
              "      <td>5.0</td>\n",
              "      <td>1.9</td>\n",
              "      <td>2</td>\n",
              "    </tr>\n",
              "    <tr>\n",
              "      <th>147</th>\n",
              "      <td>6.5</td>\n",
              "      <td>3.0</td>\n",
              "      <td>5.2</td>\n",
              "      <td>2.0</td>\n",
              "      <td>2</td>\n",
              "    </tr>\n",
              "    <tr>\n",
              "      <th>148</th>\n",
              "      <td>6.2</td>\n",
              "      <td>3.4</td>\n",
              "      <td>5.4</td>\n",
              "      <td>2.3</td>\n",
              "      <td>2</td>\n",
              "    </tr>\n",
              "    <tr>\n",
              "      <th>149</th>\n",
              "      <td>5.9</td>\n",
              "      <td>3.0</td>\n",
              "      <td>5.1</td>\n",
              "      <td>1.8</td>\n",
              "      <td>2</td>\n",
              "    </tr>\n",
              "  </tbody>\n",
              "</table>\n",
              "<p>150 rows × 5 columns</p>\n",
              "</div>\n",
              "      <button class=\"colab-df-convert\" onclick=\"convertToInteractive('df-be08665c-dbaa-4236-8021-3b2b555cb494')\"\n",
              "              title=\"Convert this dataframe to an interactive table.\"\n",
              "              style=\"display:none;\">\n",
              "        \n",
              "  <svg xmlns=\"http://www.w3.org/2000/svg\" height=\"24px\"viewBox=\"0 0 24 24\"\n",
              "       width=\"24px\">\n",
              "    <path d=\"M0 0h24v24H0V0z\" fill=\"none\"/>\n",
              "    <path d=\"M18.56 5.44l.94 2.06.94-2.06 2.06-.94-2.06-.94-.94-2.06-.94 2.06-2.06.94zm-11 1L8.5 8.5l.94-2.06 2.06-.94-2.06-.94L8.5 2.5l-.94 2.06-2.06.94zm10 10l.94 2.06.94-2.06 2.06-.94-2.06-.94-.94-2.06-.94 2.06-2.06.94z\"/><path d=\"M17.41 7.96l-1.37-1.37c-.4-.4-.92-.59-1.43-.59-.52 0-1.04.2-1.43.59L10.3 9.45l-7.72 7.72c-.78.78-.78 2.05 0 2.83L4 21.41c.39.39.9.59 1.41.59.51 0 1.02-.2 1.41-.59l7.78-7.78 2.81-2.81c.8-.78.8-2.07 0-2.86zM5.41 20L4 18.59l7.72-7.72 1.47 1.35L5.41 20z\"/>\n",
              "  </svg>\n",
              "      </button>\n",
              "      \n",
              "  <style>\n",
              "    .colab-df-container {\n",
              "      display:flex;\n",
              "      flex-wrap:wrap;\n",
              "      gap: 12px;\n",
              "    }\n",
              "\n",
              "    .colab-df-convert {\n",
              "      background-color: #E8F0FE;\n",
              "      border: none;\n",
              "      border-radius: 50%;\n",
              "      cursor: pointer;\n",
              "      display: none;\n",
              "      fill: #1967D2;\n",
              "      height: 32px;\n",
              "      padding: 0 0 0 0;\n",
              "      width: 32px;\n",
              "    }\n",
              "\n",
              "    .colab-df-convert:hover {\n",
              "      background-color: #E2EBFA;\n",
              "      box-shadow: 0px 1px 2px rgba(60, 64, 67, 0.3), 0px 1px 3px 1px rgba(60, 64, 67, 0.15);\n",
              "      fill: #174EA6;\n",
              "    }\n",
              "\n",
              "    [theme=dark] .colab-df-convert {\n",
              "      background-color: #3B4455;\n",
              "      fill: #D2E3FC;\n",
              "    }\n",
              "\n",
              "    [theme=dark] .colab-df-convert:hover {\n",
              "      background-color: #434B5C;\n",
              "      box-shadow: 0px 1px 3px 1px rgba(0, 0, 0, 0.15);\n",
              "      filter: drop-shadow(0px 1px 2px rgba(0, 0, 0, 0.3));\n",
              "      fill: #FFFFFF;\n",
              "    }\n",
              "  </style>\n",
              "\n",
              "      <script>\n",
              "        const buttonEl =\n",
              "          document.querySelector('#df-be08665c-dbaa-4236-8021-3b2b555cb494 button.colab-df-convert');\n",
              "        buttonEl.style.display =\n",
              "          google.colab.kernel.accessAllowed ? 'block' : 'none';\n",
              "\n",
              "        async function convertToInteractive(key) {\n",
              "          const element = document.querySelector('#df-be08665c-dbaa-4236-8021-3b2b555cb494');\n",
              "          const dataTable =\n",
              "            await google.colab.kernel.invokeFunction('convertToInteractive',\n",
              "                                                     [key], {});\n",
              "          if (!dataTable) return;\n",
              "\n",
              "          const docLinkHtml = 'Like what you see? Visit the ' +\n",
              "            '<a target=\"_blank\" href=https://colab.research.google.com/notebooks/data_table.ipynb>data table notebook</a>'\n",
              "            + ' to learn more about interactive tables.';\n",
              "          element.innerHTML = '';\n",
              "          dataTable['output_type'] = 'display_data';\n",
              "          await google.colab.output.renderOutput(dataTable, element);\n",
              "          const docLink = document.createElement('div');\n",
              "          docLink.innerHTML = docLinkHtml;\n",
              "          element.appendChild(docLink);\n",
              "        }\n",
              "      </script>\n",
              "    </div>\n",
              "  </div>\n",
              "  "
            ]
          },
          "metadata": {},
          "execution_count": 52
        }
      ],
      "source": [
        "iris = datasets.load_iris()\n",
        "iris_df = pd.DataFrame(data= np.c_[iris['data'], iris['target']],\n",
        "                     columns= iris['feature_names'] + ['target'])\n",
        "iris_df.target = iris_df.target.astype('int')\n",
        "iris_df"
      ]
    },
    {
      "cell_type": "markdown",
      "metadata": {
        "id": "M2oIJV80z9N1"
      },
      "source": [
        "We will split the dataset into two. The first dataset will have the setosa and the versicolor while the second will have the versicolor and virginica. From the data visualization image the former dataset will be linear separable in multiple thus being easier to classify, while the latter is not linear separable thus probabliy more difficult.\n",
        "\n",
        "- 0 = setosa\n",
        "- 1 = versicolor\n",
        "- 2 = virginica"
      ]
    },
    {
      "cell_type": "code",
      "execution_count": 53,
      "metadata": {
        "id": "CZk168Qo0tGg"
      },
      "outputs": [],
      "source": [
        "def split_test_val(data, label_col, val_rate = 0.3, seed=41):\n",
        "  data = data.sample(frac = 1, random_state=seed).reset_index(drop=True)\n",
        "  split_index = int(np.round(len(data)*(1-val_rate)))\n",
        "  data_train = data[:split_index]\n",
        "  data_val = data[split_index:]\n",
        "\n",
        "  train_X = data_train.drop(labels=label_col, axis=1)\n",
        "  train_y = data_train[label_col]\n",
        "\n",
        "  val_X = data_val.drop(labels=label_col, axis=1)\n",
        "  val_y = data_val[label_col]\n",
        "\n",
        "  return train_X, train_y, val_X, val_y\n",
        "\n",
        "iris_easy = iris_df.loc[(iris_df.target == 0 )| (iris_df.target == 1)]\n",
        "iris_hard = iris_df.loc[(iris_df.target == 1 )| (iris_df.target == 2)]"
      ]
    },
    {
      "cell_type": "markdown",
      "metadata": {
        "id": "PauYUQMy30rn"
      },
      "source": [
        "## The Tree Structure\n",
        "\n",
        "A tree predictor has the structure of an ordered and rooted tree where each node is either a leaf (if it has zero children) or an internal node (if it has at least two children).\n",
        "\n",
        "The predictior is usualy defined by a tree T whose internal nodes are tagged with tests and leaves are tagged with labels. A test in an internal node with a funtion over an atribute of the dataset with separate the data into multiple subsets. Since we are implementing a binary tree this function will only split into two subsets.\n",
        "\n",
        "Therefore, the primary structure of the tree is a node, which might be internal (having a attribute and a test) or a leaf (having a label). For simplicity we build a generic node which can be adapted for whichever case."
      ]
    },
    {
      "cell_type": "code",
      "execution_count": 54,
      "metadata": {
        "id": "6v9hdTsPs1-A"
      },
      "outputs": [],
      "source": [
        "class Node:\n",
        "\n",
        "    def __init__(self, label=None, attribute=None, split_test=None):\n",
        "        self.label = label\n",
        "        self.attribute = attribute\n",
        "        self.split_test = split_test\n",
        "        self.is_leaf = True\n",
        "        self.left_child = None\n",
        "        self.right_child = None"
      ]
    },
    {
      "cell_type": "markdown",
      "metadata": {
        "id": "o5lgECrS75UY"
      },
      "source": [
        "## Building a Binary Tree\n",
        "\n",
        "We focus on the case of binary trees (all internal nodes have exacly two children) for binary classification. The main idea of building the tree is growing it starting from a single node tree (which is a leaf) that corresponds to the classifier assigning to any data point the label that occurs most frequently in the traning set. The tree is grown by picking a leaf and replacing it with an internal node and two new leaves.\n",
        "\n",
        "However this description of a binary tree leaves some questions open. How do we select an attribute? How do we select the best threshold to split this attribute? How do we select a node to grow? When do we stop growing the tree? How do we calculate the training error?"
      ]
    },
    {
      "cell_type": "markdown",
      "metadata": {
        "id": "x10C6WFvmhGZ"
      },
      "source": [
        "### Calculating the Training Error\n",
        "\n",
        "One step of the tree building process is measuring the error of the constructed tree. Suppose we have grown a tree up to a certain point and built a classifier. We consider the training error as the sum of the contributions of all leaves in the tree.\n",
        "\n",
        "When a leaf does not contribute to the training error, we say that that leaf is pure. On the other hand leaves that does contribute are impure and thus we focus on measuring the impurity of the tree (the entropy). Additionally, the decision tree may also suffer from overfitting, that usually happens when the tree overgrows the cardinality of the training set. Therefore its important to choose the leaf expension guaranteeing the largest decrease in the training error. Thus making a well informed decision such that the error decreases the largest with the least ammount of growth.\n",
        "\n",
        "\n"
      ]
    },
    {
      "cell_type": "code",
      "execution_count": 55,
      "metadata": {
        "id": "GXsSz_sDmO2B"
      },
      "outputs": [],
      "source": [
        "def calculate_entropy(labels, func_type):\n",
        "  # Get counts of zero and ones as vector\n",
        "  _, counts = np.unique(labels, return_counts=True)\n",
        "  # Normalize\n",
        "  p_vec = counts / len(labels)\n",
        "\n",
        "  # Calculate proper entropy criterion\n",
        "  if func_type == 'shannon':\n",
        "    return -np.sum(p_vec * np.log2(p_vec))\n",
        "  elif func_type == 'scaled':\n",
        "    return -np.sum((p_vec/2) * np.log2(p_vec))\n",
        "  elif func_type == 'gini':\n",
        "    return 1 - np.sum(np.square(p_vec))\n",
        "\n",
        "def calculate_information_gain(data, labels, left_labels, right_labels, func_type):\n",
        "    total_entropy = calculate_entropy(labels, func_type)\n",
        "    left_entropy = calculate_entropy(left_labels, func_type)\n",
        "    right_entropy = calculate_entropy(right_labels, func_type)\n",
        "\n",
        "    left_weighted_entropy = (len(left_labels) / len(labels)) * left_entropy\n",
        "    right_weighted_entropy = (len(right_labels) / len(right_labels)) * right_entropy\n",
        "    information_gain = total_entropy - (left_weighted_entropy + right_weighted_entropy)\n",
        "    return information_gain\n"
      ]
    },
    {
      "cell_type": "markdown",
      "metadata": {
        "id": "OdcrC2zL-G6M"
      },
      "source": [
        "### Attribute and Threshold Selection"
      ]
    },
    {
      "cell_type": "code",
      "execution_count": 56,
      "metadata": {
        "id": "IIIfJtl4mEnw"
      },
      "outputs": [],
      "source": [
        "def select_attribute(data, labels, func_type):\n",
        "    best_feature = None\n",
        "    best_threshold = None\n",
        "    best_information_gain = -np.inf\n",
        "\n",
        "    for feature in data.columns:\n",
        "        # Get index of the column\n",
        "        col_idx = data.columns.get_loc(feature)\n",
        "        # Get possible values within this feature\n",
        "        feature_values = data.iloc[:, col_idx]\n",
        "        # Filter only the unique\n",
        "        unique_values = np.unique(feature_values)\n",
        "        # Get possible thresholds\n",
        "        thresholds = (unique_values[:-1] + unique_values[1:]) / 2.0\n",
        "\n",
        "        # Calculate info gain of each threshold\n",
        "        for threshold in thresholds:\n",
        "            # Get the possible labels for the left node\n",
        "            left_labels = labels[data.iloc[:, col_idx] <= threshold]\n",
        "\n",
        "            # Get the possible labels for the right node\n",
        "            right_labels = labels[data.iloc[:, col_idx] > threshold]\n",
        "             # labels[np.where(data.iloc[:, col_idx] > threshold)[0]]\n",
        "\n",
        "            # Calculate the information gain of the split\n",
        "            information_gain = calculate_information_gain(data, labels, left_labels, right_labels, func_type)\n",
        "\n",
        "            # Keep if best\n",
        "            if information_gain > best_information_gain:\n",
        "                best_feature = col_idx\n",
        "                best_threshold = threshold\n",
        "                best_information_gain = information_gain\n",
        "\n",
        "    return best_feature, best_threshold"
      ]
    },
    {
      "cell_type": "code",
      "execution_count": 57,
      "metadata": {
        "colab": {
          "base_uri": "https://localhost:8080/",
          "height": 500
        },
        "id": "r8GKnSoW9p4Y",
        "outputId": "358ce294-8333-4d91-a43b-c0972bb289d4"
      },
      "outputs": [
        {
          "output_type": "stream",
          "name": "stdout",
          "text": [
            "Best Feature: 3\n",
            "Best Threshold: 1.75\n"
          ]
        },
        {
          "output_type": "execute_result",
          "data": {
            "text/plain": [
              "<matplotlib.lines.Line2D at 0x7fadec256ce0>"
            ]
          },
          "metadata": {},
          "execution_count": 57
        },
        {
          "output_type": "display_data",
          "data": {
            "text/plain": [
              "<Figure size 640x480 with 1 Axes>"
            ],
            "image/png": "[encoded data removed]"
          },
          "metadata": {}
        }
      ],
      "source": [
        "data, labels, _, _ = split_test_val(iris_hard, 'target', val_rate = 0.3)\n",
        "best_feature, best_treshold = select_attribute(data, labels, 'shannon')\n",
        "\n",
        "print(f\"Best Feature: {best_feature}\")\n",
        "print(f\"Best Threshold: {best_treshold}\")\n",
        "\n",
        "data[\"target\"] = labels\n",
        "\n",
        "sns.swarmplot(data=data, x=data.columns[best_feature], hue=\"target\")\n",
        "plt.axvline(x=best_treshold, color='grey')"
      ]
    },
    {
      "cell_type": "markdown",
      "metadata": {
        "id": "3dF0p8z1-fOU"
      },
      "source": [
        "### Stopping Criterias"
      ]
    },
    {
      "cell_type": "code",
      "execution_count": 58,
      "metadata": {
        "id": "pO1YNTL0L10r"
      },
      "outputs": [],
      "source": [
        "def max_depth_stop(depth, max_depth):\n",
        "  return depth==max_depth\n",
        "\n",
        "def no_labels_to_split_stop(labels):\n",
        "  return len(np.unique(labels)) == 1\n",
        "\n",
        "def min_samples_split_stop(labels, min_samples_per_split):\n",
        "  return len(labels) < min_samples_per_split"
      ]
    },
    {
      "cell_type": "markdown",
      "metadata": {
        "id": "Ontg1Ydh-DmJ"
      },
      "source": [
        "### Building the Tree"
      ]
    },
    {
      "cell_type": "code",
      "execution_count": 59,
      "metadata": {
        "id": "79EoP4ZKke9h"
      },
      "outputs": [],
      "source": [
        "def build_decision_tree(data, labels, depth=0, max_depth=10, min_samples_per_split=2, func_type='shannon'):\n",
        "    # Initialize an empty root node\n",
        "    node = Node()\n",
        "\n",
        "    if max_depth_stop(depth, max_depth) or no_labels_to_split_stop(labels) or min_samples_split_stop(labels, min_samples_per_split):\n",
        "        node.label = np.bincount(labels).argmax()\n",
        "        return node\n",
        "\n",
        "    # Attribute selection\n",
        "    best_feature, best_threshold = select_attribute(data, labels, func_type)\n",
        "    node.attribute = best_feature\n",
        "    node.split_test = best_threshold\n",
        "    node.is_leaf = False\n",
        "\n",
        "\n",
        "    # Split the data to create Sl' and Sl'' based on the selected attribute and threshold\n",
        "    left_indices = data.iloc[:, best_feature] <= best_threshold\n",
        "    right_indices = data.iloc[:, best_feature] > best_threshold\n",
        "\n",
        "    left_data, left_labels = data.loc[left_indices], labels.loc[left_indices]\n",
        "    right_data, right_labels = data.loc[right_indices], labels.loc[right_indices]\n",
        "\n",
        "    # Recursively build the left and right subtrees\n",
        "    if len(left_data) > 0:\n",
        "        node.left_child = build_decision_tree(left_data, left_labels, depth = depth+1,\n",
        "                                              max_depth=max_depth, min_samples_per_split=min_samples_per_split, func_type=func_type)\n",
        "    if len(right_data) > 0:\n",
        "        node.right_child = build_decision_tree(right_data, right_labels, depth = depth+1,\n",
        "                                               max_depth=max_depth, min_samples_per_split=min_samples_per_split, func_type=func_type)\n",
        "\n",
        "    return node\n"
      ]
    },
    {
      "cell_type": "code",
      "execution_count": 60,
      "metadata": {
        "id": "4-ZfZj_um0-Z"
      },
      "outputs": [],
      "source": [
        "easy_train_X, easy_train_y, easy_test_X, easy_test_y = split_test_val(iris_easy, 'target', val_rate = 0.3)\n",
        "easy_tree = build_decision_tree(easy_train_X, easy_train_y, max_depth=1)\n",
        "\n",
        "hard_train_X, hard_train_y, hard_test_X, hard_test_y = split_test_val(iris_hard, 'target', val_rate = 0.3)\n",
        "hard_tree = build_decision_tree(hard_train_X, hard_train_y, max_depth=10)"
      ]
    },
    {
      "cell_type": "markdown",
      "metadata": {
        "id": "KTwYtKI0mhr7"
      },
      "source": [
        "#### Viewing Iris Trees"
      ]
    },
    {
      "cell_type": "code",
      "execution_count": 61,
      "metadata": {
        "id": "QBIRjiiJVWz8"
      },
      "outputs": [],
      "source": [
        "def print_decision_tree(node, columns, indent=\"\"):\n",
        "    if node.is_leaf:\n",
        "        print(indent + \"Label:\", node.label)\n",
        "        return\n",
        "\n",
        "    if not node.is_leaf:\n",
        "        print(indent + columns[node.attribute] + \" <= \" + str(node.split_test))\n",
        "\n",
        "    print(indent + \"Left:\")\n",
        "    print_decision_tree(node.left_child, columns, indent + \"  \")\n",
        "\n",
        "    print(indent + \"Right:\")\n",
        "    print_decision_tree(node.right_child, columns, indent + \"  \")"
      ]
    },
    {
      "cell_type": "code",
      "execution_count": 62,
      "metadata": {
        "colab": {
          "base_uri": "https://localhost:8080/"
        },
        "id": "-8gDI7Z3O3I0",
        "outputId": "a7798f59-c65d-4b86-b1f3-2f7fd441aeff"
      },
      "outputs": [
        {
          "output_type": "stream",
          "name": "stdout",
          "text": [
            "petal width (cm) <= 1.75\n",
            "Left:\n",
            "  sepal length (cm) <= 7.1\n",
            "  Left:\n",
            "    sepal width (cm) <= 2.8499999999999996\n",
            "    Left:\n",
            "      sepal width (cm) <= 2.25\n",
            "      Left:\n",
            "        petal length (cm) <= 4.75\n",
            "        Left:\n",
            "          Label: 1\n",
            "        Right:\n",
            "          Label: 2\n",
            "      Right:\n",
            "        petal width (cm) <= 1.55\n",
            "        Left:\n",
            "          petal length (cm) <= 5.0\n",
            "          Left:\n",
            "            Label: 1\n",
            "          Right:\n",
            "            Label: 2\n",
            "        Right:\n",
            "          Label: 1\n",
            "    Right:\n",
            "      Label: 1\n",
            "  Right:\n",
            "    Label: 2\n",
            "Right:\n",
            "  petal length (cm) <= 4.85\n",
            "  Left:\n",
            "    sepal length (cm) <= 5.95\n",
            "    Left:\n",
            "      Label: 1\n",
            "    Right:\n",
            "      Label: 2\n",
            "  Right:\n",
            "    Label: 2\n"
          ]
        }
      ],
      "source": [
        "print_decision_tree(hard_tree, hard_train_X.columns)"
      ]
    },
    {
      "cell_type": "markdown",
      "metadata": {
        "id": "vOCDdpo6jEnt"
      },
      "source": [
        "## Predict & Error in Iris"
      ]
    },
    {
      "cell_type": "code",
      "execution_count": 63,
      "metadata": {
        "id": "rH0jlxhbjHtU"
      },
      "outputs": [],
      "source": [
        "def _predict_single(node, instance):\n",
        "    if node.label is not None:\n",
        "        return node.label\n",
        "\n",
        "    if instance[node.attribute] <= node.split_test:\n",
        "        return _predict_single(node.left_child, instance)\n",
        "    else:\n",
        "        return _predict_single(node.right_child, instance)\n",
        "\n",
        "def predict(root_node, data):\n",
        "  predictions = [_predict_single(root_node, instance[1]) for instance in data.iterrows()]\n",
        "  return predictions\n",
        "\n",
        "def calculate_error(predictions, labels):\n",
        "    wrong_predictions = np.sum(predictions != labels)\n",
        "    error = wrong_predictions / len(labels)\n",
        "    return error"
      ]
    },
    {
      "cell_type": "code",
      "execution_count": 64,
      "metadata": {
        "colab": {
          "base_uri": "https://localhost:8080/"
        },
        "id": "4SCdYs6KjNFG",
        "outputId": "9ca7ee4c-c0eb-492f-f64d-38e2463ded01"
      },
      "outputs": [
        {
          "output_type": "stream",
          "name": "stdout",
          "text": [
            "Linear Separable IRIS Set: Training Error 0.0; Test Error: 0.0\n",
            "Non Linear Separable IRIS Set: Training Error 0.0; Test Error: 0.03333333333333333\n"
          ]
        }
      ],
      "source": [
        "easy_train_preds = predict(easy_tree, easy_train_X)\n",
        "easy_test_preds = predict(easy_tree, easy_test_X)\n",
        "error_easy_train = calculate_error(easy_train_preds, easy_train_y)\n",
        "error_easy_test = calculate_error(easy_test_preds, easy_test_y)\n",
        "\n",
        "hard_train_preds = predict(hard_tree, hard_train_X)\n",
        "hard_test_preds = predict(hard_tree, hard_test_X)\n",
        "error_hard_train = calculate_error(hard_train_preds, hard_train_y)\n",
        "error_hard_test = calculate_error(hard_test_preds, hard_test_y)\n",
        "\n",
        "print(f\"Linear Separable IRIS Set: Training Error {error_easy_train}; Test Error: {error_easy_test}\")\n",
        "print(f\"Non Linear Separable IRIS Set: Training Error {error_hard_train}; Test Error: {error_hard_test}\")"
      ]
    },
    {
      "cell_type": "markdown",
      "metadata": {
        "id": "dRiy02nBpBYe"
      },
      "source": [
        "## The DecisionTree Class"
      ]
    },
    {
      "cell_type": "code",
      "execution_count": 65,
      "metadata": {
        "id": "3mjLfrfbY_sm"
      },
      "outputs": [],
      "source": [
        "def calculate_error(predictions, labels):\n",
        "    wrong_predictions = np.sum(predictions != labels)\n",
        "    error = wrong_predictions / len(labels)\n",
        "    return error\n",
        "\n",
        "def accuracy(predictions, labels):\n",
        "    correct_predictions = np.sum(predictions == labels)\n",
        "    return correct_predictions / len(labels)\n",
        "\n",
        "def precision(predictions, labels):\n",
        "    tp = np.sum((predictions == 1) & (labels == 1))\n",
        "    fp = np.sum((predictions == 1) & (labels == 0))\n",
        "    return (tp / (tp + fp))\n",
        "\n",
        "def recall(predictions, labels):\n",
        "    tp = np.sum((predictions == 1) & (labels == 1))\n",
        "    fn = np.sum((predictions == 0) & (labels == 1))\n",
        "    return tp / (tp + fn)\n",
        "\n",
        "def specificity(predictions, labels):\n",
        "    true_negatives = np.sum((predictions == 0) & (labels == 0))\n",
        "    false_positives = np.sum((predictions == 1) & (labels == 0))\n",
        "    return true_negatives / (true_negatives + false_positives)\n",
        "\n",
        "def f1_score(predictions, labels):\n",
        "    prec = precision(predictions, labels)\n",
        "    rec = recall(predictions, labels)\n",
        "    return  2 * (prec * rec) / (prec + rec)\n",
        "\n",
        "class Node:\n",
        "    def __init__(self, label=None, attribute=None, split_test=None):\n",
        "        self.label = label\n",
        "        self.attribute = attribute\n",
        "        self.split_test = split_test\n",
        "        self.is_leaf = True\n",
        "        self.left_child = None\n",
        "        self.right_child = None"
      ]
    },
    {
      "cell_type": "code",
      "execution_count": 66,
      "metadata": {
        "id": "DUqLZp2UpAV3"
      },
      "outputs": [],
      "source": [
        "class DecisionTree:\n",
        "  def __init__(self, verbose=1, max_depth=10, min_samples_per_split=2, func_type='shannon', tree_id=0,\n",
        "               threshold_method='all', threshold_buckets=10, class_weights=[], display_metrics='full'):\n",
        "    self.max_depth = max_depth\n",
        "    self.min_samples_per_split = min_samples_per_split\n",
        "    self.func_type = func_type\n",
        "    self.threshold_method = threshold_method\n",
        "    self.n_buckets = threshold_buckets\n",
        "    self.verbose = verbose\n",
        "    self.class_weights = class_weights\n",
        "    self.display_metrics = display_metrics\n",
        "    self.tree_id = tree_id\n",
        "    self.cols = None\n",
        "    self.root = None\n",
        "\n",
        "  def fit(self, data, label):\n",
        "    self.cols = data.columns\n",
        "    self.root = self._build_decision_tree(data, label)\n",
        "\n",
        "    if self.verbose==1:\n",
        "      preds = self.predict(data, label)\n",
        "\n",
        "    return self\n",
        "\n",
        "  def predict(self, data, labels=[]):\n",
        "    if not self.root:\n",
        "      raise NotImplementedError(\"Model not yet fitted.\")\n",
        "\n",
        "    predictions = [self._predict_single(self.root, instance[1]) for instance in data.iterrows()]\n",
        "\n",
        "    if len(labels):\n",
        "      DecisionTree.calc_metrics(predictions, labels, self.display_metrics, self.tree_id)\n",
        "\n",
        "    return predictions\n",
        "\n",
        "\n",
        "  def print_tree(self, node=None, indent=\"\"):\n",
        "      if not self.root:\n",
        "        raise NotImplementedError(\"Model not yet fitted.\")\n",
        "\n",
        "      if not node:\n",
        "        node = self.root\n",
        "\n",
        "      if node.is_leaf:\n",
        "          print(indent + \"Label:\", node.label)\n",
        "          return\n",
        "\n",
        "      if not node.is_leaf:\n",
        "          print(indent + self.cols[node.attribute] + \" <= \" + str(node.split_test))\n",
        "\n",
        "      print(indent + \"Left:\")\n",
        "      self.print_tree(node.left_child, indent + \"  \")\n",
        "\n",
        "      print(indent + \"Right:\")\n",
        "      self.print_tree(node.right_child, indent + \"  \")\n",
        "\n",
        "  @staticmethod\n",
        "  def calc_metrics(preds, label, display_metrics, tree_id=0):\n",
        "    preds = np.array(preds, dtype='int')\n",
        "    label = label.to_numpy()\n",
        "    if display_metrics == 'full':\n",
        "      print(f\"Model Error: {calculate_error(preds, label)}\")\n",
        "      print(f\"Model Accuracy: {accuracy(preds, label)}\")\n",
        "      print(f\"Model Precision: {precision(preds, label)}\")\n",
        "      print(f\"Model Recall: {recall(preds, label)}\")\n",
        "      print(f\"Model Specificity: {specificity(preds, label)}\")\n",
        "      print(f\"Model F1-Score: {f1_score(preds, label)}\")\n",
        "    if display_metrics == 'random_forest':\n",
        "      print(f\"[Worker {tree_id}] F1-Score: {f1_score(preds, label)}\")\n",
        "      print(f\"[Worker {tree_id}] Recall: {recall(preds, label)}\")\n",
        "      print(f\"[Worker {tree_id}] Precission: {precision(preds, label)}\")\n",
        "\n",
        "    return preds\n",
        "\n",
        "\n",
        "  def _calculate_entropy(self, labels):\n",
        "    # Get counts of zero and ones as vector\n",
        "    values, counts = np.unique(labels, return_counts=True)\n",
        "\n",
        "    # Normalize\n",
        "    p_vec = counts / len(labels)\n",
        "    if len(self.class_weights) and len(p_vec):\n",
        "      weights = self.class_weights\n",
        "      if len(values) == 1:\n",
        "        weights = self.class_weights[values[0]]\n",
        "      p_vec = p_vec*weights\n",
        "\n",
        "    # Calculate proper entropy criterion\n",
        "    if self.func_type == 'shannon':\n",
        "      return -np.sum(p_vec * np.log2(p_vec))\n",
        "    elif self.func_type == 'scaled':\n",
        "      return -np.sum((p_vec/2) * np.log2(p_vec))\n",
        "    elif self.func_type == 'gini':\n",
        "      return 1 - np.sum(np.square(p_vec))\n",
        "\n",
        "  def _calculate_information_gain(self, data, labels, left_labels, right_labels):\n",
        "    total_entropy = self._calculate_entropy(labels)\n",
        "    left_entropy = self._calculate_entropy(left_labels)\n",
        "    right_entropy = self._calculate_entropy(right_labels)\n",
        "\n",
        "    left_weighted_entropy = (len(left_labels) / len(labels)) * left_entropy\n",
        "    right_weighted_entropy = (len(right_labels) / len(labels)) * right_entropy\n",
        "    information_gain = total_entropy - (left_weighted_entropy + right_weighted_entropy)\n",
        "    return information_gain\n",
        "\n",
        "  def _select_attribute(self, data, labels):\n",
        "    best_feature = None\n",
        "    best_threshold = None\n",
        "    best_information_gain = -np.inf\n",
        "\n",
        "    for feature in data.columns:\n",
        "        # Get index of the column\n",
        "        col_idx = data.columns.get_loc(feature)\n",
        "        # Get possible values within this feature\n",
        "        feature_values = data.iloc[:, col_idx]\n",
        "        # Filter only the unique\n",
        "        thresholds = []\n",
        "        if self.threshold_method == 'all':\n",
        "          unique_values = np.unique(feature_values)\n",
        "          # Get possible thresholds\n",
        "          thresholds = (unique_values[:-1] + unique_values[1:]) / 2.0\n",
        "        elif self.threshold_method == 'bigdata':\n",
        "          thresholds = np.percentile(feature_values, np.linspace(0, 100, self.n_buckets))\n",
        "\n",
        "        # Calculate info gain of each threshold\n",
        "        for threshold in thresholds:\n",
        "            # Get the possible labels for the left node\n",
        "            left_labels = labels[data.iloc[:, col_idx] <= threshold]\n",
        "\n",
        "            # Get the possible labels for the right node\n",
        "            right_labels = labels[data.iloc[:, col_idx] > threshold]\n",
        "            # labels[np.where(data.iloc[:, col_idx] > threshold)[0]]\n",
        "\n",
        "            # Calculate the information gain of the split\n",
        "            information_gain = self._calculate_information_gain(data, labels, left_labels, right_labels)\n",
        "\n",
        "            # Keep if best\n",
        "            if information_gain > best_information_gain:\n",
        "                best_feature = col_idx\n",
        "                best_threshold = threshold\n",
        "                best_information_gain = information_gain\n",
        "\n",
        "    return best_feature, best_threshold\n",
        "\n",
        "  def _max_depth(self, depth):\n",
        "    return depth==self.max_depth\n",
        "\n",
        "  def _no_labels_to_split(self, labels):\n",
        "    return len(np.unique(labels)) == 1\n",
        "\n",
        "  def _min_samples_split(self, labels):\n",
        "    return len(labels) < self.min_samples_per_split\n",
        "\n",
        "  def _build_decision_tree(self, data, labels, depth=0):\n",
        "    # Initialize an empty root node\n",
        "    node = Node()\n",
        "\n",
        "    if self._max_depth(depth) or self._no_labels_to_split(labels) or self._min_samples_split(labels):\n",
        "        node.label = np.bincount(labels).argmax()\n",
        "        return node\n",
        "\n",
        "    # Attribute selection\n",
        "    best_feature, best_threshold = self._select_attribute(data, labels)\n",
        "    node.attribute = best_feature\n",
        "    node.split_test = best_threshold\n",
        "    node.is_leaf = False\n",
        "\n",
        "\n",
        "    # Split the data to create Sl' and Sl'' based on the selected attribute and threshold\n",
        "    left_indices = data.iloc[:, best_feature] <= best_threshold\n",
        "    right_indices = data.iloc[:, best_feature] > best_threshold\n",
        "\n",
        "    left_data, left_labels = data.loc[left_indices], labels.loc[left_indices]\n",
        "    right_data, right_labels = data.loc[right_indices], labels.loc[right_indices]\n",
        "\n",
        "    # Recursively build the left and right subtrees\n",
        "    if len(left_data) > 0:\n",
        "        node.left_child = self._build_decision_tree(left_data, left_labels, depth = depth+1)\n",
        "    if len(right_data) > 0:\n",
        "        node.right_child = self._build_decision_tree(right_data, right_labels, depth = depth+1)\n",
        "\n",
        "    return node\n",
        "\n",
        "  def _predict_single(self, node, instance):\n",
        "\n",
        "    if node.label is not None:\n",
        "        return node.label\n",
        "\n",
        "    if instance[node.attribute] <= node.split_test:\n",
        "        if node.left_child is None:\n",
        "          print(node.attribute)\n",
        "          print(node.split_test)\n",
        "        return self._predict_single(node.left_child, instance)\n",
        "    else:\n",
        "        if node.right_child is None:\n",
        "          print(node.attribute)\n",
        "          print(node.split_test)\n",
        "        return self._predict_single(node.right_child, instance)"
      ]
    },
    {
      "cell_type": "code",
      "execution_count": 67,
      "metadata": {
        "colab": {
          "base_uri": "https://localhost:8080/"
        },
        "id": "_YyQSujtvwpR",
        "outputId": "de29bfac-adaf-4536-b807-381333e38c61"
      },
      "outputs": [
        {
          "output_type": "stream",
          "name": "stdout",
          "text": [
            "Model Error: 0.0\n",
            "Model Accuracy: 1.0\n",
            "Model Precision: 1.0\n",
            "Model Recall: 1.0\n",
            "Model Specificity: 1.0\n",
            "Model F1-Score: 1.0\n"
          ]
        }
      ],
      "source": [
        "hard_train_X, hard_train_y, hard_test_X, hard_test_y = split_test_val(iris_hard, 'target', val_rate = 0.3)\n",
        "hard_train_y[hard_train_y == 2] = 0\n",
        "hard_test_y[hard_test_y == 2] = 0\n",
        "\n",
        "clf = DecisionTree()\n",
        "clf = clf.fit(hard_train_X, hard_train_y)"
      ]
    },
    {
      "cell_type": "code",
      "execution_count": 68,
      "metadata": {
        "colab": {
          "base_uri": "https://localhost:8080/"
        },
        "id": "1enFGlkOxtm5",
        "outputId": "2bfb6dac-1c2c-4c99-f6f2-4ed610804012"
      },
      "outputs": [
        {
          "output_type": "stream",
          "name": "stdout",
          "text": [
            "Model Error: 0.03333333333333333\n",
            "Model Accuracy: 0.9666666666666667\n",
            "Model Precision: 0.9166666666666666\n",
            "Model Recall: 1.0\n",
            "Model Specificity: 0.9473684210526315\n",
            "Model F1-Score: 0.9565217391304348\n"
          ]
        }
      ],
      "source": [
        "preds = clf.predict(hard_test_X, hard_test_y)"
      ]
    },
    {
      "cell_type": "markdown",
      "metadata": {
        "id": "huTMaC4c7_ry"
      },
      "source": [
        "## IBM AML Decision Tree"
      ]
    },
    {
      "cell_type": "code",
      "execution_count": 79,
      "metadata": {
        "id": "0nf4hv5K7-bM"
      },
      "outputs": [],
      "source": [
        "hi_small_train = spark.read.parquet('./data/02_model_input/hi_small_train.parquet')\n",
        "hi_small_train_pandas = hi_small_train.sample(fraction=0.5, seed=42).toPandas()\n",
        "\n",
        "\n",
        "hi_small_test = spark.read.parquet('./data/02_model_input/hi_small_test.parquet')\n",
        "hi_small_test_pandas = hi_small_test.sample(fraction=0.5, seed=42).toPandas()"
      ]
    },
    {
      "cell_type": "code",
      "execution_count": 70,
      "metadata": {
        "colab": {
          "base_uri": "https://localhost:8080/"
        },
        "id": "3U3fBrhx_PyP",
        "outputId": "eca1e85e-e273-466c-dc7c-71e8db72e69c"
      },
      "outputs": [
        {
          "output_type": "stream",
          "name": "stdout",
          "text": [
            "<class 'pandas.core.frame.DataFrame'>\n",
            "RangeIndex: 1609142 entries, 0 to 1609141\n",
            "Data columns (total 25 columns):\n",
            " #   Column                       Non-Null Count    Dtype  \n",
            "---  ------                       --------------    -----  \n",
            " 0   Day                          1609142 non-null  int32  \n",
            " 1   Hour                         1609142 non-null  int32  \n",
            " 2   From Bank                    1609142 non-null  int32  \n",
            " 3   To Bank                      1609142 non-null  int32  \n",
            " 4   AmtReceived                  1609142 non-null  float32\n",
            " 5   Is Laundering                1609142 non-null  int32  \n",
            " 6   Minute                       1609142 non-null  int32  \n",
            " 7   SelfPayment                  1609142 non-null  int32  \n",
            " 8   SameCurrencyTransaction      1609142 non-null  int32  \n",
            " 9   AmtReceivedRatio             1609142 non-null  float64\n",
            " 10  AccTransAmtInHour            1609142 non-null  int64  \n",
            " 11  AccTransAmtInDay             1609142 non-null  int64  \n",
            " 12  AccTransNumByHour            1609142 non-null  int32  \n",
            " 13  AccTransNumByDay             1609142 non-null  int32  \n",
            " 14  MinsSinceLastTrans           1609142 non-null  float64\n",
            " 15  HourAccTransAmtToSameAcc     1609142 non-null  int64  \n",
            " 16  DayAccTransAmtToSameAcc      1609142 non-null  int64  \n",
            " 17  HourAccTransNumToSameAcc     1609142 non-null  int32  \n",
            " 18  DayAccTransNumToSameAcc      1609142 non-null  int32  \n",
            " 19  MinsSinceLastTransToSameAcc  1609142 non-null  float64\n",
            " 20  HourDestAccTransReceived     1609142 non-null  int64  \n",
            " 21  DayDestAccTransReceived      1609142 non-null  int64  \n",
            " 22  CodedCurrency                1609142 non-null  float64\n",
            " 23  CodedPaymentFormat           1609142 non-null  float64\n",
            " 24  CodedWeekday                 1609142 non-null  float64\n",
            "dtypes: float32(1), float64(6), int32(12), int64(6)\n",
            "memory usage: 227.1 MB\n"
          ]
        }
      ],
      "source": [
        "hi_small_train_pandas.info()"
      ]
    },
    {
      "cell_type": "code",
      "execution_count": 71,
      "metadata": {
        "colab": {
          "base_uri": "https://localhost:8080/"
        },
        "id": "iL4HSZ2q-i_u",
        "outputId": "3b2bf78f-14da-415a-f59b-18781a4ca6c7"
      },
      "outputs": [
        {
          "output_type": "stream",
          "name": "stdout",
          "text": [
            "0    1607371\n",
            "1       1771\n",
            "Name: Is Laundering, dtype: int64\n",
            "[1.0, 907.6064370412197]\n"
          ]
        }
      ],
      "source": [
        "label_counts = hi_small_train_pandas[\"Is Laundering\"].value_counts()\n",
        "hi_class_weights = [1.0, label_counts[0]/label_counts[1]]\n",
        "print(label_counts)\n",
        "print(hi_class_weights)"
      ]
    },
    {
      "cell_type": "code",
      "execution_count": 80,
      "metadata": {
        "id": "E96rlXjh_9kz"
      },
      "outputs": [],
      "source": [
        "hi_train_X = hi_small_train_pandas.drop(labels=[\"Is Laundering\"], axis=1)\n",
        "hi_train_y = hi_small_train_pandas[\"Is Laundering\"]\n",
        "hi_test_X = hi_small_test_pandas.drop(labels=[\"Is Laundering\"], axis=1)\n",
        "hi_test_y = hi_small_test_pandas[\"Is Laundering\"]"
      ]
    },
    {
      "cell_type": "code",
      "execution_count": 73,
      "metadata": {
        "colab": {
          "base_uri": "https://localhost:8080/"
        },
        "id": "xzDmCW6abqjX",
        "outputId": "3050a772-fe62-435d-8627-c819873da3fd"
      },
      "outputs": [
        {
          "output_type": "stream",
          "name": "stdout",
          "text": [
            "Model Error: 0.0005058596444564868\n",
            "Model Accuracy: 0.9994941403555435\n",
            "Model Precision: 0.9705014749262537\n",
            "Model Recall: 0.5573122529644269\n",
            "Model Specificity: 0.9999813359827943\n",
            "Model F1-Score: 0.7080344332855093\n"
          ]
        }
      ],
      "source": [
        "clf = DecisionTree(max_depth=15, threshold_method='bigdata', threshold_buckets=20, class_weights=hi_class_weights, min_samples_per_split=2)\n",
        "clf = clf.fit(hi_train_X, hi_train_y)"
      ]
    },
    {
      "cell_type": "code",
      "execution_count": 74,
      "metadata": {
        "colab": {
          "base_uri": "https://localhost:8080/"
        },
        "id": "fQYlO9vaY645",
        "outputId": "69ca7923-85be-4592-c65d-0584afca4c0d"
      },
      "outputs": [
        {
          "output_type": "stream",
          "name": "stdout",
          "text": [
            "Model Error: 0.0007241360332986713\n",
            "Model Accuracy: 0.9992758639667013\n",
            "Model Precision: 0.8132118451025057\n",
            "Model Recall: 0.46064516129032257\n",
            "Model Specificity: 0.9998811082451432\n",
            "Model F1-Score: 0.5881383855024711\n"
          ]
        }
      ],
      "source": [
        "preds = clf.predict(hi_test_X, hi_test_y)"
      ]
    },
    {
      "cell_type": "code",
      "execution_count": 75,
      "metadata": {
        "colab": {
          "base_uri": "https://localhost:8080/",
          "height": 449
        },
        "id": "U4ECuV4MGQHO",
        "outputId": "d4478c4b-355a-4ba4-db3c-6b656847c3a8"
      },
      "outputs": [
        {
          "output_type": "display_data",
          "data": {
            "text/plain": [
              "<Figure size 640x480 with 2 Axes>"
            ],
            "image/png": "[encoded data removed]"
          },
          "metadata": {}
        }
      ],
      "source": [
        "cm = confusion_matrix(hi_test_y, preds, labels=[0, 1])\n",
        "disp = ConfusionMatrixDisplay(confusion_matrix=cm,\n",
        "                              display_labels=[0, 1])\n",
        "disp.plot();"
      ]
    },
    {
      "cell_type": "code",
      "execution_count": 81,
      "metadata": {
        "id": "j259RZGNQOIP"
      },
      "outputs": [],
      "source": [
        "# Get back the memory\n",
        "del hi_small_train_pandas, hi_small_test_pandas, hi_train_X, hi_train_y, hi_test_X, hi_test_y"
      ]
    },
    {
      "cell_type": "markdown",
      "metadata": {
        "id": "2QUtVFgDPVio"
      },
      "source": [
        "# 2. Distributed Workers\n",
        "\n",
        "A mock-up code that uses spark in order to consider a dataset and processes it in order to distribute the creation of the single trees in a random forest should be proposed. In particular, the construction of each tree should be done by providing different data to each worker, both subsampling the number of rows (i.e., labeled objects) and columns (i.e., attributes) in the overall dataset. Concerning the first kind of subsampling, you might possibly consider introducing the so-called bootstrap sampling, in which the labeled objects are sampled with replacement and therefore a same object can occur more than once in the resulting dataset. It is not required to distribute the creation of a single decision tree: for this task you are free to use the implementation provided in point 1, as well as the implementation already available in scikit-learn."
      ]
    },
    {
      "cell_type": "code",
      "execution_count": 82,
      "metadata": {
        "colab": {
          "base_uri": "https://localhost:8080/",
          "height": 216
        },
        "id": "wmvYBlIIvxoX",
        "outputId": "9c80bdcf-758c-454e-cc63-41a10d447f21"
      },
      "outputs": [
        {
          "output_type": "execute_result",
          "data": {
            "text/plain": [
              "<pyspark.sql.session.SparkSession at 0x7faded36d690>"
            ],
            "text/html": [
              "\n",
              "            <div>\n",
              "                <p><b>SparkSession - in-memory</b></p>\n",
              "                \n",
              "        <div>\n",
              "            <p><b>SparkContext</b></p>\n",
              "\n",
              "            <p><a href=\"http://e25f5e427e49:4040\">Spark UI</a></p>\n",
              "\n",
              "            <dl>\n",
              "              <dt>Version</dt>\n",
              "                <dd><code>v3.4.1</code></dd>\n",
              "              <dt>Master</dt>\n",
              "                <dd><code>local[*]</code></dd>\n",
              "              <dt>AppName</dt>\n",
              "                <dd><code>MoneyLaundering</code></dd>\n",
              "            </dl>\n",
              "        </div>\n",
              "        \n",
              "            </div>\n",
              "        "
            ]
          },
          "metadata": {},
          "execution_count": 82
        }
      ],
      "source": [
        "spark"
      ]
    },
    {
      "cell_type": "code",
      "execution_count": 83,
      "metadata": {
        "colab": {
          "base_uri": "https://localhost:8080/"
        },
        "id": "eAfze-P68UZU",
        "outputId": "674d8050-d505-445c-dcab-6c8a210ff3cb"
      },
      "outputs": [
        {
          "output_type": "stream",
          "name": "stdout",
          "text": [
            "Spark app submittime: 1688289257323\n",
            "Spark app id: local-1688289260391\n",
            "Spark sql execution arrow enabled: true\n",
            "Spark driver port: 36931\n",
            "Spark app starttime: 1688289257732\n",
            "Spark executor memory: 4g\n",
            "Spark app name: MoneyLaundering\n",
            "Spark executor id: driver\n",
            "Spark sql warehouse dir: file:/content/spark-warehouse\n",
            "Spark sql shuffle partitions: 2\n",
            "Spark driver extrajavaoptions: -Djava.net.preferIPv6Addresses=false -XX:+IgnoreUnrecognizedVMOptions --add-opens=java.base/java.lang=ALL-UNNAMED --add-opens=java.base/java.lang.invoke=ALL-UNNAMED --add-opens=java.base/java.lang.reflect=ALL-UNNAMED --add-opens=java.base/java.io=ALL-UNNAMED --add-opens=java.base/java.net=ALL-UNNAMED --add-opens=java.base/java.nio=ALL-UNNAMED --add-opens=java.base/java.util=ALL-UNNAMED --add-opens=java.base/java.util.concurrent=ALL-UNNAMED --add-opens=java.base/java.util.concurrent.atomic=ALL-UNNAMED --add-opens=java.base/sun.nio.ch=ALL-UNNAMED --add-opens=java.base/sun.nio.cs=ALL-UNNAMED --add-opens=java.base/sun.security.action=ALL-UNNAMED --add-opens=java.base/sun.util.calendar=ALL-UNNAMED --add-opens=java.security.jgss/sun.security.krb5=ALL-UNNAMED -Djdk.reflect.useDirectMethodHandle=false\n",
            "Spark driver memory: 3g\n",
            "Spark rdd compress: True\n",
            "Spark executor instances: 2\n",
            "Spark driver host: e25f5e427e49\n",
            "Spark serializer objectstreamreset: 100\n",
            "Spark master: local[*]\n",
            "Spark submit pyfiles: \n",
            "Spark executor cores: 1\n",
            "Spark submit deploymode: client\n",
            "Spark ui showconsoleprogress: true\n",
            "Spark sql execution arrow pyspark enabled: true\n",
            "Spark executor extrajavaoptions: -Djava.net.preferIPv6Addresses=false -XX:+IgnoreUnrecognizedVMOptions --add-opens=java.base/java.lang=ALL-UNNAMED --add-opens=java.base/java.lang.invoke=ALL-UNNAMED --add-opens=java.base/java.lang.reflect=ALL-UNNAMED --add-opens=java.base/java.io=ALL-UNNAMED --add-opens=java.base/java.net=ALL-UNNAMED --add-opens=java.base/java.nio=ALL-UNNAMED --add-opens=java.base/java.util=ALL-UNNAMED --add-opens=java.base/java.util.concurrent=ALL-UNNAMED --add-opens=java.base/java.util.concurrent.atomic=ALL-UNNAMED --add-opens=java.base/sun.nio.ch=ALL-UNNAMED --add-opens=java.base/sun.nio.cs=ALL-UNNAMED --add-opens=java.base/sun.security.action=ALL-UNNAMED --add-opens=java.base/sun.util.calendar=ALL-UNNAMED --add-opens=java.security.jgss/sun.security.krb5=ALL-UNNAMED -Djdk.reflect.useDirectMethodHandle=false\n"
          ]
        }
      ],
      "source": [
        "for x in spark.sparkContext.getConf().getAll():\n",
        "  print(f\"{x[0].replace('.', ' ').capitalize()}: {x[1]}\")"
      ]
    },
    {
      "cell_type": "markdown",
      "metadata": {
        "id": "rF8G4-LkDmea"
      },
      "source": [
        "## Dataset Preparation"
      ]
    },
    {
      "cell_type": "markdown",
      "metadata": {
        "id": "_s1H2pr7DXRW"
      },
      "source": [
        "### Rows and Features Subsampling"
      ]
    },
    {
      "cell_type": "code",
      "execution_count": 84,
      "metadata": {
        "id": "7FpEYE6XDxNT"
      },
      "outputs": [],
      "source": [
        "def bootstrap_sample_rows(dataset, seed, sample_ratio=0.3):\n",
        "   sampled_ds = dataset.sample(withReplacement=True, fraction=sample_ratio, seed=seed)\n",
        "   return sampled_ds\n",
        "\n",
        "def sample_columns(dataset, label_col, seed, sample_ratio=0.6):\n",
        "    # Set random seed\n",
        "    rng = random.Random(seed)\n",
        "    # Subtract 1 to exclude the label column\n",
        "    num_cols = len(dataset.columns) - 1\n",
        "    # Get column names, except for the label\n",
        "    features_columns = [col for col in dataset.columns if col != label_col]\n",
        "    # Shuffle Names\n",
        "    rng.shuffle(features_columns)\n",
        "    # Get first %\n",
        "    selected_cols = features_columns[:int(num_cols * sample_ratio)]\n",
        "    # Sample the dataset\n",
        "    sampled_dataset = dataset.select(selected_cols)\n",
        "    sampled_label = dataset.select(label_col)\n",
        "\n",
        "    return sampled_dataset, sampled_label"
      ]
    },
    {
      "cell_type": "code",
      "execution_count": 85,
      "metadata": {
        "id": "UlZeLJdFy1j4"
      },
      "outputs": [],
      "source": [
        "def create_training_data(dataset, ds_params, worker_id):\n",
        "    # Subsample the dataset using bootstrap sampling\n",
        "    sampled_ds = bootstrap_sample_rows(dataset, seed=worker_id,\n",
        "                                       sample_ratio=ds_params[\"row_frac\"])\n",
        "\n",
        "    # Select a subset of columns for the current tree\n",
        "    sampled_ds, sampled_label = sample_columns(sampled_ds, ds_params[\"label\"],\n",
        "                                               seed=worker_id,\n",
        "                                               sample_ratio=ds_params[\"col_frac\"])\n",
        "\n",
        "    return sampled_ds, sampled_label"
      ]
    },
    {
      "cell_type": "markdown",
      "metadata": {
        "id": "dK7DlbWLv8Q1"
      },
      "source": [
        "## Train Trees"
      ]
    },
    {
      "cell_type": "code",
      "execution_count": 86,
      "metadata": {
        "id": "bM3hjkAbv-Xs"
      },
      "outputs": [],
      "source": [
        "# Define a function to train a single tree on a worker\n",
        "def train_tree(worker_id, dataset, tree_params):\n",
        "    print(f\"[Worker {worker_id}] Preparing Data\")\n",
        "    data_X, data_y = dataset\n",
        "\n",
        "    # Prepare data for training\n",
        "    data_X = data_X.toPandas()\n",
        "    data_y = data_y.toPandas().squeeze()\n",
        "\n",
        "    print(f\"[Worker {worker_id}] Creating Tree\")\n",
        "    # Train the tree on the sampled dataset\n",
        "    tree = DecisionTree(max_depth=tree_params[\"max_depth\"],\n",
        "                        threshold_method=tree_params[\"threshold\"],\n",
        "                        threshold_buckets=tree_params[\"buckets\"],\n",
        "                        min_samples_per_split=tree_params[\"min_samples_per_split\"],\n",
        "                        tree_id=tree_params[\"tree_id\"],\n",
        "                        display_metrics=tree_params[\"disp_mode\"]\n",
        "                        )\n",
        "    model = tree.fit(data_X, data_y)\n",
        "\n",
        "    return model"
      ]
    },
    {
      "cell_type": "markdown",
      "metadata": {
        "id": "gAFtJZH9ImYp"
      },
      "source": [
        "## Predict"
      ]
    },
    {
      "cell_type": "code",
      "execution_count": 87,
      "metadata": {
        "id": "3gV1Q3bcImA9"
      },
      "outputs": [],
      "source": [
        "def rf_predict(random_forest, data, label_col):\n",
        "\n",
        "    predictions = []\n",
        "    for tree in random_forest:\n",
        "      feature_data, labels = sample_columns(data, label_col, seed=tree, sample_ratio=0.6)\n",
        "\n",
        "      feature_data = feature_data.toPandas()\n",
        "      labels = labels.toPandas().squeeze()\n",
        "\n",
        "      preds = random_forest[tree].predict(feature_data)\n",
        "      predictions.append(preds)\n",
        "\n",
        "    predictions = np.array(predictions)\n",
        "    # Calculate Mode of Tree Predictions\n",
        "    final_preds = stats.mode(predictions, keepdims=True).mode[0]\n",
        "    # Print Metrics\n",
        "    DecisionTree.calc_metrics(final_preds, labels, 'full')\n",
        "    return final_preds"
      ]
    },
    {
      "cell_type": "markdown",
      "metadata": {
        "id": "bantauflwBAf"
      },
      "source": [
        "\n",
        "## Distribute Processing"
      ]
    },
    {
      "cell_type": "code",
      "execution_count": 88,
      "metadata": {
        "id": "I5YTmFyPwGMO"
      },
      "outputs": [],
      "source": [
        "def distribute_training(dataset, ds_params, tree_params, workers=4):\n",
        "  # Create a list of worker IDs\n",
        "  worker_ids = range(workers)\n",
        "\n",
        "  models = {}\n",
        "  for worker in worker_ids:\n",
        "    tree_params[\"tree_id\"] = worker\n",
        "    worker_data = create_training_data(dataset, ds_params, worker_id=worker)\n",
        "    tree = train_tree(worker, worker_data, tree_params)\n",
        "    models[worker] = tree\n",
        "\n",
        "  return models"
      ]
    },
    {
      "cell_type": "code",
      "execution_count": 89,
      "metadata": {
        "id": "d7DU40BoIhfH"
      },
      "outputs": [],
      "source": [
        "def distribute_predict():\n",
        "  pass"
      ]
    },
    {
      "cell_type": "markdown",
      "metadata": {
        "id": "XnsWHbVswH67"
      },
      "source": [
        "\n",
        "## Small DS Random Forest"
      ]
    },
    {
      "cell_type": "code",
      "execution_count": 90,
      "metadata": {
        "id": "nAWQ7ztKKKzE"
      },
      "outputs": [],
      "source": [
        "hi_small_train = spark.read.parquet('./data/02_model_input/hi_small_train.parquet')\n",
        "hi_small_test = spark.read.parquet('./data/02_model_input/hi_small_test.parquet')"
      ]
    },
    {
      "cell_type": "code",
      "execution_count": 91,
      "metadata": {
        "colab": {
          "base_uri": "https://localhost:8080/"
        },
        "id": "9mMinIlKgcpm",
        "outputId": "e3339e7a-bfa4-4305-a696-fd35e0bbf393"
      },
      "outputs": [
        {
          "output_type": "stream",
          "name": "stdout",
          "text": [
            "[Worker 0] Preparing Data\n",
            "[Worker 0] Creating Tree\n",
            "[Worker 0] F1-Score: 0.6071964017991005\n",
            "[Worker 0] Recall: 0.4623287671232877\n",
            "[Worker 0] Precission: 0.8842794759825328\n",
            "[Worker 1] Preparing Data\n",
            "[Worker 1] Creating Tree\n",
            "[Worker 1] F1-Score: 0.34986945169712796\n",
            "[Worker 1] Recall: 0.21405750798722045\n",
            "[Worker 1] Precission: 0.9571428571428572\n",
            "[Worker 2] Preparing Data\n",
            "[Worker 2] Creating Tree\n",
            "[Worker 2] F1-Score: 0.45076923076923076\n",
            "[Worker 2] Recall: 0.3259176863181313\n",
            "[Worker 2] Precission: 0.7306733167082294\n",
            "[Worker 3] Preparing Data\n",
            "[Worker 3] Creating Tree\n",
            "[Worker 3] F1-Score: 0.3541501976284585\n",
            "[Worker 3] Recall: 0.24060150375939848\n",
            "[Worker 3] Precission: 0.6706586826347305\n",
            "[Worker 4] Preparing Data\n",
            "[Worker 4] Creating Tree\n",
            "[Worker 4] F1-Score: 0.5623987034035656\n",
            "[Worker 4] Recall: 0.3961187214611872\n",
            "[Worker 4] Precission: 0.9692737430167597\n"
          ]
        }
      ],
      "source": [
        "tree_params = {\n",
        "    \"tree_id\": 0,\n",
        "    \"max_depth\": 10,\n",
        "    \"threshold\": 'bigdata',\n",
        "    \"buckets\": 15,\n",
        "    \"min_samples_per_split\": 2,\n",
        "    \"disp_mode\": \"random_forest\"\n",
        "}\n",
        "\n",
        "ds_params = {\n",
        "    \"label\": \"Is Laundering\",\n",
        "    \"col_frac\": 0.5,\n",
        "    \"row_frac\": 0.25,\n",
        "}\n",
        "\n",
        "num_trees = 5\n",
        "\n",
        "random_forest = distribute_training(hi_small_train, ds_params, tree_params, workers=num_trees)"
      ]
    },
    {
      "cell_type": "code",
      "execution_count": 92,
      "metadata": {
        "colab": {
          "base_uri": "https://localhost:8080/"
        },
        "id": "tabC_wK4IyEs",
        "outputId": "8be73e75-9d9c-4923-83b0-32f152594a4c"
      },
      "outputs": [
        {
          "output_type": "stream",
          "name": "stdout",
          "text": [
            "Model Error: 0.0008175986663284166\n",
            "Model Accuracy: 0.9991824013336715\n",
            "Model Precision: 0.9933035714285714\n",
            "Model Recall: 0.28343949044585987\n",
            "Model Specificity: 0.9999978230581679\n",
            "Model F1-Score: 0.4410307234886025\n"
          ]
        }
      ],
      "source": [
        "final_preds = rf_predict(random_forest, hi_small_test, \"Is Laundering\")"
      ]
    },
    {
      "cell_type": "markdown",
      "metadata": {
        "id": "JKF0u8JAi_-4"
      },
      "source": [
        "## Medium DS Random Forest"
      ]
    },
    {
      "cell_type": "code",
      "execution_count": null,
      "metadata": {
        "id": "ILJwDzWJ5KLv"
      },
      "outputs": [],
      "source": []
    }
  ],
  "metadata": {
    "colab": {
      "provenance": [],
      "authorship_tag": "ABX9TyNwX/wNn9NgO2pFRFzboMIb",
      "include_colab_link": true
    },
    "kernelspec": {
      "display_name": "Python 3",
      "name": "python3"
    },
    "language_info": {
      "name": "python"
    }
  },
  "nbformat": 4,
  "nbformat_minor": 0
}