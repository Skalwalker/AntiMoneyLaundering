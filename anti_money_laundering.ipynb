{
  "nbformat": 4,
  "nbformat_minor": 0,
  "metadata": {
    "colab": {
      "provenance": [],
      "authorship_tag": "ABX9TyPzRnF30MAzVx5e0z5sbqCg",
      "include_colab_link": true
    },
    "kernelspec": {
      "name": "python3",
      "display_name": "Python 3"
    },
    "language_info": {
      "name": "python"
    }
  },
  "cells": [
    {
      "cell_type": "markdown",
      "metadata": {
        "id": "view-in-github",
        "colab_type": "text"
      },
      "source": [
        "<a href=\"https://colab.research.google.com/github/Skalwalker/AntiMoneyLaundering/blob/main/anti_money_laundering.ipynb\" target=\"_parent\"><img src=\"https://colab.research.google.com/assets/colab-badge.svg\" alt=\"Open In Colab\"/></a>"
      ]
    },
    {
      "cell_type": "markdown",
      "source": [
        "## Imports"
      ],
      "metadata": {
        "id": "KU5_kZqazZVT"
      }
    },
    {
      "cell_type": "code",
      "source": [
        "!pip install kedro"
      ],
      "metadata": {
        "id": "rN2y_oA8zFgG",
        "outputId": "a7d5dda1-4dee-4324-eb04-3f9998729c86",
        "colab": {
          "base_uri": "https://localhost:8080/"
        }
      },
      "execution_count": 1,
      "outputs": [
        {
          "output_type": "stream",
          "name": "stdout",
          "text": [
            "Looking in indexes: https://pypi.org/simple, https://us-python.pkg.dev/colab-wheels/public/simple/\n",
            "Requirement already satisfied: kedro in /usr/local/lib/python3.10/dist-packages (0.18.10)\n",
            "Requirement already satisfied: anyconfig~=0.10.0 in /usr/local/lib/python3.10/dist-packages (from kedro) (0.10.1)\n",
            "Requirement already satisfied: attrs>=21.3 in /usr/local/lib/python3.10/dist-packages (from kedro) (23.1.0)\n",
            "Requirement already satisfied: build in /usr/local/lib/python3.10/dist-packages (from kedro) (0.10.0)\n",
            "Requirement already satisfied: cachetools~=5.3 in /usr/local/lib/python3.10/dist-packages (from kedro) (5.3.0)\n",
            "Requirement already satisfied: click<9.0 in /usr/local/lib/python3.10/dist-packages (from kedro) (8.1.3)\n",
            "Requirement already satisfied: cookiecutter<3.0,>=2.1.1 in /usr/local/lib/python3.10/dist-packages (from kedro) (2.1.1)\n",
            "Requirement already satisfied: dynaconf<4.0,>=3.1.2 in /usr/local/lib/python3.10/dist-packages (from kedro) (3.1.12)\n",
            "Requirement already satisfied: fsspec<2024.1,>=2021.4 in /usr/local/lib/python3.10/dist-packages (from kedro) (2023.4.0)\n",
            "Requirement already satisfied: gitpython~=3.0 in /usr/local/lib/python3.10/dist-packages (from kedro) (3.1.31)\n",
            "Requirement already satisfied: importlib-resources>=1.3 in /usr/local/lib/python3.10/dist-packages (from kedro) (5.12.0)\n",
            "Requirement already satisfied: jmespath<1.0,>=0.9.5 in /usr/local/lib/python3.10/dist-packages (from kedro) (0.10.0)\n",
            "Requirement already satisfied: more-itertools~=9.0 in /usr/local/lib/python3.10/dist-packages (from kedro) (9.1.0)\n",
            "Requirement already satisfied: omegaconf~=2.3 in /usr/local/lib/python3.10/dist-packages (from kedro) (2.3.0)\n",
            "Requirement already satisfied: pip-tools~=6.5 in /usr/local/lib/python3.10/dist-packages (from kedro) (6.13.0)\n",
            "Requirement already satisfied: pluggy~=1.0.0 in /usr/local/lib/python3.10/dist-packages (from kedro) (1.0.0)\n",
            "Requirement already satisfied: PyYAML<7.0,>=4.2 in /usr/local/lib/python3.10/dist-packages (from kedro) (6.0)\n",
            "Requirement already satisfied: rich<14.0,>=12.0 in /usr/local/lib/python3.10/dist-packages (from kedro) (13.3.4)\n",
            "Requirement already satisfied: rope<2.0,>=0.21 in /usr/local/lib/python3.10/dist-packages (from kedro) (1.8.0)\n",
            "Requirement already satisfied: setuptools>=65.5.1 in /usr/local/lib/python3.10/dist-packages (from kedro) (67.7.2)\n",
            "Requirement already satisfied: toml~=0.10 in /usr/local/lib/python3.10/dist-packages (from kedro) (0.10.2)\n",
            "Requirement already satisfied: toposort~=1.5 in /usr/local/lib/python3.10/dist-packages (from kedro) (1.10)\n",
            "Requirement already satisfied: importlib-metadata>=3.6 in /usr/local/lib/python3.10/dist-packages (from kedro) (6.7.0)\n",
            "Requirement already satisfied: binaryornot>=0.4.4 in /usr/local/lib/python3.10/dist-packages (from cookiecutter<3.0,>=2.1.1->kedro) (0.4.4)\n",
            "Requirement already satisfied: Jinja2<4.0.0,>=2.7 in /usr/local/lib/python3.10/dist-packages (from cookiecutter<3.0,>=2.1.1->kedro) (3.1.2)\n",
            "Requirement already satisfied: jinja2-time>=0.2.0 in /usr/local/lib/python3.10/dist-packages (from cookiecutter<3.0,>=2.1.1->kedro) (0.2.0)\n",
            "Requirement already satisfied: python-slugify>=4.0.0 in /usr/local/lib/python3.10/dist-packages (from cookiecutter<3.0,>=2.1.1->kedro) (8.0.1)\n",
            "Requirement already satisfied: requests>=2.23.0 in /usr/local/lib/python3.10/dist-packages (from cookiecutter<3.0,>=2.1.1->kedro) (2.27.1)\n",
            "Requirement already satisfied: gitdb<5,>=4.0.1 in /usr/local/lib/python3.10/dist-packages (from gitpython~=3.0->kedro) (4.0.10)\n",
            "Requirement already satisfied: zipp>=0.5 in /usr/local/lib/python3.10/dist-packages (from importlib-metadata>=3.6->kedro) (3.15.0)\n",
            "Requirement already satisfied: antlr4-python3-runtime==4.9.* in /usr/local/lib/python3.10/dist-packages (from omegaconf~=2.3->kedro) (4.9.3)\n",
            "Requirement already satisfied: pip>=22.2 in /usr/local/lib/python3.10/dist-packages (from pip-tools~=6.5->kedro) (23.1.2)\n",
            "Requirement already satisfied: wheel in /usr/local/lib/python3.10/dist-packages (from pip-tools~=6.5->kedro) (0.40.0)\n",
            "Requirement already satisfied: markdown-it-py<3.0.0,>=2.2.0 in /usr/local/lib/python3.10/dist-packages (from rich<14.0,>=12.0->kedro) (2.2.0)\n",
            "Requirement already satisfied: pygments<3.0.0,>=2.13.0 in /usr/local/lib/python3.10/dist-packages (from rich<14.0,>=12.0->kedro) (2.14.0)\n",
            "Requirement already satisfied: pytoolconfig[global]>=1.2.2 in /usr/local/lib/python3.10/dist-packages (from rope<2.0,>=0.21->kedro) (1.2.5)\n",
            "Requirement already satisfied: packaging>=19.0 in /usr/local/lib/python3.10/dist-packages (from build->kedro) (23.1)\n",
            "Requirement already satisfied: pyproject_hooks in /usr/local/lib/python3.10/dist-packages (from build->kedro) (1.0.0)\n",
            "Requirement already satisfied: tomli>=1.1.0 in /usr/local/lib/python3.10/dist-packages (from build->kedro) (2.0.1)\n",
            "Requirement already satisfied: chardet>=3.0.2 in /usr/local/lib/python3.10/dist-packages (from binaryornot>=0.4.4->cookiecutter<3.0,>=2.1.1->kedro) (4.0.0)\n",
            "Requirement already satisfied: smmap<6,>=3.0.1 in /usr/local/lib/python3.10/dist-packages (from gitdb<5,>=4.0.1->gitpython~=3.0->kedro) (5.0.0)\n",
            "Requirement already satisfied: MarkupSafe>=2.0 in /usr/local/lib/python3.10/dist-packages (from Jinja2<4.0.0,>=2.7->cookiecutter<3.0,>=2.1.1->kedro) (2.1.2)\n",
            "Requirement already satisfied: arrow in /usr/local/lib/python3.10/dist-packages (from jinja2-time>=0.2.0->cookiecutter<3.0,>=2.1.1->kedro) (1.2.3)\n",
            "Requirement already satisfied: mdurl~=0.1 in /usr/local/lib/python3.10/dist-packages (from markdown-it-py<3.0.0,>=2.2.0->rich<14.0,>=12.0->kedro) (0.1.2)\n",
            "Requirement already satisfied: text-unidecode>=1.3 in /usr/local/lib/python3.10/dist-packages (from python-slugify>=4.0.0->cookiecutter<3.0,>=2.1.1->kedro) (1.3)\n",
            "Requirement already satisfied: platformdirs>=1.4.4 in /usr/local/lib/python3.10/dist-packages (from pytoolconfig[global]>=1.2.2->rope<2.0,>=0.21->kedro) (3.3.0)\n",
            "Requirement already satisfied: urllib3<1.27,>=1.21.1 in /usr/local/lib/python3.10/dist-packages (from requests>=2.23.0->cookiecutter<3.0,>=2.1.1->kedro) (1.26.15)\n",
            "Requirement already satisfied: certifi>=2017.4.17 in /usr/local/lib/python3.10/dist-packages (from requests>=2.23.0->cookiecutter<3.0,>=2.1.1->kedro) (2022.12.7)\n",
            "Requirement already satisfied: charset-normalizer~=2.0.0 in /usr/local/lib/python3.10/dist-packages (from requests>=2.23.0->cookiecutter<3.0,>=2.1.1->kedro) (2.0.12)\n",
            "Requirement already satisfied: idna<4,>=2.5 in /usr/local/lib/python3.10/dist-packages (from requests>=2.23.0->cookiecutter<3.0,>=2.1.1->kedro) (3.4)\n",
            "Requirement already satisfied: python-dateutil>=2.7.0 in /usr/local/lib/python3.10/dist-packages (from arrow->jinja2-time>=0.2.0->cookiecutter<3.0,>=2.1.1->kedro) (2.8.2)\n",
            "Requirement already satisfied: six>=1.5 in /usr/local/lib/python3.10/dist-packages (from python-dateutil>=2.7.0->arrow->jinja2-time>=0.2.0->cookiecutter<3.0,>=2.1.1->kedro) (1.16.0)\n"
          ]
        }
      ]
    },
    {
      "cell_type": "code",
      "source": [
        "%load_ext kedro.ipython"
      ],
      "metadata": {
        "id": "4IAZ82AXzerh",
        "outputId": "417edcf2-fe27-4c66-c094-2dc3c8386969",
        "colab": {
          "base_uri": "https://localhost:8080/",
          "height": 64
        }
      },
      "execution_count": 2,
      "outputs": [
        {
          "output_type": "display_data",
          "data": {
            "text/plain": [
              "\u001b[2;36m[06/22/23 11:22:00]\u001b[0m\u001b[2;36m \u001b[0m\u001b[31mWARNING \u001b[0m Kedro extension was registered but couldn't find a Kedro project. Make  \u001b]8;id=239583;file:///usr/local/lib/python3.10/dist-packages/kedro/ipython/__init__.py\u001b\\\u001b[2m__init__.py\u001b[0m\u001b]8;;\u001b\\\u001b[2m:\u001b[0m\u001b]8;id=666615;file:///usr/local/lib/python3.10/dist-packages/kedro/ipython/__init__.py#37\u001b\\\u001b[2m37\u001b[0m\u001b]8;;\u001b\\\n",
              "\u001b[2;36m                    \u001b[0m         sure you run \u001b[32m'%reload_kedro \u001b[0m\u001b[32m<\u001b[0m\u001b[32mproject_root\u001b[0m\u001b[32m>\u001b[0m\u001b[32m'\u001b[0m.                            \u001b[2m              \u001b[0m\n"
            ],
            "text/html": [
              "<pre style=\"white-space:pre;overflow-x:auto;line-height:normal;font-family:Menlo,'DejaVu Sans Mono',consolas,'Courier New',monospace\"><span style=\"color: #7fbfbf; text-decoration-color: #7fbfbf\">[06/22/23 11:22:00] </span><span style=\"color: #800000; text-decoration-color: #800000\">WARNING </span> Kedro extension was registered but couldn't find a Kedro project. Make  <a href=\"file:///usr/local/lib/python3.10/dist-packages/kedro/ipython/__init__.py\" target=\"_blank\"><span style=\"color: #7f7f7f; text-decoration-color: #7f7f7f\">__init__.py</span></a><span style=\"color: #7f7f7f; text-decoration-color: #7f7f7f\">:</span><a href=\"file:///usr/local/lib/python3.10/dist-packages/kedro/ipython/__init__.py#37\" target=\"_blank\"><span style=\"color: #7f7f7f; text-decoration-color: #7f7f7f\">37</span></a>\n",
              "<span style=\"color: #7fbfbf; text-decoration-color: #7fbfbf\">                    </span>         sure you run <span style=\"color: #008000; text-decoration-color: #008000\">'%reload_kedro &lt;project_root&gt;'</span>.                            <span style=\"color: #7f7f7f; text-decoration-color: #7f7f7f\">              </span>\n",
              "</pre>\n"
            ]
          },
          "metadata": {}
        }
      ]
    },
    {
      "cell_type": "code",
      "source": [
        "!kedro new --starter=pandas-iris"
      ],
      "metadata": {
        "id": "Bipd_eee1vj2",
        "outputId": "a2188f7e-bedb-492d-bbd9-1eaa9f974cad",
        "colab": {
          "base_uri": "https://localhost:8080/"
        }
      },
      "execution_count": 3,
      "outputs": [
        {
          "output_type": "stream",
          "name": "stdout",
          "text": [
            "\n",
            "\u001b[1mProject Name\n",
            "============\u001b[0m\n",
            "Please enter a human readable name for your new project.\n",
            "Spaces, hyphens, and underscores are allowed.\n",
            " [Iris]: Anti Money Laundering\n",
            "\n",
            "The project name 'Anti Money Laundering' has been applied to: \n",
            "- The project title in /content/anti-money-laundering/README.md \n",
            "- The folder created for your project in /content/anti-money-laundering \n",
            "- The project's python package in /content/anti-money-laundering/src/anti_money_laundering\u001b[0m\n",
            "\n",
            "A best-practice setup includes initialising git and creating a virtual environment before running 'pip install -r src/requirements.txt' to install project-specific dependencies. Refer to the Kedro documentation: https://kedro.readthedocs.io/\u001b[0m\n",
            "\u001b[32m\n",
            "Change directory to the project generated in /content/anti-money-laundering by entering 'cd /content/anti-money-laundering'\u001b[0m\n"
          ]
        }
      ]
    },
    {
      "cell_type": "code",
      "source": [],
      "metadata": {
        "id": "Hcdxu9pd19J9"
      },
      "execution_count": null,
      "outputs": []
    }
  ]
}