{
  "cells": [
    {
      "cell_type": "markdown",
      "metadata": {
        "id": "view-in-github",
        "colab_type": "text"
      },
      "source": [
        "<a href=\"https://colab.research.google.com/github/Skalwalker/AntiMoneyLaundering/blob/main/anti_money_laundering.ipynb\" target=\"_parent\"><img src=\"https://colab.research.google.com/assets/colab-badge.svg\" alt=\"Open In Colab\"/></a>"
      ]
    },
    {
      "cell_type": "markdown",
      "metadata": {
        "id": "ubxiWav99sa1"
      },
      "source": [
        "# IBM Transactions for Anti Money Laundering\n",
        "\n",
        "The project is based on the analysis of the «IBM Transactions for Anti Money Laundering» dataset published on [Kaggle](https://www.kaggle.com/datasets/ealtman2019/ibm-transactions-for-anti-money-laundering-aml) and released under the Community Data License Agreement – Sharing – Version 1.0. This dataset contains several CSV files, each having a different combination of data size and amount of illicit transactions.\n",
        "\n",
        "## About\n",
        "\n",
        "This project is a partial requisite for completing the courses of \"Algorithms for massive datasets\" and \"Statistical methods for ML\" on the masters degree computer science program from Università degli Studi di Milano.\n",
        "\n",
        "- **Author:** Renato Avellar Nobre\n",
        "- **Matriculation Number:** 984405\n",
        "- **Exam Project Year:** 22/23\n",
        "\n",
        "### Disclaimer\n",
        "\n",
        "\"I declare that this material, which I now submit for assessment, is entirely my own work and has not been taken from the work of others, save and to the extent that such work has been cited and acknowledged within the text of my work. I understand that plagiarism, collusion, and copying are grave and serious offences in the university and accept the penalties that would be imposed should I engage in plagiarism, collusion or copying. This assignment, or any part of it, has not been previously submitted by me or any other person for assessment on this or any other course of study.\"\n"
      ]
    },
    {
      "cell_type": "markdown",
      "metadata": {
        "id": "CL6OQSo_Ai65"
      },
      "source": [
        "# [ALDER](https://github.com/Skalwalker/AntiMoneyLaundering): **A**nti Money **L**aundering using **DE**cision T**R**ees\n",
        "\n",
        "This project proposes and explores ALDER, an implementation of decision trees and random forest algorithms to detect money laundering. It is designed to classify laundering transactions and can process large-scale data in a simulated distributed environment. ALDER utilizes the IBM Transactions for Anti Money Laundering (IBM TAML) dataset and leverages Apache Spark for scalable computing. It can either use a single decision tree or distribute the computation of multiple decision trees to create a scalable random forest predictor. Therefore, ALDER aims to address research questions related to its effectiveness in classifying money laundering, its performance with different dataset sizes, and its scalability in real distributed environments.\n",
        "\n",
        "Over many contributions, ALDER applies a rigorous data engineering pipeline with a strong exploratory data analysis. Such combinations allowed ALDER to create robust features able to generalize the content of the data without creating data leakages to potential overfitting. Additionally, ALDER does not rely on external libraries for its decision tree nor its random forest, designing a decision tree from scratch with mechanisms to work with data imbalance, big data thresholds and multiple information gain functions. Finally, ALDER applies a state-of-the-art hyperparameter tuning with Bayesian optimization and the Hyperopt library.\n",
        "\n",
        "![](https://raw.githubusercontent.com/Skalwalker/AntiMoneyLaundering/main/images/overview.png)\n"
      ]
    },
    {
      "cell_type": "markdown",
      "metadata": {
        "id": "TvV088qACMaw"
      },
      "source": [
        "## Before we start...\n",
        "\n",
        "Please upload the JSON file of your Kaggle API by executing the code below. Kaggle API JSON files can be generated on your [Kaggle user profile setting](https://www.kaggle.com/settings)"
      ]
    },
    {
      "cell_type": "code",
      "execution_count": 1,
      "metadata": {
        "colab": {
          "base_uri": "https://localhost:8080/",
          "height": 86
        },
        "id": "5aA2qb0ICLtZ",
        "outputId": "0d10084e-eb7c-46d4-99e8-1e04fd139c46"
      },
      "outputs": [
        {
          "output_type": "display_data",
          "data": {
            "text/plain": [
              "<IPython.core.display.HTML object>"
            ],
            "text/html": [
              "\n",
              "     <input type=\"file\" id=\"files-7c72cb38-bfec-4b4a-b78e-daffa762381c\" name=\"files[]\" multiple disabled\n",
              "        style=\"border:none\" />\n",
              "     <output id=\"result-7c72cb38-bfec-4b4a-b78e-daffa762381c\">\n",
              "      Upload widget is only available when the cell has been executed in the\n",
              "      current browser session. Please rerun this cell to enable.\n",
              "      </output>\n",
              "      <script>// Copyright 2017 Google LLC\n",
              "//\n",
              "// Licensed under the Apache License, Version 2.0 (the \"License\");\n",
              "// you may not use this file except in compliance with the License.\n",
              "// You may obtain a copy of the License at\n",
              "//\n",
              "//      http://www.apache.org/licenses/LICENSE-2.0\n",
              "//\n",
              "// Unless required by applicable law or agreed to in writing, software\n",
              "// distributed under the License is distributed on an \"AS IS\" BASIS,\n",
              "// WITHOUT WARRANTIES OR CONDITIONS OF ANY KIND, either express or implied.\n",
              "// See the License for the specific language governing permissions and\n",
              "// limitations under the License.\n",
              "\n",
              "/**\n",
              " * @fileoverview Helpers for google.colab Python module.\n",
              " */\n",
              "(function(scope) {\n",
              "function span(text, styleAttributes = {}) {\n",
              "  const element = document.createElement('span');\n",
              "  element.textContent = text;\n",
              "  for (const key of Object.keys(styleAttributes)) {\n",
              "    element.style[key] = styleAttributes[key];\n",
              "  }\n",
              "  return element;\n",
              "}\n",
              "\n",
              "// Max number of bytes which will be uploaded at a time.\n",
              "const MAX_PAYLOAD_SIZE = 100 * 1024;\n",
              "\n",
              "function _uploadFiles(inputId, outputId) {\n",
              "  const steps = uploadFilesStep(inputId, outputId);\n",
              "  const outputElement = document.getElementById(outputId);\n",
              "  // Cache steps on the outputElement to make it available for the next call\n",
              "  // to uploadFilesContinue from Python.\n",
              "  outputElement.steps = steps;\n",
              "\n",
              "  return _uploadFilesContinue(outputId);\n",
              "}\n",
              "\n",
              "// This is roughly an async generator (not supported in the browser yet),\n",
              "// where there are multiple asynchronous steps and the Python side is going\n",
              "// to poll for completion of each step.\n",
              "// This uses a Promise to block the python side on completion of each step,\n",
              "// then passes the result of the previous step as the input to the next step.\n",
              "function _uploadFilesContinue(outputId) {\n",
              "  const outputElement = document.getElementById(outputId);\n",
              "  const steps = outputElement.steps;\n",
              "\n",
              "  const next = steps.next(outputElement.lastPromiseValue);\n",
              "  return Promise.resolve(next.value.promise).then((value) => {\n",
              "    // Cache the last promise value to make it available to the next\n",
              "    // step of the generator.\n",
              "    outputElement.lastPromiseValue = value;\n",
              "    return next.value.response;\n",
              "  });\n",
              "}\n",
              "\n",
              "/**\n",
              " * Generator function which is called between each async step of the upload\n",
              " * process.\n",
              " * @param {string} inputId Element ID of the input file picker element.\n",
              " * @param {string} outputId Element ID of the output display.\n",
              " * @return {!Iterable<!Object>} Iterable of next steps.\n",
              " */\n",
              "function* uploadFilesStep(inputId, outputId) {\n",
              "  const inputElement = document.getElementById(inputId);\n",
              "  inputElement.disabled = false;\n",
              "\n",
              "  const outputElement = document.getElementById(outputId);\n",
              "  outputElement.innerHTML = '';\n",
              "\n",
              "  const pickedPromise = new Promise((resolve) => {\n",
              "    inputElement.addEventListener('change', (e) => {\n",
              "      resolve(e.target.files);\n",
              "    });\n",
              "  });\n",
              "\n",
              "  const cancel = document.createElement('button');\n",
              "  inputElement.parentElement.appendChild(cancel);\n",
              "  cancel.textContent = 'Cancel upload';\n",
              "  const cancelPromise = new Promise((resolve) => {\n",
              "    cancel.onclick = () => {\n",
              "      resolve(null);\n",
              "    };\n",
              "  });\n",
              "\n",
              "  // Wait for the user to pick the files.\n",
              "  const files = yield {\n",
              "    promise: Promise.race([pickedPromise, cancelPromise]),\n",
              "    response: {\n",
              "      action: 'starting',\n",
              "    }\n",
              "  };\n",
              "\n",
              "  cancel.remove();\n",
              "\n",
              "  // Disable the input element since further picks are not allowed.\n",
              "  inputElement.disabled = true;\n",
              "\n",
              "  if (!files) {\n",
              "    return {\n",
              "      response: {\n",
              "        action: 'complete',\n",
              "      }\n",
              "    };\n",
              "  }\n",
              "\n",
              "  for (const file of files) {\n",
              "    const li = document.createElement('li');\n",
              "    li.append(span(file.name, {fontWeight: 'bold'}));\n",
              "    li.append(span(\n",
              "        `(${file.type || 'n/a'}) - ${file.size} bytes, ` +\n",
              "        `last modified: ${\n",
              "            file.lastModifiedDate ? file.lastModifiedDate.toLocaleDateString() :\n",
              "                                    'n/a'} - `));\n",
              "    const percent = span('0% done');\n",
              "    li.appendChild(percent);\n",
              "\n",
              "    outputElement.appendChild(li);\n",
              "\n",
              "    const fileDataPromise = new Promise((resolve) => {\n",
              "      const reader = new FileReader();\n",
              "      reader.onload = (e) => {\n",
              "        resolve(e.target.result);\n",
              "      };\n",
              "      reader.readAsArrayBuffer(file);\n",
              "    });\n",
              "    // Wait for the data to be ready.\n",
              "    let fileData = yield {\n",
              "      promise: fileDataPromise,\n",
              "      response: {\n",
              "        action: 'continue',\n",
              "      }\n",
              "    };\n",
              "\n",
              "    // Use a chunked sending to avoid message size limits. See b/62115660.\n",
              "    let position = 0;\n",
              "    do {\n",
              "      const length = Math.min(fileData.byteLength - position, MAX_PAYLOAD_SIZE);\n",
              "      const chunk = new Uint8Array(fileData, position, length);\n",
              "      position += length;\n",
              "\n",
              "      const base64 = btoa(String.fromCharCode.apply(null, chunk));\n",
              "      yield {\n",
              "        response: {\n",
              "          action: 'append',\n",
              "          file: file.name,\n",
              "          data: base64,\n",
              "        },\n",
              "      };\n",
              "\n",
              "      let percentDone = fileData.byteLength === 0 ?\n",
              "          100 :\n",
              "          Math.round((position / fileData.byteLength) * 100);\n",
              "      percent.textContent = `${percentDone}% done`;\n",
              "\n",
              "    } while (position < fileData.byteLength);\n",
              "  }\n",
              "\n",
              "  // All done.\n",
              "  yield {\n",
              "    response: {\n",
              "      action: 'complete',\n",
              "    }\n",
              "  };\n",
              "}\n",
              "\n",
              "scope.google = scope.google || {};\n",
              "scope.google.colab = scope.google.colab || {};\n",
              "scope.google.colab._files = {\n",
              "  _uploadFiles,\n",
              "  _uploadFilesContinue,\n",
              "};\n",
              "})(self);\n",
              "</script> "
            ]
          },
          "metadata": {}
        },
        {
          "output_type": "stream",
          "name": "stdout",
          "text": [
            "Saving kaggle.json to kaggle.json\n",
            "User uploaded file \"kaggle.json\" with length 66 bytes\n"
          ]
        }
      ],
      "source": [
        "from google.colab import files\n",
        "\n",
        "uploaded = files.upload()\n",
        "\n",
        "for fn in uploaded.keys():\n",
        "  print('User uploaded file \"{name}\" with length {length} bytes'.format(\n",
        "      name=fn, length=len(uploaded[fn])))\n",
        "\n",
        "# Move kaggle.json into the folder where the API expects to find it.\n",
        "!mkdir -p ~/.kaggle/ && mv kaggle.json ~/.kaggle/ && chmod 600 ~/.kaggle/kaggle.json"
      ]
    },
    {
      "cell_type": "markdown",
      "metadata": {
        "id": "oxVAJKcSJPOx"
      },
      "source": [
        "**Also, choose whether to run or skip the Exploratory Data Analysis Process and Feature Vizualisation.**\n",
        "\n",
        "*   **Processing** may take a while\n",
        "*   **Skipping** will remove previous outputs\n",
        "\n"
      ]
    },
    {
      "cell_type": "code",
      "execution_count": 2,
      "metadata": {
        "id": "gE0MXsFjJKOa"
      },
      "outputs": [],
      "source": [
        "skip_eda = True # About 15 minutes to run\n",
        "skip_feature_viz = True # About 30 minutes to run\n",
        "skip_medium_experiments = True # Over 3 hours to run"
      ]
    },
    {
      "cell_type": "markdown",
      "metadata": {
        "id": "dGnDQYvLB3rF"
      },
      "source": [
        "# Setup"
      ]
    },
    {
      "cell_type": "code",
      "execution_count": 3,
      "metadata": {
        "colab": {
          "base_uri": "https://localhost:8080/"
        },
        "id": "1YrUoObNGILG",
        "outputId": "b6eded3c-d461-4575-e02d-a4fb7fb849af"
      },
      "outputs": [
        {
          "output_type": "stream",
          "name": "stdout",
          "text": [
            "Directories created successfully\n"
          ]
        }
      ],
      "source": [
        "import os\n",
        "\n",
        "data_folders = [\"01_raw\"]\n",
        "\n",
        "try:\n",
        "    # Create data directory\n",
        "    os.makedirs(\"data\", exist_ok = True)\n",
        "    # Create sub data folders\n",
        "    [os.makedirs(\"data/\" + folder_name, exist_ok = True) for folder_name in data_folders]\n",
        "    print(\"Directories created successfully\")\n",
        "except OSError as error:\n",
        "    print(f\"Directories can not be created: {error}\")\n"
      ]
    },
    {
      "cell_type": "markdown",
      "metadata": {
        "id": "Bp_-mZuN5z2o"
      },
      "source": [
        "## Fetching Files from Kaggle\n",
        "\n",
        "ALDER starts by downloading the IBM TAML dataset from the Kaggle website. Among multiple files available in the dataset, ALDER selects a subset for its methodology. The original dataset files are in CSV format and large enough to have memory issues while loading them in primary memory. Therefore, to be able to process all the selected data and further parallelize the distribution of decision trees in the random forest, ALDER relies on PySpark."
      ]
    },
    {
      "cell_type": "code",
      "execution_count": 4,
      "metadata": {
        "colab": {
          "base_uri": "https://localhost:8080/"
        },
        "id": "3Z-WsFbK9BMU",
        "outputId": "d731422a-7ea5-4013-9324-9d57e1c3b815"
      },
      "outputs": [
        {
          "output_type": "stream",
          "name": "stdout",
          "text": [
            "Requirement already satisfied: kaggle in /usr/local/lib/python3.10/dist-packages (1.5.13)\n",
            "Requirement already satisfied: six>=1.10 in /usr/local/lib/python3.10/dist-packages (from kaggle) (1.16.0)\n",
            "Requirement already satisfied: certifi in /usr/local/lib/python3.10/dist-packages (from kaggle) (2023.5.7)\n",
            "Requirement already satisfied: python-dateutil in /usr/local/lib/python3.10/dist-packages (from kaggle) (2.8.2)\n",
            "Requirement already satisfied: requests in /usr/local/lib/python3.10/dist-packages (from kaggle) (2.27.1)\n",
            "Requirement already satisfied: tqdm in /usr/local/lib/python3.10/dist-packages (from kaggle) (4.65.0)\n",
            "Requirement already satisfied: python-slugify in /usr/local/lib/python3.10/dist-packages (from kaggle) (8.0.1)\n",
            "Requirement already satisfied: urllib3 in /usr/local/lib/python3.10/dist-packages (from kaggle) (1.26.16)\n",
            "Requirement already satisfied: text-unidecode>=1.3 in /usr/local/lib/python3.10/dist-packages (from python-slugify->kaggle) (1.3)\n",
            "Requirement already satisfied: charset-normalizer~=2.0.0 in /usr/local/lib/python3.10/dist-packages (from requests->kaggle) (2.0.12)\n",
            "Requirement already satisfied: idna<4,>=2.5 in /usr/local/lib/python3.10/dist-packages (from requests->kaggle) (3.4)\n",
            "Downloading ibm-transactions-for-anti-money-laundering-aml.zip to /content\n",
            "100% 7.42G/7.42G [01:47<00:00, 139MB/s]\n",
            "100% 7.42G/7.42G [01:47<00:00, 74.0MB/s]\n"
          ]
        }
      ],
      "source": [
        "!pip install kaggle\n",
        "!kaggle datasets download -d ealtman2019/ibm-transactions-for-anti-money-laundering-aml"
      ]
    },
    {
      "cell_type": "code",
      "execution_count": 5,
      "metadata": {
        "colab": {
          "base_uri": "https://localhost:8080/"
        },
        "id": "QSb8QvE59Zk_",
        "outputId": "c60982aa-503f-4229-d021-f5d7c1bbc8e1"
      },
      "outputs": [
        {
          "output_type": "stream",
          "name": "stdout",
          "text": [
            "Archive:  ibm-transactions-for-anti-money-laundering-aml.zip\n",
            "  inflating: ./data/01_raw/HI-Medium_Patterns.txt  \n",
            "  inflating: ./data/01_raw/HI-Medium_Trans.csv  \n",
            "  inflating: ./data/01_raw/HI-Small_Patterns.txt  \n",
            "  inflating: ./data/01_raw/HI-Small_Trans.csv  \n"
          ]
        }
      ],
      "source": [
        "!unzip ibm-transactions-for-anti-money-laundering-aml.zip -d ./data/01_raw/ -x \"LI*\" \"HI-Large*\"\n",
        "!rm ibm-transactions-for-anti-money-laundering-aml.zip\n",
        "!rm ./data/01_raw/*.txt"
      ]
    },
    {
      "cell_type": "markdown",
      "metadata": {
        "id": "KU5_kZqazZVT"
      },
      "source": [
        "## Installations and Imports"
      ]
    },
    {
      "cell_type": "code",
      "execution_count": 6,
      "metadata": {
        "id": "KD7T6o7fQ-xR",
        "colab": {
          "base_uri": "https://localhost:8080/"
        },
        "outputId": "85d2cc03-8589-4562-ee48-2c72ff1c812c"
      },
      "outputs": [
        {
          "output_type": "stream",
          "name": "stdout",
          "text": [
            "Requirement already satisfied: ipykernel in /usr/local/lib/python3.10/dist-packages (5.5.6)\n",
            "Collecting ipykernel\n",
            "  Downloading ipykernel-6.24.0-py3-none-any.whl (152 kB)\n",
            "\u001b[2K     \u001b[90m━━━━━━━━━━━━━━━━━━━━━━━━━━━━━━━━━━━━━━━\u001b[0m \u001b[32m152.8/152.8 kB\u001b[0m \u001b[31m6.2 MB/s\u001b[0m eta \u001b[36m0:00:00\u001b[0m\n",
            "\u001b[?25hCollecting comm>=0.1.1 (from ipykernel)\n",
            "  Downloading comm-0.1.3-py3-none-any.whl (6.6 kB)\n",
            "Requirement already satisfied: debugpy>=1.6.5 in /usr/local/lib/python3.10/dist-packages (from ipykernel) (1.6.6)\n",
            "Requirement already satisfied: ipython>=7.23.1 in /usr/local/lib/python3.10/dist-packages (from ipykernel) (7.34.0)\n",
            "Requirement already satisfied: jupyter-client>=6.1.12 in /usr/local/lib/python3.10/dist-packages (from ipykernel) (6.1.12)\n",
            "Requirement already satisfied: jupyter-core!=5.0.*,>=4.12 in /usr/local/lib/python3.10/dist-packages (from ipykernel) (5.3.1)\n",
            "Requirement already satisfied: matplotlib-inline>=0.1 in /usr/local/lib/python3.10/dist-packages (from ipykernel) (0.1.6)\n",
            "Requirement already satisfied: nest-asyncio in /usr/local/lib/python3.10/dist-packages (from ipykernel) (1.5.6)\n",
            "Requirement already satisfied: packaging in /usr/local/lib/python3.10/dist-packages (from ipykernel) (23.1)\n",
            "Requirement already satisfied: psutil in /usr/local/lib/python3.10/dist-packages (from ipykernel) (5.9.5)\n",
            "Requirement already satisfied: pyzmq>=20 in /usr/local/lib/python3.10/dist-packages (from ipykernel) (23.2.1)\n",
            "Requirement already satisfied: tornado>=6.1 in /usr/local/lib/python3.10/dist-packages (from ipykernel) (6.3.1)\n",
            "Requirement already satisfied: traitlets>=5.4.0 in /usr/local/lib/python3.10/dist-packages (from ipykernel) (5.7.1)\n",
            "Requirement already satisfied: setuptools>=18.5 in /usr/local/lib/python3.10/dist-packages (from ipython>=7.23.1->ipykernel) (67.7.2)\n",
            "Collecting jedi>=0.16 (from ipython>=7.23.1->ipykernel)\n",
            "  Downloading jedi-0.18.2-py2.py3-none-any.whl (1.6 MB)\n",
            "\u001b[2K     \u001b[90m━━━━━━━━━━━━━━━━━━━━━━━━━━━━━━━━━━━━━━━━\u001b[0m \u001b[32m1.6/1.6 MB\u001b[0m \u001b[31m43.4 MB/s\u001b[0m eta \u001b[36m0:00:00\u001b[0m\n",
            "\u001b[?25hRequirement already satisfied: decorator in /usr/local/lib/python3.10/dist-packages (from ipython>=7.23.1->ipykernel) (4.4.2)\n",
            "Requirement already satisfied: pickleshare in /usr/local/lib/python3.10/dist-packages (from ipython>=7.23.1->ipykernel) (0.7.5)\n",
            "Requirement already satisfied: prompt-toolkit!=3.0.0,!=3.0.1,<3.1.0,>=2.0.0 in /usr/local/lib/python3.10/dist-packages (from ipython>=7.23.1->ipykernel) (3.0.38)\n",
            "Requirement already satisfied: pygments in /usr/local/lib/python3.10/dist-packages (from ipython>=7.23.1->ipykernel) (2.14.0)\n",
            "Requirement already satisfied: backcall in /usr/local/lib/python3.10/dist-packages (from ipython>=7.23.1->ipykernel) (0.2.0)\n",
            "Requirement already satisfied: pexpect>4.3 in /usr/local/lib/python3.10/dist-packages (from ipython>=7.23.1->ipykernel) (4.8.0)\n",
            "Requirement already satisfied: python-dateutil>=2.1 in /usr/local/lib/python3.10/dist-packages (from jupyter-client>=6.1.12->ipykernel) (2.8.2)\n",
            "Requirement already satisfied: platformdirs>=2.5 in /usr/local/lib/python3.10/dist-packages (from jupyter-core!=5.0.*,>=4.12->ipykernel) (3.7.0)\n",
            "Requirement already satisfied: parso<0.9.0,>=0.8.0 in /usr/local/lib/python3.10/dist-packages (from jedi>=0.16->ipython>=7.23.1->ipykernel) (0.8.3)\n",
            "Requirement already satisfied: ptyprocess>=0.5 in /usr/local/lib/python3.10/dist-packages (from pexpect>4.3->ipython>=7.23.1->ipykernel) (0.7.0)\n",
            "Requirement already satisfied: wcwidth in /usr/local/lib/python3.10/dist-packages (from prompt-toolkit!=3.0.0,!=3.0.1,<3.1.0,>=2.0.0->ipython>=7.23.1->ipykernel) (0.2.6)\n",
            "Requirement already satisfied: six>=1.5 in /usr/local/lib/python3.10/dist-packages (from python-dateutil>=2.1->jupyter-client>=6.1.12->ipykernel) (1.16.0)\n",
            "Installing collected packages: jedi, comm, ipykernel\n",
            "  Attempting uninstall: ipykernel\n",
            "    Found existing installation: ipykernel 5.5.6\n",
            "    Uninstalling ipykernel-5.5.6:\n",
            "      Successfully uninstalled ipykernel-5.5.6\n",
            "\u001b[31mERROR: pip's dependency resolver does not currently take into account all the packages that are installed. This behaviour is the source of the following dependency conflicts.\n",
            "google-colab 1.0.0 requires ipykernel==5.5.6, but you have ipykernel 6.24.0 which is incompatible.\u001b[0m\u001b[31m\n",
            "\u001b[0mSuccessfully installed comm-0.1.3 ipykernel-6.24.0 jedi-0.18.2\n",
            "Collecting pyspark\n",
            "  Downloading pyspark-3.4.1.tar.gz (310.8 MB)\n",
            "\u001b[2K     \u001b[90m━━━━━━━━━━━━━━━━━━━━━━━━━━━━━━━━━━━━━━━\u001b[0m \u001b[32m310.8/310.8 MB\u001b[0m \u001b[31m2.5 MB/s\u001b[0m eta \u001b[36m0:00:00\u001b[0m\n",
            "\u001b[?25h  Preparing metadata (setup.py) ... \u001b[?25l\u001b[?25hdone\n",
            "Requirement already satisfied: py4j==0.10.9.7 in /usr/local/lib/python3.10/dist-packages (from pyspark) (0.10.9.7)\n",
            "Building wheels for collected packages: pyspark\n",
            "  Building wheel for pyspark (setup.py) ... \u001b[?25l\u001b[?25hdone\n",
            "  Created wheel for pyspark: filename=pyspark-3.4.1-py2.py3-none-any.whl size=311285398 sha256=fd21ffda6158918a48647b66be8bd234bfbdbce261996a9a7882d97318aa4f83\n",
            "  Stored in directory: /root/.cache/pip/wheels/0d/77/a3/ff2f74cc9ab41f8f594dabf0579c2a7c6de920d584206e0834\n",
            "Successfully built pyspark\n",
            "Installing collected packages: pyspark\n",
            "Successfully installed pyspark-3.4.1\n"
          ]
        }
      ],
      "source": [
        "!pip install --upgrade ipykernel\n",
        "!pip install pyspark"
      ]
    },
    {
      "cell_type": "code",
      "execution_count": 7,
      "metadata": {
        "id": "kn7TuiLM4HDH"
      },
      "outputs": [],
      "source": [
        "import gc\n",
        "import random\n",
        "\n",
        "import numpy as np\n",
        "import pandas as pd\n",
        "import seaborn as sns\n",
        "import multiprocessing\n",
        "import matplotlib.pyplot as plt\n",
        "\n",
        "from scipy import stats\n",
        "from sklearn import datasets\n",
        "from sklearn.metrics import confusion_matrix, ConfusionMatrixDisplay\n",
        "\n",
        "from pyspark.sql import Window\n",
        "from pyspark.sql.types import *\n",
        "from pyspark.sql import SparkSession\n",
        "from pyspark.ml.stat import Correlation\n",
        "from pyspark.ml.feature import StringIndexer, VectorAssembler, FeatureHasher\n",
        "from pyspark.sql.functions import (col, sum, lag, round, lit, to_timestamp, countDistinct, hour,\n",
        "                                   dayofmonth, dayofmonth, minute, date_format, to_date, when,\n",
        "                                   count, row_number, coalesce, unix_timestamp, max)\n",
        "\n",
        "\n",
        "from IPython.core.magic import register_line_cell_magic\n",
        "\n",
        "# Create a special ipython magic to skip cells\n",
        "@register_line_cell_magic\n",
        "def skip(line, cell=None):\n",
        "\n",
        "    if eval(line):\n",
        "        return\n",
        "\n",
        "    get_ipython().ex(cell)"
      ]
    },
    {
      "cell_type": "markdown",
      "metadata": {
        "id": "yvBpD42vCK-R"
      },
      "source": [
        "## Setting Up PySpark\n",
        "\n",
        "We initialize and configure a spark session before opening and preprocessing the data files. The following list is a selected subset of the spark configurations used in ALDER's code to initialize the spark session considering the available environment capabilities. Especially the values are optimized to load a 4GB dataset on the considered colab environment with a 2-core CPU and 12GB primary memory.\n",
        "\n",
        "\n",
        "*  **Driver Memory (3GB):** This property specifies the amount of memory allocated for the Spark driver, which is responsible for coordinating the Spark application.  \n",
        "*  **Executor Instances (2):**  With a 2-core CPU, we can have a maximum of two executor instances. Setting this property to 2 will utilize both cores for parallel processing.\n",
        "* **Executor Memory (4GB):** This property sets the amount of memory allocated for each executor. Since we have roughly 12GB available in the Colab and 3 GB are set for the driver, each executor will have 4GB available, leaving 1GB for free as a margin.\n",
        "* **Executor Cores (1):** This property determines the number of CPU cores assigned to each worker. It is generally recommended to set this value to the number of available CPU cores on the machine. We assign one core peer worker since we only have two cores and two workers.\n",
        "* **Shuffle Partitions (2):** This property sets the number of partitions to be used for shuffling data during Spark SQL operations, which is a costly operation in terms of memory and CPU usage. Since we have limited resources, we keep the number of shuffle partitions low.\n"
      ]
    },
    {
      "cell_type": "code",
      "execution_count": 8,
      "metadata": {
        "colab": {
          "base_uri": "https://localhost:8080/"
        },
        "id": "mb2XfyiCCOCr",
        "outputId": "3d272c4a-dc34-4c8c-a7b4-9c30041de37d"
      },
      "outputs": [
        {
          "output_type": "stream",
          "name": "stdout",
          "text": [
            "Spark app submittime: 1688748400985\n",
            "Spark sql execution arrow enabled: true\n",
            "Spark executor memory: 4g\n",
            "Spark app name: MoneyLaundering\n",
            "Spark executor id: driver\n",
            "Spark sql shuffle partitions: 2\n",
            "Spark driver extrajavaoptions: -Djava.net.preferIPv6Addresses=false -XX:+IgnoreUnrecognizedVMOptions --add-opens=java.base/java.lang=ALL-UNNAMED --add-opens=java.base/java.lang.invoke=ALL-UNNAMED --add-opens=java.base/java.lang.reflect=ALL-UNNAMED --add-opens=java.base/java.io=ALL-UNNAMED --add-opens=java.base/java.net=ALL-UNNAMED --add-opens=java.base/java.nio=ALL-UNNAMED --add-opens=java.base/java.util=ALL-UNNAMED --add-opens=java.base/java.util.concurrent=ALL-UNNAMED --add-opens=java.base/java.util.concurrent.atomic=ALL-UNNAMED --add-opens=java.base/sun.nio.ch=ALL-UNNAMED --add-opens=java.base/sun.nio.cs=ALL-UNNAMED --add-opens=java.base/sun.security.action=ALL-UNNAMED --add-opens=java.base/sun.util.calendar=ALL-UNNAMED --add-opens=java.security.jgss/sun.security.krb5=ALL-UNNAMED -Djdk.reflect.useDirectMethodHandle=false\n",
            "Spark app id: local-1688748404735\n",
            "Spark driver memory: 3g\n",
            "Spark driver host: c3125b4d6d1d\n",
            "Spark rdd compress: True\n",
            "Spark executor instances: 2\n",
            "Spark driver port: 39009\n",
            "Spark serializer objectstreamreset: 100\n",
            "Spark master: local[*]\n",
            "Spark submit pyfiles: \n",
            "Spark executor cores: 1\n",
            "Spark submit deploymode: client\n",
            "Spark app starttime: 1688748401404\n",
            "Spark ui showconsoleprogress: true\n",
            "Spark sql execution arrow pyspark enabled: true\n",
            "Spark executor extrajavaoptions: -Djava.net.preferIPv6Addresses=false -XX:+IgnoreUnrecognizedVMOptions --add-opens=java.base/java.lang=ALL-UNNAMED --add-opens=java.base/java.lang.invoke=ALL-UNNAMED --add-opens=java.base/java.lang.reflect=ALL-UNNAMED --add-opens=java.base/java.io=ALL-UNNAMED --add-opens=java.base/java.net=ALL-UNNAMED --add-opens=java.base/java.nio=ALL-UNNAMED --add-opens=java.base/java.util=ALL-UNNAMED --add-opens=java.base/java.util.concurrent=ALL-UNNAMED --add-opens=java.base/java.util.concurrent.atomic=ALL-UNNAMED --add-opens=java.base/sun.nio.ch=ALL-UNNAMED --add-opens=java.base/sun.nio.cs=ALL-UNNAMED --add-opens=java.base/sun.security.action=ALL-UNNAMED --add-opens=java.base/sun.util.calendar=ALL-UNNAMED --add-opens=java.security.jgss/sun.security.krb5=ALL-UNNAMED -Djdk.reflect.useDirectMethodHandle=false\n"
          ]
        }
      ],
      "source": [
        "if 'spark' in vars():\n",
        "  spark.stop()\n",
        "\n",
        "# Count available cores\n",
        "cores = multiprocessing.cpu_count()\n",
        "# In this case the amount of executors will be equal to the amount of cores\n",
        "instances = cores\n",
        "\n",
        "spark = SparkSession.builder \\\n",
        "          .appName(\"MoneyLaundering\") \\\n",
        "          .config(\"spark.driver.memory\", \"3g\") \\\n",
        "          .config(\"spark.executor.memory\", \"4g\") \\\n",
        "          .config(\"spark.executor.instances\", cores) \\\n",
        "          .config(\"spark.executor.cores\", cores//instances) \\\n",
        "          .config(\"spark.sql.shuffle.partitions\", cores) \\\n",
        "          .config(\"spark.sql.execution.arrow.pyspark.enabled\", \"true\") \\\n",
        "          .config(\"spark.sql.execution.arrow.enabled\", \"true\") \\\n",
        "          .getOrCreate()\n",
        "\n",
        "spark.sparkContext.setLogLevel(\"OFF\")\n",
        "\n",
        "# Print spark properties\n",
        "for x in spark.sparkContext.getConf().getAll():\n",
        "  print(f\"{x[0].replace('.', ' ').capitalize()}: {x[1]}\")"
      ]
    },
    {
      "cell_type": "markdown",
      "metadata": {
        "id": "nccoQ3Q4PBnx"
      },
      "source": [
        "# Data Engineering Preparation\n",
        "\n",
        "Figure bellow shows an overview of the data engineering pipeline, from reading the considered files to splitting and saving the final formats. For this specific pipeline, we consider abstract representations of the cookie-cutter data layers for data engineering, which means that we are following only the cookie-cutter logical reasoning of data organization rather than persisting the data for each layer.\n",
        "\n",
        "<img src=\"https://raw.githubusercontent.com/Skalwalker/AntiMoneyLaundering/main/images/datapipeline.png\" alt=\"\" width=\"300\"/>\n",
        "\n"
      ]
    },
    {
      "cell_type": "code",
      "execution_count": 9,
      "metadata": {
        "colab": {
          "base_uri": "https://localhost:8080/"
        },
        "id": "MiZjjDhWJaQX",
        "outputId": "e37ecf72-df75-4631-8805-83bd7c7500ca"
      },
      "outputs": [
        {
          "output_type": "stream",
          "name": "stdout",
          "text": [
            "total 4GB\n",
            "-rw-r--r-- 1 root root 4GB Feb 28 12:08 HI-Medium_Trans.csv\n",
            "-rw-r--r-- 1 root root 1GB Feb 28 12:12 HI-Small_Trans.csv\n"
          ]
        }
      ],
      "source": [
        "!ls -l --block-size=GB ./data/01_raw/"
      ]
    },
    {
      "cell_type": "markdown",
      "metadata": {
        "id": "RNcVyLXtbWWM"
      },
      "source": [
        "## Raw Data\n",
        "\n",
        "First, we start with the Raw Data Layer. The raw layer is the starting point of the data pipeline and includes the sourced data that should never be altered. It serves as the single source of truth for all subsequent work. Typically, these data models are untyped, such as CSV files. We are considering two CSV data files, small and large. Those CSVs will not be altered and will remain in the disk as our source of truth. We start the pipeline in the raw layer by verifying the columns, checking if they are the same for both datasets and checking for null values. Since the data does not contain null values and the columns are the same, we start the processing in the intermediate layer by fixing its schema.\n"
      ]
    },
    {
      "cell_type": "code",
      "execution_count": 10,
      "metadata": {
        "colab": {
          "base_uri": "https://localhost:8080/"
        },
        "id": "6QifwN0RPJtd",
        "outputId": "880ef7b8-8473-4389-c761-666548b7abd6"
      },
      "outputs": [
        {
          "output_type": "execute_result",
          "data": {
            "text/plain": [
              "['Timestamp',\n",
              " 'From Bank',\n",
              " 'Account2',\n",
              " 'To Bank',\n",
              " 'Account4',\n",
              " 'Amount Received',\n",
              " 'Receiving Currency',\n",
              " 'Amount Paid',\n",
              " 'Payment Currency',\n",
              " 'Payment Format',\n",
              " 'Is Laundering']"
            ]
          },
          "metadata": {},
          "execution_count": 10
        }
      ],
      "source": [
        "# High Ilicity Datasets\n",
        "hi_small_df = spark.read.csv(\"./data/01_raw/HI-Small_Trans.csv\", header=True)\n",
        "hi_medium_df = spark.read.csv(\"./data/01_raw/HI-Medium_Trans.csv\", header=True)\n",
        "# Print Columns\n",
        "hi_small_df.columns"
      ]
    },
    {
      "cell_type": "code",
      "execution_count": 11,
      "metadata": {
        "colab": {
          "base_uri": "https://localhost:8080/"
        },
        "id": "wf2WhWPDGepz",
        "outputId": "7ca8761d-1065-4c07-9421-1809c33170bf"
      },
      "outputs": [
        {
          "output_type": "stream",
          "name": "stdout",
          "text": [
            "root\n",
            " |-- Timestamp: string (nullable = true)\n",
            " |-- From Bank: string (nullable = true)\n",
            " |-- Account2: string (nullable = true)\n",
            " |-- To Bank: string (nullable = true)\n",
            " |-- Account4: string (nullable = true)\n",
            " |-- Amount Received: string (nullable = true)\n",
            " |-- Receiving Currency: string (nullable = true)\n",
            " |-- Amount Paid: string (nullable = true)\n",
            " |-- Payment Currency: string (nullable = true)\n",
            " |-- Payment Format: string (nullable = true)\n",
            " |-- Is Laundering: string (nullable = true)\n",
            "\n"
          ]
        }
      ],
      "source": [
        "# Print data schema\n",
        "hi_small_df.printSchema()"
      ]
    },
    {
      "cell_type": "code",
      "execution_count": 12,
      "metadata": {
        "colab": {
          "base_uri": "https://localhost:8080/"
        },
        "id": "VNk_XM1JGtIO",
        "outputId": "04b333e9-0e5d-4e01-c1ee-b717c424acb4"
      },
      "outputs": [
        {
          "output_type": "stream",
          "name": "stdout",
          "text": [
            "Are all Small and Medium Dataset cols the same? True\n"
          ]
        }
      ],
      "source": [
        "# Verify if all columns are equal\n",
        "hi_cols_equal = (hi_small_df.columns == hi_medium_df.columns)\n",
        "print(f\"Are all Small and Medium Dataset cols the same? {hi_cols_equal}\")"
      ]
    },
    {
      "cell_type": "code",
      "execution_count": 13,
      "metadata": {
        "colab": {
          "base_uri": "https://localhost:8080/"
        },
        "id": "O9-Nxt9SMPCP",
        "outputId": "1b2852c5-65f8-4683-953c-62aabcf73835"
      },
      "outputs": [
        {
          "output_type": "stream",
          "name": "stdout",
          "text": [
            "+----------------+---------+---------+-------+---------+---------------+------------------+-----------+----------------+--------------+-------------+\n",
            "|       Timestamp|From Bank| Account2|To Bank| Account4|Amount Received|Receiving Currency|Amount Paid|Payment Currency|Payment Format|Is Laundering|\n",
            "+----------------+---------+---------+-------+---------+---------------+------------------+-----------+----------------+--------------+-------------+\n",
            "|2022/09/01 00:20|      010|8000EBD30|    010|8000EBD30|        3697.34|         US Dollar|    3697.34|       US Dollar|  Reinvestment|            0|\n",
            "|2022/09/01 00:20|    03208|8000F4580|    001|8000F5340|           0.01|         US Dollar|       0.01|       US Dollar|        Cheque|            0|\n",
            "|2022/09/01 00:00|    03209|8000F4670|  03209|8000F4670|       14675.57|         US Dollar|   14675.57|       US Dollar|  Reinvestment|            0|\n",
            "|2022/09/01 00:02|      012|8000F5030|    012|8000F5030|        2806.97|         US Dollar|    2806.97|       US Dollar|  Reinvestment|            0|\n",
            "|2022/09/01 00:06|      010|8000F5200|    010|8000F5200|       36682.97|         US Dollar|   36682.97|       US Dollar|  Reinvestment|            0|\n",
            "|2022/09/01 00:03|      001|8000F5AD0|    001|8000F5AD0|        6162.44|         US Dollar|    6162.44|       US Dollar|  Reinvestment|            0|\n",
            "|2022/09/01 00:08|      001|8000EBAC0|    001|8000EBAC0|          14.26|         US Dollar|      14.26|       US Dollar|  Reinvestment|            0|\n",
            "|2022/09/01 00:16|      001|8000EC1E0|    001|8000EC1E0|          11.86|         US Dollar|      11.86|       US Dollar|  Reinvestment|            0|\n",
            "|2022/09/01 00:26|      012|8000EC280| 002439|8017BF800|           7.66|         US Dollar|       7.66|       US Dollar|   Credit Card|            0|\n",
            "|2022/09/01 00:21|      001|8000EDEC0|0211050|80AEF5310|         383.71|         US Dollar|     383.71|       US Dollar|   Credit Card|            0|\n",
            "|2022/09/01 00:04|      001|8000F4510| 011813|8011305D0|           9.82|         US Dollar|       9.82|       US Dollar|   Credit Card|            0|\n",
            "|2022/09/01 00:04|      001|8000F47F0|    001|8000F47F0|           9.38|         US Dollar|       9.38|       US Dollar|  Reinvestment|            0|\n",
            "|2022/09/01 00:08|      001|8000F4FE0|0245335|812ED62E0|           4.01|         US Dollar|       4.01|       US Dollar|   Credit Card|            0|\n",
            "|2022/09/01 00:17|      010|80012FD90|0036056|812ED6380|         106.70|         US Dollar|     106.70|       US Dollar|   Credit Card|            0|\n",
            "|2022/09/01 00:11|      012|80012FE00| 013037|805B34210|           0.54|         US Dollar|       0.54|       US Dollar|   Credit Card|            0|\n",
            "|2022/09/01 00:09|      001|80012FE50|    001|80012FE50|     3944232.29|         US Dollar| 3944232.29|       US Dollar|  Reinvestment|            0|\n",
            "|2022/09/01 00:11|      010|80012FEA0|    010|80012FEA0|       10020.68|         US Dollar|   10020.68|       US Dollar|  Reinvestment|            0|\n",
            "|2022/09/01 00:00|    01420|8005DFEB0|  01420|8005DFEB0|         897.37|         US Dollar|     897.37|       US Dollar|  Reinvestment|            0|\n",
            "|2022/09/01 00:28|    01665|8005E18F0|  01665|8005E18F0|         157.57|         US Dollar|     157.57|       US Dollar|  Reinvestment|            0|\n",
            "|2022/09/01 00:22|    01665|8005E24C0|  01665|8005E24C0|          52.75|         US Dollar|      52.75|       US Dollar|  Reinvestment|            0|\n",
            "+----------------+---------+---------+-------+---------+---------------+------------------+-----------+----------------+--------------+-------------+\n",
            "only showing top 20 rows\n",
            "\n"
          ]
        }
      ],
      "source": [
        "# Print a small part of the dataset\n",
        "hi_small_df.show()"
      ]
    },
    {
      "cell_type": "code",
      "execution_count": 14,
      "metadata": {
        "colab": {
          "base_uri": "https://localhost:8080/"
        },
        "id": "HV78SInWS4Iy",
        "outputId": "dc1f832c-89ee-4c37-d8db-e863f99eebb4"
      },
      "outputs": [
        {
          "output_type": "stream",
          "name": "stdout",
          "text": [
            "+---------+---------+--------+-------+--------+---------------+------------------+-----------+----------------+--------------+-------------+\n",
            "|Timestamp|From Bank|Account2|To Bank|Account4|Amount Received|Receiving Currency|Amount Paid|Payment Currency|Payment Format|Is Laundering|\n",
            "+---------+---------+--------+-------+--------+---------------+------------------+-----------+----------------+--------------+-------------+\n",
            "|        0|        0|       0|      0|       0|              0|                 0|          0|               0|             0|            0|\n",
            "+---------+---------+--------+-------+--------+---------------+------------------+-----------+----------------+--------------+-------------+\n",
            "\n"
          ]
        }
      ],
      "source": [
        "# Count the nulls for each column in the dataset\n",
        "null_counts = hi_small_df.select([sum(col(column).isNull().cast(\"integer\")).alias(column) for column in hi_small_df.columns])\n",
        "null_counts.show()"
      ]
    },
    {
      "cell_type": "markdown",
      "metadata": {
        "id": "r06Dq3S7baMU"
      },
      "source": [
        "## Intermediate Data\n",
        "\n",
        "In practice, the Intermediate Data Layer only needs to be a \"typed mirror\" of the raw layer within the source data model. Once the intermediate layer exists, we never have to touch the raw layer, and we eliminate the risks associated with mutating the original data. Cleaning column names, parsing dates and dropping completely null columns are other transformations commonly performed at this stage. Also, profiling, an Exploratory Data Analysis (EDA) and any data quality assessments should be performed at this point. In the data pipeline figure, the first and second steps reside in the intermediate layer. The first transformation we do with our data is to apply a proper schema to the dataframe, thus creating the \"typed mirror\" of our data. Following we fix the timestamp column to process it as a proper timestamp data format."
      ]
    },
    {
      "cell_type": "code",
      "execution_count": 15,
      "metadata": {
        "id": "o-lnxr6FP0cw"
      },
      "outputs": [],
      "source": [
        "# Create proper schema for the dataset\n",
        "schema = StructType([\n",
        "    StructField(\"Timestamp\", StringType(), nullable=False),\n",
        "    StructField(\"From Bank\", IntegerType(), nullable=False),\n",
        "    StructField(\"Account2\", StringType(), nullable=False),\n",
        "    StructField(\"To Bank\", IntegerType(), nullable=False),\n",
        "    StructField(\"Account4\", StringType(), nullable=False),\n",
        "    StructField(\"Amount Received\", FloatType(), nullable=False),\n",
        "    StructField(\"Receiving Currency\", StringType(), nullable=False),\n",
        "    StructField(\"Amount Paid\", FloatType(), nullable=False),\n",
        "    StructField(\"Payment Currency\", StringType(), nullable=False),\n",
        "    StructField(\"Payment Format\", StringType(), nullable=False),\n",
        "    StructField(\"Is Laundering\", IntegerType(), nullable=False),\n",
        "])"
      ]
    },
    {
      "cell_type": "code",
      "execution_count": 16,
      "metadata": {
        "colab": {
          "base_uri": "https://localhost:8080/"
        },
        "id": "3wdznlpfMf28",
        "outputId": "f7c9b4c3-bbc4-467c-9163-59e73c5ebed8"
      },
      "outputs": [
        {
          "output_type": "stream",
          "name": "stdout",
          "text": [
            "root\n",
            " |-- From Bank: integer (nullable = true)\n",
            " |-- Account2: string (nullable = true)\n",
            " |-- To Bank: integer (nullable = true)\n",
            " |-- Account4: string (nullable = true)\n",
            " |-- Amount Received: float (nullable = true)\n",
            " |-- Receiving Currency: string (nullable = true)\n",
            " |-- Amount Paid: float (nullable = true)\n",
            " |-- Payment Currency: string (nullable = true)\n",
            " |-- Payment Format: string (nullable = true)\n",
            " |-- Is Laundering: integer (nullable = true)\n",
            " |-- Timestamp: timestamp (nullable = true)\n",
            "\n"
          ]
        }
      ],
      "source": [
        "# Load the data with the created schema\n",
        "hi_small_df = spark.read.csv(\"./data/01_raw/HI-Small_Trans.csv\", header=True, schema=schema)\n",
        "hi_medium_df = spark.read.csv(\"./data/01_raw/HI-Medium_Trans.csv\", header=True, schema=schema)\n",
        "\n",
        "# Fixing Timestamp\n",
        "def fix_timestamp(df):\n",
        "  format = \"yyyy/MM/dd HH:mm\"\n",
        "  df = df.withColumn(\"Timestamp2\",to_timestamp(\"Timestamp\", format=format).cast('timestamp'))\n",
        "  df = df.drop(\"Timestamp\")\n",
        "  df = df.withColumnRenamed(\"Timestamp2\", \"Timestamp\")\n",
        "  return df\n",
        "\n",
        "hi_small_df = fix_timestamp(hi_small_df)\n",
        "hi_medium_df = fix_timestamp(hi_medium_df)\n",
        "hi_small_df.printSchema()"
      ]
    },
    {
      "cell_type": "code",
      "execution_count": 17,
      "metadata": {
        "colab": {
          "base_uri": "https://localhost:8080/"
        },
        "id": "LbSid4mwm2eZ",
        "outputId": "4dd4625d-ea92-429d-d7d5-d420de47c8d6"
      },
      "outputs": [
        {
          "output_type": "stream",
          "name": "stdout",
          "text": [
            "+---------+---------+-------+---------+---------------+------------------+-----------+----------------+--------------+-------------+-------------------+\n",
            "|From Bank| Account2|To Bank| Account4|Amount Received|Receiving Currency|Amount Paid|Payment Currency|Payment Format|Is Laundering|          Timestamp|\n",
            "+---------+---------+-------+---------+---------------+------------------+-----------+----------------+--------------+-------------+-------------------+\n",
            "|       10|8000EBD30|     10|8000EBD30|        3697.34|         US Dollar|    3697.34|       US Dollar|  Reinvestment|            0|2022-09-01 00:20:00|\n",
            "|     3208|8000F4580|      1|8000F5340|           0.01|         US Dollar|       0.01|       US Dollar|        Cheque|            0|2022-09-01 00:20:00|\n",
            "|     3209|8000F4670|   3209|8000F4670|       14675.57|         US Dollar|   14675.57|       US Dollar|  Reinvestment|            0|2022-09-01 00:00:00|\n",
            "|       12|8000F5030|     12|8000F5030|        2806.97|         US Dollar|    2806.97|       US Dollar|  Reinvestment|            0|2022-09-01 00:02:00|\n",
            "|       10|8000F5200|     10|8000F5200|       36682.97|         US Dollar|   36682.97|       US Dollar|  Reinvestment|            0|2022-09-01 00:06:00|\n",
            "+---------+---------+-------+---------+---------------+------------------+-----------+----------------+--------------+-------------+-------------------+\n",
            "only showing top 5 rows\n",
            "\n"
          ]
        }
      ],
      "source": [
        "# Show the typed dataset\n",
        "hi_small_df.show(5)"
      ]
    },
    {
      "cell_type": "markdown",
      "metadata": {
        "id": "7pXkRYcZkRjl"
      },
      "source": [
        "### Exploratory Data Analysis\n",
        "---\n",
        "\n",
        "With the data properly typed, we can now perform an EDA to generate insights on the data format and thus make informed decisions on our feature engineering process. We analyzed only the small dataset for simplicity and time-saving and extrapolated its insights to the medium. The first step of the EDA process was to split the dataset into legit and laundering transactions to analyze the features in each case. Visualizing the \"Amount Received\" and \"Amount Paid\" features, we noticed that the statistics do not change significantly between one another, realizing that the only change between those values is when the payment and receive are made from different currencies. We also analyzed that most of the laundering occurs with the \"ACH\" payment format and that there is no laundering in \"Reinvestment\". Further investigation also showed that laundering is rarely made in a transaction where the origin and destination accounts are the same and never in transactions with different currencies. This comprehensive analysis also showed that numerous accounts are linked with fraudulent transactions and can happen over multiple currencies.\n"
      ]
    },
    {
      "cell_type": "code",
      "execution_count": 18,
      "metadata": {
        "id": "a88Hk22NlBip"
      },
      "outputs": [],
      "source": [
        "%%skip $skip_eda\n",
        "# Create a small_df version to not make changes on the small df\n",
        "small_df = hi_small_df"
      ]
    },
    {
      "cell_type": "code",
      "execution_count": 19,
      "metadata": {
        "colab": {
          "base_uri": "https://localhost:8080/"
        },
        "id": "_I6abj9ukdPq",
        "outputId": "e379ed9e-ba1f-4928-f740-fdb32635e146"
      },
      "outputs": [
        {
          "output_type": "stream",
          "name": "stdout",
          "text": [
            "+-------------+-------+\n",
            "|Is Laundering|  count|\n",
            "+-------------+-------+\n",
            "|            0|5073168|\n",
            "|            1|   5177|\n",
            "+-------------+-------+\n",
            "\n"
          ]
        }
      ],
      "source": [
        "%%skip $skip_eda\n",
        "# Get the label distribution in the dataset\n",
        "small_df.groupBy(\"Is Laundering\").count().show()"
      ]
    },
    {
      "cell_type": "code",
      "execution_count": 20,
      "metadata": {
        "colab": {
          "base_uri": "https://localhost:8080/"
        },
        "id": "pVclrJ2RQPFL",
        "outputId": "3d600f5b-4740-43ac-8306-beff243eccad"
      },
      "outputs": [
        {
          "output_type": "stream",
          "name": "stdout",
          "text": [
            "+-------+--------------------+--------------------+\n",
            "|summary|     Amount Received|         Amount Paid|\n",
            "+-------+--------------------+--------------------+\n",
            "|  count|                5177|                5177|\n",
            "|   mean| 3.613531071586281E7| 3.613531071586281E7|\n",
            "| stddev|1.5279186868932502E9|1.5279186868932502E9|\n",
            "|    min|            0.003227|            0.003227|\n",
            "|    max|        8.4853146E10|        8.4853146E10|\n",
            "+-------+--------------------+--------------------+\n",
            "\n",
            "+-------+--------------------+-------------------+\n",
            "|summary|     Amount Received|        Amount Paid|\n",
            "+-------+--------------------+-------------------+\n",
            "|  count|             5073168|            5073168|\n",
            "|   mean|   5957962.500255194|  4477000.057857775|\n",
            "| stddev|1.0365634624133482E9|8.688463078849382E8|\n",
            "|    min|              1.0E-6|             1.0E-6|\n",
            "|    max|       1.04630236E12|      1.04630236E12|\n",
            "+-------+--------------------+-------------------+\n",
            "\n"
          ]
        }
      ],
      "source": [
        "%%skip $skip_eda\n",
        "# Split the dataset into Legit and Laundering Transactions to analyze the feature in each case\n",
        "small_laundering_df = small_df.filter(small_df[\"Is Laundering\"] == 1)\n",
        "small_legit_df = small_df.filter(small_df[\"Is Laundering\"] == 0)\n",
        "\n",
        "# Show the descriptions of amount received and paid\n",
        "float_columns = [\"Amount Received\", \"Amount Paid\"]\n",
        "small_laundering_df.select(float_columns).describe().show()\n",
        "small_legit_df.select(float_columns).describe().show()"
      ]
    },
    {
      "cell_type": "code",
      "execution_count": 21,
      "metadata": {
        "colab": {
          "base_uri": "https://localhost:8080/"
        },
        "id": "jHhLwAONTjpf",
        "outputId": "9b0cf20d-201c-4631-8248-f2c878844ba2"
      },
      "outputs": [
        {
          "output_type": "stream",
          "name": "stdout",
          "text": [
            "+--------------+-----+\n",
            "|Payment Format|count|\n",
            "+--------------+-----+\n",
            "|           ACH| 4483|\n",
            "|       Bitcoin|   56|\n",
            "|        Cheque|  324|\n",
            "|   Credit Card|  206|\n",
            "|          Cash|  108|\n",
            "+--------------+-----+\n",
            "\n",
            "+--------------+-------+\n",
            "|Payment Format|  count|\n",
            "+--------------+-------+\n",
            "|           ACH| 596314|\n",
            "|       Bitcoin| 146035|\n",
            "|  Reinvestment| 481056|\n",
            "|        Cheque|1864007|\n",
            "|   Credit Card|1323118|\n",
            "|          Cash| 490783|\n",
            "|          Wire| 171855|\n",
            "+--------------+-------+\n",
            "\n"
          ]
        }
      ],
      "source": [
        "%%skip $skip_eda\n",
        "# Analysis of Ilegality through payment formats\n",
        "small_laundering_df.groupBy(\"Payment Format\").count().show()\n",
        "small_legit_df.groupBy(\"Payment Format\").count().show()"
      ]
    },
    {
      "cell_type": "code",
      "execution_count": 22,
      "metadata": {
        "colab": {
          "base_uri": "https://localhost:8080/"
        },
        "id": "u1jvyqIwX6hK",
        "outputId": "d4339356-e2a3-4581-9008-4cc27d0473cd"
      },
      "outputs": [
        {
          "output_type": "stream",
          "name": "stdout",
          "text": [
            "+---------+---------+-------+---------+---------------+------------------+-----------+----------------+--------------+-------------+-------------------+\n",
            "|From Bank| Account2|To Bank| Account4|Amount Received|Receiving Currency|Amount Paid|Payment Currency|Payment Format|Is Laundering|          Timestamp|\n",
            "+---------+---------+-------+---------+---------------+------------------+-----------+----------------+--------------+-------------+-------------------+\n",
            "|    48309|811C599A0|  48309|811C599A0|       48649.42|       Saudi Riyal|   48649.42|     Saudi Riyal|           ACH|            1|2022-09-04 05:03:00|\n",
            "|    15231|80266F880|  15231|80266F880|       14998.24|              Euro|   14998.24|            Euro|           ACH|            1|2022-09-01 14:04:00|\n",
            "|    15231|80266F880|  15231|80266F880|        4895.52|              Euro|    4895.52|            Euro|           ACH|            1|2022-09-03 19:55:00|\n",
            "|   150240|812D22980| 150240|812D22980|       71726.48|       Saudi Riyal|   71726.48|     Saudi Riyal|           ACH|            1|2022-09-04 21:37:00|\n",
            "|    23691|8021353D0|  23691|8021353D0|        13178.6|              Euro|    13178.6|            Euro|           ACH|            1|2022-09-05 15:41:00|\n",
            "|    48309|811C599A0|  48309|811C599A0|       47970.16|       Saudi Riyal|   47970.16|     Saudi Riyal|           ACH|            1|2022-09-09 09:08:00|\n",
            "|      119|812A09CF0|    119|812A09CF0|       30855.39|       Saudi Riyal|   30855.39|     Saudi Riyal|           ACH|            1|2022-09-06 23:04:00|\n",
            "|      119|811C597B0|    119|811C597B0|    1.4144807E7|       Saudi Riyal|1.4144807E7|     Saudi Riyal|           ACH|            1|2022-09-10 23:17:00|\n",
            "|    48309|811C599A0|  48309|811C599A0|       52436.24|       Saudi Riyal|   52436.24|     Saudi Riyal|           ACH|            1|2022-09-11 05:36:00|\n",
            "|      118|811B6E170|    118|811B6E170|       11868.44|       Saudi Riyal|   11868.44|     Saudi Riyal|           ACH|            1|2022-09-17 17:23:00|\n",
            "|    48309|811C599A0|  48309|811C599A0|       46862.34|       Saudi Riyal|   46862.34|     Saudi Riyal|           ACH|            1|2022-09-15 13:55:00|\n",
            "+---------+---------+-------+---------+---------------+------------------+-----------+----------------+--------------+-------------+-------------------+\n",
            "\n"
          ]
        }
      ],
      "source": [
        "%%skip $skip_eda\n",
        "# Show ilegal transactions are made for the same account\n",
        "small_laundering_df.filter(small_laundering_df[\"Account2\"] == small_laundering_df[\"Account4\"]).show()"
      ]
    },
    {
      "cell_type": "code",
      "execution_count": 23,
      "metadata": {
        "colab": {
          "base_uri": "https://localhost:8080/"
        },
        "id": "hCiHi0hOioaU",
        "outputId": "1ccf713f-b459-410d-b45f-2dcb11b925ad"
      },
      "outputs": [
        {
          "output_type": "stream",
          "name": "stdout",
          "text": [
            "+---------+--------+-------+--------+---------------+------------------+-----------+----------------+--------------+-------------+---------+\n",
            "|From Bank|Account2|To Bank|Account4|Amount Received|Receiving Currency|Amount Paid|Payment Currency|Payment Format|Is Laundering|Timestamp|\n",
            "+---------+--------+-------+--------+---------------+------------------+-----------+----------------+--------------+-------------+---------+\n",
            "+---------+--------+-------+--------+---------------+------------------+-----------+----------------+--------------+-------------+---------+\n",
            "\n"
          ]
        }
      ],
      "source": [
        "%%skip $skip_eda\n",
        "# Show ilegal transactions difference in payment ammount\n",
        "small_laundering_df.filter(small_laundering_df[\"Amount Paid\"] != small_laundering_df[\"Amount Received\"]).show()"
      ]
    },
    {
      "cell_type": "code",
      "execution_count": 24,
      "metadata": {
        "colab": {
          "base_uri": "https://localhost:8080/"
        },
        "id": "CCFYRL4MZuPM",
        "outputId": "e4c98815-e105-423b-bf94-36b5390561ba"
      },
      "outputs": [
        {
          "output_type": "stream",
          "name": "stdout",
          "text": [
            "+---------+--------+-------+--------+---------------+------------------+-----------+----------------+--------------+-------------+---------+\n",
            "|From Bank|Account2|To Bank|Account4|Amount Received|Receiving Currency|Amount Paid|Payment Currency|Payment Format|Is Laundering|Timestamp|\n",
            "+---------+--------+-------+--------+---------------+------------------+-----------+----------------+--------------+-------------+---------+\n",
            "+---------+--------+-------+--------+---------------+------------------+-----------+----------------+--------------+-------------+---------+\n",
            "\n"
          ]
        }
      ],
      "source": [
        "%%skip $skip_eda\n",
        "# Show ilegal transactions in different currencies\n",
        "small_laundering_df.filter(small_laundering_df[\"Receiving Currency\"] != small_laundering_df[\"Payment Currency\"]).show()"
      ]
    },
    {
      "cell_type": "code",
      "execution_count": 25,
      "metadata": {
        "colab": {
          "base_uri": "https://localhost:8080/"
        },
        "id": "-Marzpf3jMPK",
        "outputId": "4be94ed3-f26b-49f5-a7c7-db1146e523e6"
      },
      "outputs": [
        {
          "output_type": "stream",
          "name": "stdout",
          "text": [
            "+------------------+-----+\n",
            "|Receiving Currency|count|\n",
            "+------------------+-----+\n",
            "|         US Dollar| 1912|\n",
            "|              Euro| 1372|\n",
            "|              Yuan|  184|\n",
            "|               Yen|  155|\n",
            "|       Swiss Franc|  193|\n",
            "|             Rupee|  167|\n",
            "| Australian Dollar|  127|\n",
            "|       Saudi Riyal|  374|\n",
            "|      Mexican Peso|   92|\n",
            "|          UK Pound|  132|\n",
            "|       Brazil Real|   57|\n",
            "|           Bitcoin|   56|\n",
            "|   Canadian Dollar|  128|\n",
            "|            Shekel|   95|\n",
            "|             Ruble|  133|\n",
            "+------------------+-----+\n",
            "\n",
            "+-----------------+-----+\n",
            "| Payment Currency|count|\n",
            "+-----------------+-----+\n",
            "|        US Dollar| 1912|\n",
            "|             Euro| 1372|\n",
            "|             Yuan|  184|\n",
            "|              Yen|  155|\n",
            "|      Swiss Franc|  193|\n",
            "|            Rupee|  167|\n",
            "|Australian Dollar|  127|\n",
            "|      Saudi Riyal|  374|\n",
            "|     Mexican Peso|   92|\n",
            "|         UK Pound|  132|\n",
            "|      Brazil Real|   57|\n",
            "|          Bitcoin|   56|\n",
            "|  Canadian Dollar|  128|\n",
            "|           Shekel|   95|\n",
            "|            Ruble|  133|\n",
            "+-----------------+-----+\n",
            "\n"
          ]
        }
      ],
      "source": [
        "%%skip $skip_eda\n",
        "# Show ilegal transactions distributions in different currencies\n",
        "small_laundering_df.groupBy(\"Receiving Currency\").count().show()\n",
        "small_laundering_df.groupBy(\"Payment Currency\").count().show()"
      ]
    },
    {
      "cell_type": "markdown",
      "metadata": {
        "id": "OsyFkP_12mM5"
      },
      "source": [
        "**Account-related analysis:**\n",
        "\n",
        "Following the EDA, we deeply studied how accounts were related to money laundering. Unusually high transaction activity or many accounts linked to a particular entity may indicate suspicious behaviour. From the analysis insights, we devised that it could be useful to create features that capture the frequency and volume of transactions from both the \"From Account\" and \"To Account\". Most importantly, this analysis clarified that including the account identifiers as features would introduce data leakage because the model could learn to classify specific accounts instead of generalizing the account behaviour. Further, the destination bank and the behaviour of destination accounts appear to have strong predictive power."
      ]
    },
    {
      "cell_type": "code",
      "execution_count": 26,
      "metadata": {
        "colab": {
          "base_uri": "https://localhost:8080/"
        },
        "id": "Mi-uLNTp06b1",
        "outputId": "b097830a-7711-41bd-c5d5-d8cf9000f895"
      },
      "outputs": [
        {
          "output_type": "stream",
          "name": "stdout",
          "text": [
            "+---------+--------+-------+--------+---------------+------------------+-----------+----------------+--------------+-------------+---------+\n",
            "|From Bank|Account2|To Bank|Account4|Amount Received|Receiving Currency|Amount Paid|Payment Currency|Payment Format|Is Laundering|Timestamp|\n",
            "+---------+--------+-------+--------+---------------+------------------+-----------+----------------+--------------+-------------+---------+\n",
            "+---------+--------+-------+--------+---------------+------------------+-----------+----------------+--------------+-------------+---------+\n",
            "\n"
          ]
        }
      ],
      "source": [
        "%%skip $skip_eda\n",
        "# Shows legit examples of an account that makes ilegal transactions\n",
        "small_legit_df.where(small_laundering_df[\"Account2\"] == \"10042B6A8\").show(10)"
      ]
    },
    {
      "cell_type": "code",
      "execution_count": 27,
      "metadata": {
        "colab": {
          "base_uri": "https://localhost:8080/"
        },
        "id": "fsEbjMMsylcm",
        "outputId": "bfd2c399-a2aa-4579-ff56-9aa9fdc26075"
      },
      "outputs": [
        {
          "output_type": "stream",
          "name": "stdout",
          "text": [
            "+---------+--------+-------+--------+---------------+------------------+-----------+----------------+--------------+-------------+---------+\n",
            "|From Bank|Account2|To Bank|Account4|Amount Received|Receiving Currency|Amount Paid|Payment Currency|Payment Format|Is Laundering|Timestamp|\n",
            "+---------+--------+-------+--------+---------------+------------------+-----------+----------------+--------------+-------------+---------+\n",
            "+---------+--------+-------+--------+---------------+------------------+-----------+----------------+--------------+-------------+---------+\n",
            "\n"
          ]
        }
      ],
      "source": [
        "%%skip $skip_eda\n",
        "# Shows ilegal examples of the same account\n",
        "small_laundering_df.where(small_laundering_df[\"Account2\"] == \"10042B6A8\").show(10)"
      ]
    },
    {
      "cell_type": "code",
      "execution_count": 28,
      "metadata": {
        "colab": {
          "base_uri": "https://localhost:8080/"
        },
        "id": "7xtvkuDoqswr",
        "outputId": "c0529a27-15a7-4ed6-9961-ce99e8347c9f"
      },
      "outputs": [
        {
          "output_type": "stream",
          "name": "stdout",
          "text": [
            "+---------+--------+-------+--------+---------------+------------------+-----------+----------------+--------------+-------------+---------+\n",
            "|From Bank|Account2|To Bank|Account4|Amount Received|Receiving Currency|Amount Paid|Payment Currency|Payment Format|Is Laundering|Timestamp|\n",
            "+---------+--------+-------+--------+---------------+------------------+-----------+----------------+--------------+-------------+---------+\n",
            "+---------+--------+-------+--------+---------------+------------------+-----------+----------------+--------------+-------------+---------+\n",
            "\n"
          ]
        }
      ],
      "source": [
        "%%skip $skip_eda\n",
        "# Shows transactions made by the receiving account of the ilegal transactions\n",
        "receinving_accs = [\"806242CD0\", \"806573660\", \"80E95DAC0\", \"801F02820\", \"805F99460\",\n",
        "                   \"80AEDE4A0\", \"80B2862D0\", \"816325220\", \"8041E5A30\", \"8007D19B0\"]\n",
        "small_laundering_df.where(small_laundering_df[\"Account2\"].isin(receinving_accs)).show(10)"
      ]
    },
    {
      "cell_type": "markdown",
      "metadata": {
        "id": "gckKIBz0yA_v"
      },
      "source": [
        "**Time-related analysis:**\n",
        "\n",
        " Finally, the last step of the EDA was to extract insights from the time correlation of the laundering transactions. At this point is worth noticing that ALDER is not a time series model. We processed the features so the predictor could work with daily batches of transactions and did not consider which transaction was made first. Insights from the time-related analysis showed a higher ratio of illicit transactions on Saturday and Sunday."
      ]
    },
    {
      "cell_type": "code",
      "execution_count": 29,
      "metadata": {
        "colab": {
          "base_uri": "https://localhost:8080/"
        },
        "id": "W9SOGr_OzIID",
        "outputId": "47497291-da22-4543-d9ee-87f14f33a2c5"
      },
      "outputs": [
        {
          "output_type": "stream",
          "name": "stdout",
          "text": [
            "+---------+-----+-------+---------------+\n",
            "|  Weekday|count| count2|Laundering Rate|\n",
            "+---------+-----+-------+---------------+\n",
            "|   Sunday|  647| 207190|   0.0031227376|\n",
            "| Saturday|  848| 414882|   0.0020439547|\n",
            "|   Monday|  641| 482290|   0.0013290759|\n",
            "|  Tuesday|  637| 481636|   0.0013225756|\n",
            "|Wednesday|  567| 482305|   0.0011756046|\n",
            "|   Friday|  948|1408014|   0.0006732888|\n",
            "| Thursday|  889|1596851|   0.0005567207|\n",
            "+---------+-----+-------+---------------+\n",
            "\n"
          ]
        }
      ],
      "source": [
        "%%skip $skip_eda\n",
        "# Get the amount of laundering and legit transactions in a specific weekday\n",
        "weekly_laundering = small_laundering_df.withColumn(\"Weekday\", date_format('Timestamp', 'EEEE')).groupBy(\"Weekday\").count().cache()\n",
        "weekly_legit = small_legit_df.withColumn(\"Weekday\", date_format('Timestamp', 'EEEE')).groupBy(\"Weekday\").count().cache()\n",
        "# Show values with rate\n",
        "weekly_laundering.join(weekly_legit.withColumnRenamed(\"count\", \"count2\"), \"Weekday\"). \\\n",
        "                 withColumn(\"Laundering Rate\", col(\"count\") / col(\"count2\")). \\\n",
        "                 withColumn(\"Laundering Rate\", col(\"Laundering Rate\").cast('Decimal(20,10)')). \\\n",
        "                 orderBy(col(\"Laundering Rate\").desc()). \\\n",
        "                 show()"
      ]
    },
    {
      "cell_type": "code",
      "execution_count": 30,
      "metadata": {
        "colab": {
          "base_uri": "https://localhost:8080/"
        },
        "id": "aRWhQpDS8sQe",
        "outputId": "350edbc9-f95d-45fa-e389-cc45d006b3aa"
      },
      "outputs": [
        {
          "output_type": "stream",
          "name": "stdout",
          "text": [
            "+----+-----+------+------------+\n",
            "|Hour|count|count2| Hourly Rate|\n",
            "+----+-----+------+------------+\n",
            "|  12|  336|192636|0.0017442223|\n",
            "|  16|  311|193096|0.0016105978|\n",
            "|  11|  295|193205|0.0015268756|\n",
            "|  13|  292|192229|0.0015190216|\n",
            "|  14|  279|192508|0.0014492904|\n",
            "|  15|  263|194608|0.0013514347|\n",
            "|   8|  258|192663|0.0013391258|\n",
            "|  17|  257|192897|0.0013323172|\n",
            "|  18|  255|193066|0.0013207919|\n",
            "|  10|  234|192995|0.0012124666|\n",
            "|  19|  231|192593|0.0011994205|\n",
            "|   9|  217|192735|0.0011258983|\n",
            "|   6|  207|194249|0.0010656426|\n",
            "|   7|  195|193141|0.0010096251|\n",
            "|   5|  188|193712|0.0009705129|\n",
            "|   2|  165|192978|0.0008550197|\n",
            "|  21|  154|192038|0.0008019246|\n",
            "|   4|  154|193012|0.0007978779|\n",
            "|   1|  152|193576|0.0007852213|\n",
            "|  23|  150|193195|0.0007764176|\n",
            "+----+-----+------+------------+\n",
            "only showing top 20 rows\n",
            "\n"
          ]
        }
      ],
      "source": [
        "%%skip $skip_eda\n",
        "# Get the amount of laundering and legit transactions in a specific hour\n",
        "hourly_laundering = small_laundering_df.withColumn(\"Hour\", hour('Timestamp')).groupBy(\"Hour\").count().cache()\n",
        "hourly_legit = small_legit_df.withColumn(\"Hour\", hour('Timestamp')).groupBy(\"Hour\").count().cache()\n",
        "# Show values with rate\n",
        "hourly_laundering.join(hourly_legit.withColumnRenamed(\"count\", \"count2\"), \"Hour\"). \\\n",
        "                 withColumn(\"Hourly Rate\", col(\"count\") / col(\"count2\")). \\\n",
        "                 withColumn(\"Hourly Rate\", col(\"Hourly Rate\").cast('Decimal(20,10)')). \\\n",
        "                 orderBy(col(\"Hourly Rate\").desc()). \\\n",
        "                 show()"
      ]
    },
    {
      "cell_type": "code",
      "execution_count": 31,
      "metadata": {
        "colab": {
          "base_uri": "https://localhost:8080/"
        },
        "id": "cgC03NMC90B-",
        "outputId": "5b6f7ba3-213b-44da-cbee-a0bd5cf0e28a"
      },
      "outputs": [
        {
          "output_type": "stream",
          "name": "stdout",
          "text": [
            "+----+-----+-------+------------+\n",
            "|Date|count| count2|  Daily Rate|\n",
            "+----+-----+-------+------------+\n",
            "|  18|    8|      3|2.6666666667|\n",
            "|  17|   15|      8|1.8750000000|\n",
            "|  15|   28|     18|1.5555555556|\n",
            "|  12|  170|    111|1.5315315315|\n",
            "|  11|  232|    164|1.4146341463|\n",
            "|  14|   70|     51|1.3725490196|\n",
            "|  13|  106|     78|1.3589743590|\n",
            "|  16|   26|     20|1.3000000000|\n",
            "|  10|  442| 207883|0.0021261960|\n",
            "|   4|  407| 207023|0.0019659651|\n",
            "|   3|  391| 206991|0.0018889710|\n",
            "|   8|  539| 482234|0.0011177146|\n",
            "|   6|  531| 481558|0.0011026709|\n",
            "|   7|  497| 482254|0.0010305772|\n",
            "|   5|  471| 482179|0.0009768157|\n",
            "|   9|  514| 653953|0.0007859892|\n",
            "|   2|  408| 754041|0.0005410846|\n",
            "|   1|  322|1114599|0.0002888931|\n",
            "+----+-----+-------+------------+\n",
            "\n"
          ]
        }
      ],
      "source": [
        "%%skip $skip_eda\n",
        "# Get the amount of laundering and legit transactions in a specific day of the month\n",
        "daily_laundering = small_laundering_df.withColumn(\"Date\", dayofmonth('Timestamp')).groupBy(\"Date\").count().cache()\n",
        "daily_legit = small_legit_df.withColumn(\"Date\", dayofmonth('Timestamp')).groupBy(\"Date\").count().cache()\n",
        "# Show values with rate\n",
        "daily_laundering.join(daily_legit.withColumnRenamed(\"count\", \"count2\"), \"Date\"). \\\n",
        "                 withColumn(\"Daily Rate\", col(\"count\") / col(\"count2\")). \\\n",
        "                 withColumn(\"Daily Rate\", col(\"Daily Rate\").cast('Decimal(20,10)')). \\\n",
        "                 orderBy(col(\"Daily Rate\").desc()). \\\n",
        "                 show()"
      ]
    },
    {
      "cell_type": "markdown",
      "metadata": {
        "id": "_Uin1y6rgK3_"
      },
      "source": [
        "## Feature Data\n",
        "\n",
        "\n",
        "The insights from the EDA allow the processing and creation of the Feature Data Layer. The feature layer comprises a data model with a collection of features defined based on the primary data. In practical terms, this layer represents the independent variables, engineered features and the target variable, which will serve as the foundation for applying machine learning models. Additionally, any data cleaning and new features are removed at this step. We start creating the time-related features: Hour of the Day, Day of the Month, and Weekday (we also create intermediary features Minute and Date to assist further feature creation). Next, we create a self-payment Boolean feature indicating if the transaction's origin and final account are the same, and we clean the payment format to remove all the \"Reinvestment\" transactions. Further, we create a Boolean currency feature indicating if the transaction's origin and final currencies are the same, thus being able to drop the Payment Currency and keep only the Receiving for the model. We do a similar process for the amount features by creating a feature of received ratio and removing the amount paid feature.\n",
        "\n",
        "At this point, we are starting the second node of the second column of the data pipeline feature and considering that we will be removing the account features from the final data, we needed to find ways of extracting the relationship of the transactions with the accounts. Therefore we create the following features related to each account: total transaction amount in hour/day, the number of the transaction in the hour/day, and the time since the last transaction. Similarly, we also create features to establish the relationship between the origin and destination account: total transaction to the same account in hour/day, number of the transaction to this account in the hour/day, time in minutes since the last transaction to this account, amount of transactions where the receiving account has been involved in the last hour/day.\n",
        "\n",
        "The final step at the data feature layer is cleaning the unwanted features; therefore, we drop the Timestamp, the Origin and the Destination Account."
      ]
    },
    {
      "cell_type": "code",
      "execution_count": 32,
      "metadata": {
        "id": "yhXUHIILbLFO"
      },
      "outputs": [],
      "source": [
        "def create_time_features(ds):\n",
        "  # Create feature - hour of transaction\n",
        "  ds = ds.withColumn(\"Hour\", hour('Timestamp'))\n",
        "  # Create feature - day of transaction\n",
        "  ds = ds.withColumn(\"Day\", dayofmonth('Timestamp'))\n",
        "  # Create feature - minute of transaction\n",
        "  ds = ds.withColumn(\"Minute\", minute('Timestamp'))\n",
        "  # Create feature - date of transaction\n",
        "  ds = ds.withColumn(\"Date\", to_date('Timestamp'))\n",
        "  # Create feature - weekday of transaction\n",
        "  ds = ds.withColumn(\"Weekday\", date_format('Timestamp', 'EEEE'))\n",
        "  return ds\n",
        "\n",
        "def create_self_payment_feature(ds):\n",
        "  # Create feature self payment (origin and destination account is the same)\n",
        "  ds = ds.withColumn(\"SelfPayment\", when(col(\"Account2\") == col(\"Account4\"), 1).otherwise(0))\n",
        "  return ds\n",
        "\n",
        "def clean_payment_format(ds):\n",
        "  # Return dataframe with Reinvestment rows filtered out\n",
        "  ds = ds.where(col(\"Payment Format\") != \"Reinvestment\")\n",
        "  return ds\n",
        "\n",
        "def create_currency_features(ds):\n",
        "  # Create feature - transaction made in the same currency or not\n",
        "  ds = ds.withColumn(\"SameCurrencyTransaction\", when(col(\"Receiving Currency\") == col(\"Payment Currency\"), 1).otherwise(0))\n",
        "  # Drop one of the currency features\n",
        "  ds = ds.drop(\"Payment Currency\")\n",
        "  # Rename column\n",
        "  ds = ds.withColumnRenamed(\"Receiving Currency\", \"Currency\")\n",
        "  return ds\n",
        "\n",
        "def create_ammount_features(ds):\n",
        "  # Create feature amount ratio of the transaction\n",
        "  ds = ds.withColumn(\"AmtReceivedRatio\",  col(\"Amount Received\") / col(\"Amount Paid\"))\n",
        "  # Drop one of the features\n",
        "  ds = ds.drop(\"Amount Paid\")\n",
        "  # Rename column\n",
        "  ds = ds.withColumnRenamed(\"Amount Received\", \"AmtReceived\")\n",
        "  return ds\n",
        "\n",
        "def trans_by_acc_features(ds):\n",
        "  # Total Transaction Ammount in Hour\n",
        "  temp = ds.groupBy(\"Account2\", \"Hour\").agg(count(\"*\").alias(\"AccTransAmtInHour\"))\n",
        "  ds = ds.join(temp, on=[\"Account2\", \"Hour\"], how=\"left\")\n",
        "\n",
        "  # Total Transaction Ammount in Day\n",
        "  temp = ds.groupBy(\"Account2\", \"Day\").agg(count(\"*\").alias(\"AccTransAmtInDay\"))\n",
        "  ds = ds.join(temp, on=[\"Account2\", \"Day\"], how=\"left\")\n",
        "\n",
        "  # Transaction Number by the Account in the Hour\n",
        "  w = Window.partitionBy(ds[\"Account2\"], ds[\"Date\"], ds[\"Hour\"]).orderBy(ds[\"Minute\"])\n",
        "  ds = ds.withColumn('AccTransNumByHour', row_number().over(w))\n",
        "  # Transaction Number by the Account in the Day\n",
        "  w = Window.partitionBy(ds[\"Account2\"], ds[\"Date\"]).orderBy(ds[\"Hour\"], ds[\"Minute\"])\n",
        "  ds = ds.withColumn('AccTransNumByDay', row_number().over(w))\n",
        "\n",
        "  # Time in mins since last transaction\n",
        "  w = Window.partitionBy(ds[\"Account2\"]).orderBy(ds[\"Timestamp\"])\n",
        "  ds = ds.withColumn(\"MinsSinceLastTrans\", coalesce(round((unix_timestamp(\"Timestamp\") - lag(unix_timestamp(\"Timestamp\"), 1).over(w))/60), lit(0)))\n",
        "\n",
        "  return ds\n",
        "\n",
        "def receiving_acc_features(ds):\n",
        "  # Total Transaction Ammount to same account in Hour\n",
        "  temp = ds.groupBy(\"Account2\", \"Account4\", \"Hour\").agg(count(\"*\").alias(\"HourAccTransAmtToSameAcc\"))\n",
        "  ds = ds.join(temp, on=[\"Account2\", \"Account4\", \"Hour\"], how=\"left\")\n",
        "\n",
        "  # Total Transaction Ammount to same account in Day\n",
        "  temp = ds.groupBy(\"Account2\", \"Account4\", \"Day\").agg(count(\"*\").alias(\"DayAccTransAmtToSameAcc\"))\n",
        "  ds = ds.join(temp, on=[\"Account2\", \"Account4\", \"Day\"], how=\"left\")\n",
        "\n",
        "  # Transaction Number by the Account to same account in the Hour\n",
        "  w = Window.partitionBy(ds[\"Account2\"], ds[\"Account4\"], ds[\"Date\"], ds[\"Hour\"]).orderBy(ds[\"Minute\"])\n",
        "  ds = ds.withColumn('HourAccTransNumToSameAcc', row_number().over(w))\n",
        "  # Transaction Number by the Account to same account in the Day\n",
        "  w = Window.partitionBy(ds[\"Account2\"], ds[\"Account4\"], ds[\"Date\"]).orderBy(ds[\"Hour\"], ds[\"Minute\"])\n",
        "  ds = ds.withColumn('DayAccTransNumToSameAcc', row_number().over(w))\n",
        "\n",
        "  # Time in mins since last transaction to same account\n",
        "  w = Window.partitionBy(ds[\"Account2\"], ds[\"Account4\"]).orderBy(ds[\"Timestamp\"])\n",
        "  ds = ds.withColumn(\"MinsSinceLastTransToSameAcc\", coalesce(round((unix_timestamp(\"Timestamp\") - lag(unix_timestamp(\"Timestamp\"), 1).over(w))/60), lit(0)))\n",
        "\n",
        "  # Amt of Transactions to Acc4 in Last Hour\n",
        "  w = Window.partitionBy(ds['Account4'], ds[\"Date\"], ds[\"Hour\"]).orderBy('Minute')\n",
        "  ds = ds.withColumn('HourDestAccTransReceived', count('Account2').over(w))\n",
        "\n",
        "  # Amt of Transactions to Acc4 in Last Day\n",
        "  w = Window.partitionBy(ds['Account4'], ds[\"Date\"]).orderBy(ds[\"Hour\"], ds[\"Minute\"])\n",
        "  ds = ds.withColumn('DayDestAccTransReceived', count('Account2').over(w))\n",
        "\n",
        "  return ds\n",
        "\n",
        "def cleanup(ds):\n",
        "   # Remove unwanted features\n",
        "   ds = ds.drop(\"Date\")\n",
        "   ds = ds.drop(\"Timestamp\")\n",
        "   ds = ds.drop(\"Account2\")\n",
        "   ds = ds.drop(\"Account4\")\n",
        "   return ds"
      ]
    },
    {
      "cell_type": "code",
      "execution_count": 33,
      "metadata": {
        "id": "HY8ntz0QedGm"
      },
      "outputs": [],
      "source": [
        "%%skip $skip_feature_viz\n",
        "small_df = hi_small_df"
      ]
    },
    {
      "cell_type": "code",
      "execution_count": 34,
      "metadata": {
        "colab": {
          "base_uri": "https://localhost:8080/"
        },
        "id": "zxkINfAEdxAl",
        "outputId": "1c5f8e37-df09-476d-9eda-8eddd1251ba2"
      },
      "outputs": [
        {
          "output_type": "stream",
          "name": "stdout",
          "text": [
            "+---------+---------+-------+---------+---------------+------------------+-----------+----------------+--------------+-------------+-------------------+----+---+------+----------+--------+\n",
            "|From Bank| Account2|To Bank| Account4|Amount Received|Receiving Currency|Amount Paid|Payment Currency|Payment Format|Is Laundering|          Timestamp|Hour|Day|Minute|      Date| Weekday|\n",
            "+---------+---------+-------+---------+---------------+------------------+-----------+----------------+--------------+-------------+-------------------+----+---+------+----------+--------+\n",
            "|       10|8000EBD30|     10|8000EBD30|        3697.34|         US Dollar|    3697.34|       US Dollar|  Reinvestment|            0|2022-09-01 00:20:00|   0|  1|    20|2022-09-01|Thursday|\n",
            "|     3208|8000F4580|      1|8000F5340|           0.01|         US Dollar|       0.01|       US Dollar|        Cheque|            0|2022-09-01 00:20:00|   0|  1|    20|2022-09-01|Thursday|\n",
            "|     3209|8000F4670|   3209|8000F4670|       14675.57|         US Dollar|   14675.57|       US Dollar|  Reinvestment|            0|2022-09-01 00:00:00|   0|  1|     0|2022-09-01|Thursday|\n",
            "|       12|8000F5030|     12|8000F5030|        2806.97|         US Dollar|    2806.97|       US Dollar|  Reinvestment|            0|2022-09-01 00:02:00|   0|  1|     2|2022-09-01|Thursday|\n",
            "|       10|8000F5200|     10|8000F5200|       36682.97|         US Dollar|   36682.97|       US Dollar|  Reinvestment|            0|2022-09-01 00:06:00|   0|  1|     6|2022-09-01|Thursday|\n",
            "+---------+---------+-------+---------+---------------+------------------+-----------+----------------+--------------+-------------+-------------------+----+---+------+----------+--------+\n",
            "only showing top 5 rows\n",
            "\n"
          ]
        }
      ],
      "source": [
        "%%skip $skip_feature_viz\n",
        "# Show Created time features\n",
        "small_df = create_time_features(small_df)\n",
        "small_df.show(5)"
      ]
    },
    {
      "cell_type": "code",
      "execution_count": 35,
      "metadata": {
        "colab": {
          "base_uri": "https://localhost:8080/"
        },
        "id": "420H_dETdzqG",
        "outputId": "3a54db9c-e5f5-4ccc-b9b3-c451afc22e54"
      },
      "outputs": [
        {
          "output_type": "stream",
          "name": "stdout",
          "text": [
            "+--------------+-------+\n",
            "|Payment Format|  count|\n",
            "+--------------+-------+\n",
            "|           ACH| 600797|\n",
            "|       Bitcoin| 146091|\n",
            "|        Cheque|1864331|\n",
            "|   Credit Card|1323324|\n",
            "|          Cash| 490891|\n",
            "|          Wire| 171855|\n",
            "+--------------+-------+\n",
            "\n",
            "+-----------+-------+\n",
            "|SelfPayment|  count|\n",
            "+-----------+-------+\n",
            "|          0|4487133|\n",
            "|          1| 110156|\n",
            "+-----------+-------+\n",
            "\n"
          ]
        }
      ],
      "source": [
        "%%skip $skip_feature_viz\n",
        "# Show filtered payment format and created self payment feature\n",
        "small_df = create_self_payment_feature(small_df)\n",
        "small_df = clean_payment_format(small_df)\n",
        "small_df.groupBy(\"Payment Format\").count().show()\n",
        "small_df.groupBy(\"SelfPayment\").count().show()"
      ]
    },
    {
      "cell_type": "code",
      "execution_count": 36,
      "metadata": {
        "colab": {
          "base_uri": "https://localhost:8080/"
        },
        "id": "vLxfgMG3d4uF",
        "outputId": "6bfe1d8f-4fb4-4e1d-c2db-ccae09264769"
      },
      "outputs": [
        {
          "output_type": "stream",
          "name": "stdout",
          "text": [
            "+---------+---------+-------+---------+---------------+---------+-----------+--------------+-------------+-------------------+----+---+------+----------+--------+-----------+-----------------------+\n",
            "|From Bank| Account2|To Bank| Account4|Amount Received| Currency|Amount Paid|Payment Format|Is Laundering|          Timestamp|Hour|Day|Minute|      Date| Weekday|SelfPayment|SameCurrencyTransaction|\n",
            "+---------+---------+-------+---------+---------------+---------+-----------+--------------+-------------+-------------------+----+---+------+----------+--------+-----------+-----------------------+\n",
            "|     3208|8000F4580|      1|8000F5340|           0.01|US Dollar|       0.01|        Cheque|            0|2022-09-01 00:20:00|   0|  1|    20|2022-09-01|Thursday|          0|                      1|\n",
            "|       12|8000EC280|   2439|8017BF800|           7.66|US Dollar|       7.66|   Credit Card|            0|2022-09-01 00:26:00|   0|  1|    26|2022-09-01|Thursday|          0|                      1|\n",
            "|        1|8000EDEC0| 211050|80AEF5310|         383.71|US Dollar|     383.71|   Credit Card|            0|2022-09-01 00:21:00|   0|  1|    21|2022-09-01|Thursday|          0|                      1|\n",
            "|        1|8000F4510|  11813|8011305D0|           9.82|US Dollar|       9.82|   Credit Card|            0|2022-09-01 00:04:00|   0|  1|     4|2022-09-01|Thursday|          0|                      1|\n",
            "|        1|8000F4FE0| 245335|812ED62E0|           4.01|US Dollar|       4.01|   Credit Card|            0|2022-09-01 00:08:00|   0|  1|     8|2022-09-01|Thursday|          0|                      1|\n",
            "+---------+---------+-------+---------+---------------+---------+-----------+--------------+-------------+-------------------+----+---+------+----------+--------+-----------+-----------------------+\n",
            "only showing top 5 rows\n",
            "\n"
          ]
        }
      ],
      "source": [
        "%%skip $skip_feature_viz\n",
        "# Show created currency features\n",
        "small_df = create_currency_features(small_df)\n",
        "small_df.show(5)"
      ]
    },
    {
      "cell_type": "code",
      "execution_count": 37,
      "metadata": {
        "colab": {
          "base_uri": "https://localhost:8080/"
        },
        "id": "--4405kTd7tu",
        "outputId": "e9de947b-e65e-472a-c899-3e818ffe1387"
      },
      "outputs": [
        {
          "output_type": "stream",
          "name": "stdout",
          "text": [
            "+---------+---------+-------+---------+-----------+---------+--------------+-------------+-------------------+----+---+------+----------+--------+-----------+-----------------------+----------------+\n",
            "|From Bank| Account2|To Bank| Account4|AmtReceived| Currency|Payment Format|Is Laundering|          Timestamp|Hour|Day|Minute|      Date| Weekday|SelfPayment|SameCurrencyTransaction|AmtReceivedRatio|\n",
            "+---------+---------+-------+---------+-----------+---------+--------------+-------------+-------------------+----+---+------+----------+--------+-----------+-----------------------+----------------+\n",
            "|     3208|8000F4580|      1|8000F5340|       0.01|US Dollar|        Cheque|            0|2022-09-01 00:20:00|   0|  1|    20|2022-09-01|Thursday|          0|                      1|             1.0|\n",
            "|       12|8000EC280|   2439|8017BF800|       7.66|US Dollar|   Credit Card|            0|2022-09-01 00:26:00|   0|  1|    26|2022-09-01|Thursday|          0|                      1|             1.0|\n",
            "|        1|8000EDEC0| 211050|80AEF5310|     383.71|US Dollar|   Credit Card|            0|2022-09-01 00:21:00|   0|  1|    21|2022-09-01|Thursday|          0|                      1|             1.0|\n",
            "|        1|8000F4510|  11813|8011305D0|       9.82|US Dollar|   Credit Card|            0|2022-09-01 00:04:00|   0|  1|     4|2022-09-01|Thursday|          0|                      1|             1.0|\n",
            "|        1|8000F4FE0| 245335|812ED62E0|       4.01|US Dollar|   Credit Card|            0|2022-09-01 00:08:00|   0|  1|     8|2022-09-01|Thursday|          0|                      1|             1.0|\n",
            "+---------+---------+-------+---------+-----------+---------+--------------+-------------+-------------------+----+---+------+----------+--------+-----------+-----------------------+----------------+\n",
            "only showing top 5 rows\n",
            "\n"
          ]
        }
      ],
      "source": [
        "%%skip $skip_feature_viz\n",
        "# Show created amount features\n",
        "small_df = create_ammount_features(small_df)\n",
        "small_df.show(5)"
      ]
    },
    {
      "cell_type": "code",
      "execution_count": 38,
      "metadata": {
        "colab": {
          "base_uri": "https://localhost:8080/"
        },
        "id": "2iwgT6SRhjB0",
        "outputId": "b301033b-6c32-4556-e8e1-a2a9e4925a7c"
      },
      "outputs": [
        {
          "output_type": "stream",
          "name": "stdout",
          "text": [
            "+---------+---------+---+----+---------+-------+-----------+---------+--------------+-------------+-------------------+------+----------+--------+-----------+-----------------------+----------------+-----------------+----------------+-----------------+----------------+------------------+------------------------+-----------------------+------------------------+-----------------------+---------------------------+------------------------+-----------------------+\n",
            "| Account2| Account4|Day|Hour|From Bank|To Bank|AmtReceived| Currency|Payment Format|Is Laundering|          Timestamp|Minute|      Date| Weekday|SelfPayment|SameCurrencyTransaction|AmtReceivedRatio|AccTransAmtInHour|AccTransAmtInDay|AccTransNumByHour|AccTransNumByDay|MinsSinceLastTrans|HourAccTransAmtToSameAcc|DayAccTransAmtToSameAcc|HourAccTransNumToSameAcc|DayAccTransNumToSameAcc|MinsSinceLastTransToSameAcc|HourDestAccTransReceived|DayDestAccTransReceived|\n",
            "+---------+---------+---+----+---------+-------+-----------+---------+--------------+-------------+-------------------+------+----------+--------+-----------+-----------------------+----------------+-----------------+----------------+-----------------+----------------+------------------+------------------------+-----------------------+------------------------+-----------------------+---------------------------+------------------------+-----------------------+\n",
            "|80E0DD780|100428660|  1|   0|   320085|     70|       0.06|US Dollar|          Cash|            0|2022-09-01 00:06:00|     6|2022-09-01|Thursday|          0|                      1|             1.0|                1|               1|                1|               1|               0.0|                       1|                      1|                       1|                      1|                        0.0|                       1|                      1|\n",
            "|8032E38E0|100428660|  1|   0|    31438|     70|       0.01|US Dollar|          Cash|            0|2022-09-01 00:22:00|    22|2022-09-01|Thursday|          0|                      1|             1.0|                1|               1|                1|               1|               0.0|                       1|                      1|                       1|                      1|                        0.0|                       2|                      2|\n",
            "|80DFCB240|100428660|  1|   5|   310836|     70|       0.03|US Dollar|          Cash|            0|2022-09-01 05:38:00|    38|2022-09-01|Thursday|          0|                      1|             1.0|                1|               1|                1|               1|               0.0|                       1|                      1|                       1|                      1|                        0.0|                       1|                      3|\n",
            "|80E2C5A90|100428660|  1|  13|    33138|     70|       0.02|US Dollar|          Cash|            0|2022-09-01 13:37:00|    37|2022-09-01|Thursday|          0|                      1|             1.0|                1|               1|                1|               1|               0.0|                       1|                      1|                       1|                      1|                        0.0|                       1|                      4|\n",
            "|80E157840|100428660|  1|  14|    33407|     70|       0.01|US Dollar|          Cash|            0|2022-09-01 14:28:00|    28|2022-09-01|Thursday|          0|                      1|             1.0|                1|               1|                1|               1|               0.0|                       1|                      1|                       1|                      1|                        0.0|                       1|                      5|\n",
            "+---------+---------+---+----+---------+-------+-----------+---------+--------------+-------------+-------------------+------+----------+--------+-----------+-----------------------+----------------+-----------------+----------------+-----------------+----------------+------------------+------------------------+-----------------------+------------------------+-----------------------+---------------------------+------------------------+-----------------------+\n",
            "only showing top 5 rows\n",
            "\n"
          ]
        }
      ],
      "source": [
        "%%skip $skip_feature_viz\n",
        "# Show created account features\n",
        "small_df = trans_by_acc_features(small_df)\n",
        "small_df = receiving_acc_features(small_df)\n",
        "small_df.show(5)"
      ]
    },
    {
      "cell_type": "code",
      "execution_count": 39,
      "metadata": {
        "colab": {
          "base_uri": "https://localhost:8080/"
        },
        "id": "5KvQRxolHF9I",
        "outputId": "da9d9d00-9177-4146-d274-abcf25b39217"
      },
      "outputs": [
        {
          "output_type": "stream",
          "name": "stdout",
          "text": [
            "+---+----+---------+-------+-----------+---------+--------------+-------------+------+--------+-----------+-----------------------+----------------+-----------------+----------------+-----------------+----------------+------------------+------------------------+-----------------------+------------------------+-----------------------+---------------------------+------------------------+-----------------------+\n",
            "|Day|Hour|From Bank|To Bank|AmtReceived| Currency|Payment Format|Is Laundering|Minute| Weekday|SelfPayment|SameCurrencyTransaction|AmtReceivedRatio|AccTransAmtInHour|AccTransAmtInDay|AccTransNumByHour|AccTransNumByDay|MinsSinceLastTrans|HourAccTransAmtToSameAcc|DayAccTransAmtToSameAcc|HourAccTransNumToSameAcc|DayAccTransNumToSameAcc|MinsSinceLastTransToSameAcc|HourDestAccTransReceived|DayDestAccTransReceived|\n",
            "+---+----+---------+-------+-----------+---------+--------------+-------------+------+--------+-----------+-----------------------+----------------+-----------------+----------------+-----------------+----------------+------------------+------------------------+-----------------------+------------------------+-----------------------+---------------------------+------------------------+-----------------------+\n",
            "|  1|   0|   320085|     70|       0.06|US Dollar|          Cash|            0|     6|Thursday|          0|                      1|             1.0|                1|               1|                1|               1|               0.0|                       1|                      1|                       1|                      1|                        0.0|                       1|                      1|\n",
            "|  1|   0|    31438|     70|       0.01|US Dollar|          Cash|            0|    22|Thursday|          0|                      1|             1.0|                1|               1|                1|               1|               0.0|                       1|                      1|                       1|                      1|                        0.0|                       2|                      2|\n",
            "|  1|   5|   310836|     70|       0.03|US Dollar|          Cash|            0|    38|Thursday|          0|                      1|             1.0|                1|               1|                1|               1|               0.0|                       1|                      1|                       1|                      1|                        0.0|                       1|                      3|\n",
            "|  1|  13|    33138|     70|       0.02|US Dollar|          Cash|            0|    37|Thursday|          0|                      1|             1.0|                1|               1|                1|               1|               0.0|                       1|                      1|                       1|                      1|                        0.0|                       1|                      4|\n",
            "|  1|  14|    33407|     70|       0.01|US Dollar|          Cash|            0|    28|Thursday|          0|                      1|             1.0|                1|               1|                1|               1|               0.0|                       1|                      1|                       1|                      1|                        0.0|                       1|                      5|\n",
            "|  1|  22|    33387|     70|       0.06|US Dollar|          Cash|            0|    11|Thursday|          0|                      1|             1.0|                1|               1|                1|               1|               0.0|                       1|                      1|                       1|                      1|                        0.0|                       1|                      6|\n",
            "|  2|   0|   317614|     70|      48.02|US Dollar|          Cash|            0|     2|  Friday|          0|                      1|             1.0|                1|               1|                1|               1|               0.0|                       1|                      1|                       1|                      1|                        0.0|                       1|                      1|\n",
            "|  2|   0|    31080|     70|     186.55|US Dollar|          Cash|            0|     3|  Friday|          0|                      1|             1.0|                1|               1|                1|               1|               0.0|                       1|                      1|                       1|                      1|                        0.0|                       2|                      2|\n",
            "|  2|   0|    31277|     70|     169.69|US Dollar|          Cash|            0|     5|  Friday|          0|                      1|             1.0|                1|               1|                1|               1|               0.0|                       1|                      1|                       1|                      1|                        0.0|                       3|                      3|\n",
            "|  2|   0|    32206|     70|      73.75|US Dollar|          Cash|            0|    16|  Friday|          0|                      1|             1.0|                2|               1|                1|               1|               0.0|                       2|                      1|                       1|                      1|                        0.0|                       4|                      4|\n",
            "|  2|   0|   315500|     70|     161.11|US Dollar|          Cash|            0|    19|  Friday|          0|                      1|             1.0|                1|               1|                1|               1|               0.0|                       1|                      1|                       1|                      1|                        0.0|                       5|                      5|\n",
            "|  2|   0|    33783|     70|      58.63|US Dollar|          Cash|            0|    20|  Friday|          0|                      1|             1.0|                1|               1|                1|               1|               0.0|                       1|                      1|                       1|                      1|                        0.0|                       6|                      6|\n",
            "|  2|   0|   313531|     70|      45.27|US Dollar|          Cash|            0|    25|  Friday|          0|                      1|             1.0|                1|               1|                1|               1|               0.0|                       1|                      1|                       1|                      1|                        0.0|                       7|                      7|\n",
            "|  2|   0|     3475|     70|     196.46|US Dollar|          Cash|            0|    27|  Friday|          0|                      1|             1.0|                1|               1|                1|               1|               0.0|                       1|                      1|                       1|                      1|                        0.0|                       8|                      8|\n",
            "|  2|   0|    31266|     70|     168.03|US Dollar|          Cash|            0|    33|  Friday|          0|                      1|             1.0|                1|               1|                1|               1|               0.0|                       1|                      1|                       1|                      1|                        0.0|                       9|                      9|\n",
            "|  2|   0|   315069|     70|     285.38|US Dollar|          Cash|            0|    34|  Friday|          0|                      1|             1.0|                1|               1|                1|               1|               0.0|                       1|                      1|                       1|                      1|                        0.0|                      10|                     10|\n",
            "|  2|   0|    38294|     70|     309.76|US Dollar|          Cash|            0|    35|  Friday|          0|                      1|             1.0|                1|               1|                1|               1|               0.0|                       1|                      1|                       1|                      1|                        0.0|                      11|                     11|\n",
            "|  2|   0|   338279|     70|      75.49|US Dollar|          Cash|            0|    36|  Friday|          0|                      1|             1.0|                1|               1|                1|               1|               0.0|                       1|                      1|                       1|                      1|                        0.0|                      12|                     12|\n",
            "|  2|   0|   316300|     70|     212.96|US Dollar|          Cash|            0|    37|  Friday|          0|                      1|             1.0|                2|               1|                1|               1|               0.0|                       2|                      1|                       1|                      1|                        0.0|                      14|                     14|\n",
            "|  2|   0|   330036|     70|     102.99|US Dollar|          Cash|            0|    37|  Friday|          0|                      1|             1.0|                1|               1|                1|               1|               0.0|                       1|                      1|                       1|                      1|                        0.0|                      14|                     14|\n",
            "+---+----+---------+-------+-----------+---------+--------------+-------------+------+--------+-----------+-----------------------+----------------+-----------------+----------------+-----------------+----------------+------------------+------------------------+-----------------------+------------------------+-----------------------+---------------------------+------------------------+-----------------------+\n",
            "only showing top 20 rows\n",
            "\n"
          ]
        }
      ],
      "source": [
        "%%skip $skip_feature_viz\n",
        "# Show complete dataset with created features and cleaned\n",
        "small_df = cleanup(small_df)\n",
        "small_df.show()"
      ]
    },
    {
      "cell_type": "code",
      "execution_count": 40,
      "metadata": {
        "id": "qzxks-7CuLzP"
      },
      "outputs": [],
      "source": [
        "def feature_creation_pipeline(ds):\n",
        "  # Pipeline for the feature creation process\n",
        "  ds = create_time_features(ds)\n",
        "  ds = create_self_payment_feature(ds)\n",
        "  ds = clean_payment_format(ds)\n",
        "  ds = create_currency_features(ds)\n",
        "  ds = create_ammount_features(ds)\n",
        "  ds = trans_by_acc_features(ds)\n",
        "  ds = receiving_acc_features(ds)\n",
        "  ds = cleanup(ds)\n",
        "  return ds"
      ]
    },
    {
      "cell_type": "markdown",
      "metadata": {
        "id": "QbcHikZiHZgx"
      },
      "source": [
        "## Model Inputs\n",
        "\n",
        "In the model input layer, we store data formats that should be ready to train a model. Therefore the first step is to encode the categorical features. ALDER encode the features using PySpark String Indexer encoder, a label indexer that maps a string label column to a column of label indices."
      ]
    },
    {
      "cell_type": "code",
      "execution_count": 41,
      "metadata": {
        "id": "N-NxvDKLYJhZ"
      },
      "outputs": [],
      "source": [
        "def encode_categorical(ds):\n",
        "  # Create encoders for the categorical columns\n",
        "  indexer1 = StringIndexer(inputCol=\"Currency\", outputCol=\"CodedCurrency\")\n",
        "  indexer2 = StringIndexer(inputCol=\"Payment Format\", outputCol=\"CodedPaymentFormat\")\n",
        "  indexer3 = StringIndexer(inputCol=\"Weekday\", outputCol=\"CodedWeekday\")\n",
        "  # Apply encoders transformations\n",
        "  ds = indexer1.fit(ds).transform(ds)\n",
        "  ds = indexer2.fit(ds).transform(ds)\n",
        "  ds = indexer3.fit(ds).transform(ds)\n",
        "  # Drop unencoded columns\n",
        "  ds = ds.drop(\"Currency\")\n",
        "  ds = ds.drop(\"Weekday\")\n",
        "  ds = ds.drop(\"Payment Format\")\n",
        "  return ds\n",
        "\n",
        "def model_input_pipeline(ds):\n",
        "  # Create pipeline for creating model input data\n",
        "  ds = encode_categorical(ds)\n",
        "\n",
        "  return ds"
      ]
    },
    {
      "cell_type": "code",
      "execution_count": 42,
      "metadata": {
        "colab": {
          "base_uri": "https://localhost:8080/"
        },
        "id": "WsIloqnX4tgH",
        "outputId": "edd266af-0c8e-4904-9585-9893c6736430"
      },
      "outputs": [
        {
          "output_type": "stream",
          "name": "stdout",
          "text": [
            "+---+----+---------+-------+-----------+-------------+------+-----------+-----------------------+----------------+-----------------+----------------+-----------------+----------------+------------------+------------------------+-----------------------+------------------------+-----------------------+---------------------------+------------------------+-----------------------+-------------+------------------+------------+\n",
            "|Day|Hour|From Bank|To Bank|AmtReceived|Is Laundering|Minute|SelfPayment|SameCurrencyTransaction|AmtReceivedRatio|AccTransAmtInHour|AccTransAmtInDay|AccTransNumByHour|AccTransNumByDay|MinsSinceLastTrans|HourAccTransAmtToSameAcc|DayAccTransAmtToSameAcc|HourAccTransNumToSameAcc|DayAccTransNumToSameAcc|MinsSinceLastTransToSameAcc|HourDestAccTransReceived|DayDestAccTransReceived|CodedCurrency|CodedPaymentFormat|CodedWeekday|\n",
            "+---+----+---------+-------+-----------+-------------+------+-----------+-----------------------+----------------+-----------------+----------------+-----------------+----------------+------------------+------------------------+-----------------------+------------------------+-----------------------+---------------------------+------------------------+-----------------------+-------------+------------------+------------+\n",
            "|  1|   0|   320085|     70|       0.06|            0|     6|          0|                      1|             1.0|                1|               1|                1|               1|               0.0|                       1|                      1|                       1|                      1|                        0.0|                       1|                      1|          0.0|               3.0|         1.0|\n",
            "|  1|   0|    31438|     70|       0.01|            0|    22|          0|                      1|             1.0|                1|               1|                1|               1|               0.0|                       1|                      1|                       1|                      1|                        0.0|                       2|                      2|          0.0|               3.0|         1.0|\n",
            "|  1|   5|   310836|     70|       0.03|            0|    38|          0|                      1|             1.0|                1|               1|                1|               1|               0.0|                       1|                      1|                       1|                      1|                        0.0|                       1|                      3|          0.0|               3.0|         1.0|\n",
            "|  1|  13|    33138|     70|       0.02|            0|    37|          0|                      1|             1.0|                1|               1|                1|               1|               0.0|                       1|                      1|                       1|                      1|                        0.0|                       1|                      4|          0.0|               3.0|         1.0|\n",
            "|  1|  14|    33407|     70|       0.01|            0|    28|          0|                      1|             1.0|                1|               1|                1|               1|               0.0|                       1|                      1|                       1|                      1|                        0.0|                       1|                      5|          0.0|               3.0|         1.0|\n",
            "+---+----+---------+-------+-----------+-------------+------+-----------+-----------------------+----------------+-----------------+----------------+-----------------+----------------+------------------+------------------------+-----------------------+------------------------+-----------------------+---------------------------+------------------------+-----------------------+-------------+------------------+------------+\n",
            "only showing top 5 rows\n",
            "\n"
          ]
        }
      ],
      "source": [
        "%%skip $skip_feature_viz\n",
        "# Show resulting data of model input pipeline\n",
        "model_input_pipeline(small_df).show(5)"
      ]
    },
    {
      "cell_type": "code",
      "execution_count": 43,
      "metadata": {
        "id": "_5hAqnYQYqyV"
      },
      "outputs": [],
      "source": [
        "def data_pipeline(ds):\n",
        "  # Create complete data engineering pipeline\n",
        "  ds = feature_creation_pipeline(ds)\n",
        "  ds = model_input_pipeline(ds)\n",
        "  return ds\n",
        "\n",
        "# Execute the pipeline on the small dataset\n",
        "hi_small_model_input = data_pipeline(hi_small_df)"
      ]
    },
    {
      "cell_type": "code",
      "execution_count": 44,
      "metadata": {
        "id": "ajro-87pUafA"
      },
      "outputs": [],
      "source": [
        "%%skip $skip_medium_experiments\n",
        "# Execute the pipeline on the medium dataset\n",
        "hi_medium_model_input = data_pipeline(hi_medium_df)"
      ]
    },
    {
      "cell_type": "markdown",
      "metadata": {
        "id": "ceE3IHdCOAAo"
      },
      "source": [
        "### Correlation Matrix\n",
        "\n",
        "A correlation matrix is a table that displays the correlation coefficients between features. It provides a way to examine the relationships and dependencies between variables in a dataset. Each cell in the matrix represents the correlation coefficient between two variables, indicating the strength and direction of their relationship. The correlation coefficients can range from -1 to +1, where a coefficient of -1 indicates a perfect negative correlation, a coefficient of +1 indicates a perfect positive correlation and a coefficient of 0 indicates no correlation. By analyzing the correlation matrix, we can identify variables strongly related to the label of a particular classification problem.\n",
        "\n"
      ]
    },
    {
      "cell_type": "code",
      "execution_count": 45,
      "metadata": {
        "id": "I_rKRJcZ64Y4"
      },
      "outputs": [],
      "source": [
        "def plot_correlation_matrix(dataset):\n",
        "  # convert to vector column first\n",
        "  vector_col = \"corr_features\"\n",
        "  assembler = VectorAssembler(inputCols=dataset.columns, outputCol=vector_col)\n",
        "  df_vector = assembler.transform(dataset).select(vector_col)\n",
        "\n",
        "  # get correlation matrix\n",
        "  matrix = Correlation.corr(df_vector, vector_col)\n",
        "  cor_np = matrix.collect()[0][matrix.columns[0]].toArray()\n",
        "\n",
        "  labels = dataset.columns\n",
        "  plt.figure(figsize=(16,5))\n",
        "  sns.heatmap(cor_np, xticklabels=labels, yticklabels=labels);"
      ]
    },
    {
      "cell_type": "markdown",
      "metadata": {
        "id": "90_onctkPf4l"
      },
      "source": [
        "Notice that in the figure bellow, some of the created features have a strong correlation, which may indicate that those features provide similar information and can affect the model's performance, potentially overfitting. However, since ALDER uses a random forest with feature sub-sampling, these information redundancies might prove useful for the problem. Looking at the correlation coefficients between each feature and the label, we notice that no feature highlights itself by correlating with the label. Most of the features have a weak positive correlation with the label. Remember that correlation coefficients measure linear relationships. If the relationships between features and the label are non-linear, the correlation matrix may not capture them accurately."
      ]
    },
    {
      "cell_type": "code",
      "execution_count": 46,
      "metadata": {
        "colab": {
          "base_uri": "https://localhost:8080/",
          "height": 380
        },
        "id": "YlZ-nvmEN8cP",
        "outputId": "33f382cb-47f7-44c9-82ec-4436e30b48e1"
      },
      "outputs": [
        {
          "output_type": "display_data",
          "data": {
            "text/plain": [
              "<Figure size 1600x500 with 2 Axes>"
            ],
            "image/png": "[encoded data removed]"
          },
          "metadata": {}
        }
      ],
      "source": [
        "%%skip $skip_feature_viz\n",
        "# Plot correlation matrix\n",
        "plot_correlation_matrix(hi_small_model_input)"
      ]
    },
    {
      "cell_type": "markdown",
      "metadata": {
        "id": "m0C4NLdPHTl2"
      },
      "source": [
        "### Split and Save\n",
        "\n",
        "After encoding, all that is left to do is split between training and testing, which is done with an 80% 20% split, and saving in the disk in parquet. We decided to save the dataset at this point to process all of the transformations overhead in advance instead of mixing the cost of applying the transformations with the model training."
      ]
    },
    {
      "cell_type": "code",
      "execution_count": 47,
      "metadata": {
        "colab": {
          "base_uri": "https://localhost:8080/"
        },
        "id": "guMyeg_QHWol",
        "outputId": "2eb37222-fd03-406d-e4b0-9e0acb0eb896"
      },
      "outputs": [
        {
          "output_type": "execute_result",
          "data": {
            "text/plain": [
              "9689"
            ]
          },
          "metadata": {},
          "execution_count": 47
        }
      ],
      "source": [
        "hi_small_train, hi_small_test = hi_small_model_input.randomSplit([0.8, 0.2], seed=42)\n",
        "# Save small data to parquet\n",
        "hi_small_train.write.parquet(\"data/02_model_input/hi_small_train.parquet\")\n",
        "hi_small_test.write.parquet(\"data/02_model_input/hi_small_test.parquet\")\n",
        "del hi_small_train, hi_small_test, hi_small_model_input\n",
        "gc.collect()"
      ]
    },
    {
      "cell_type": "code",
      "execution_count": 48,
      "metadata": {
        "id": "XZQIouPbUkEm"
      },
      "outputs": [],
      "source": [
        "%%skip $skip_medium_experiments\n",
        "# This part may take an hour to complete, we are applying all transformations and saving\n",
        "# to disk on a 1GB DS (Small) and 4GB DS (Medium). Consider skipping the execution of the\n",
        "# medium experiment if you don't have the time.\n",
        "\n",
        "# Save medium data to parquet\n",
        "hi_medium_train, hi_medium_test = hi_medium_model_input.randomSplit([0.8, 0.2], seed=42)\n",
        "hi_medium_train.write.parquet(\"data/02_model_input/hi_medium_train.parquet\")\n",
        "hi_medium_test.write.parquet(\"data/02_model_input/hi_medium_test.parquet\")\n",
        "del hi_medium_train, hi_medium_test, hi_medium_model_input\n",
        "gc.collect()"
      ]
    },
    {
      "cell_type": "markdown",
      "metadata": {
        "id": "Tb2sybU5POQ_"
      },
      "source": [
        "# 1. Decision Tree\n",
        "\n",
        "ALDER utilizes decision tree methods to predict money laundering in the created datasets. A decision tree is a flowchart-like tree structure where each internal node (non-leaf node) denotes a test on an attribute, each branch an outcome of the test, and each leaf a class label. Predictions of a class in a decision tree occur by traversing the tree from its root (top-most node) to a leaf, where for each internal node, the data point being predicted will perform a test on its attribute and decide the path to take until a classification is made."
      ]
    },
    {
      "cell_type": "markdown",
      "metadata": {
        "id": "F4obs6eWu1XY"
      },
      "source": [
        "## Iris Dataset\n",
        "\n",
        "Even though the objective of the project is to classify the transactions in the IBM Transactions for Anti Money Laundering dataset, a good approach into developing a machine learning algorithm from scratch it to start developing it in a well controlled environment. Therefore, this project will use the Iris dataset to guide the development of a decision tree. This decision allow us to evaluate the implementation of the model in a common dataset which we know that the decision tree should perfom well. Therefore serving as a baseline and sanity check of the model implementation.\n",
        "\n",
        "We will split the dataset into two. The first dataset will have the setosa and the versicolor while the second will have the versicolor and virginica. From the data visualization image the former dataset will be linear separable in multiple thus being easier to classify, while the latter is not linear separable thus probabliy more difficult.\n",
        "\n",
        "- 0 = setosa\n",
        "- 1 = versicolor\n",
        "- 2 = virginica\n",
        "\n"
      ]
    },
    {
      "cell_type": "code",
      "execution_count": 49,
      "metadata": {
        "colab": {
          "base_uri": "https://localhost:8080/",
          "height": 419
        },
        "id": "ggLC_j4Otu8A",
        "outputId": "f5b7f19f-5cbb-4044-e949-7ca6faeca2e1"
      },
      "outputs": [
        {
          "output_type": "execute_result",
          "data": {
            "text/plain": [
              "     sepal length (cm)  sepal width (cm)  petal length (cm)  petal width (cm)  \\\n",
              "0                  5.1               3.5                1.4               0.2   \n",
              "1                  4.9               3.0                1.4               0.2   \n",
              "2                  4.7               3.2                1.3               0.2   \n",
              "3                  4.6               3.1                1.5               0.2   \n",
              "4                  5.0               3.6                1.4               0.2   \n",
              "..                 ...               ...                ...               ...   \n",
              "145                6.7               3.0                5.2               2.3   \n",
              "146                6.3               2.5                5.0               1.9   \n",
              "147                6.5               3.0                5.2               2.0   \n",
              "148                6.2               3.4                5.4               2.3   \n",
              "149                5.9               3.0                5.1               1.8   \n",
              "\n",
              "     target  \n",
              "0         0  \n",
              "1         0  \n",
              "2         0  \n",
              "3         0  \n",
              "4         0  \n",
              "..      ...  \n",
              "145       2  \n",
              "146       2  \n",
              "147       2  \n",
              "148       2  \n",
              "149       2  \n",
              "\n",
              "[150 rows x 5 columns]"
            ],
            "text/html": [
              "\n",
              "  <div id=\"df-57ddf2a1-8ab1-4656-bf3d-e23d0e56cffc\">\n",
              "    <div class=\"colab-df-container\">\n",
              "      <div>\n",
              "<style scoped>\n",
              "    .dataframe tbody tr th:only-of-type {\n",
              "        vertical-align: middle;\n",
              "    }\n",
              "\n",
              "    .dataframe tbody tr th {\n",
              "        vertical-align: top;\n",
              "    }\n",
              "\n",
              "    .dataframe thead th {\n",
              "        text-align: right;\n",
              "    }\n",
              "</style>\n",
              "<table border=\"1\" class=\"dataframe\">\n",
              "  <thead>\n",
              "    <tr style=\"text-align: right;\">\n",
              "      <th></th>\n",
              "      <th>sepal length (cm)</th>\n",
              "      <th>sepal width (cm)</th>\n",
              "      <th>petal length (cm)</th>\n",
              "      <th>petal width (cm)</th>\n",
              "      <th>target</th>\n",
              "    </tr>\n",
              "  </thead>\n",
              "  <tbody>\n",
              "    <tr>\n",
              "      <th>0</th>\n",
              "      <td>5.1</td>\n",
              "      <td>3.5</td>\n",
              "      <td>1.4</td>\n",
              "      <td>0.2</td>\n",
              "      <td>0</td>\n",
              "    </tr>\n",
              "    <tr>\n",
              "      <th>1</th>\n",
              "      <td>4.9</td>\n",
              "      <td>3.0</td>\n",
              "      <td>1.4</td>\n",
              "      <td>0.2</td>\n",
              "      <td>0</td>\n",
              "    </tr>\n",
              "    <tr>\n",
              "      <th>2</th>\n",
              "      <td>4.7</td>\n",
              "      <td>3.2</td>\n",
              "      <td>1.3</td>\n",
              "      <td>0.2</td>\n",
              "      <td>0</td>\n",
              "    </tr>\n",
              "    <tr>\n",
              "      <th>3</th>\n",
              "      <td>4.6</td>\n",
              "      <td>3.1</td>\n",
              "      <td>1.5</td>\n",
              "      <td>0.2</td>\n",
              "      <td>0</td>\n",
              "    </tr>\n",
              "    <tr>\n",
              "      <th>4</th>\n",
              "      <td>5.0</td>\n",
              "      <td>3.6</td>\n",
              "      <td>1.4</td>\n",
              "      <td>0.2</td>\n",
              "      <td>0</td>\n",
              "    </tr>\n",
              "    <tr>\n",
              "      <th>...</th>\n",
              "      <td>...</td>\n",
              "      <td>...</td>\n",
              "      <td>...</td>\n",
              "      <td>...</td>\n",
              "      <td>...</td>\n",
              "    </tr>\n",
              "    <tr>\n",
              "      <th>145</th>\n",
              "      <td>6.7</td>\n",
              "      <td>3.0</td>\n",
              "      <td>5.2</td>\n",
              "      <td>2.3</td>\n",
              "      <td>2</td>\n",
              "    </tr>\n",
              "    <tr>\n",
              "      <th>146</th>\n",
              "      <td>6.3</td>\n",
              "      <td>2.5</td>\n",
              "      <td>5.0</td>\n",
              "      <td>1.9</td>\n",
              "      <td>2</td>\n",
              "    </tr>\n",
              "    <tr>\n",
              "      <th>147</th>\n",
              "      <td>6.5</td>\n",
              "      <td>3.0</td>\n",
              "      <td>5.2</td>\n",
              "      <td>2.0</td>\n",
              "      <td>2</td>\n",
              "    </tr>\n",
              "    <tr>\n",
              "      <th>148</th>\n",
              "      <td>6.2</td>\n",
              "      <td>3.4</td>\n",
              "      <td>5.4</td>\n",
              "      <td>2.3</td>\n",
              "      <td>2</td>\n",
              "    </tr>\n",
              "    <tr>\n",
              "      <th>149</th>\n",
              "      <td>5.9</td>\n",
              "      <td>3.0</td>\n",
              "      <td>5.1</td>\n",
              "      <td>1.8</td>\n",
              "      <td>2</td>\n",
              "    </tr>\n",
              "  </tbody>\n",
              "</table>\n",
              "<p>150 rows × 5 columns</p>\n",
              "</div>\n",
              "      <button class=\"colab-df-convert\" onclick=\"convertToInteractive('df-57ddf2a1-8ab1-4656-bf3d-e23d0e56cffc')\"\n",
              "              title=\"Convert this dataframe to an interactive table.\"\n",
              "              style=\"display:none;\">\n",
              "        \n",
              "  <svg xmlns=\"http://www.w3.org/2000/svg\" height=\"24px\"viewBox=\"0 0 24 24\"\n",
              "       width=\"24px\">\n",
              "    <path d=\"M0 0h24v24H0V0z\" fill=\"none\"/>\n",
              "    <path d=\"M18.56 5.44l.94 2.06.94-2.06 2.06-.94-2.06-.94-.94-2.06-.94 2.06-2.06.94zm-11 1L8.5 8.5l.94-2.06 2.06-.94-2.06-.94L8.5 2.5l-.94 2.06-2.06.94zm10 10l.94 2.06.94-2.06 2.06-.94-2.06-.94-.94-2.06-.94 2.06-2.06.94z\"/><path d=\"M17.41 7.96l-1.37-1.37c-.4-.4-.92-.59-1.43-.59-.52 0-1.04.2-1.43.59L10.3 9.45l-7.72 7.72c-.78.78-.78 2.05 0 2.83L4 21.41c.39.39.9.59 1.41.59.51 0 1.02-.2 1.41-.59l7.78-7.78 2.81-2.81c.8-.78.8-2.07 0-2.86zM5.41 20L4 18.59l7.72-7.72 1.47 1.35L5.41 20z\"/>\n",
              "  </svg>\n",
              "      </button>\n",
              "      \n",
              "  <style>\n",
              "    .colab-df-container {\n",
              "      display:flex;\n",
              "      flex-wrap:wrap;\n",
              "      gap: 12px;\n",
              "    }\n",
              "\n",
              "    .colab-df-convert {\n",
              "      background-color: #E8F0FE;\n",
              "      border: none;\n",
              "      border-radius: 50%;\n",
              "      cursor: pointer;\n",
              "      display: none;\n",
              "      fill: #1967D2;\n",
              "      height: 32px;\n",
              "      padding: 0 0 0 0;\n",
              "      width: 32px;\n",
              "    }\n",
              "\n",
              "    .colab-df-convert:hover {\n",
              "      background-color: #E2EBFA;\n",
              "      box-shadow: 0px 1px 2px rgba(60, 64, 67, 0.3), 0px 1px 3px 1px rgba(60, 64, 67, 0.15);\n",
              "      fill: #174EA6;\n",
              "    }\n",
              "\n",
              "    [theme=dark] .colab-df-convert {\n",
              "      background-color: #3B4455;\n",
              "      fill: #D2E3FC;\n",
              "    }\n",
              "\n",
              "    [theme=dark] .colab-df-convert:hover {\n",
              "      background-color: #434B5C;\n",
              "      box-shadow: 0px 1px 3px 1px rgba(0, 0, 0, 0.15);\n",
              "      filter: drop-shadow(0px 1px 2px rgba(0, 0, 0, 0.3));\n",
              "      fill: #FFFFFF;\n",
              "    }\n",
              "  </style>\n",
              "\n",
              "      <script>\n",
              "        const buttonEl =\n",
              "          document.querySelector('#df-57ddf2a1-8ab1-4656-bf3d-e23d0e56cffc button.colab-df-convert');\n",
              "        buttonEl.style.display =\n",
              "          google.colab.kernel.accessAllowed ? 'block' : 'none';\n",
              "\n",
              "        async function convertToInteractive(key) {\n",
              "          const element = document.querySelector('#df-57ddf2a1-8ab1-4656-bf3d-e23d0e56cffc');\n",
              "          const dataTable =\n",
              "            await google.colab.kernel.invokeFunction('convertToInteractive',\n",
              "                                                     [key], {});\n",
              "          if (!dataTable) return;\n",
              "\n",
              "          const docLinkHtml = 'Like what you see? Visit the ' +\n",
              "            '<a target=\"_blank\" href=https://colab.research.google.com/notebooks/data_table.ipynb>data table notebook</a>'\n",
              "            + ' to learn more about interactive tables.';\n",
              "          element.innerHTML = '';\n",
              "          dataTable['output_type'] = 'display_data';\n",
              "          await google.colab.output.renderOutput(dataTable, element);\n",
              "          const docLink = document.createElement('div');\n",
              "          docLink.innerHTML = docLinkHtml;\n",
              "          element.appendChild(docLink);\n",
              "        }\n",
              "      </script>\n",
              "    </div>\n",
              "  </div>\n",
              "  "
            ]
          },
          "metadata": {},
          "execution_count": 49
        }
      ],
      "source": [
        "# Load iris from sklearn datasets\n",
        "iris = datasets.load_iris()\n",
        "\n",
        "# Transform the format into pandas\n",
        "iris_df = pd.DataFrame(data= np.c_[iris['data'], iris['target']],\n",
        "                     columns= iris['feature_names'] + ['target'])\n",
        "# Fix label column\n",
        "iris_df.target = iris_df.target.astype('int')\n",
        "\n",
        "# Create two separeted dataset one of 0 and 1 labels, other with 1 and 2 labels\n",
        "iris_easy = iris_df.loc[(iris_df.target == 0 )| (iris_df.target == 1)]\n",
        "iris_hard = iris_df.loc[(iris_df.target == 1 )| (iris_df.target == 2)]\n",
        "\n",
        "iris_df"
      ]
    },
    {
      "cell_type": "code",
      "execution_count": 50,
      "metadata": {
        "id": "CZk168Qo0tGg"
      },
      "outputs": [],
      "source": [
        "# Auxiliary function to split the iris dataset\n",
        "def split_test_val(data, label_col, val_rate = 0.3, seed=41):\n",
        "  # Shuffle data\n",
        "  data = data.sample(frac = 1, random_state=seed).reset_index(drop=True)\n",
        "  # Get point of split\n",
        "  split_index = int(np.round(len(data)*(1-val_rate)))\n",
        "  # Get train and test data\n",
        "  data_train = data[:split_index]\n",
        "  data_val = data[split_index:]\n",
        "\n",
        "  # Separate labels from features in the traning data\n",
        "  train_X = data_train.drop(labels=label_col, axis=1)\n",
        "  train_y = data_train[label_col]\n",
        "\n",
        "  # Separate labels from features in the test data\n",
        "  val_X = data_val.drop(labels=label_col, axis=1)\n",
        "  val_y = data_val[label_col]\n",
        "\n",
        "  return train_X, train_y, val_X, val_y\n"
      ]
    },
    {
      "cell_type": "markdown",
      "metadata": {
        "id": "PauYUQMy30rn"
      },
      "source": [
        "## The Tree Structure\n",
        "\n",
        "The algorithm starts by initializing a node. A tree predictor has the structure of an ordered and rooted tree where each node is either a leaf (if it has zero children) or an internal node (if it has at least two children). The node is initialized as a leaf and can be substituted for an internal node later in execution. The idea is to grow the tree classifier starting from a single-node tree (which must be a leaf) that corresponds to the classifier assigning to any data point the label that occurs most frequently in the training set. The tree is grown recursively by picking a leaf and replacing it with an internal node and two new leaves. To account for replacing nodes from leaves to internal, ALDER implements the node as an abstract class cable of being both types of nodes. Therefore the node class has the properties: \"Is Leaf\", \"Label\" , \"Feature\" and \"Threshold\". If \"Is\"Leaf\" is set to True, then the \"Label\" is assigned to a certain value, and the remaining properties are None. Otherwise, we set \"Feature\" and \"Threshold\" with appropriate values and set \"Label\" to None."
      ]
    },
    {
      "cell_type": "code",
      "execution_count": 51,
      "metadata": {
        "id": "6v9hdTsPs1-A"
      },
      "outputs": [],
      "source": [
        "# The tree node class\n",
        "class Node:\n",
        "    def __init__(self, label=None, attribute=None, split_test=None):\n",
        "        # Store the label if leaf node\n",
        "        self.label = label\n",
        "        # Store the attribute if internal node\n",
        "        self.attribute = attribute\n",
        "        # Store the attribute if internal node\n",
        "        self.split_test = split_test\n",
        "        # Boolean flag for Leafs\n",
        "        self.is_leaf = True\n",
        "        # Pointers to child nodes\n",
        "        self.left_child = None\n",
        "        self.right_child = None"
      ]
    },
    {
      "cell_type": "markdown",
      "metadata": {
        "id": "o5lgECrS75UY"
      },
      "source": [
        "## Building a Binary Tree\n",
        "\n",
        "We devised a complete binary tree to work with discrete and continuous features that can use different impurity functions to handle information gain, class weights to handle class imbalance, approximation threshold methods for big data efficiency and multiple stopping criteria. The algorithm was constructed step-by-step, as demonstrated below, on top of the Iris dataset."
      ]
    },
    {
      "cell_type": "markdown",
      "metadata": {
        "id": "x10C6WFvmhGZ"
      },
      "source": [
        "### Calculating the Training Error\n",
        "\n",
        "Another important aspect to describe in the process of constructing a decision three is how the feature and threshold, with more information gain to split the data, are calculated. How we split the data will directly impact the model's training error. When a leaf does not contribute to the training error, we say that that leaf is pure. On the other hand, leaves that do contribute are impure; thus, we focus on measuring the impurity of the tree (the entropy). Additionally, the decision tree may also suffer from overfitting, which usually happens when the tree overgrows the cardinally of the training set. Therefore, choosing the leaf expansions guaranteeing the largest decrease in the training error is important.\n",
        "\n",
        "Overall, the split's information gain is calculated as the difference between the parent's entropy and the children's weighted entropy. ALDER's implementation calculates the entropy with three possible approaches: Shannon, and Gini and Scaled Entropy."
      ]
    },
    {
      "cell_type": "code",
      "execution_count": 52,
      "metadata": {
        "id": "GXsSz_sDmO2B"
      },
      "outputs": [],
      "source": [
        "def calculate_entropy(labels, func_type):\n",
        "  # Get counts of zero and ones as vector\n",
        "  _, counts = np.unique(labels, return_counts=True)\n",
        "  # Normalize\n",
        "  p_vec = counts / len(labels)\n",
        "\n",
        "  # Calculate proper entropy criterion\n",
        "  if func_type == 'shannon':\n",
        "    return -np.sum(p_vec * np.log2(p_vec))\n",
        "  elif func_type == 'scaled':\n",
        "    return -np.sum((p_vec/2) * np.log2(p_vec))\n",
        "  elif func_type == 'gini':\n",
        "    return 1 - np.sum(np.square(p_vec))\n",
        "\n",
        "def calculate_information_gain(data, labels, left_labels, right_labels, func_type):\n",
        "    # Calculate entropy of the parent\n",
        "    total_entropy = calculate_entropy(labels, func_type)\n",
        "    # Calculate entropy of the children\n",
        "    left_entropy = calculate_entropy(left_labels, func_type)\n",
        "    right_entropy = calculate_entropy(right_labels, func_type)\n",
        "\n",
        "    # Calculate weightes entropy of the children\n",
        "    left_weighted_entropy = (len(left_labels) / len(labels)) * left_entropy\n",
        "    right_weighted_entropy = (len(right_labels) / len(right_labels)) * right_entropy\n",
        "\n",
        "    # Calculate the information gain\n",
        "    information_gain = total_entropy - (left_weighted_entropy + right_weighted_entropy)\n",
        "    return information_gain\n"
      ]
    },
    {
      "cell_type": "markdown",
      "metadata": {
        "id": "OdcrC2zL-G6M"
      },
      "source": [
        "### Attribute and Threshold Selection\n",
        "\n",
        "The Algorithm belows shows ALDER's feature and threshold selection implementation. The process iterate for every possible feature in the data and get all the values of those features to calculate the candidate thresholds. Selecting a candidate threshold is an important step that can interfere significantly with the execution time. ALDER implements two methodologies of selecting threshold. The first is a naive approach that selects all unique values for the feature ordered and calculates the threshold as the middle distance between one data point and the other. This solution is not scalable for big data scenarios, where calculating the unique values every time is a cost-intensive operation, as well as looping through all possible unique values. With this in mind, ALDER also implements a technique suitable for big data (only in the final class, seen later).\n",
        "\n",
        "After the candidate thresholds are calculated, the algorithm will loop through all the possible threshold values for that feature. It separates the left and right labels based on the current combination of features/thresholds, allowing the calculation of the information gain of a tree split with the current combination.\n"
      ]
    },
    {
      "cell_type": "code",
      "execution_count": 53,
      "metadata": {
        "id": "IIIfJtl4mEnw"
      },
      "outputs": [],
      "source": [
        "def select_attribute(data, labels, func_type):\n",
        "    # Init best values\n",
        "    best_feature = None\n",
        "    best_threshold = None\n",
        "    best_information_gain = -np.inf\n",
        "\n",
        "    # Loop through features\n",
        "    for feature in data.columns:\n",
        "\n",
        "        # Get index of the column\n",
        "        col_idx = data.columns.get_loc(feature)\n",
        "        # Get possible values within this feature\n",
        "        feature_values = data.iloc[:, col_idx]\n",
        "        # Filter only the unique\n",
        "        unique_values = np.unique(feature_values)\n",
        "        # Get possible thresholds\n",
        "        thresholds = (unique_values[:-1] + unique_values[1:]) / 2.0\n",
        "\n",
        "        # Calculate info gain of each threshold\n",
        "        for threshold in thresholds:\n",
        "\n",
        "            # Get the possible labels for the left node\n",
        "            left_labels = labels[feature_values <= threshold]\n",
        "            # Get the possible labels for the right node\n",
        "            right_labels = labels[feature_values > threshold]\n",
        "\n",
        "            # Calculate the information gain of the split\n",
        "            information_gain = calculate_information_gain(data, labels, left_labels, right_labels, func_type)\n",
        "\n",
        "            # Keep best information\n",
        "            if information_gain > best_information_gain:\n",
        "                best_feature = col_idx\n",
        "                best_threshold = threshold\n",
        "                best_information_gain = information_gain\n",
        "\n",
        "    return best_feature, best_threshold"
      ]
    },
    {
      "cell_type": "markdown",
      "metadata": {
        "id": "0cqStaqR3t4k"
      },
      "source": [
        "In order to perform a sanity test on the created algorithm, ALDER relies on a traditional dataset used in literature, the Iris. Even though Iris is not a binary classification problem, we can use it as a simple binary classification by removing one of the classes and considering only the non-linear separable remaining class. Figure bellow show a result of a single split values selection on the IRIS dataset. Notice that it finds the feature and the point where it best splits the data."
      ]
    },
    {
      "cell_type": "code",
      "execution_count": 54,
      "metadata": {
        "colab": {
          "base_uri": "https://localhost:8080/",
          "height": 483
        },
        "id": "r8GKnSoW9p4Y",
        "outputId": "40a68b14-4a1a-4108-f500-66b61defe8b2"
      },
      "outputs": [
        {
          "output_type": "stream",
          "name": "stdout",
          "text": [
            "Best Feature: 3\n",
            "Best Threshold: 1.75\n"
          ]
        },
        {
          "output_type": "display_data",
          "data": {
            "text/plain": [
              "<Figure size 640x480 with 1 Axes>"
            ],
            "image/png": "[encoded data removed]"
          },
          "metadata": {}
        }
      ],
      "source": [
        "# Get best feature and best threshold of a sample data\n",
        "data, labels, _, _ = split_test_val(iris_hard, 'target', val_rate = 0.3)\n",
        "best_feature, best_treshold = select_attribute(data, labels, 'shannon')\n",
        "\n",
        "# Print values\n",
        "print(f\"Best Feature: {best_feature}\")\n",
        "print(f\"Best Threshold: {best_treshold}\")\n",
        "\n",
        "# Plot result\n",
        "data[\"target\"] = labels\n",
        "plt.axvline(x=best_treshold, color='grey')\n",
        "sns_plot = sns.swarmplot(data=data, x=data.columns[best_feature], hue=\"target\")"
      ]
    },
    {
      "cell_type": "markdown",
      "metadata": {
        "id": "3dF0p8z1-fOU"
      },
      "source": [
        "### Stopping Criterias\n",
        "\n",
        "ALDER implement three types of stopping criteria to handle overfitting and controlling the training process. The first and most trivial is stopping if our data partition contains only a single label and therefore does not need further splitting. The second is considering the maximum depth of the tree. In order to avoid growing the tree infinitely until finding individual partitions, we set a maximum size for the tree to grow. This stop criteria also allows to control the overfitting of the tree. Finally, we consider a third stopping criteria, which also allows for controlling overfitting, considering the minimum amount of samples in a split. This approach will stop growing a tree even if the label is not unique. Thus finding the right value for this parameter will help create a proper balance between acceptable mistakes and generalization."
      ]
    },
    {
      "cell_type": "code",
      "execution_count": 55,
      "metadata": {
        "id": "pO1YNTL0L10r"
      },
      "outputs": [],
      "source": [
        "def max_depth_stop(depth, max_depth):\n",
        "  # Check for max depth\n",
        "  return depth==max_depth\n",
        "\n",
        "def no_labels_to_split_stop(labels):\n",
        "  # Check for unique labels\n",
        "  return len(np.unique(labels)) == 1\n",
        "\n",
        "def min_samples_split_stop(labels, min_samples_per_split):\n",
        "  # Calculate if labels are smaller than the minimum samples\n",
        "  return len(labels) < min_samples_per_split"
      ]
    },
    {
      "cell_type": "markdown",
      "metadata": {
        "id": "Ontg1Ydh-DmJ"
      },
      "source": [
        "### Building the Tree\n",
        "\n",
        "The algorithm starts by initializing a node. A tree predictor has the structure of an ordered and rooted tree where each node is either a leaf (if it has zero children) or an internal node (if it has at least two children). The node is initialized as a leaf and can be substituted for an internal node later in execution.\n",
        "\n",
        "After initializing the node, we check the algorithm for stopping criteria. Since this algorithm is recursive, we might be at a point at the execution heap where we need to stop constructing the tree in depth and return a leaf node.\n",
        "\n",
        "If any stop criteria are met, we assigns the most common label of the data partition and returns the node. On the other hand, if we have not reached a stopping point, the algorithm looks for features and thresholds with more information gained to split the data. After the feature and threshold are computed, we assign the selected values to the node and set that the node is not a leaf anymore. We split the remaining data and labels with the node split conditions now assigned. The data/labels with the select feature below or equal to the select threshold are used to create the left child, and the data/labels with the select feature above the select attribute are used to create the right child. Thus, we recursively call the algorithm for each of the nodes children and since we are implementing a binary tree, this function will only split into two subsets. while calling the build tree function for the children, we also increase the depth counter to stop when maximum depth is reached eventually."
      ]
    },
    {
      "cell_type": "code",
      "execution_count": 56,
      "metadata": {
        "id": "79EoP4ZKke9h"
      },
      "outputs": [],
      "source": [
        "def build_decision_tree(data, labels, depth=0, max_depth=10, min_samples_per_split=2, func_type='shannon'):\n",
        "    # Initialize an empty root node\n",
        "    node = Node()\n",
        "\n",
        "    # Test for the stop critereas\n",
        "    if max_depth_stop(depth, max_depth) or no_labels_to_split_stop(labels) or min_samples_split_stop(labels, min_samples_per_split):\n",
        "        # If one of the criteras is met assign the node label\n",
        "        # as the most frequent in the label subset\n",
        "        node.label = np.bincount(labels).argmax()\n",
        "        return node\n",
        "\n",
        "    # Attribute selection\n",
        "    best_feature, best_threshold = select_attribute(data, labels, func_type)\n",
        "    # Assign results to nod\n",
        "    node.attribute = best_feature\n",
        "    node.split_test = best_threshold\n",
        "    node.is_leaf = False\n",
        "\n",
        "\n",
        "    # Split the data to create left and right indices based on the selected attribute and threshold\n",
        "    left_indices = data.iloc[:, best_feature] <= best_threshold\n",
        "    right_indices = data.iloc[:, best_feature] > best_threshold\n",
        "\n",
        "    # Get left and right data and labels\n",
        "    left_data, left_labels = data.loc[left_indices], labels.loc[left_indices]\n",
        "    right_data, right_labels = data.loc[right_indices], labels.loc[right_indices]\n",
        "\n",
        "    # Recursively build the left and right subtrees\n",
        "    if len(left_data) > 0:\n",
        "        node.left_child = build_decision_tree(left_data, left_labels, depth = depth+1,\n",
        "                                              max_depth=max_depth, min_samples_per_split=min_samples_per_split, func_type=func_type)\n",
        "    if len(right_data) > 0:\n",
        "        node.right_child = build_decision_tree(right_data, right_labels, depth = depth+1,\n",
        "                                               max_depth=max_depth, min_samples_per_split=min_samples_per_split, func_type=func_type)\n",
        "\n",
        "    return node\n"
      ]
    },
    {
      "cell_type": "code",
      "execution_count": 57,
      "metadata": {
        "id": "4-ZfZj_um0-Z"
      },
      "outputs": [],
      "source": [
        "# Create easy iris ds decision tree\n",
        "easy_train_X, easy_train_y, easy_test_X, easy_test_y = split_test_val(iris_easy, 'target', val_rate = 0.3)\n",
        "easy_tree = build_decision_tree(easy_train_X, easy_train_y, max_depth=1)\n",
        "\n",
        "# Create hard iris ds decision tree\n",
        "hard_train_X, hard_train_y, hard_test_X, hard_test_y = split_test_val(iris_hard, 'target', val_rate = 0.3)\n",
        "hard_tree = build_decision_tree(hard_train_X, hard_train_y, max_depth=10)"
      ]
    },
    {
      "cell_type": "markdown",
      "metadata": {
        "id": "KTwYtKI0mhr7"
      },
      "source": [
        "#### Viewing Iris Trees\n",
        "\n",
        "As an auxiliary method of visualizing the process of creating a tree, we also provided a function to print the resulting tree.\n"
      ]
    },
    {
      "cell_type": "code",
      "execution_count": 58,
      "metadata": {
        "colab": {
          "base_uri": "https://localhost:8080/"
        },
        "id": "-8gDI7Z3O3I0",
        "outputId": "b6bd0712-e1cc-4b4b-ca87-56ec0fe14b78"
      },
      "outputs": [
        {
          "output_type": "stream",
          "name": "stdout",
          "text": [
            "petal width (cm) <= 1.75\n",
            "Left:\n",
            "  sepal length (cm) <= 7.1\n",
            "  Left:\n",
            "    sepal width (cm) <= 2.8499999999999996\n",
            "    Left:\n",
            "      sepal width (cm) <= 2.25\n",
            "      Left:\n",
            "        petal length (cm) <= 4.75\n",
            "        Left:\n",
            "          Label: 1\n",
            "        Right:\n",
            "          Label: 2\n",
            "      Right:\n",
            "        petal width (cm) <= 1.55\n",
            "        Left:\n",
            "          petal length (cm) <= 5.0\n",
            "          Left:\n",
            "            Label: 1\n",
            "          Right:\n",
            "            Label: 2\n",
            "        Right:\n",
            "          Label: 1\n",
            "    Right:\n",
            "      Label: 1\n",
            "  Right:\n",
            "    Label: 2\n",
            "Right:\n",
            "  petal length (cm) <= 4.85\n",
            "  Left:\n",
            "    sepal length (cm) <= 5.95\n",
            "    Left:\n",
            "      Label: 1\n",
            "    Right:\n",
            "      Label: 2\n",
            "  Right:\n",
            "    Label: 2\n"
          ]
        }
      ],
      "source": [
        "def print_decision_tree(node, columns, indent=\"\"):\n",
        "    if node.is_leaf:\n",
        "        print(indent + \"Label:\", node.label)\n",
        "        return\n",
        "\n",
        "    if not node.is_leaf:\n",
        "        print(indent + columns[node.attribute] + \" <= \" + str(node.split_test))\n",
        "\n",
        "    print(indent + \"Left:\")\n",
        "    print_decision_tree(node.left_child, columns, indent + \"  \")\n",
        "\n",
        "    print(indent + \"Right:\")\n",
        "    print_decision_tree(node.right_child, columns, indent + \"  \")\n",
        "\n",
        "print_decision_tree(hard_tree, hard_train_X.columns)"
      ]
    },
    {
      "cell_type": "markdown",
      "metadata": {
        "id": "vOCDdpo6jEnt"
      },
      "source": [
        "## Predict & Error in Iris\n",
        "\n",
        "Finally, to perform a prediction over the data, ALDER transverses the tree for every data point in the prediction set, performing the necessary evaluation of the feature for each internal node. As a result, demonstrating empirically that the constructed algorithm is sound, the training error on the non-linear separable Iris subset was $0.0$, and the test error of $0.03$."
      ]
    },
    {
      "cell_type": "code",
      "execution_count": 59,
      "metadata": {
        "colab": {
          "base_uri": "https://localhost:8080/"
        },
        "id": "4SCdYs6KjNFG",
        "outputId": "4b593d80-d685-4033-981a-388339a06bae"
      },
      "outputs": [
        {
          "output_type": "stream",
          "name": "stdout",
          "text": [
            "Linear Separable IRIS Set: Training Error 0.0; Test Error: 0.0\n",
            "Non Linear Separable IRIS Set: Training Error 0.0; Test Error: 0.03333333333333333\n"
          ]
        }
      ],
      "source": [
        "# Predict a single instance\n",
        "def _predict_single(node, instance):\n",
        "    # If node is label return the prediction\n",
        "    if node.label is not None:\n",
        "        return node.label\n",
        "\n",
        "    # If node is internal check for the feature/threshold combination on data\n",
        "    # and choose left or right path\n",
        "    if instance[node.attribute] <= node.split_test:\n",
        "        return _predict_single(node.left_child, instance)\n",
        "    else:\n",
        "        return _predict_single(node.right_child, instance)\n",
        "\n",
        "def predict(root_node, data):\n",
        "  # Execute predictions for every data by iterating the dataset\n",
        "  predictions = [_predict_single(root_node, instance[1]) for instance in data.iterrows()]\n",
        "  return predictions\n",
        "\n",
        "def calculate_error(predictions, labels):\n",
        "    # Calculate the error of the predictions\n",
        "    wrong_predictions = np.sum(predictions != labels)\n",
        "    error = wrong_predictions / len(labels)\n",
        "    return error\n",
        "\n",
        "# Predict and calculate training and testing error for easy Iris\n",
        "easy_train_preds = predict(easy_tree, easy_train_X)\n",
        "easy_test_preds = predict(easy_tree, easy_test_X)\n",
        "error_easy_train = calculate_error(easy_train_preds, easy_train_y)\n",
        "error_easy_test = calculate_error(easy_test_preds, easy_test_y)\n",
        "\n",
        "# Predict and calculate training and testing error for medium Iris\n",
        "hard_train_preds = predict(hard_tree, hard_train_X)\n",
        "hard_test_preds = predict(hard_tree, hard_test_X)\n",
        "error_hard_train = calculate_error(hard_train_preds, hard_train_y)\n",
        "error_hard_test = calculate_error(hard_test_preds, hard_test_y)\n",
        "\n",
        "# Print the results\n",
        "print(f\"Linear Separable IRIS Set: Training Error {error_easy_train}; Test Error: {error_easy_test}\")\n",
        "print(f\"Non Linear Separable IRIS Set: Training Error {error_hard_train}; Test Error: {error_hard_test}\")"
      ]
    },
    {
      "cell_type": "markdown",
      "metadata": {
        "id": "dRiy02nBpBYe"
      },
      "source": [
        "## The DecisionTree Class\n",
        "\n",
        "Among multiple devised algorithms for the creation of decision trees, the most common are the ID3, C4.5 and CART. The ID3 algorithm, developed by Quinlan, introduced the concept of decision trees and information gain as a criterion for attribute selection. It focused on recursively partitioning the data based on the most informative attributes to create a decision tree. C4.5 is an extension of the ID3 algorithm also proposed by Quinlan that introduced several improvements and new features, including handling missing values, handling continuous attributes, pruning decision trees to prevent overfitting, and incorporating cost-based learning. Finally, the CART algorithm, developed by Leo Breiman, Jerome Friedman, Richard Olshen, and Charles Stone, presents a framework for building decision trees that can be used for both classification and regression tasks. The paper describes the methodology of constructing binary recursive partitioning trees using Gini impurity as the criterion for attribute selection.\n",
        "\n",
        "ID3, C4.5 and CART adopt a greedy approach in which decision trees are constructed in a top-down recursive divide-and-conquer manner. ALDER's decision tree implementation is more closely related to the C4.5 algorithm with multiple simplifications and additions. Specifically, we devised a complete binary tree to work with discrete and continuous features that can use different impurity functions to handle information gain, class weights to handle class imbalance, approximation threshold methods for big data efficiency and multiple stopping criteria."
      ]
    },
    {
      "cell_type": "code",
      "execution_count": 60,
      "metadata": {
        "id": "DUqLZp2UpAV3"
      },
      "outputs": [],
      "source": [
        "def calculate_error(predictions, labels):\n",
        "    # Calculate the error of the predictions\n",
        "    wrong_predictions = np.sum(predictions != labels)\n",
        "    error = wrong_predictions / len(labels)\n",
        "    return error\n",
        "\n",
        "def accuracy(predictions, labels):\n",
        "    # Calculate the accuracy of the predictions\n",
        "    correct_predictions = np.sum(predictions == labels)\n",
        "    return correct_predictions / len(labels)\n",
        "\n",
        "def precision(predictions, labels):\n",
        "    # Calculate the precision of the predictions\n",
        "    tp = np.sum((predictions == 1) & (labels == 1))\n",
        "    fp = np.sum((predictions == 1) & (labels == 0))\n",
        "    return (tp / (tp + fp))\n",
        "\n",
        "def recall(predictions, labels):\n",
        "    # Calculate the recall of the predictions\n",
        "    tp = np.sum((predictions == 1) & (labels == 1))\n",
        "    fn = np.sum((predictions == 0) & (labels == 1))\n",
        "    return tp / (tp + fn)\n",
        "\n",
        "def f1_score(predictions, labels):\n",
        "    # Calculate the f1-score of the predictions\n",
        "    prec = precision(predictions, labels)\n",
        "    rec = recall(predictions, labels)\n",
        "    return  2 * (prec * rec) / (prec + rec)\n",
        "\n",
        "class Node:\n",
        "    # The tree node class\n",
        "    def __init__(self, label=None, attribute=None, split_test=None):\n",
        "        # Store the label if leaf node\n",
        "        self.label = label\n",
        "        # Store the attribute if internal node\n",
        "        self.attribute = attribute\n",
        "        # Store the attribute if internal node\n",
        "        self.split_test = split_test\n",
        "        # Boolean flag for Leafs\n",
        "        self.is_leaf = True\n",
        "        # Pointers to child nodes\n",
        "        self.left_child = None\n",
        "        self.right_child = None\n",
        "\n",
        "class DecisionTree:\n",
        "  # Encapsulate all the decision tree functions in a class\n",
        "  def __init__(self, verbose=1, max_depth=10, min_samples_per_split=2, func_type='shannon', tree_id=0,\n",
        "               threshold_method='all', threshold_buckets=10, class_weights=[], display_metrics='full'):\n",
        "    # Set max depth of the tree\n",
        "    self.max_depth = max_depth\n",
        "    # Set min samplest per split\n",
        "    self.min_samples_per_split = min_samples_per_split\n",
        "    # Set function type: (shannon, gini, scaled)\n",
        "    self.func_type = func_type\n",
        "    # Set threshold method (bigdata or complete)\n",
        "    self.threshold_method = threshold_method\n",
        "    # Set amount of buckets for bigdata threshold\n",
        "    self.n_buckets = threshold_buckets\n",
        "    # Set verbose method\n",
        "    self.verbose = verbose\n",
        "    # Set class weights of the training data\n",
        "    self.class_weights = class_weights\n",
        "    # Set display metrics flag\n",
        "    self.display_metrics = display_metrics\n",
        "    # Set id of the forest in case we are using a random forest\n",
        "    self.tree_id = tree_id\n",
        "    # References for the data model when tree is fit\n",
        "    self.cols = None\n",
        "    self.root = None\n",
        "\n",
        "  def fit(self, data, label):\n",
        "    # Save the data columns\n",
        "    self.cols = data.columns\n",
        "    # Create the tree and save the root\n",
        "    self.root = self._build_decision_tree(data, label)\n",
        "\n",
        "    # If verbose also predict the training data\n",
        "    if self.verbose==1:\n",
        "      preds = self.predict(data, label)\n",
        "\n",
        "    # Return the class object itself\n",
        "    return self\n",
        "\n",
        "  def predict(self, data, labels=[]):\n",
        "    # Raise error in case someone try to predict a unfitted model\n",
        "    if not self.root:\n",
        "      raise NotImplementedError(\"Model not yet fitted.\")\n",
        "\n",
        "    # Predict over the dataset using the apply function\n",
        "    predictions = data.apply(lambda row: self._predict_single(self.root, row), axis=1)\n",
        "\n",
        "    # If labels are passed to the predict parameter: print metrics\n",
        "    if len(labels):\n",
        "      DecisionTree.calc_metrics(predictions, labels, self.display_metrics, self.tree_id)\n",
        "\n",
        "    return predictions\n",
        "\n",
        "  def print_tree(self, node=None, indent=\"\"):\n",
        "      # Print the tree\n",
        "\n",
        "      # Raise error in case someone try to predict a unfitted model\n",
        "      if not self.root:\n",
        "        raise NotImplementedError(\"Model not yet fitted.\")\n",
        "\n",
        "      # First case, pass root\n",
        "      if not node:\n",
        "        node = self.root\n",
        "\n",
        "      # If node is leaf print label of the leaf\n",
        "      if node.is_leaf:\n",
        "          print(indent + \"Label:\", node.label)\n",
        "          return\n",
        "\n",
        "      # If node is interal ident and print the spliting conditiong\n",
        "      if not node.is_leaf:\n",
        "          print(indent + self.cols[node.attribute] + \" <= \" + str(node.split_test))\n",
        "\n",
        "      # Print nodes left and right children\n",
        "      print(indent + \"Left:\")\n",
        "      self.print_tree(node.left_child, indent + \"  \")\n",
        "      print(indent + \"Right:\")\n",
        "      self.print_tree(node.right_child, indent + \"  \")\n",
        "\n",
        "  @staticmethod\n",
        "  def calc_metrics(preds, label, display_metrics, tree_id=0):\n",
        "    # Calculate prediction metrics\n",
        "    preds = np.array(preds, dtype='int')\n",
        "    label = label.to_numpy()\n",
        "\n",
        "    # Full mode display\n",
        "    if display_metrics == 'full':\n",
        "      print(f\"Model Error: {calculate_error(preds, label)}\")\n",
        "      print(f\"Model Accuracy: {accuracy(preds, label)}\")\n",
        "      print(f\"Model Precision: {precision(preds, label)}\")\n",
        "      print(f\"Model Recall: {recall(preds, label)}\")\n",
        "      print(f\"Model F1-Score: {f1_score(preds, label)}\")\n",
        "    # Compact display for random forests\n",
        "    if display_metrics == 'random_forest':\n",
        "      print(f\"[Worker {tree_id}] F1-Score: {f1_score(preds, label)}\")\n",
        "      print(f\"[Worker {tree_id}] Recall: {recall(preds, label)}\")\n",
        "      print(f\"[Worker {tree_id}] Precission: {precision(preds, label)}\")\n",
        "      print(f\"[Worker {tree_id}] Accuracy: {accuracy(preds, label)}\")\n",
        "\n",
        "    return preds\n",
        "\n",
        "\n",
        "  def _calculate_entropy(self, labels):\n",
        "    # Internal method to calculate the entropy\n",
        "\n",
        "    # Get counts of zero and ones as vector\n",
        "    values, counts = np.unique(labels, return_counts=True)\n",
        "\n",
        "    # Normalize\n",
        "    p_vec = counts / len(labels)\n",
        "\n",
        "    # Apply class weights if set\n",
        "    if len(self.class_weights) and len(p_vec):\n",
        "      weights = self.class_weights\n",
        "      if len(values) == 1:\n",
        "        weights = self.class_weights[values[0]]\n",
        "      p_vec = p_vec*weights\n",
        "\n",
        "    # Calculate proper entropy criterion\n",
        "    if self.func_type == 'shannon':\n",
        "      return -np.sum(p_vec * np.log2(p_vec))\n",
        "    elif self.func_type == 'scaled':\n",
        "      return -np.sum((p_vec/2) * np.log2(p_vec))\n",
        "    elif self.func_type == 'gini':\n",
        "      return 1 - np.sum(np.square(p_vec))\n",
        "\n",
        "  def _calculate_information_gain(self, data, labels, left_labels, right_labels):\n",
        "    # Internal method to calculate the information gain\n",
        "\n",
        "    # Calculate entropy of the parent\n",
        "    total_entropy = self._calculate_entropy(labels)\n",
        "    # Calculate entropy of the children\n",
        "    left_entropy = self._calculate_entropy(left_labels)\n",
        "    right_entropy = self._calculate_entropy(right_labels)\n",
        "\n",
        "    # Calculate weightes entropy of the children\n",
        "    left_weighted_entropy = (len(left_labels) / len(labels)) * left_entropy\n",
        "    right_weighted_entropy = (len(right_labels) / len(labels)) * right_entropy\n",
        "    # Calculate the information gain\n",
        "    information_gain = total_entropy - (left_weighted_entropy + right_weighted_entropy)\n",
        "    return information_gain\n",
        "\n",
        "  def _select_attribute(self, data, labels):\n",
        "    # Internal method for selecting the attribute\n",
        "\n",
        "    # Init best values\n",
        "    best_feature = None\n",
        "    best_threshold = None\n",
        "    best_information_gain = -np.inf\n",
        "\n",
        "    # Iterate through features in the dataset\n",
        "    for feature in data.columns:\n",
        "        # Get index of the column\n",
        "        col_idx = data.columns.get_loc(feature)\n",
        "        # Get possible values within this feature\n",
        "        feature_values = data.iloc[:, col_idx]\n",
        "        # Filter only the unique\n",
        "        thresholds = []\n",
        "        if self.threshold_method == 'all':\n",
        "          # Get unique values\n",
        "          unique_values = np.unique(feature_values)\n",
        "          # Get possible thresholds\n",
        "          thresholds = (unique_values[:-1] + unique_values[1:]) / 2.0\n",
        "        elif self.threshold_method == 'bigdata':\n",
        "          # Get percentiles thresholds\n",
        "          thresholds = np.percentile(feature_values, np.linspace(0, 100, self.n_buckets))\n",
        "\n",
        "        # Calculate info gain of each threshold\n",
        "        for threshold in thresholds:\n",
        "            # Get the possible labels for the left node\n",
        "            left_labels = labels[feature_values <= threshold]\n",
        "            # Get the possible labels for the right node\n",
        "            right_labels = labels[feature_values > threshold]\n",
        "\n",
        "            # Calculate the information gain of the split\n",
        "            information_gain = self._calculate_information_gain(data, labels, left_labels, right_labels)\n",
        "\n",
        "            # Keep the values for the best information gain\n",
        "            if information_gain > best_information_gain:\n",
        "                best_feature = col_idx\n",
        "                best_threshold = threshold\n",
        "                best_information_gain = information_gain\n",
        "\n",
        "    return best_feature, best_threshold\n",
        "\n",
        "  def _max_depth(self, depth):\n",
        "    # Internal method stop condition for max depth\n",
        "    return depth==self.max_depth\n",
        "\n",
        "  def _no_labels_to_split(self, labels):\n",
        "    # Internal method stop condition for no more labels to split\n",
        "    return len(np.unique(labels)) == 1\n",
        "\n",
        "  def _min_samples_split(self, labels):\n",
        "    # Internal method stop condition for minimum ammount of labels per split\n",
        "    return len(labels) < self.min_samples_per_split\n",
        "\n",
        "  def _build_decision_tree(self, data, labels, depth=0):\n",
        "    # Initialize an empty root node\n",
        "    node = Node()\n",
        "\n",
        "    # Test for the stop critereas\n",
        "    if self._max_depth(depth) or self._no_labels_to_split(labels) or self._min_samples_split(labels):\n",
        "        # If one of the criteras is met assign the node label\n",
        "        # as the most frequent in the label subset\n",
        "        node.label = np.bincount(labels).argmax()\n",
        "        return node\n",
        "\n",
        "    # Attribute selection\n",
        "    best_feature, best_threshold = self._select_attribute(data, labels)\n",
        "    # Assign results to node\n",
        "    node.attribute = best_feature\n",
        "    node.split_test = best_threshold\n",
        "    node.is_leaf = False\n",
        "\n",
        "\n",
        "    # Split the data to create left and right indices based on the selected attribute and threshold\n",
        "    left_indices = data.iloc[:, best_feature] <= best_threshold\n",
        "    right_indices = data.iloc[:, best_feature] > best_threshold\n",
        "\n",
        "    # Get left and right data and labels\n",
        "    left_data, left_labels = data.loc[left_indices], labels.loc[left_indices]\n",
        "    right_data, right_labels = data.loc[right_indices], labels.loc[right_indices]\n",
        "\n",
        "    # Recursively build the left and right subtrees\n",
        "    if len(left_data) > 0:\n",
        "        node.left_child = self._build_decision_tree(left_data, left_labels, depth = depth+1)\n",
        "    else:\n",
        "        # Assign a default label to handle empty left_data\n",
        "        unique_labels, label_counts = np.unique(labels, return_counts=True)\n",
        "        node.left_child = Node(label=unique_labels[np.argmax(label_counts)])\n",
        "\n",
        "    if len(right_data) > 0:\n",
        "        node.right_child = self._build_decision_tree(right_data, right_labels, depth = depth+1)\n",
        "    else:\n",
        "        # Assign a default label to handle empty right_data\n",
        "        unique_labels, label_counts = np.unique(labels, return_counts=True)\n",
        "        node.right_child = Node(label=unique_labels[np.argmax(label_counts)])\n",
        "\n",
        "    return node\n",
        "\n",
        "  def _predict_single(self, node, instance):\n",
        "    # Internal method for predict a single instance\n",
        "\n",
        "     # If node is label return the prediction\n",
        "    if node.label is not None:\n",
        "        return node.label\n",
        "\n",
        "    # If node is internal check for the feature/threshold combination on data\n",
        "    # and choose left or right path\n",
        "    if instance[node.attribute] <= node.split_test:\n",
        "        return self._predict_single(node.left_child, instance)\n",
        "    else:\n",
        "        return self._predict_single(node.right_child, instance)"
      ]
    },
    {
      "cell_type": "markdown",
      "metadata": {
        "id": "zQoROflexbMs"
      },
      "source": [
        "In order to perform a sanity test on the created algorithm, ALDER relies on the Iris dataset. As a result, demonstrating empirically that the constructed algorithm is sound, the training error on the non-linear separable Iris subset was $0.0$, and the test error of $0.03$."
      ]
    },
    {
      "cell_type": "code",
      "execution_count": 61,
      "metadata": {
        "colab": {
          "base_uri": "https://localhost:8080/"
        },
        "id": "_YyQSujtvwpR",
        "outputId": "1fa8bd94-294a-407a-fb8c-8b8a949a09ad"
      },
      "outputs": [
        {
          "output_type": "stream",
          "name": "stdout",
          "text": [
            "Training:\n",
            "Model Error: 0.0\n",
            "Model Accuracy: 1.0\n",
            "Model Precision: 1.0\n",
            "Model Recall: 1.0\n",
            "Model F1-Score: 1.0\n",
            "\n",
            "Test:\n",
            "Model Error: 0.03333333333333333\n",
            "Model Accuracy: 0.9666666666666667\n",
            "Model Precision: 0.9166666666666666\n",
            "Model Recall: 1.0\n",
            "Model F1-Score: 0.9565217391304348\n"
          ]
        }
      ],
      "source": [
        "# Split iris dataset into train/test with 70/30\n",
        "hard_train_X, hard_train_y, hard_test_X, hard_test_y = split_test_val(iris_hard, 'target', val_rate = 0.3)\n",
        "hard_train_y[hard_train_y == 2] = 0\n",
        "hard_test_y[hard_test_y == 2] = 0\n",
        "\n",
        "# Initialize the classifier\n",
        "clf = DecisionTree()\n",
        "\n",
        "# Fit\n",
        "print(\"Training:\")\n",
        "clf = clf.fit(hard_train_X, hard_train_y)\n",
        "\n",
        "# Predict\n",
        "print(\"\\nTest:\")\n",
        "preds = clf.predict(hard_test_X, hard_test_y)"
      ]
    },
    {
      "cell_type": "markdown",
      "metadata": {
        "id": "huTMaC4c7_ry"
      },
      "source": [
        "## IBM AML Decision Tree\n",
        "\n",
        "\n",
        "Our first experiment tested a single decision tree in the IBM TAML data, especially the small dataset. This experiment was designed to answer the a research question on whether the devised decision tree can learn to detect money laundering. For this experiment, we considered only a fraction of the small dataset. Even though the dataset can be completely loaded into memory, its execution would take time. Therefore the experiment is run with 50% of the training set and 50% of the testing set. Notice that it does not change the proposed 80%-20% data division."
      ]
    },
    {
      "cell_type": "code",
      "execution_count": 62,
      "metadata": {
        "colab": {
          "base_uri": "https://localhost:8080/"
        },
        "id": "0nf4hv5K7-bM",
        "outputId": "2ce3a721-d793-43e4-b778-b8efe5982717"
      },
      "outputs": [
        {
          "output_type": "stream",
          "name": "stdout",
          "text": [
            "0    1836583\n",
            "1       2024\n",
            "Name: Is Laundering, dtype: int64\n",
            "[1.0, 907.4026679841897]\n"
          ]
        }
      ],
      "source": [
        "hi_small_train = spark.read.parquet('./data/02_model_input/hi_small_train.parquet')\n",
        "hi_small_train_pandas = hi_small_train.sample(fraction=0.5, seed=42).toPandas()\n",
        "\n",
        "\n",
        "hi_small_test = spark.read.parquet('./data/02_model_input/hi_small_test.parquet')\n",
        "hi_small_test_pandas = hi_small_test.sample(fraction=0.5, seed=42).toPandas()\n",
        "\n",
        "label_counts = hi_small_train_pandas[\"Is Laundering\"].value_counts()\n",
        "hi_class_weights = [1.0, label_counts[0]/label_counts[1]]\n",
        "print(label_counts)\n",
        "print(hi_class_weights)"
      ]
    },
    {
      "cell_type": "markdown",
      "metadata": {
        "id": "tMNDjIfEH7K-"
      },
      "source": [
        " Overall the model achieved an F1-Score of 0.6751 on training that decreased to 0.5990 on the test set, a Recall of 0.5237 on training and 0.4631 in test, and a Precision of 0.9498 on train and 0.8477 on test. These values are a good indication of the training process. We notice that the decision tree overall was able to learn but with a higher focus on precision rather than the recall, and the lack of focus on the recall decreases the F1-Score. However, we also notice that the difference between the training and testing metrics is not significant, showing that the model was able to generalize. Therefore, this model has a higher bias for the F1-Score but a low variance."
      ]
    },
    {
      "cell_type": "code",
      "execution_count": 63,
      "metadata": {
        "colab": {
          "base_uri": "https://localhost:8080/"
        },
        "id": "xzDmCW6abqjX",
        "outputId": "e36ab64a-9902-4ebe-f0b2-ec570ec8b55d"
      },
      "outputs": [
        {
          "output_type": "stream",
          "name": "stdout",
          "text": [
            "Model Error: 0.0005547678215083484\n",
            "Model Accuracy: 0.9994452321784917\n",
            "Model Precision: 0.9498207885304659\n",
            "Model Recall: 0.5237154150197628\n",
            "Model F1-Score: 0.6751592356687897\n"
          ]
        }
      ],
      "source": [
        "hi_train_X = hi_small_train_pandas.drop(labels=[\"Is Laundering\"], axis=1)\n",
        "hi_train_y = hi_small_train_pandas[\"Is Laundering\"]\n",
        "hi_test_X = hi_small_test_pandas.drop(labels=[\"Is Laundering\"], axis=1)\n",
        "hi_test_y = hi_small_test_pandas[\"Is Laundering\"]\n",
        "\n",
        "clf = DecisionTree(max_depth=16, threshold_method='bigdata', threshold_buckets=20, class_weights=hi_class_weights, min_samples_per_split=14)\n",
        "clf = clf.fit(hi_train_X, hi_train_y)"
      ]
    },
    {
      "cell_type": "code",
      "execution_count": 64,
      "metadata": {
        "colab": {
          "base_uri": "https://localhost:8080/"
        },
        "id": "fQYlO9vaY645",
        "outputId": "5232f1c8-c762-411b-a049-8ba27265b072"
      },
      "outputs": [
        {
          "output_type": "stream",
          "name": "stdout",
          "text": [
            "Model Error: 0.000712246072332063\n",
            "Model Accuracy: 0.9992877539276679\n",
            "Model Precision: 0.8477508650519031\n",
            "Model Recall: 0.46313799621928164\n",
            "Model F1-Score: 0.5990220048899755\n"
          ]
        }
      ],
      "source": [
        "preds = clf.predict(hi_test_X, hi_test_y)"
      ]
    },
    {
      "cell_type": "markdown",
      "metadata": {
        "id": "cLWz_TtKIGzw"
      },
      "source": [
        "We can analyze the results further by looking at the confusion matrix. As we can see, the matrix reflects the metrics. Since the recall is slightly below 0.5, we can observe that false negatives are slightly higher than true positives. Additionally, we see only 44 transactions mistakenly being predicted as fraudulent, which is a result of our higher precision. Therefore, ALDER can learn without significant false alarms, however, with some considerable misses."
      ]
    },
    {
      "cell_type": "code",
      "execution_count": 65,
      "metadata": {
        "colab": {
          "base_uri": "https://localhost:8080/",
          "height": 449
        },
        "id": "U4ECuV4MGQHO",
        "outputId": "a76138d0-bceb-45b2-bb44-67995ab24aad"
      },
      "outputs": [
        {
          "output_type": "display_data",
          "data": {
            "text/plain": [
              "<Figure size 640x480 with 2 Axes>"
            ],
            "image/png": "[encoded data removed]"
          },
          "metadata": {}
        }
      ],
      "source": [
        "cm = confusion_matrix(hi_test_y, preds, labels=[0, 1])\n",
        "disp = ConfusionMatrixDisplay(confusion_matrix=cm,\n",
        "                              display_labels=[0, 1])\n",
        "disp.plot();"
      ]
    },
    {
      "cell_type": "code",
      "execution_count": 66,
      "metadata": {
        "id": "j259RZGNQOIP"
      },
      "outputs": [],
      "source": [
        "# Get back the memory\n",
        "del hi_small_train_pandas, hi_small_test_pandas, hi_train_X, hi_train_y, hi_test_X, hi_test_y, preds\n",
        "gc.collect();"
      ]
    },
    {
      "cell_type": "markdown",
      "metadata": {
        "id": "Kyois_BQbfXs"
      },
      "source": [
        "### Hyperparameter Optimization with Hyperopts\n",
        "\n",
        "\n",
        "Finding an optimum set of hyperparameters is an essential task to achieve model performance, since setting the hyperparameters in the wrong way can lead to underfitting or overfitting. ALDER selects the best set of hyperparameters in a given search space by taking advantage of the Hyperopt: Distributed Asynchronous Hyper-parameter Optimization."
      ]
    },
    {
      "cell_type": "markdown",
      "metadata": {
        "id": "N9d0rRjBdxmw"
      },
      "source": [
        "[Hyperopt](http://hyperopt.github.io/hyperopt/) is a python library that implements Sequential Model-Based Optimization (SMBO) algorithms. Such method uses a search algorithm to determine hyper-parameters through search interactions denominated trials.\n",
        "\n",
        "\n",
        "The Hyperopt experiment was conducted offline in a Macbook Air M2 8-Core CPU with 32GB RAM. The reasoning of not using the Colab to perform the hyperparameter tuning is two-fold: it would take a considered amount of time to complete and the Macbook has faster processing and more available memory. The hyperparameter optimization was performed with the complete small dataset in memory.\n",
        "\n",
        "```python\n",
        "from hyperopt import hp\n",
        "from hyperopt import fmin, tpe, Trials\n",
        "\n",
        "hi_small_train = spark.read.parquet('./data/02_model_input/hi_small_train.parquet')\n",
        "hi_small_train_pandas, hi_small_test_pandas = hi_small_train.randomSplit([0.8, 0.2], seed=42)\n",
        "\n",
        "hi_small_train_pandas = hi_small_train_pandas.toPandas()\n",
        "hi_small_test_pandas = hi_small_test_pandas.toPandas()\n",
        "\n",
        "hi_train_X = hi_small_train_pandas.drop(labels=[\"Is Laundering\"], axis=1)\n",
        "hi_train_y = hi_small_train_pandas[\"Is Laundering\"]\n",
        "hi_test_X = hi_small_test_pandas.drop(labels=[\"Is Laundering\"], axis=1)\n",
        "hi_test_y = hi_small_test_pandas[\"Is Laundering\"]\n",
        "\n",
        "label_counts = hi_small_train_pandas[\"Is Laundering\"].value_counts()\n",
        "hi_class_weights = [1.0, label_counts[0]/label_counts[1]]\n",
        "normal_weights = [1.0, 1.0]\n",
        "```\n",
        "\n",
        "The usage of the Hyperopt library is based on defining three main characteristics:\n",
        "\n",
        "1. an objective function value to be minimized;\n",
        "\n",
        "```python\n",
        "\n",
        "def objective(params):\n",
        "    # Train your model with the given hyperparameters\n",
        "    max_depth = params['max_depth']\n",
        "    buckets = params['buckets']\n",
        "    min_samples_per_split = params['min_samples_per_split']\n",
        "    func_type = params['func_type'],\n",
        "    func_type = func_type[0]\n",
        "    hi_class_weights = list(params['class_weights'])\n",
        "\n",
        "\n",
        "    # Your model training code goes here\n",
        "    clf = DecisionTree(max_depth=max_depth, threshold_method='bigdata', threshold_buckets=buckets,                      \n",
        "                       class_weights=hi_class_weights, min_samples_per_split=min_samples_per_split,\n",
        "                       func_type=func_type, verbose=0)\n",
        "    clf = clf.fit(hi_train_X, hi_train_y)\n",
        "    preds = clf.predict(hi_test_X)\n",
        "\n",
        "    obj = f1_score(preds, hi_test_y)\n",
        "    \n",
        "    print(f\"Func: {func_type}; Depth: {max_depth}; Buckets: {buckets}; Min Samples: {min_samples_per_split}; Class Weights: {hi_class_weights}     ->    F1={-obj}\")\n",
        "    \n",
        "    # Return the evaluation metric you want to optimize (e.g., validation loss)\n",
        "    return -obj\n",
        "```\n",
        "\n",
        "2. the search space for the selected algorithm.\n",
        "\n",
        "```python\n",
        "space = {\n",
        "    'max_depth': hp.choice('max_depth', list(range(5, 21))),\n",
        "    'buckets': hp.choice('buckets', list(range(5, 51, 5))),\n",
        "    'min_samples_per_split': hp.choice('min_samples_per_split', list(range(2, 15))),\n",
        "    \"func_type\": hp.choice('func_type', ['gini', 'shannon', 'scaled']) ,\n",
        "    \"class_weights\": hp.choice('class_weights', [hi_class_weights, normal_weights])\n",
        "}\n",
        "```\n",
        "\n",
        "\n",
        "3. a search algorithm used to find the optimization set; The Tree Parzen estimator is a widely used Bayesian optimization method that has achieved various outstanding performances and have been the key factor of winning multiple Kaggle competitions.\n",
        "\n",
        "\n",
        "```python\n",
        "trials = Trials()\n",
        "\n",
        "best = fmin(\n",
        "    fn=objective,\n",
        "    space=space,\n",
        "    algo=tpe.suggest,\n",
        "    max_evals=100,\n",
        "    trials=trials\n",
        ")\n",
        "\n",
        "best_hyperparams = {k: v for k, v in best.items()}\n",
        "print(\"Best Hyperparameters:\", best_hyperparams)\n",
        "```\n",
        "\n",
        "The experiments were executed with 100 trials and the training set was further split into training and validation. Therefore, for the hyperparameter tuning we considered a 60% 20% 20% training, validation, test split, as proposed for this dataset.  The best set of hyperparameters achieved a F1-Score of 0.64468 in the validation set and consisted of the following configuration: Maximum Depth: 18; Minimum Samples per Split: 14; Amount of Thresholds: 45; Class Weights: With Weights; Impurity Function: Shannon. However, considering the execution time cost, we decided to select a second best set of parameter which achieved a F1-Score of $0.6400$ which consisted of the following configuration: 16 depth, minimum of 14 samples per split; 20 thresholds; class weights and Shannon function.\n"
      ]
    },
    {
      "cell_type": "markdown",
      "metadata": {
        "id": "2QUtVFgDPVio"
      },
      "source": [
        "# 2. Distributed Workers\n",
        "\n",
        "With the decision tree model created, ALDER is ready to handle Random Forests. Random Forest is one kind of ensemble method, a technique that combines a series of learning models intending to create an improved composite model that outperforms a single classifier. In the case of the Random forest, each model is a single decision tree so that the collection of classifiers is a \"forest\" ALDER individual decision trees are generated using a random selection of the data features for each tree. During the classification, each tree in the forest has its own vote, and the mode of the votes of the trees is selected as the final classification."
      ]
    },
    {
      "cell_type": "markdown",
      "metadata": {
        "id": "rF8G4-LkDmea"
      },
      "source": [
        "## Dataset Preparation\n",
        "\n",
        "ALDER's Random Forest techniques are built using Bagging. Given a complete training set, we generate multiple bootstrap sampled training sets to be used for each tree. A bootstrap sampled training set is a subset of the complete training set sampled with replacement, where some of the samples in the complete set will not occur in the subset, and some may occur more than once. Additionally, the bagging methodology allows us to create multiple sub-datasets which could load in the primary memory of each worker in a scenario where the complete big dataset would not."
      ]
    },
    {
      "cell_type": "code",
      "execution_count": 67,
      "metadata": {
        "id": "7FpEYE6XDxNT"
      },
      "outputs": [],
      "source": [
        "def bootstrap_sample_rows(dataset, seed, sample_ratio=0.3):\n",
        "   # Get a sample with replacement of the available rows, seeded with the workerid\n",
        "   sampled_ds = dataset.sample(withReplacement=True, fraction=sample_ratio, seed=seed)\n",
        "   return sampled_ds\n",
        "\n",
        "def sample_columns(dataset, label_col, seed, sample_ratio=0.6):\n",
        "    # Set random seed\n",
        "    rng = random.Random(seed)\n",
        "    # Subtract 1 to exclude the label column\n",
        "    num_cols = len(dataset.columns) - 1\n",
        "    # Get column names, except for the label\n",
        "    features_columns = [col for col in dataset.columns if col != label_col]\n",
        "    # Shuffle Names\n",
        "    rng.shuffle(features_columns)\n",
        "    # Get first %\n",
        "    selected_cols = features_columns[:int(num_cols * sample_ratio)]\n",
        "    # Sample the dataset\n",
        "    sampled_dataset = dataset.select(selected_cols)\n",
        "    sampled_label = dataset.select(label_col)\n",
        "\n",
        "    return sampled_dataset, sampled_label"
      ]
    },
    {
      "cell_type": "code",
      "execution_count": 68,
      "metadata": {
        "id": "UlZeLJdFy1j4"
      },
      "outputs": [],
      "source": [
        "def create_training_data(dataset, ds_params, worker_id):\n",
        "    # Subsample the dataset using bootstrap sampling\n",
        "    sampled_ds = bootstrap_sample_rows(dataset, seed=worker_id,\n",
        "                                       sample_ratio=ds_params[\"row_frac\"])\n",
        "\n",
        "    # Select a subset of columns for the current tree\n",
        "    sampled_ds, sampled_label = sample_columns(sampled_ds, ds_params[\"label\"],\n",
        "                                               seed=worker_id,\n",
        "                                               sample_ratio=ds_params[\"col_frac\"])\n",
        "\n",
        "    return sampled_ds, sampled_label\n",
        "\n",
        "def create_test_data(dataset, ds_params):\n",
        "    # Calculate the length of the batch by splitting the size by the amount of batches\n",
        "    batch_len = dataset.count() // ds_params[\"num_batches\"]\n",
        "\n",
        "    # Generate lazy evaluated dataset chunks\n",
        "    chunks = []\n",
        "    for i in range(ds_params[\"num_batches\"]):\n",
        "        chunk = dataset.limit(batch_len)\n",
        "        dataset = dataset.subtract(chunk)\n",
        "        chunks.append(chunk)\n",
        "\n",
        "    return chunks"
      ]
    },
    {
      "cell_type": "markdown",
      "metadata": {
        "id": "dK7DlbWLv8Q1"
      },
      "source": [
        "## Train Trees\n",
        "\n",
        "In the case of the Random forest, each model is a single decision tree so that the collection of classifiers is a \"forest\". ALDER cistribute the creation of the decision trees to its available workers. The worker is responsible to loading the distributed data into its own primary memory and construct a tree."
      ]
    },
    {
      "cell_type": "code",
      "execution_count": 69,
      "metadata": {
        "id": "bM3hjkAbv-Xs"
      },
      "outputs": [],
      "source": [
        "# Function to train a single tree on a worker\n",
        "# This function should be distributed to each worker and executed in parallel.\n",
        "def train_tree(worker_id, dataset, tree_params):\n",
        "    # Prepare data for training\n",
        "    print(f\"[Worker {worker_id}] Preparing Data\")\n",
        "    data_X, data_y = dataset\n",
        "\n",
        "    # Load the data into memory\n",
        "    data_X = data_X.toPandas()\n",
        "    data_y = data_y.toPandas().squeeze()\n",
        "\n",
        "    # Train the tree on the sampled dataset\n",
        "    print(f\"[Worker {worker_id}] Creating Tree\")\n",
        "    tree = DecisionTree(max_depth=tree_params[\"max_depth\"],\n",
        "                        threshold_method=tree_params[\"threshold\"],\n",
        "                        threshold_buckets=tree_params[\"buckets\"],\n",
        "                        min_samples_per_split=tree_params[\"min_samples_per_split\"],\n",
        "                        tree_id=tree_params[\"tree_id\"],\n",
        "                        display_metrics=tree_params[\"disp_mode\"],\n",
        "                        func_type=tree_params[\"func_type\"],\n",
        "                        class_weights=tree_params[\"weights\"])\n",
        "    model = tree.fit(data_X, data_y)\n",
        "\n",
        "    return model"
      ]
    },
    {
      "cell_type": "markdown",
      "metadata": {
        "id": "gAFtJZH9ImYp"
      },
      "source": [
        "## Predict\n",
        "\n",
        "ALDER prediction for the random forest is performed in batches. Since all trees must predict all test data, loading all data in memory at once may be unfeasible in big data scenarios. Handling this issue, the random forest predicts data in batches. After every tree predicted the data of the first batch, we start processing the next batch until there are no more batches to predict."
      ]
    },
    {
      "cell_type": "code",
      "execution_count": 70,
      "metadata": {
        "id": "3gV1Q3bcImA9"
      },
      "outputs": [],
      "source": [
        "def tree_predict(decision_tree, data, test_set_params):\n",
        "\n",
        "    # Get proper column sampling for the given decision tree\n",
        "    print(f\"[Worker {test_set_params['tree_id']}] Creating Data\")\n",
        "    feature_data, _ = sample_columns(data, test_set_params[\"label\"],\n",
        "                                          seed=test_set_params[\"tree_id\"],\n",
        "                                          sample_ratio=test_set_params[\"col_frac\"])\n",
        "    # Load in Memory\n",
        "    feature_data = feature_data.toPandas()\n",
        "\n",
        "    # Calculate the predictions\n",
        "    print(f\"[Worker {test_set_params['tree_id']}] Predicting\")\n",
        "    preds = decision_tree.predict(feature_data)\n",
        "\n",
        "    return preds\n",
        "\n",
        "def rf_predict(random_forest, chunk, test_set_params):\n",
        "\n",
        "    # Init chunk predictions vector\n",
        "    chunk_preds = []\n",
        "\n",
        "    # For each worker, predict data in the chunk\n",
        "    for worker in random_forest:\n",
        "        test_set_params[\"tree_id\"] = worker\n",
        "        preds = tree_predict(random_forest[worker], chunk, test_set_params)\n",
        "        chunk_preds.append(preds)\n",
        "\n",
        "    # Get final vote of the chunk by calculating the mode of the workers predictions\n",
        "    final_preds = stats.mode(chunk_preds, keepdims=True).mode[0]\n",
        "\n",
        "    return final_preds\n"
      ]
    },
    {
      "cell_type": "markdown",
      "metadata": {
        "id": "bantauflwBAf"
      },
      "source": [
        "\n",
        "## Distribute Processing\n",
        "\n",
        "The idea of the random forests algorithm works side-by-side with the concepts of distributed processing and big data. Due to its multiple model characteristics, it is intuitive to parallelize the construction of the model by distributing the creation of individual decision trees to multiple available workers."
      ]
    },
    {
      "cell_type": "code",
      "execution_count": 71,
      "metadata": {
        "id": "I5YTmFyPwGMO"
      },
      "outputs": [],
      "source": [
        "# Handle the distribution of the processing to each worker\n",
        "def distribute_training(dataset, ds_params, tree_params, workers=4):\n",
        "\n",
        "  # Initialize workers\n",
        "  worker_ids = range(workers)\n",
        "\n",
        "  # Init a dict to save the workers models\n",
        "  models = {}\n",
        "\n",
        "  for worker in worker_ids:\n",
        "    # Prepare the workers data\n",
        "    worker_data = create_training_data(dataset, ds_params, worker_id=worker)\n",
        "    # Send the data for the worker function to train the tree\n",
        "    tree_params[\"tree_id\"] = worker\n",
        "    tree = train_tree(worker, worker_data, tree_params)\n",
        "    models[worker] = tree\n",
        "\n",
        "  return models"
      ]
    },
    {
      "cell_type": "code",
      "execution_count": 72,
      "metadata": {
        "id": "d7DU40BoIhfH"
      },
      "outputs": [],
      "source": [
        "# Handle the distribution of the prediciton to each worker\n",
        "def distribute_predict(random_forest, test_set, test_set_params):\n",
        "\n",
        "  # Prepare the data chunks\n",
        "  print(\"[Cluster Manager] Creating Data Chunks\")\n",
        "  chunks_data = create_test_data(test_set, test_set_params)\n",
        "  print(f\"[Cluster Manager] {len(chunks_data)} Chunks Created\")\n",
        "\n",
        "  predictions = []\n",
        "\n",
        "  # For each chunk call the prediction function and save the predictions of the chunk\n",
        "  for chunk in range(len(chunks_data)):\n",
        "    print(f\"[Cluster Manager] Distributing Chunk {chunk}\")\n",
        "    preds = rf_predict(random_forest, chunks_data[chunk], test_set_params)\n",
        "    predictions.append(preds)\n",
        "\n",
        "  # Generate a single prediction list\n",
        "  predictions = np.concatenate(predictions)\n",
        "\n",
        "  # Get the label vector for the dataset\n",
        "  print(\"[Cluster Manager] Fetching Labels\")\n",
        "  labels = test_set.select(test_set_params[\"label\"]).toPandas().squeeze()\n",
        "\n",
        "  # Print Metrics\n",
        "  print(\"[Cluster Manager] Calculating Metrics\")\n",
        "  DecisionTree.calc_metrics(predictions, labels, 'full')\n",
        "\n",
        "  return predictions, labels"
      ]
    },
    {
      "cell_type": "markdown",
      "metadata": {
        "id": "XnsWHbVswH67"
      },
      "source": [
        "\n",
        "## Small DS Random Forest\n",
        "\n",
        "Given the satisfactory results in the single decision tree process, we implemented the first experiment with a random forest. This experiment was designed to understand if the random forest could learn in a distributed environment for the small dataset and if the distributed random forest outperforms the single decision tree experiment.\n"
      ]
    },
    {
      "cell_type": "code",
      "execution_count": 73,
      "metadata": {
        "id": "nAWQ7ztKKKzE"
      },
      "outputs": [],
      "source": [
        "# Load the data\n",
        "hi_small_train = spark.read.parquet('./data/02_model_input/hi_small_train.parquet')\n",
        "hi_small_test = spark.read.parquet('./data/02_model_input/hi_small_test.parquet')\n",
        "\n",
        "# Count the labels to generate the class weights\n",
        "label_counts_small = hi_small_train.groupBy(\"Is Laundering\").count().cache()\n",
        "zero_class_small = label_counts_small.where(col(\"Is Laundering\") == 0).collect()[0]['count']\n",
        "one_class_small = label_counts_small.where(col(\"Is Laundering\") == 1).collect()[0]['count']\n",
        "\n",
        "# Assign class weights\n",
        "class_weights_small = [1.0, zero_class_small/one_class_small]"
      ]
    },
    {
      "cell_type": "markdown",
      "metadata": {
        "id": "kVaPzPCbIlXs"
      },
      "source": [
        "For the random forest experiments, we had to configure an additional set of parameters, those being: the number of workers (which is the same as the number of decision trees in the forest), the size of the column subsampling and the size of the row bootstrap subsampling. Considering the small dataset, each decision tree is trained with 40% of the rows and 80% of the columns. A total of four trees were used to populate the forest."
      ]
    },
    {
      "cell_type": "code",
      "execution_count": 74,
      "metadata": {
        "colab": {
          "base_uri": "https://localhost:8080/"
        },
        "id": "9mMinIlKgcpm",
        "outputId": "1feb48b9-90a5-4ed9-cf15-9b8b15ce438f"
      },
      "outputs": [
        {
          "output_type": "stream",
          "name": "stdout",
          "text": [
            "[Worker 0] Preparing Data\n",
            "[Worker 0] Creating Tree\n",
            "[Worker 0] F1-Score: 0.6669251647925553\n",
            "[Worker 0] Recall: 0.5158968206358728\n",
            "[Worker 0] Precission: 0.9429824561403509\n",
            "[Worker 0] Accuracy: 0.9994160371560805\n",
            "[Worker 1] Preparing Data\n",
            "[Worker 1] Creating Tree\n",
            "[Worker 1] F1-Score: 0.6570011446012973\n",
            "[Worker 1] Recall: 0.5046893317702228\n",
            "[Worker 1] Precission: 0.940983606557377\n",
            "[Worker 1] Accuracy: 0.9993883454983862\n",
            "[Worker 2] Preparing Data\n",
            "[Worker 2] Creating Tree\n",
            "[Worker 2] F1-Score: 0.6944553676759733\n",
            "[Worker 2] Recall: 0.5447254780999383\n",
            "[Worker 2] Precission: 0.9577006507592191\n",
            "[Worker 2] Accuracy: 0.9994716097338056\n",
            "[Worker 3] Preparing Data\n",
            "[Worker 3] Creating Tree\n",
            "[Worker 3] F1-Score: 0.6752753513102925\n",
            "[Worker 3] Recall: 0.530113297555158\n",
            "[Worker 3] Precission: 0.9299163179916318\n",
            "[Worker 3] Accuracy: 0.9994179630886486\n"
          ]
        }
      ],
      "source": [
        "# Set Parameters for the tree classifier\n",
        "tree_params_small = {\n",
        "    \"tree_id\": 0,\n",
        "    \"max_depth\": 16,\n",
        "    \"threshold\": 'bigdata',\n",
        "    \"buckets\": 20,\n",
        "    \"min_samples_per_split\": 14,\n",
        "    \"disp_mode\": \"random_forest\",\n",
        "    \"func_type\": \"shannon\",\n",
        "    \"weights\": hi_class_weights\n",
        "}\n",
        "\n",
        "# Set parameters for the dataset\n",
        "ds_params_small = {\n",
        "    \"label\": \"Is Laundering\",\n",
        "    \"col_frac\": 0.8,\n",
        "    \"row_frac\": 0.4,\n",
        "}\n",
        "\n",
        "# Set the amount of trees in the random forest\n",
        "num_trees_small = 4\n",
        "\n",
        "# Fit the model\n",
        "random_forest_small = distribute_training(hi_small_train, ds_params_small, tree_params_small, workers=num_trees_small)"
      ]
    },
    {
      "cell_type": "markdown",
      "metadata": {
        "id": "uJpj3PNtI38y"
      },
      "source": [
        "From the results, we can notice that the overall performance of the predictor is worse than the single decision tree, except for the precision metric. The random forest predictor has a lower F1 Score than the decision tree, which is a reflection of an even lower recall. Therefore, this result shows that the distributed random forest for the given row/column split does not outperform a single decision tree in this scenario."
      ]
    },
    {
      "cell_type": "code",
      "execution_count": 75,
      "metadata": {
        "colab": {
          "base_uri": "https://localhost:8080/"
        },
        "id": "tabC_wK4IyEs",
        "outputId": "5dec4489-363f-466b-bd35-016909ae8990"
      },
      "outputs": [
        {
          "output_type": "stream",
          "name": "stdout",
          "text": [
            "[Cluster Manager] Creating Data Chunks\n",
            "[Cluster Manager] 1 Chunks Created\n",
            "[Cluster Manager] Distributing Chunk 0\n",
            "[Worker 0] Creating Data\n",
            "[Worker 0] Predicting\n",
            "[Worker 1] Creating Data\n",
            "[Worker 1] Predicting\n",
            "[Worker 2] Creating Data\n",
            "[Worker 2] Predicting\n",
            "[Worker 3] Creating Data\n",
            "[Worker 3] Predicting\n",
            "[Cluster Manager] Fetching Labels\n",
            "[Cluster Manager] Calculating Metrics\n",
            "Model Error: 0.0006975516155599645\n",
            "Model Accuracy: 0.99930244838444\n",
            "Model Precision: 0.9931350114416476\n",
            "Model Recall: 0.4044734389561976\n",
            "Model F1-Score: 0.5748344370860927\n"
          ]
        }
      ],
      "source": [
        "# Set prediction parameters\n",
        "pred_params_small = {\n",
        "    \"num_batches\": 1,\n",
        "    \"label\": \"Is Laundering\",\n",
        "    \"col_frac\": 0.8\n",
        "}\n",
        "\n",
        "# Get Test Predictions\n",
        "final_preds_small, labels_small = distribute_predict(random_forest_small, hi_small_test, pred_params_small)"
      ]
    },
    {
      "cell_type": "markdown",
      "metadata": {
        "id": "_45IdFZaJE0_"
      },
      "source": [
        "From the confusion matrix, we notice the strength of the precision for this predictor, only miss-classifying 3 transactions. However, we also notice the weakness of the recall. This result could be related to the portion of the dataset columns we exclude. By sampling fewer columns on the dataset, we may exclude important features that detect fraudulent transactions for some predictors, thus decreasing the recall. Even so, since we are achieving good precision the proposed random forest can also learn in a distributed environment, however, with a strong preference for precision.\n",
        "\n",
        "It is possible that given the available processing power and memory availability for a strong distributed environment, we could increase the fraction of rows/columns in the data subset of each worker, potentially increasing the performance and metrics of the predictor."
      ]
    },
    {
      "cell_type": "code",
      "execution_count": 76,
      "metadata": {
        "colab": {
          "base_uri": "https://localhost:8080/",
          "height": 449
        },
        "id": "Hp15x33inv_c",
        "outputId": "33edcd08-46b9-4dd6-faa5-67985a07a89d"
      },
      "outputs": [
        {
          "output_type": "display_data",
          "data": {
            "text/plain": [
              "<Figure size 640x480 with 2 Axes>"
            ],
            "image/png": "[encoded data removed]"
          },
          "metadata": {}
        }
      ],
      "source": [
        "# Plot confusion matrix\n",
        "cm = confusion_matrix(labels_small, final_preds_small, labels=[0, 1])\n",
        "disp = ConfusionMatrixDisplay(confusion_matrix=cm,\n",
        "                              display_labels=[0, 1])\n",
        "disp.plot();"
      ]
    },
    {
      "cell_type": "markdown",
      "metadata": {
        "id": "JKF0u8JAi_-4"
      },
      "source": [
        "## Medium DS Random Forest"
      ]
    },
    {
      "cell_type": "code",
      "execution_count": 77,
      "metadata": {
        "id": "un_SXSBgnINA"
      },
      "outputs": [],
      "source": [
        "%%skip $skip_medium_experiments\n",
        "\n",
        "# Load the data\n",
        "hi_medium_train = spark.read.parquet('./data/02_model_input/hi_medium_train.parquet')\n",
        "hi_medium_test = spark.read.parquet('./data/02_model_input/hi_medium_test.parquet')\n",
        "\n",
        "# Count the labels to generate the class weights\n",
        "label_counts_medium = hi_medium_train.groupBy(\"Is Laundering\").count().cache()\n",
        "zero_class_medium = label_counts_medium.where(col(\"Is Laundering\") == 0).collect()[0]['count']\n",
        "one_class_medium = label_counts_medium.where(col(\"Is Laundering\") == 1).collect()[0]['count']\n",
        "\n",
        "# Assign class weights\n",
        "medium_weights = [1.0, zero_class_medium/one_class_medium]"
      ]
    },
    {
      "cell_type": "code",
      "execution_count": 78,
      "metadata": {
        "colab": {
          "base_uri": "https://localhost:8080/"
        },
        "id": "Bz1zZMnQnOY4",
        "outputId": "a84ec210-6d9b-4d2f-8656-8a1ffcbcd662"
      },
      "outputs": [
        {
          "output_type": "stream",
          "name": "stdout",
          "text": [
            "[Worker 0] Preparing Data\n",
            "[Worker 0] Creating Tree\n",
            "[Worker 0] F1-Score: 0.6758839528558477\n",
            "[Worker 0] Recall: 0.5294744318181818\n",
            "[Worker 0] Precission: 0.9342105263157895\n",
            "[Worker 0] Accuracy: 0.999403366556359\n",
            "[Worker 1] Preparing Data\n",
            "[Worker 1] Creating Tree\n",
            "[Worker 1] F1-Score: 0.5973365617433414\n",
            "[Worker 1] Recall: 0.43578872990637696\n",
            "[Worker 1] Precission: 0.9492112350904194\n",
            "[Worker 1] Accuracy: 0.9993056871859831\n",
            "[Worker 2] Preparing Data\n",
            "[Worker 2] Creating Tree\n",
            "[Worker 2] F1-Score: 0.6930365799911855\n",
            "[Worker 2] Recall: 0.5551632833186231\n",
            "[Worker 2] Precission: 0.9220170038111991\n",
            "[Worker 2] Accuracy: 0.9994185722547104\n",
            "[Worker 3] Preparing Data\n",
            "[Worker 3] Creating Tree\n",
            "[Worker 3] F1-Score: 0.6152038538362119\n",
            "[Worker 3] Recall: 0.45729257641921395\n",
            "[Worker 3] Precission: 0.9396984924623115\n",
            "[Worker 3] Accuracy: 0.9993162139759599\n",
            "[Worker 4] Preparing Data\n",
            "[Worker 4] Creating Tree\n",
            "[Worker 4] F1-Score: 0.6571428571428571\n",
            "[Worker 4] Recall: 0.5103909827404015\n",
            "[Worker 4] Precission: 0.9223424570337365\n",
            "[Worker 4] Accuracy: 0.9993690189559309\n",
            "[Worker 5] Preparing Data\n",
            "[Worker 5] Creating Tree\n",
            "[Worker 5] F1-Score: 0.6566439227477737\n",
            "[Worker 5] Recall: 0.5035473572188719\n",
            "[Worker 5] Precission: 0.943502824858757\n",
            "[Worker 5] Accuracy: 0.9993807086036867\n"
          ]
        }
      ],
      "source": [
        "%%skip $skip_medium_experiments\n",
        "\n",
        "# Set Parameters for the tree classifier\n",
        "tree_params_medium = {\n",
        "    \"tree_id\": 0,\n",
        "    \"max_depth\": 16,\n",
        "    \"threshold\": 'bigdata',\n",
        "    \"buckets\": 20,\n",
        "    \"min_samples_per_split\": 14,\n",
        "    \"disp_mode\": \"random_forest\",\n",
        "    \"func_type\": \"shannon\",\n",
        "    \"weights\": medium_weights\n",
        "}\n",
        "\n",
        "# Set parameters for the dataset\n",
        "ds_params_medium = {\n",
        "    \"label\": \"Is Laundering\",\n",
        "    \"col_frac\": 0.8,\n",
        "    \"row_frac\": 0.20,\n",
        "}\n",
        "\n",
        "# Set the amount of trees in the random forest\n",
        "num_trees_medium = 6\n",
        "\n",
        "# Fit the model\n",
        "random_forest_medium = distribute_training(hi_medium_train, ds_params_medium, tree_params_medium, workers=num_trees_medium)"
      ]
    },
    {
      "cell_type": "code",
      "execution_count": 79,
      "metadata": {
        "colab": {
          "base_uri": "https://localhost:8080/"
        },
        "id": "3SDFpweUnfce",
        "outputId": "78348757-f454-4ef7-e42d-9c87776e1e42"
      },
      "outputs": [
        {
          "output_type": "stream",
          "name": "stdout",
          "text": [
            "[Cluster Manager] Creating Data Chunks\n",
            "[Cluster Manager] 4 Chunks Created\n",
            "[Cluster Manager] Distributing Chunk 0\n",
            "[Worker 0] Creating Data\n",
            "[Worker 0] Predicting\n",
            "[Worker 1] Creating Data\n",
            "[Worker 1] Predicting\n",
            "[Worker 2] Creating Data\n",
            "[Worker 2] Predicting\n",
            "[Worker 3] Creating Data\n",
            "[Worker 3] Predicting\n",
            "[Worker 4] Creating Data\n",
            "[Worker 4] Predicting\n",
            "[Worker 5] Creating Data\n",
            "[Worker 5] Predicting\n",
            "[Cluster Manager] Distributing Chunk 1\n",
            "[Worker 0] Creating Data\n",
            "[Worker 0] Predicting\n",
            "[Worker 1] Creating Data\n",
            "[Worker 1] Predicting\n",
            "[Worker 2] Creating Data\n",
            "[Worker 2] Predicting\n",
            "[Worker 3] Creating Data\n",
            "[Worker 3] Predicting\n",
            "[Worker 4] Creating Data\n",
            "[Worker 4] Predicting\n",
            "[Worker 5] Creating Data\n",
            "[Worker 5] Predicting\n",
            "[Cluster Manager] Distributing Chunk 2\n",
            "[Worker 0] Creating Data\n",
            "[Worker 0] Predicting\n",
            "[Worker 1] Creating Data\n",
            "[Worker 1] Predicting\n",
            "[Worker 2] Creating Data\n",
            "[Worker 2] Predicting\n",
            "[Worker 3] Creating Data\n",
            "[Worker 3] Predicting\n",
            "[Worker 4] Creating Data\n",
            "[Worker 4] Predicting\n",
            "[Worker 5] Creating Data\n",
            "[Worker 5] Predicting\n",
            "[Cluster Manager] Distributing Chunk 3\n",
            "[Worker 0] Creating Data\n",
            "[Worker 0] Predicting\n",
            "[Worker 1] Creating Data\n",
            "[Worker 1] Predicting\n",
            "[Worker 2] Creating Data\n",
            "[Worker 2] Predicting\n",
            "[Worker 3] Creating Data\n",
            "[Worker 3] Predicting\n",
            "[Worker 4] Creating Data\n",
            "[Worker 4] Predicting\n",
            "[Worker 5] Creating Data\n",
            "[Worker 5] Predicting\n",
            "[Cluster Manager] Fetching Labels\n",
            "[Cluster Manager] Calculating Metrics\n",
            "Model Error: 0.001458028742468577\n",
            "Model Accuracy: 0.9985419712575314\n",
            "Model Precision: 0.22496790757381258\n",
            "Model Recall: 0.09988600740951838\n",
            "Model F1-Score: 0.13834616143674758\n"
          ]
        }
      ],
      "source": [
        "%%skip $skip_medium_experiments\n",
        "# Set prediction parameters\n",
        "pred_params_medium = {\n",
        "    \"num_batches\": 4,\n",
        "    \"label\": \"Is Laundering\",\n",
        "    \"col_frac\": 0.8,\n",
        "}\n",
        "\n",
        "# Get Test Predictions\n",
        "final_preds_medium, labels_medium = distribute_predict(random_forest_medium, hi_medium_test, pred_params_medium)"
      ]
    },
    {
      "cell_type": "code",
      "execution_count": 80,
      "metadata": {
        "id": "VBAt4rAOn16O",
        "colab": {
          "base_uri": "https://localhost:8080/",
          "height": 465
        },
        "outputId": "f17dcd9c-7548-4037-ff0a-9c7742c97ebe"
      },
      "outputs": [
        {
          "output_type": "display_data",
          "data": {
            "text/plain": [
              "<Figure size 640x480 with 2 Axes>"
            ],
            "image/png": "[encoded data removed]"
          },
          "metadata": {}
        }
      ],
      "source": [
        "%%skip $skip_medium_experiments\n",
        "# Plot confusion matrix\n",
        "cm = confusion_matrix(labels_medium, final_preds_medium, labels=[0, 1])\n",
        "disp = ConfusionMatrixDisplay(confusion_matrix=cm,\n",
        "                              display_labels=[0, 1])\n",
        "disp.plot();"
      ]
    }
  ],
  "metadata": {
    "colab": {
      "collapsed_sections": [
        "Kyois_BQbfXs",
        "rF8G4-LkDmea",
        "dK7DlbWLv8Q1",
        "gAFtJZH9ImYp",
        "bantauflwBAf"
      ],
      "provenance": [],
      "authorship_tag": "ABX9TyNiuhPgtI424Do8cCW8yqEE",
      "include_colab_link": true
    },
    "kernelspec": {
      "display_name": "Python 3",
      "name": "python3"
    },
    "language_info": {
      "name": "python"
    }
  },
  "nbformat": 4,
  "nbformat_minor": 0
}