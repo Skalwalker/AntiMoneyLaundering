{
  "nbformat": 4,
  "nbformat_minor": 0,
  "metadata": {
    "colab": {
      "provenance": [],
      "toc_visible": true,
      "collapsed_sections": [
        "Bp_-mZuN5z2o",
        "Hszm7Ijy4VC1",
        "F4obs6eWu1XY"
      ],
      "authorship_tag": "ABX9TyM8lctkJfwyGtLD5tNXQDfp",
      "include_colab_link": true
    },
    "kernelspec": {
      "name": "python3",
      "display_name": "Python 3"
    },
    "language_info": {
      "name": "python"
    }
  },
  "cells": [
    {
      "cell_type": "markdown",
      "metadata": {
        "id": "view-in-github",
        "colab_type": "text"
      },
      "source": [
        "<a href=\"https://colab.research.google.com/github/Skalwalker/AntiMoneyLaundering/blob/main/anti_money_laundering.ipynb\" target=\"_parent\"><img src=\"https://colab.research.google.com/assets/colab-badge.svg\" alt=\"Open In Colab\"/></a>"
      ]
    },
    {
      "cell_type": "markdown",
      "source": [
        "# IBM Transactions for Anti Money Laundering\n",
        "\n",
        "The project is based on the analysis of the «IBM Transactions for Anti Money Laundering» dataset published on [Kaggle](https://www.kaggle.com/datasets/ealtman2019/ibm-transactions-for-anti-money-laundering-aml) and released under the Community Data License Agreement – Sharing – Version 1.0. This dataset contains several CSV files, each having a different combination of data size and amount of illicit transactions.\n",
        "\n",
        "## About\n",
        "\n",
        "This project is a partial requisite for completing the courses of \"Algorithms for massive datasets\" and \"Statistical methods for ML\" on the masters degree computer science program from Università degli Studi di Milano.\n",
        "\n",
        "- **Author:** Renato Avellar Nobre\n",
        "- **Matriculation Number:** 984405\n",
        "- **Exam Project Year:** 22/23\n",
        "\n",
        "### Disclaimer\n",
        "\n",
        "\"I declare that this material, which I now submit for assessment, is entirely my own work and has not been taken from the work of others, save and to the extent that such work has been cited and acknowledged within the text of my work. I understand that plagiarism, collusion, and copying are grave and serious offences in the university and accept the penalties that would be imposed should I engage in plagiarism, collusion or copying. This assignment, or any part of it, has not been previously submitted by me or any other person for assessment on this or any other course of study.\"\n"
      ],
      "metadata": {
        "id": "ubxiWav99sa1"
      }
    },
    {
      "cell_type": "markdown",
      "source": [
        "# Overview\n",
        "\n",
        "The task is to implement a system which predicts whether or not a transaction is illicit, using the attribute \"Is Laundering\" as a label to be predicted. Classification should be done exploiting a random forest, organizing the project as follows.\n",
        "\n",
        "1. A sequential implementation (from scratch) of the learning algorithm for a decision tree should be provided, and tested using one or more subsets of the dataset which can be loaded in main memory.\n",
        "\n",
        "2. A mock-up code that uses spark in order to consider a dataset and processes it in order to distribute the creation of the single trees in a random forest should be proposed. In particular, the construction of each tree should be done by providing different data to each worker, both subsampling the number of rows (i.e., labeled objects) and columns (i.e., attributes) in the overall dataset. Concerning the first kind of subsampling, you might possibly consider introducing the so-called bootstrap sampling, in which the labeled objects are sampled with replacement and therefore a same object can occur more than once in the resulting dataset. It is not required to distribute the creation of a single decision tree: for this task you are free to use the implementation provided in point 1, as well as the implementation already available in scikit-learn.\n",
        "\n",
        "\n"
      ],
      "metadata": {
        "id": "CL6OQSo_Ai65"
      }
    },
    {
      "cell_type": "markdown",
      "source": [
        "## Before we start...\n",
        "\n",
        "Please upload the JSON file of your Kaggle API by executing the code below. Kaggle API JSON files can be generated on your [Kaggle user profile setting](https://www.kaggle.com/settings)"
      ],
      "metadata": {
        "id": "TvV088qACMaw"
      }
    },
    {
      "cell_type": "code",
      "source": [
        "from google.colab import files\n",
        "\n",
        "uploaded = files.upload()\n",
        "\n",
        "for fn in uploaded.keys():\n",
        "  print('User uploaded file \"{name}\" with length {length} bytes'.format(\n",
        "      name=fn, length=len(uploaded[fn])))\n",
        "\n",
        "# Move kaggle.json into the folder where the API expects to find it.\n",
        "!mkdir -p ~/.kaggle/ && mv kaggle.json ~/.kaggle/ && chmod 600 ~/.kaggle/kaggle.json"
      ],
      "metadata": {
        "id": "5aA2qb0ICLtZ",
        "outputId": "da1f52d1-0ad5-4129-c439-06dd1ea9cb39",
        "colab": {
          "base_uri": "https://localhost:8080/",
          "height": 86
        }
      },
      "execution_count": null,
      "outputs": [
        {
          "output_type": "display_data",
          "data": {
            "text/plain": [
              "<IPython.core.display.HTML object>"
            ],
            "text/html": [
              "\n",
              "     <input type=\"file\" id=\"files-e6bfe1e5-e9db-4fef-986f-2ba93bde359b\" name=\"files[]\" multiple disabled\n",
              "        style=\"border:none\" />\n",
              "     <output id=\"result-e6bfe1e5-e9db-4fef-986f-2ba93bde359b\">\n",
              "      Upload widget is only available when the cell has been executed in the\n",
              "      current browser session. Please rerun this cell to enable.\n",
              "      </output>\n",
              "      <script>// Copyright 2017 Google LLC\n",
              "//\n",
              "// Licensed under the Apache License, Version 2.0 (the \"License\");\n",
              "// you may not use this file except in compliance with the License.\n",
              "// You may obtain a copy of the License at\n",
              "//\n",
              "//      http://www.apache.org/licenses/LICENSE-2.0\n",
              "//\n",
              "// Unless required by applicable law or agreed to in writing, software\n",
              "// distributed under the License is distributed on an \"AS IS\" BASIS,\n",
              "// WITHOUT WARRANTIES OR CONDITIONS OF ANY KIND, either express or implied.\n",
              "// See the License for the specific language governing permissions and\n",
              "// limitations under the License.\n",
              "\n",
              "/**\n",
              " * @fileoverview Helpers for google.colab Python module.\n",
              " */\n",
              "(function(scope) {\n",
              "function span(text, styleAttributes = {}) {\n",
              "  const element = document.createElement('span');\n",
              "  element.textContent = text;\n",
              "  for (const key of Object.keys(styleAttributes)) {\n",
              "    element.style[key] = styleAttributes[key];\n",
              "  }\n",
              "  return element;\n",
              "}\n",
              "\n",
              "// Max number of bytes which will be uploaded at a time.\n",
              "const MAX_PAYLOAD_SIZE = 100 * 1024;\n",
              "\n",
              "function _uploadFiles(inputId, outputId) {\n",
              "  const steps = uploadFilesStep(inputId, outputId);\n",
              "  const outputElement = document.getElementById(outputId);\n",
              "  // Cache steps on the outputElement to make it available for the next call\n",
              "  // to uploadFilesContinue from Python.\n",
              "  outputElement.steps = steps;\n",
              "\n",
              "  return _uploadFilesContinue(outputId);\n",
              "}\n",
              "\n",
              "// This is roughly an async generator (not supported in the browser yet),\n",
              "// where there are multiple asynchronous steps and the Python side is going\n",
              "// to poll for completion of each step.\n",
              "// This uses a Promise to block the python side on completion of each step,\n",
              "// then passes the result of the previous step as the input to the next step.\n",
              "function _uploadFilesContinue(outputId) {\n",
              "  const outputElement = document.getElementById(outputId);\n",
              "  const steps = outputElement.steps;\n",
              "\n",
              "  const next = steps.next(outputElement.lastPromiseValue);\n",
              "  return Promise.resolve(next.value.promise).then((value) => {\n",
              "    // Cache the last promise value to make it available to the next\n",
              "    // step of the generator.\n",
              "    outputElement.lastPromiseValue = value;\n",
              "    return next.value.response;\n",
              "  });\n",
              "}\n",
              "\n",
              "/**\n",
              " * Generator function which is called between each async step of the upload\n",
              " * process.\n",
              " * @param {string} inputId Element ID of the input file picker element.\n",
              " * @param {string} outputId Element ID of the output display.\n",
              " * @return {!Iterable<!Object>} Iterable of next steps.\n",
              " */\n",
              "function* uploadFilesStep(inputId, outputId) {\n",
              "  const inputElement = document.getElementById(inputId);\n",
              "  inputElement.disabled = false;\n",
              "\n",
              "  const outputElement = document.getElementById(outputId);\n",
              "  outputElement.innerHTML = '';\n",
              "\n",
              "  const pickedPromise = new Promise((resolve) => {\n",
              "    inputElement.addEventListener('change', (e) => {\n",
              "      resolve(e.target.files);\n",
              "    });\n",
              "  });\n",
              "\n",
              "  const cancel = document.createElement('button');\n",
              "  inputElement.parentElement.appendChild(cancel);\n",
              "  cancel.textContent = 'Cancel upload';\n",
              "  const cancelPromise = new Promise((resolve) => {\n",
              "    cancel.onclick = () => {\n",
              "      resolve(null);\n",
              "    };\n",
              "  });\n",
              "\n",
              "  // Wait for the user to pick the files.\n",
              "  const files = yield {\n",
              "    promise: Promise.race([pickedPromise, cancelPromise]),\n",
              "    response: {\n",
              "      action: 'starting',\n",
              "    }\n",
              "  };\n",
              "\n",
              "  cancel.remove();\n",
              "\n",
              "  // Disable the input element since further picks are not allowed.\n",
              "  inputElement.disabled = true;\n",
              "\n",
              "  if (!files) {\n",
              "    return {\n",
              "      response: {\n",
              "        action: 'complete',\n",
              "      }\n",
              "    };\n",
              "  }\n",
              "\n",
              "  for (const file of files) {\n",
              "    const li = document.createElement('li');\n",
              "    li.append(span(file.name, {fontWeight: 'bold'}));\n",
              "    li.append(span(\n",
              "        `(${file.type || 'n/a'}) - ${file.size} bytes, ` +\n",
              "        `last modified: ${\n",
              "            file.lastModifiedDate ? file.lastModifiedDate.toLocaleDateString() :\n",
              "                                    'n/a'} - `));\n",
              "    const percent = span('0% done');\n",
              "    li.appendChild(percent);\n",
              "\n",
              "    outputElement.appendChild(li);\n",
              "\n",
              "    const fileDataPromise = new Promise((resolve) => {\n",
              "      const reader = new FileReader();\n",
              "      reader.onload = (e) => {\n",
              "        resolve(e.target.result);\n",
              "      };\n",
              "      reader.readAsArrayBuffer(file);\n",
              "    });\n",
              "    // Wait for the data to be ready.\n",
              "    let fileData = yield {\n",
              "      promise: fileDataPromise,\n",
              "      response: {\n",
              "        action: 'continue',\n",
              "      }\n",
              "    };\n",
              "\n",
              "    // Use a chunked sending to avoid message size limits. See b/62115660.\n",
              "    let position = 0;\n",
              "    do {\n",
              "      const length = Math.min(fileData.byteLength - position, MAX_PAYLOAD_SIZE);\n",
              "      const chunk = new Uint8Array(fileData, position, length);\n",
              "      position += length;\n",
              "\n",
              "      const base64 = btoa(String.fromCharCode.apply(null, chunk));\n",
              "      yield {\n",
              "        response: {\n",
              "          action: 'append',\n",
              "          file: file.name,\n",
              "          data: base64,\n",
              "        },\n",
              "      };\n",
              "\n",
              "      let percentDone = fileData.byteLength === 0 ?\n",
              "          100 :\n",
              "          Math.round((position / fileData.byteLength) * 100);\n",
              "      percent.textContent = `${percentDone}% done`;\n",
              "\n",
              "    } while (position < fileData.byteLength);\n",
              "  }\n",
              "\n",
              "  // All done.\n",
              "  yield {\n",
              "    response: {\n",
              "      action: 'complete',\n",
              "    }\n",
              "  };\n",
              "}\n",
              "\n",
              "scope.google = scope.google || {};\n",
              "scope.google.colab = scope.google.colab || {};\n",
              "scope.google.colab._files = {\n",
              "  _uploadFiles,\n",
              "  _uploadFilesContinue,\n",
              "};\n",
              "})(self);\n",
              "</script> "
            ]
          },
          "metadata": {}
        },
        {
          "output_type": "stream",
          "name": "stdout",
          "text": [
            "Saving kaggle.json to kaggle.json\n",
            "User uploaded file \"kaggle.json\" with length 66 bytes\n"
          ]
        }
      ]
    },
    {
      "cell_type": "markdown",
      "source": [
        "# Setup"
      ],
      "metadata": {
        "id": "dGnDQYvLB3rF"
      }
    },
    {
      "cell_type": "code",
      "source": [
        "import os\n",
        "\n",
        "data_folders = [\"01_raw\", \"02_intermediate\", \"03_primary\", \"04_feature\", \"05_model_input\",\n",
        "                \"06_models\", \"07_model_output\", \"08_reporting\"]\n",
        "\n",
        "try:\n",
        "    os.makedirs(\"data\", exist_ok = True)\n",
        "    [os.makedirs(\"data/\" + folder_name, exist_ok = True) for folder_name in data_folders]\n",
        "    print(\"Directories created successfully\")\n",
        "except OSError as error:\n",
        "    print(f\"Directories can not be created: {error}\")\n"
      ],
      "metadata": {
        "colab": {
          "base_uri": "https://localhost:8080/"
        },
        "id": "1YrUoObNGILG",
        "outputId": "0af459b0-6d34-433b-c1bc-a7fe4f127981"
      },
      "execution_count": null,
      "outputs": [
        {
          "output_type": "stream",
          "name": "stdout",
          "text": [
            "Directories created successfully\n"
          ]
        }
      ]
    },
    {
      "cell_type": "markdown",
      "source": [
        "## Fetching Files from Kaggle"
      ],
      "metadata": {
        "id": "Bp_-mZuN5z2o"
      }
    },
    {
      "cell_type": "code",
      "source": [
        "!kaggle datasets download -d ealtman2019/ibm-transactions-for-anti-money-laundering-aml"
      ],
      "metadata": {
        "id": "3Z-WsFbK9BMU",
        "outputId": "6e4e1165-870a-4355-d512-9e89dd9c9b5c",
        "colab": {
          "base_uri": "https://localhost:8080/"
        }
      },
      "execution_count": null,
      "outputs": [
        {
          "output_type": "stream",
          "name": "stdout",
          "text": [
            "Downloading ibm-transactions-for-anti-money-laundering-aml.zip to /content\n",
            "100% 7.41G/7.42G [01:39<00:00, 102MB/s] \n",
            "100% 7.42G/7.42G [01:39<00:00, 80.3MB/s]\n"
          ]
        }
      ]
    },
    {
      "cell_type": "code",
      "source": [
        "!unzip ibm-transactions-for-anti-money-laundering-aml.zip -d ./data/01_raw/"
      ],
      "metadata": {
        "id": "QSb8QvE59Zk_",
        "colab": {
          "base_uri": "https://localhost:8080/"
        },
        "outputId": "3d95ffaa-e203-4c51-8ffc-5782572c3330"
      },
      "execution_count": null,
      "outputs": [
        {
          "output_type": "stream",
          "name": "stdout",
          "text": [
            "Archive:  ibm-transactions-for-anti-money-laundering-aml.zip\n",
            "  inflating: ./data/01_raw/HI-Large_Patterns.txt  \n",
            "  inflating: ./data/01_raw/HI-Large_Trans.csv  \n",
            "  inflating: ./data/01_raw/HI-Medium_Patterns.txt  \n",
            "  inflating: ./data/01_raw/HI-Medium_Trans.csv  \n",
            "  inflating: ./data/01_raw/HI-Small_Patterns.txt  \n",
            "  inflating: ./data/01_raw/HI-Small_Trans.csv  \n",
            "  inflating: ./data/01_raw/LI-Large_Patterns.txt  \n",
            "  inflating: ./data/01_raw/LI-Large_Trans.csv  \n",
            "  inflating: ./data/01_raw/LI-Medium_Patterns.txt  \n",
            "  inflating: ./data/01_raw/LI-Medium_Trans.csv  \n",
            "  inflating: ./data/01_raw/LI-Small_Patterns.txt  \n",
            "  inflating: ./data/01_raw/LI-Small_Trans.csv  \n"
          ]
        }
      ]
    },
    {
      "cell_type": "code",
      "source": [
        "!rm ibm-transactions-for-anti-money-laundering-aml.zip\n",
        "!rm ./data/01_raw/*.txt"
      ],
      "metadata": {
        "id": "Zgow9c9nH0lN"
      },
      "execution_count": null,
      "outputs": []
    },
    {
      "cell_type": "markdown",
      "source": [
        "## Installations"
      ],
      "metadata": {
        "id": "Hszm7Ijy4VC1"
      }
    },
    {
      "cell_type": "code",
      "source": [
        "!pip install --upgrade ipykernel\n",
        "!pip install kaggle"
      ],
      "metadata": {
        "id": "z75NmbV24qv1",
        "outputId": "bfce34b2-21b8-487d-b758-d2f7a18d9d18",
        "colab": {
          "base_uri": "https://localhost:8080/"
        }
      },
      "execution_count": null,
      "outputs": [
        {
          "output_type": "stream",
          "name": "stdout",
          "text": [
            "Looking in indexes: https://pypi.org/simple, https://us-python.pkg.dev/colab-wheels/public/simple/\n",
            "Requirement already satisfied: ipykernel in /usr/local/lib/python3.10/dist-packages (6.23.2)\n",
            "Requirement already satisfied: comm>=0.1.1 in /usr/local/lib/python3.10/dist-packages (from ipykernel) (0.1.3)\n",
            "Requirement already satisfied: debugpy>=1.6.5 in /usr/local/lib/python3.10/dist-packages (from ipykernel) (1.6.6)\n",
            "Requirement already satisfied: ipython>=7.23.1 in /usr/local/lib/python3.10/dist-packages (from ipykernel) (7.34.0)\n",
            "Requirement already satisfied: jupyter-client>=6.1.12 in /usr/local/lib/python3.10/dist-packages (from ipykernel) (6.1.12)\n",
            "Requirement already satisfied: jupyter-core!=5.0.*,>=4.12 in /usr/local/lib/python3.10/dist-packages (from ipykernel) (5.3.0)\n",
            "Requirement already satisfied: matplotlib-inline>=0.1 in /usr/local/lib/python3.10/dist-packages (from ipykernel) (0.1.6)\n",
            "Requirement already satisfied: nest-asyncio in /usr/local/lib/python3.10/dist-packages (from ipykernel) (1.5.6)\n",
            "Requirement already satisfied: packaging in /usr/local/lib/python3.10/dist-packages (from ipykernel) (23.1)\n",
            "Requirement already satisfied: psutil in /usr/local/lib/python3.10/dist-packages (from ipykernel) (5.9.5)\n",
            "Requirement already satisfied: pyzmq>=20 in /usr/local/lib/python3.10/dist-packages (from ipykernel) (23.2.1)\n",
            "Requirement already satisfied: tornado>=6.1 in /usr/local/lib/python3.10/dist-packages (from ipykernel) (6.3.1)\n",
            "Requirement already satisfied: traitlets>=5.4.0 in /usr/local/lib/python3.10/dist-packages (from ipykernel) (5.7.1)\n",
            "Requirement already satisfied: setuptools>=18.5 in /usr/local/lib/python3.10/dist-packages (from ipython>=7.23.1->ipykernel) (67.7.2)\n",
            "Requirement already satisfied: jedi>=0.16 in /usr/local/lib/python3.10/dist-packages (from ipython>=7.23.1->ipykernel) (0.18.2)\n",
            "Requirement already satisfied: decorator in /usr/local/lib/python3.10/dist-packages (from ipython>=7.23.1->ipykernel) (4.4.2)\n",
            "Requirement already satisfied: pickleshare in /usr/local/lib/python3.10/dist-packages (from ipython>=7.23.1->ipykernel) (0.7.5)\n",
            "Requirement already satisfied: prompt-toolkit!=3.0.0,!=3.0.1,<3.1.0,>=2.0.0 in /usr/local/lib/python3.10/dist-packages (from ipython>=7.23.1->ipykernel) (3.0.38)\n",
            "Requirement already satisfied: pygments in /usr/local/lib/python3.10/dist-packages (from ipython>=7.23.1->ipykernel) (2.14.0)\n",
            "Requirement already satisfied: backcall in /usr/local/lib/python3.10/dist-packages (from ipython>=7.23.1->ipykernel) (0.2.0)\n",
            "Requirement already satisfied: pexpect>4.3 in /usr/local/lib/python3.10/dist-packages (from ipython>=7.23.1->ipykernel) (4.8.0)\n",
            "Requirement already satisfied: python-dateutil>=2.1 in /usr/local/lib/python3.10/dist-packages (from jupyter-client>=6.1.12->ipykernel) (2.8.2)\n",
            "Requirement already satisfied: platformdirs>=2.5 in /usr/local/lib/python3.10/dist-packages (from jupyter-core!=5.0.*,>=4.12->ipykernel) (3.3.0)\n",
            "Requirement already satisfied: parso<0.9.0,>=0.8.0 in /usr/local/lib/python3.10/dist-packages (from jedi>=0.16->ipython>=7.23.1->ipykernel) (0.8.3)\n",
            "Requirement already satisfied: ptyprocess>=0.5 in /usr/local/lib/python3.10/dist-packages (from pexpect>4.3->ipython>=7.23.1->ipykernel) (0.7.0)\n",
            "Requirement already satisfied: wcwidth in /usr/local/lib/python3.10/dist-packages (from prompt-toolkit!=3.0.0,!=3.0.1,<3.1.0,>=2.0.0->ipython>=7.23.1->ipykernel) (0.2.6)\n",
            "Requirement already satisfied: six>=1.5 in /usr/local/lib/python3.10/dist-packages (from python-dateutil>=2.1->jupyter-client>=6.1.12->ipykernel) (1.16.0)\n",
            "Looking in indexes: https://pypi.org/simple, https://us-python.pkg.dev/colab-wheels/public/simple/\n",
            "Requirement already satisfied: kaggle in /usr/local/lib/python3.10/dist-packages (1.5.13)\n",
            "Requirement already satisfied: six>=1.10 in /usr/local/lib/python3.10/dist-packages (from kaggle) (1.16.0)\n",
            "Requirement already satisfied: certifi in /usr/local/lib/python3.10/dist-packages (from kaggle) (2022.12.7)\n",
            "Requirement already satisfied: python-dateutil in /usr/local/lib/python3.10/dist-packages (from kaggle) (2.8.2)\n",
            "Requirement already satisfied: requests in /usr/local/lib/python3.10/dist-packages (from kaggle) (2.27.1)\n",
            "Requirement already satisfied: tqdm in /usr/local/lib/python3.10/dist-packages (from kaggle) (4.65.0)\n",
            "Requirement already satisfied: python-slugify in /usr/local/lib/python3.10/dist-packages (from kaggle) (8.0.1)\n",
            "Requirement already satisfied: urllib3 in /usr/local/lib/python3.10/dist-packages (from kaggle) (1.26.15)\n",
            "Requirement already satisfied: text-unidecode>=1.3 in /usr/local/lib/python3.10/dist-packages (from python-slugify->kaggle) (1.3)\n",
            "Requirement already satisfied: charset-normalizer~=2.0.0 in /usr/local/lib/python3.10/dist-packages (from requests->kaggle) (2.0.12)\n",
            "Requirement already satisfied: idna<4,>=2.5 in /usr/local/lib/python3.10/dist-packages (from requests->kaggle) (3.4)\n"
          ]
        }
      ]
    },
    {
      "cell_type": "markdown",
      "source": [
        "## Imports"
      ],
      "metadata": {
        "id": "KU5_kZqazZVT"
      }
    },
    {
      "cell_type": "code",
      "source": [
        "import numpy as np\n",
        "import pandas as pd\n",
        "import seaborn as sns\n",
        "import matplotlib.pyplot as plt\n",
        "from sklearn import datasets\n"
      ],
      "metadata": {
        "id": "kn7TuiLM4HDH"
      },
      "execution_count": 2,
      "outputs": []
    },
    {
      "cell_type": "markdown",
      "source": [
        "# 0. Data Engineering Preparation"
      ],
      "metadata": {
        "id": "nccoQ3Q4PBnx"
      }
    },
    {
      "cell_type": "code",
      "source": [],
      "metadata": {
        "id": "6QifwN0RPJtd"
      },
      "execution_count": null,
      "outputs": []
    },
    {
      "cell_type": "markdown",
      "source": [
        "# 1. Decision Tree"
      ],
      "metadata": {
        "id": "Tb2sybU5POQ_"
      }
    },
    {
      "cell_type": "markdown",
      "source": [
        "## Iris Dataset\n",
        "\n",
        "Even though the objective of the project is to classify the transactions in the IBM Transactions for Anti Money Laundering dataset, a good approach into developing a machine learning algorithm from scratch it to start developing it in a well controlled environment. Therefore, this project will use the Iris dataset to guide the development of a decision tree. This decision allow us to evaluate the implementation of the model in a common dataset which we know that the decision tree should perfom well. Therefore serving as a baseline and sanity check of the model implementation.\n",
        "\n",
        "The Iris dataset is a traditional dataset used in the machine learning domain to evaluate models. It consists of 3 different types of irises' (Setosa, Versicolour, and Virginica) stored in a 150x4 numpy array. Every type of iris has exactly 50 samples, thus being a well balanced dataset. However, we will constuct a tree focused on binary classification and not multiclass classification, and to do such we remve on the types on the data. The data set data is shown bellow:\n",
        "\n",
        "<img src=\"https://upload.wikimedia.org/wikipedia/commons/5/56/Iris_dataset_scatterplot.svg\" alt=\"drawing\" width=\"500\"/>\n",
        "\n",
        "> *Image courtesy of [wikipedia](https://en.wikipedia.org/wiki/Iris_flower_data_set)*\n",
        "\n",
        "\n"
      ],
      "metadata": {
        "id": "F4obs6eWu1XY"
      }
    },
    {
      "cell_type": "code",
      "source": [
        "iris = datasets.load_iris()\n"
      ],
      "metadata": {
        "id": "ggLC_j4Otu8A"
      },
      "execution_count": 3,
      "outputs": []
    },
    {
      "cell_type": "code",
      "source": [
        "print(iris['DESCR'])"
      ],
      "metadata": {
        "colab": {
          "base_uri": "https://localhost:8080/"
        },
        "id": "8dW3E8kB1bmx",
        "outputId": "abf3daa4-e101-46e2-c44e-60eb44f7ccd2"
      },
      "execution_count": 5,
      "outputs": [
        {
          "output_type": "stream",
          "name": "stdout",
          "text": [
            ".. _iris_dataset:\n",
            "\n",
            "Iris plants dataset\n",
            "--------------------\n",
            "\n",
            "**Data Set Characteristics:**\n",
            "\n",
            "    :Number of Instances: 150 (50 in each of three classes)\n",
            "    :Number of Attributes: 4 numeric, predictive attributes and the class\n",
            "    :Attribute Information:\n",
            "        - sepal length in cm\n",
            "        - sepal width in cm\n",
            "        - petal length in cm\n",
            "        - petal width in cm\n",
            "        - class:\n",
            "                - Iris-Setosa\n",
            "                - Iris-Versicolour\n",
            "                - Iris-Virginica\n",
            "                \n",
            "    :Summary Statistics:\n",
            "\n",
            "    ============== ==== ==== ======= ===== ====================\n",
            "                    Min  Max   Mean    SD   Class Correlation\n",
            "    ============== ==== ==== ======= ===== ====================\n",
            "    sepal length:   4.3  7.9   5.84   0.83    0.7826\n",
            "    sepal width:    2.0  4.4   3.05   0.43   -0.4194\n",
            "    petal length:   1.0  6.9   3.76   1.76    0.9490  (high!)\n",
            "    petal width:    0.1  2.5   1.20   0.76    0.9565  (high!)\n",
            "    ============== ==== ==== ======= ===== ====================\n",
            "\n",
            "    :Missing Attribute Values: None\n",
            "    :Class Distribution: 33.3% for each of 3 classes.\n",
            "    :Creator: R.A. Fisher\n",
            "    :Donor: Michael Marshall (MARSHALL%PLU@io.arc.nasa.gov)\n",
            "    :Date: July, 1988\n",
            "\n",
            "The famous Iris database, first used by Sir R.A. Fisher. The dataset is taken\n",
            "from Fisher's paper. Note that it's the same as in R, but not as in the UCI\n",
            "Machine Learning Repository, which has two wrong data points.\n",
            "\n",
            "This is perhaps the best known database to be found in the\n",
            "pattern recognition literature.  Fisher's paper is a classic in the field and\n",
            "is referenced frequently to this day.  (See Duda & Hart, for example.)  The\n",
            "data set contains 3 classes of 50 instances each, where each class refers to a\n",
            "type of iris plant.  One class is linearly separable from the other 2; the\n",
            "latter are NOT linearly separable from each other.\n",
            "\n",
            ".. topic:: References\n",
            "\n",
            "   - Fisher, R.A. \"The use of multiple measurements in taxonomic problems\"\n",
            "     Annual Eugenics, 7, Part II, 179-188 (1936); also in \"Contributions to\n",
            "     Mathematical Statistics\" (John Wiley, NY, 1950).\n",
            "   - Duda, R.O., & Hart, P.E. (1973) Pattern Classification and Scene Analysis.\n",
            "     (Q327.D83) John Wiley & Sons.  ISBN 0-471-22361-1.  See page 218.\n",
            "   - Dasarathy, B.V. (1980) \"Nosing Around the Neighborhood: A New System\n",
            "     Structure and Classification Rule for Recognition in Partially Exposed\n",
            "     Environments\".  IEEE Transactions on Pattern Analysis and Machine\n",
            "     Intelligence, Vol. PAMI-2, No. 1, 67-71.\n",
            "   - Gates, G.W. (1972) \"The Reduced Nearest Neighbor Rule\".  IEEE Transactions\n",
            "     on Information Theory, May 1972, 431-433.\n",
            "   - See also: 1988 MLC Proceedings, 54-64.  Cheeseman et al\"s AUTOCLASS II\n",
            "     conceptual clustering system finds 3 classes in the data.\n",
            "   - Many, many more ...\n"
          ]
        }
      ]
    },
    {
      "cell_type": "code",
      "source": [
        "iris_df = pd.DataFrame(data= np.c_[iris['data'], iris['target']],\n",
        "                     columns= iris['feature_names'] + ['target'])\n",
        "iris_df.target = iris_df.target.astype('int')\n",
        "iris_df"
      ],
      "metadata": {
        "colab": {
          "base_uri": "https://localhost:8080/",
          "height": 419
        },
        "id": "EJ6I8zs6uyMo",
        "outputId": "66f56e84-0318-4dd3-c9fd-9c36f02e7bd1"
      },
      "execution_count": 4,
      "outputs": [
        {
          "output_type": "execute_result",
          "data": {
            "text/plain": [
              "     sepal length (cm)  sepal width (cm)  petal length (cm)  petal width (cm)  \\\n",
              "0                  5.1               3.5                1.4               0.2   \n",
              "1                  4.9               3.0                1.4               0.2   \n",
              "2                  4.7               3.2                1.3               0.2   \n",
              "3                  4.6               3.1                1.5               0.2   \n",
              "4                  5.0               3.6                1.4               0.2   \n",
              "..                 ...               ...                ...               ...   \n",
              "145                6.7               3.0                5.2               2.3   \n",
              "146                6.3               2.5                5.0               1.9   \n",
              "147                6.5               3.0                5.2               2.0   \n",
              "148                6.2               3.4                5.4               2.3   \n",
              "149                5.9               3.0                5.1               1.8   \n",
              "\n",
              "     target  \n",
              "0         0  \n",
              "1         0  \n",
              "2         0  \n",
              "3         0  \n",
              "4         0  \n",
              "..      ...  \n",
              "145       2  \n",
              "146       2  \n",
              "147       2  \n",
              "148       2  \n",
              "149       2  \n",
              "\n",
              "[150 rows x 5 columns]"
            ],
            "text/html": [
              "\n",
              "  <div id=\"df-1698ef7a-e2ff-480e-9b71-4240128e130a\">\n",
              "    <div class=\"colab-df-container\">\n",
              "      <div>\n",
              "<style scoped>\n",
              "    .dataframe tbody tr th:only-of-type {\n",
              "        vertical-align: middle;\n",
              "    }\n",
              "\n",
              "    .dataframe tbody tr th {\n",
              "        vertical-align: top;\n",
              "    }\n",
              "\n",
              "    .dataframe thead th {\n",
              "        text-align: right;\n",
              "    }\n",
              "</style>\n",
              "<table border=\"1\" class=\"dataframe\">\n",
              "  <thead>\n",
              "    <tr style=\"text-align: right;\">\n",
              "      <th></th>\n",
              "      <th>sepal length (cm)</th>\n",
              "      <th>sepal width (cm)</th>\n",
              "      <th>petal length (cm)</th>\n",
              "      <th>petal width (cm)</th>\n",
              "      <th>target</th>\n",
              "    </tr>\n",
              "  </thead>\n",
              "  <tbody>\n",
              "    <tr>\n",
              "      <th>0</th>\n",
              "      <td>5.1</td>\n",
              "      <td>3.5</td>\n",
              "      <td>1.4</td>\n",
              "      <td>0.2</td>\n",
              "      <td>0</td>\n",
              "    </tr>\n",
              "    <tr>\n",
              "      <th>1</th>\n",
              "      <td>4.9</td>\n",
              "      <td>3.0</td>\n",
              "      <td>1.4</td>\n",
              "      <td>0.2</td>\n",
              "      <td>0</td>\n",
              "    </tr>\n",
              "    <tr>\n",
              "      <th>2</th>\n",
              "      <td>4.7</td>\n",
              "      <td>3.2</td>\n",
              "      <td>1.3</td>\n",
              "      <td>0.2</td>\n",
              "      <td>0</td>\n",
              "    </tr>\n",
              "    <tr>\n",
              "      <th>3</th>\n",
              "      <td>4.6</td>\n",
              "      <td>3.1</td>\n",
              "      <td>1.5</td>\n",
              "      <td>0.2</td>\n",
              "      <td>0</td>\n",
              "    </tr>\n",
              "    <tr>\n",
              "      <th>4</th>\n",
              "      <td>5.0</td>\n",
              "      <td>3.6</td>\n",
              "      <td>1.4</td>\n",
              "      <td>0.2</td>\n",
              "      <td>0</td>\n",
              "    </tr>\n",
              "    <tr>\n",
              "      <th>...</th>\n",
              "      <td>...</td>\n",
              "      <td>...</td>\n",
              "      <td>...</td>\n",
              "      <td>...</td>\n",
              "      <td>...</td>\n",
              "    </tr>\n",
              "    <tr>\n",
              "      <th>145</th>\n",
              "      <td>6.7</td>\n",
              "      <td>3.0</td>\n",
              "      <td>5.2</td>\n",
              "      <td>2.3</td>\n",
              "      <td>2</td>\n",
              "    </tr>\n",
              "    <tr>\n",
              "      <th>146</th>\n",
              "      <td>6.3</td>\n",
              "      <td>2.5</td>\n",
              "      <td>5.0</td>\n",
              "      <td>1.9</td>\n",
              "      <td>2</td>\n",
              "    </tr>\n",
              "    <tr>\n",
              "      <th>147</th>\n",
              "      <td>6.5</td>\n",
              "      <td>3.0</td>\n",
              "      <td>5.2</td>\n",
              "      <td>2.0</td>\n",
              "      <td>2</td>\n",
              "    </tr>\n",
              "    <tr>\n",
              "      <th>148</th>\n",
              "      <td>6.2</td>\n",
              "      <td>3.4</td>\n",
              "      <td>5.4</td>\n",
              "      <td>2.3</td>\n",
              "      <td>2</td>\n",
              "    </tr>\n",
              "    <tr>\n",
              "      <th>149</th>\n",
              "      <td>5.9</td>\n",
              "      <td>3.0</td>\n",
              "      <td>5.1</td>\n",
              "      <td>1.8</td>\n",
              "      <td>2</td>\n",
              "    </tr>\n",
              "  </tbody>\n",
              "</table>\n",
              "<p>150 rows × 5 columns</p>\n",
              "</div>\n",
              "      <button class=\"colab-df-convert\" onclick=\"convertToInteractive('df-1698ef7a-e2ff-480e-9b71-4240128e130a')\"\n",
              "              title=\"Convert this dataframe to an interactive table.\"\n",
              "              style=\"display:none;\">\n",
              "        \n",
              "  <svg xmlns=\"http://www.w3.org/2000/svg\" height=\"24px\"viewBox=\"0 0 24 24\"\n",
              "       width=\"24px\">\n",
              "    <path d=\"M0 0h24v24H0V0z\" fill=\"none\"/>\n",
              "    <path d=\"M18.56 5.44l.94 2.06.94-2.06 2.06-.94-2.06-.94-.94-2.06-.94 2.06-2.06.94zm-11 1L8.5 8.5l.94-2.06 2.06-.94-2.06-.94L8.5 2.5l-.94 2.06-2.06.94zm10 10l.94 2.06.94-2.06 2.06-.94-2.06-.94-.94-2.06-.94 2.06-2.06.94z\"/><path d=\"M17.41 7.96l-1.37-1.37c-.4-.4-.92-.59-1.43-.59-.52 0-1.04.2-1.43.59L10.3 9.45l-7.72 7.72c-.78.78-.78 2.05 0 2.83L4 21.41c.39.39.9.59 1.41.59.51 0 1.02-.2 1.41-.59l7.78-7.78 2.81-2.81c.8-.78.8-2.07 0-2.86zM5.41 20L4 18.59l7.72-7.72 1.47 1.35L5.41 20z\"/>\n",
              "  </svg>\n",
              "      </button>\n",
              "      \n",
              "  <style>\n",
              "    .colab-df-container {\n",
              "      display:flex;\n",
              "      flex-wrap:wrap;\n",
              "      gap: 12px;\n",
              "    }\n",
              "\n",
              "    .colab-df-convert {\n",
              "      background-color: #E8F0FE;\n",
              "      border: none;\n",
              "      border-radius: 50%;\n",
              "      cursor: pointer;\n",
              "      display: none;\n",
              "      fill: #1967D2;\n",
              "      height: 32px;\n",
              "      padding: 0 0 0 0;\n",
              "      width: 32px;\n",
              "    }\n",
              "\n",
              "    .colab-df-convert:hover {\n",
              "      background-color: #E2EBFA;\n",
              "      box-shadow: 0px 1px 2px rgba(60, 64, 67, 0.3), 0px 1px 3px 1px rgba(60, 64, 67, 0.15);\n",
              "      fill: #174EA6;\n",
              "    }\n",
              "\n",
              "    [theme=dark] .colab-df-convert {\n",
              "      background-color: #3B4455;\n",
              "      fill: #D2E3FC;\n",
              "    }\n",
              "\n",
              "    [theme=dark] .colab-df-convert:hover {\n",
              "      background-color: #434B5C;\n",
              "      box-shadow: 0px 1px 3px 1px rgba(0, 0, 0, 0.15);\n",
              "      filter: drop-shadow(0px 1px 2px rgba(0, 0, 0, 0.3));\n",
              "      fill: #FFFFFF;\n",
              "    }\n",
              "  </style>\n",
              "\n",
              "      <script>\n",
              "        const buttonEl =\n",
              "          document.querySelector('#df-1698ef7a-e2ff-480e-9b71-4240128e130a button.colab-df-convert');\n",
              "        buttonEl.style.display =\n",
              "          google.colab.kernel.accessAllowed ? 'block' : 'none';\n",
              "\n",
              "        async function convertToInteractive(key) {\n",
              "          const element = document.querySelector('#df-1698ef7a-e2ff-480e-9b71-4240128e130a');\n",
              "          const dataTable =\n",
              "            await google.colab.kernel.invokeFunction('convertToInteractive',\n",
              "                                                     [key], {});\n",
              "          if (!dataTable) return;\n",
              "\n",
              "          const docLinkHtml = 'Like what you see? Visit the ' +\n",
              "            '<a target=\"_blank\" href=https://colab.research.google.com/notebooks/data_table.ipynb>data table notebook</a>'\n",
              "            + ' to learn more about interactive tables.';\n",
              "          element.innerHTML = '';\n",
              "          dataTable['output_type'] = 'display_data';\n",
              "          await google.colab.output.renderOutput(dataTable, element);\n",
              "          const docLink = document.createElement('div');\n",
              "          docLink.innerHTML = docLinkHtml;\n",
              "          element.appendChild(docLink);\n",
              "        }\n",
              "      </script>\n",
              "    </div>\n",
              "  </div>\n",
              "  "
            ]
          },
          "metadata": {},
          "execution_count": 4
        }
      ]
    },
    {
      "cell_type": "markdown",
      "source": [
        "We will split the dataset into two. The first dataset will have the setosa and the versicolor while the second will have the versicolor and virginica. From the data visualization image the former dataset will be linear separable in multiple thus being easier to classify, while the latter is not linear separable thus probabliy more difficult.\n",
        "\n",
        "- 0 = setosa\n",
        "- 1 = versicolor\n",
        "- 2 = virginica"
      ],
      "metadata": {
        "id": "M2oIJV80z9N1"
      }
    },
    {
      "cell_type": "code",
      "source": [
        "def split_test_val(data, label_col, val_rate = 0.3):\n",
        "  data = data.sample(frac = 1).reset_index(drop=True)\n",
        "  split_index = round(len(data)*(1-val_rate))\n",
        "  data_train = data[:split_index]\n",
        "  data_val = data[split_index:]\n",
        "\n",
        "  train_X = data_train.drop(labels=label_col, axis=1)\n",
        "  train_y = data_train[label_col]\n",
        "\n",
        "\n",
        "  val_X = data_val.drop(labels=label_col, axis=1)\n",
        "  val_y = data_val[label_col]\n",
        "\n",
        "  return train_X, train_y, val_X, val_y\n",
        "\n",
        "iris_easy = iris_df.loc[(iris_df.target == 0 )| (iris_df.target == 1)]\n",
        "iris_hard = iris_df.loc[(iris_df.target == 1 )| (iris_df.target == 2)]"
      ],
      "metadata": {
        "id": "CZk168Qo0tGg"
      },
      "execution_count": 5,
      "outputs": []
    },
    {
      "cell_type": "markdown",
      "source": [
        "## The Tree Structure\n",
        "\n",
        "A tree predictor has the structure of an ordered and rooted tree where each node is either a leaf (if it has zero children) or an internal node (if it has at least two children).\n",
        "\n",
        "The predictior is usualy defined by a tree T whose internal nodes are tagged with tests and leaves are tagged with labels. A test in an internal node with a funtion over an atribute of the dataset with separate the data into multiple subsets. Since we are implementing a binary tree this function will only split into two subsets.\n",
        "\n",
        "Therefore, the primary structure of the tree is a node, which might be internal (having a attribute and a test) or a leaf (having a label). For simplicity we build a generic node which can be adapted for whichever case."
      ],
      "metadata": {
        "id": "PauYUQMy30rn"
      }
    },
    {
      "cell_type": "code",
      "source": [
        "class Node:\n",
        "\n",
        "    def __init__(self, label=None, attribute=None, split_test=None):\n",
        "        self.label = label\n",
        "        self.attribute = attribute\n",
        "        self.split_test = split_test\n",
        "        self.is_leaf = True\n",
        "        self.left_child = None\n",
        "        self.right_child = None"
      ],
      "metadata": {
        "id": "6v9hdTsPs1-A"
      },
      "execution_count": 8,
      "outputs": []
    },
    {
      "cell_type": "markdown",
      "source": [
        "## Building a Binary Tree\n",
        "\n",
        "We focus on the case of binary trees (all internal nodes have exacly two children) for binary classification. The main idea of building the tree is growing it starting from a single node tree (which is a leaf) that corresponds to the classifier assigning to any data point the label that occurs most frequently in the traning set. The tree is grown by picking a leaf and replacing it with an internal node and two new leaves.\n",
        "\n",
        "However this description of a binary tree leaves some questions open. How do we select an attribute? How do we select the best threshold to split this attribute? How do we select a node to grow? When do we stop growing the tree? How do we calculate the training error?"
      ],
      "metadata": {
        "id": "o5lgECrS75UY"
      }
    },
    {
      "cell_type": "markdown",
      "source": [
        "### Calculating the Training Error\n",
        "\n",
        "One step of the tree building process is measuring the error of the constructed tree. Suppose we have grown a tree up to a certain point and built a classifier. We consider the training error as the sum of the contributions of all leaves in the tree.\n",
        "\n",
        "When a leaf does not contribute to the training error, we say that that leaf is pure. On the other hand leaves that does contribute are impure and thus we focus on measuring the impurity of the tree (the entropy). Additionally, the decision tree may also suffer from overfitting, that usually happens when the tree overgrows the cardinality of the training set. Therefore its important to choose the leaf expension guaranteeing the largest decrease in the training error. Thus making a well informed decision such that the error decreases the largest with the least ammount of growth.\n",
        "\n",
        "\n"
      ],
      "metadata": {
        "id": "x10C6WFvmhGZ"
      }
    },
    {
      "cell_type": "code",
      "source": [
        "def calculate_entropy(labels, func_type):\n",
        "  # Get counts of zero and ones as vector\n",
        "  _, counts = np.unique(labels, return_counts=True)\n",
        "  # Normalize\n",
        "  p_vec = counts / len(labels)\n",
        "\n",
        "  # Calculate proper entropy criterion\n",
        "  if func_type == 'shannon':\n",
        "    return -np.sum(p_vec * np.log2(p_vec))\n",
        "  elif func_type == 'scaled':\n",
        "    return -np.sum((p_vec/2) * np.log2(p_vec))\n",
        "  elif func_type == 'gini':\n",
        "    return 1 - np.sum(np.square(p_vec))\n",
        "\n",
        "def calculate_information_gain(data, labels, left_labels, right_labels, func_type):\n",
        "    total_entropy = calculate_entropy(labels, func_type)\n",
        "    left_entropy = calculate_entropy(left_labels, func_type)\n",
        "    right_entropy = calculate_entropy(right_labels, func_type)\n",
        "\n",
        "    left_weighted_entropy = (len(left_labels) / len(labels)) * left_entropy\n",
        "    right_weighted_entropy = (len(right_labels) / len(right_labels)) * right_entropy\n",
        "    information_gain = total_entropy - (left_weighted_entropy + right_weighted_entropy)\n",
        "    return information_gain\n"
      ],
      "metadata": {
        "id": "GXsSz_sDmO2B"
      },
      "execution_count": 9,
      "outputs": []
    },
    {
      "cell_type": "markdown",
      "source": [
        "### Attribute and Threshold Selection"
      ],
      "metadata": {
        "id": "OdcrC2zL-G6M"
      }
    },
    {
      "cell_type": "code",
      "source": [
        "def select_attribute(data, labels, func_type):\n",
        "    best_feature = None\n",
        "    best_threshold = None\n",
        "    best_information_gain = -np.inf\n",
        "\n",
        "    for feature in data.columns:\n",
        "        # Get index of the column\n",
        "        col_idx = data.columns.get_loc(feature)\n",
        "        # Get possible values within this feature\n",
        "        feature_values = data.iloc[:, col_idx]\n",
        "        # Filter only the unique\n",
        "        unique_values = np.unique(feature_values)\n",
        "        # Get possible thresholds\n",
        "        thresholds = (unique_values[:-1] + unique_values[1:]) / 2.0\n",
        "\n",
        "        # Calculate info gain of each threshold\n",
        "        for threshold in thresholds:\n",
        "            # Get the possible labels for the left node\n",
        "            left_labels = labels[data.iloc[:, col_idx] <= threshold]\n",
        "\n",
        "            # Get the possible labels for the right node\n",
        "            right_labels = labels[data.iloc[:, col_idx] > threshold]\n",
        "             # labels[np.where(data.iloc[:, col_idx] > threshold)[0]]\n",
        "\n",
        "            # Calculate the information gain of the split\n",
        "            information_gain = calculate_information_gain(data, labels, left_labels, right_labels, func_type)\n",
        "\n",
        "            # Keep if best\n",
        "            if information_gain > best_information_gain:\n",
        "                best_feature = col_idx\n",
        "                best_threshold = threshold\n",
        "                best_information_gain = information_gain\n",
        "\n",
        "    return best_feature, best_threshold"
      ],
      "metadata": {
        "id": "IIIfJtl4mEnw"
      },
      "execution_count": 10,
      "outputs": []
    },
    {
      "cell_type": "code",
      "source": [
        "data, labels, _, _ = split_test_val(iris_hard, 'target', val_rate = 0.3)\n",
        "best_feature, best_treshold = select_attribute(data, labels, 'shannon')\n",
        "\n",
        "print(f\"Best Feature: {best_feature}\")\n",
        "print(f\"Best Threshold: {best_treshold}\")\n",
        "\n",
        "data[\"target\"] = labels\n",
        "\n",
        "sns.swarmplot(data=data, x=data.columns[best_feature], hue=\"target\")\n",
        "plt.axvline(x=best_treshold, color='grey')"
      ],
      "metadata": {
        "colab": {
          "base_uri": "https://localhost:8080/",
          "height": 500
        },
        "id": "r8GKnSoW9p4Y",
        "outputId": "af15786b-ff4b-4b46-cc0b-dbe8037313ed"
      },
      "execution_count": 11,
      "outputs": [
        {
          "output_type": "stream",
          "name": "stdout",
          "text": [
            "Best Feature: 3\n",
            "Best Threshold: 1.75\n"
          ]
        },
        {
          "output_type": "execute_result",
          "data": {
            "text/plain": [
              "<matplotlib.lines.Line2D at 0x7f01b0e47310>"
            ]
          },
          "metadata": {},
          "execution_count": 11
        },
        {
          "output_type": "display_data",
          "data": {
            "text/plain": [
              "<Figure size 640x480 with 1 Axes>"
            ],
            "image/png": "[encoded data removed]"
          },
          "metadata": {}
        }
      ]
    },
    {
      "cell_type": "markdown",
      "source": [
        "### Stopping Criterias"
      ],
      "metadata": {
        "id": "3dF0p8z1-fOU"
      }
    },
    {
      "cell_type": "code",
      "source": [
        "def max_depth_stop(depth, max_depth):\n",
        "  return depth==max_depth\n",
        "\n",
        "def no_labels_to_split_stop(labels):\n",
        "  return len(np.unique(labels)) == 1\n",
        "\n",
        "def min_samples_split_stop(labels, min_samples_per_split):\n",
        "  return len(labels) < min_samples_per_split"
      ],
      "metadata": {
        "id": "pO1YNTL0L10r"
      },
      "execution_count": 12,
      "outputs": []
    },
    {
      "cell_type": "markdown",
      "source": [
        "### Building the Tree"
      ],
      "metadata": {
        "id": "Ontg1Ydh-DmJ"
      }
    },
    {
      "cell_type": "code",
      "source": [
        "def build_decision_tree(data, labels, depth=0, max_depth=10, min_samples_per_split=2, func_type='shannon'):\n",
        "    # Initialize an empty root node\n",
        "    node = Node()\n",
        "\n",
        "    if max_depth_stop(depth, max_depth) or no_labels_to_split_stop(labels) or min_samples_split_stop(labels, min_samples_per_split):\n",
        "        node.label = np.bincount(labels).argmax()\n",
        "        return node\n",
        "\n",
        "    # Attribute selection\n",
        "    best_feature, best_threshold = select_attribute(data, labels, func_type)\n",
        "    node.attribute = best_feature\n",
        "    node.split_test = best_threshold\n",
        "    node.is_leaf = False\n",
        "\n",
        "\n",
        "    # Split the data to create Sl' and Sl'' based on the selected attribute and threshold\n",
        "    left_indices = data.iloc[:, best_feature] <= best_threshold\n",
        "    right_indices = data.iloc[:, best_feature] > best_threshold\n",
        "\n",
        "    left_data, left_labels = data.loc[left_indices], labels.loc[left_indices]\n",
        "    right_data, right_labels = data.loc[right_indices], labels.loc[right_indices]\n",
        "\n",
        "    # Recursively build the left and right subtrees\n",
        "    if len(left_data) > 0:\n",
        "        node.left_child = build_decision_tree(left_data, left_labels, depth = depth+1,\n",
        "                                              max_depth=max_depth, min_samples_per_split=min_samples_per_split, func_type=func_type)\n",
        "    if len(right_data) > 0:\n",
        "        node.right_child = build_decision_tree(right_data, right_labels, depth = depth+1,\n",
        "                                               max_depth=max_depth, min_samples_per_split=min_samples_per_split, func_type=func_type)\n",
        "\n",
        "    return node\n"
      ],
      "metadata": {
        "id": "79EoP4ZKke9h"
      },
      "execution_count": 13,
      "outputs": []
    },
    {
      "cell_type": "code",
      "source": [
        "easy_train_X, easy_train_y, easy_test_X, easy_test_y = split_test_val(iris_easy, 'target', val_rate = 0.3)\n",
        "easy_tree = build_decision_tree(easy_train_X, easy_train_y, max_depth=1)\n",
        "\n",
        "hard_train_X, hard_train_y, hard_test_X, hard_test_y = split_test_val(iris_hard, 'target', val_rate = 0.3)\n",
        "hard_tree = build_decision_tree(hard_train_X, hard_train_y, max_depth=10)"
      ],
      "metadata": {
        "id": "4-ZfZj_um0-Z"
      },
      "execution_count": 14,
      "outputs": []
    },
    {
      "cell_type": "markdown",
      "source": [
        "#### Viewing Iris Trees"
      ],
      "metadata": {
        "id": "KTwYtKI0mhr7"
      }
    },
    {
      "cell_type": "code",
      "source": [
        "def print_decision_tree(node, columns, indent=\"\"):\n",
        "    if node.is_leaf:\n",
        "        print(indent + \"Label:\", node.label)\n",
        "        return\n",
        "\n",
        "    if not node.is_leaf:\n",
        "        print(indent + columns[node.attribute] + \" <= \" + str(node.split_test))\n",
        "\n",
        "    print(indent + \"Left:\")\n",
        "    print_decision_tree(node.left_child, columns, indent + \"  \")\n",
        "\n",
        "    print(indent + \"Right:\")\n",
        "    print_decision_tree(node.right_child, columns, indent + \"  \")"
      ],
      "metadata": {
        "id": "QBIRjiiJVWz8"
      },
      "execution_count": 15,
      "outputs": []
    },
    {
      "cell_type": "code",
      "source": [
        "print_decision_tree(easy_tree, easy_train_X.columns)"
      ],
      "metadata": {
        "colab": {
          "base_uri": "https://localhost:8080/"
        },
        "id": "-8gDI7Z3O3I0",
        "outputId": "19491d76-9147-40e8-80c3-3a72377a02ae"
      },
      "execution_count": 16,
      "outputs": [
        {
          "output_type": "stream",
          "name": "stdout",
          "text": [
            "petal length (cm) <= 2.45\n",
            "Left:\n",
            "  Label: 0\n",
            "Right:\n",
            "  Label: 1\n"
          ]
        }
      ]
    },
    {
      "cell_type": "code",
      "source": [
        "print_decision_tree(hard_tree, hard_train_X.columns)"
      ],
      "metadata": {
        "colab": {
          "base_uri": "https://localhost:8080/"
        },
        "id": "y8SIAykvnHyf",
        "outputId": "138f06a0-c5c1-41cf-aa54-5e5ad91e5c9b"
      },
      "execution_count": 17,
      "outputs": [
        {
          "output_type": "stream",
          "name": "stdout",
          "text": [
            "petal length (cm) <= 5.05\n",
            "Left:\n",
            "  petal width (cm) <= 1.9\n",
            "  Left:\n",
            "    sepal length (cm) <= 6.35\n",
            "    Left:\n",
            "      sepal width (cm) <= 3.1\n",
            "      Left:\n",
            "        petal width (cm) <= 1.65\n",
            "        Left:\n",
            "          Label: 1\n",
            "        Right:\n",
            "          Label: 2\n",
            "      Right:\n",
            "        Label: 1\n",
            "    Right:\n",
            "      Label: 1\n",
            "  Right:\n",
            "    Label: 2\n",
            "Right:\n",
            "  Label: 2\n"
          ]
        }
      ]
    },
    {
      "cell_type": "markdown",
      "source": [
        "## Predict & Error in Iris"
      ],
      "metadata": {
        "id": "vOCDdpo6jEnt"
      }
    },
    {
      "cell_type": "code",
      "source": [
        "def _predict_single(node, instance):\n",
        "    if node.label is not None:\n",
        "        return node.label\n",
        "\n",
        "    if instance[node.attribute] <= node.split_test:\n",
        "        return _predict_single(node.left_child, instance)\n",
        "    else:\n",
        "        return _predict_single(node.right_child, instance)\n",
        "\n",
        "def predict(root_node, data):\n",
        "  predictions = [_predict_single(root_node, instance[1]) for instance in data.iterrows()]\n",
        "  return predictions\n",
        "\n",
        "def calculate_error(predictions, labels):\n",
        "    wrong_predictions = np.sum(predictions != labels)\n",
        "    error = wrong_predictions / len(labels)\n",
        "    return error"
      ],
      "metadata": {
        "id": "rH0jlxhbjHtU"
      },
      "execution_count": 18,
      "outputs": []
    },
    {
      "cell_type": "code",
      "source": [
        "easy_train_preds = predict(easy_tree, easy_train_X)\n",
        "easy_test_preds = predict(easy_tree, easy_test_X)\n",
        "error_easy_train = calculate_error(easy_train_preds, easy_train_y)\n",
        "error_easy_test = calculate_error(easy_test_preds, easy_test_y)\n",
        "\n",
        "hard_train_preds = predict(hard_tree, hard_train_X)\n",
        "hard_test_preds = predict(hard_tree, hard_test_X)\n",
        "error_hard_train = calculate_error(hard_train_preds, hard_train_y)\n",
        "error_hard_test = calculate_error(hard_test_preds, hard_test_y)\n",
        "\n",
        "print(f\"Linear Separable IRIS Set: Training Error {error_easy_train}; Test Error: {error_easy_test}\")\n",
        "print(f\"Non Linear Separable IRIS Set: Training Error {error_hard_train}; Test Error: {error_hard_test}\")"
      ],
      "metadata": {
        "colab": {
          "base_uri": "https://localhost:8080/"
        },
        "id": "4SCdYs6KjNFG",
        "outputId": "857ca5d9-2d41-4a05-a85a-cad01716b1a9"
      },
      "execution_count": 19,
      "outputs": [
        {
          "output_type": "stream",
          "name": "stdout",
          "text": [
            "Linear Separable IRIS Set: Training Error 0.0; Test Error: 0.0\n",
            "Non Linear Separable IRIS Set: Training Error 0.0; Test Error: 0.06666666666666667\n"
          ]
        }
      ]
    },
    {
      "cell_type": "markdown",
      "source": [
        "## The DecisionTree Class"
      ],
      "metadata": {
        "id": "dRiy02nBpBYe"
      }
    },
    {
      "cell_type": "code",
      "source": [
        "class Node:\n",
        "    def __init__(self, label=None, attribute=None, split_test=None):\n",
        "        self.label = label\n",
        "        self.attribute = attribute\n",
        "        self.split_test = split_test\n",
        "        self.is_leaf = True\n",
        "        self.left_child = None\n",
        "        self.right_child = None\n",
        "\n",
        "class DecisionTree:\n",
        "  def __init__(self, max_depth=10, min_samples_per_split=2, func_type='shannon'):\n",
        "    self.max_depth = max_depth\n",
        "    self.min_samples_per_split = min_samples_per_split\n",
        "    self.func_type = func_type\n",
        "    self.cols = None\n",
        "    self.root = None\n",
        "\n",
        "  def fit(self, data, label):\n",
        "    self.cols = data.columns\n",
        "    self.root = self._build_decision_tree(data, label)\n",
        "\n",
        "    predictions = self.predict(data)\n",
        "    wrong_predictions = np.sum(predictions != label)\n",
        "    error = wrong_predictions / len(label)\n",
        "    print(f\"Model fitted with training error: {error}\")\n",
        "\n",
        "    return self\n",
        "\n",
        "  def predict(self, data):\n",
        "    if not self.root:\n",
        "      raise NotImplementedError(\"Model not yet fitted.\")\n",
        "\n",
        "    predictions = [self._predict_single(self.root, instance[1]) for instance in data.iterrows()]\n",
        "    return predictions\n",
        "\n",
        "\n",
        "  def print_tree(self, node=None, indent=\"\"):\n",
        "      if not self.root:\n",
        "        raise NotImplementedError(\"Model not yet fitted.\")\n",
        "\n",
        "      if not node:\n",
        "        node = self.root\n",
        "\n",
        "      if node.is_leaf:\n",
        "          print(indent + \"Label:\", node.label)\n",
        "          return\n",
        "\n",
        "      if not node.is_leaf:\n",
        "          print(indent + self.cols[node.attribute] + \" <= \" + str(node.split_test))\n",
        "\n",
        "      print(indent + \"Left:\")\n",
        "      self.print_tree(node.left_child, indent + \"  \")\n",
        "\n",
        "      print(indent + \"Right:\")\n",
        "      self.print_tree(node.right_child, indent + \"  \")\n",
        "\n",
        "  def _calculate_entropy(self, labels):\n",
        "    # Get counts of zero and ones as vector\n",
        "    _, counts = np.unique(labels, return_counts=True)\n",
        "    # Normalize\n",
        "    p_vec = counts / len(labels)\n",
        "\n",
        "    # Calculate proper entropy criterion\n",
        "    if self.func_type == 'shannon':\n",
        "      return -np.sum(p_vec * np.log2(p_vec))\n",
        "    elif self.func_type == 'scaled':\n",
        "      return -np.sum((p_vec/2) * np.log2(p_vec))\n",
        "    elif self.func_type == 'gini':\n",
        "      return 1 - np.sum(np.square(p_vec))\n",
        "\n",
        "  def _calculate_information_gain(self, data, labels, left_labels, right_labels):\n",
        "    total_entropy = self._calculate_entropy(labels)\n",
        "    left_entropy = self._calculate_entropy(left_labels)\n",
        "    right_entropy = self._calculate_entropy(right_labels)\n",
        "\n",
        "    left_weighted_entropy = (len(left_labels) / len(labels)) * left_entropy\n",
        "    right_weighted_entropy = (len(right_labels) / len(right_labels)) * right_entropy\n",
        "    information_gain = total_entropy - (left_weighted_entropy + right_weighted_entropy)\n",
        "    return information_gain\n",
        "\n",
        "  def _select_attribute(self, data, labels):\n",
        "    best_feature = None\n",
        "    best_threshold = None\n",
        "    best_information_gain = -np.inf\n",
        "\n",
        "    for feature in data.columns:\n",
        "        # Get index of the column\n",
        "        col_idx = data.columns.get_loc(feature)\n",
        "        # Get possible values within this feature\n",
        "        feature_values = data.iloc[:, col_idx]\n",
        "        # Filter only the unique\n",
        "        unique_values = np.unique(feature_values)\n",
        "        # Get possible thresholds\n",
        "        thresholds = (unique_values[:-1] + unique_values[1:]) / 2.0\n",
        "\n",
        "        # Calculate info gain of each threshold\n",
        "        for threshold in thresholds:\n",
        "            # Get the possible labels for the left node\n",
        "            left_labels = labels[data.iloc[:, col_idx] <= threshold]\n",
        "\n",
        "            # Get the possible labels for the right node\n",
        "            right_labels = labels[data.iloc[:, col_idx] > threshold]\n",
        "            # labels[np.where(data.iloc[:, col_idx] > threshold)[0]]\n",
        "\n",
        "            # Calculate the information gain of the split\n",
        "            information_gain = self._calculate_information_gain(data, labels, left_labels, right_labels)\n",
        "\n",
        "            # Keep if best\n",
        "            if information_gain > best_information_gain:\n",
        "                best_feature = col_idx\n",
        "                best_threshold = threshold\n",
        "                best_information_gain = information_gain\n",
        "\n",
        "    return best_feature, best_threshold\n",
        "\n",
        "  def _max_depth(self, depth):\n",
        "    return depth==self.max_depth\n",
        "\n",
        "  def _no_labels_to_split(self, labels):\n",
        "    return len(np.unique(labels)) == 1\n",
        "\n",
        "  def _min_samples_split(self, labels):\n",
        "    return len(labels) < self.min_samples_per_split\n",
        "\n",
        "  def _build_decision_tree(self, data, labels, depth=0):\n",
        "    # Initialize an empty root node\n",
        "    node = Node()\n",
        "\n",
        "    if self._max_depth(depth) or self._no_labels_to_split(labels) or self._min_samples_split(labels):\n",
        "        node.label = np.bincount(labels).argmax()\n",
        "        return node\n",
        "\n",
        "    # Attribute selection\n",
        "    best_feature, best_threshold = self._select_attribute(data, labels)\n",
        "    node.attribute = best_feature\n",
        "    node.split_test = best_threshold\n",
        "    node.is_leaf = False\n",
        "\n",
        "\n",
        "    # Split the data to create Sl' and Sl'' based on the selected attribute and threshold\n",
        "    left_indices = data.iloc[:, best_feature] <= best_threshold\n",
        "    right_indices = data.iloc[:, best_feature] > best_threshold\n",
        "\n",
        "    left_data, left_labels = data.loc[left_indices], labels.loc[left_indices]\n",
        "    right_data, right_labels = data.loc[right_indices], labels.loc[right_indices]\n",
        "\n",
        "    # Recursively build the left and right subtrees\n",
        "    if len(left_data) > 0:\n",
        "        node.left_child = self._build_decision_tree(left_data, left_labels, depth = depth+1)\n",
        "    if len(right_data) > 0:\n",
        "        node.right_child = self._build_decision_tree(right_data, right_labels, depth = depth+1)\n",
        "\n",
        "    return node\n",
        "\n",
        "  def _predict_single(self, node, instance):\n",
        "    if node.label is not None:\n",
        "        return node.label\n",
        "\n",
        "    if instance[node.attribute] <= node.split_test:\n",
        "        return self._predict_single(node.left_child, instance)\n",
        "    else:\n",
        "        return self._predict_single(node.right_child, instance)"
      ],
      "metadata": {
        "id": "DUqLZp2UpAV3"
      },
      "execution_count": 10,
      "outputs": []
    },
    {
      "cell_type": "code",
      "source": [
        "hard_train_X, hard_train_y, hard_test_X, hard_test_y = split_test_val(iris_hard, 'target', val_rate = 0.3)\n",
        "clf = DecisionTree()\n",
        "clf = clf.fit(hard_train_X, hard_train_y)"
      ],
      "metadata": {
        "colab": {
          "base_uri": "https://localhost:8080/"
        },
        "id": "_YyQSujtvwpR",
        "outputId": "a383d554-2ba2-465f-c730-969cfde5d8a4"
      },
      "execution_count": 14,
      "outputs": [
        {
          "output_type": "stream",
          "name": "stdout",
          "text": [
            "Model fitted with training error: 0.0\n"
          ]
        }
      ]
    },
    {
      "cell_type": "code",
      "source": [
        "clf.print_tree()"
      ],
      "metadata": {
        "colab": {
          "base_uri": "https://localhost:8080/"
        },
        "id": "gpYuRdTxwod1",
        "outputId": "558f634b-d107-4e7d-a20d-d60580fce25d"
      },
      "execution_count": 15,
      "outputs": [
        {
          "output_type": "stream",
          "name": "stdout",
          "text": [
            "petal width (cm) <= 1.75\n",
            "Left:\n",
            "  petal length (cm) <= 5.35\n",
            "  Left:\n",
            "    sepal length (cm) <= 4.95\n",
            "    Left:\n",
            "      Label: 2\n",
            "    Right:\n",
            "      sepal width (cm) <= 2.8499999999999996\n",
            "      Left:\n",
            "        sepal length (cm) <= 6.4\n",
            "        Left:\n",
            "          petal width (cm) <= 1.55\n",
            "          Left:\n",
            "            petal length (cm) <= 4.95\n",
            "            Left:\n",
            "              Label: 1\n",
            "            Right:\n",
            "              Label: 2\n",
            "          Right:\n",
            "            Label: 1\n",
            "        Right:\n",
            "          Label: 1\n",
            "      Right:\n",
            "        Label: 1\n",
            "  Right:\n",
            "    Label: 2\n",
            "Right:\n",
            "  petal length (cm) <= 4.85\n",
            "  Left:\n",
            "    sepal length (cm) <= 6.050000000000001\n",
            "    Left:\n",
            "      Label: 1\n",
            "    Right:\n",
            "      Label: 2\n",
            "  Right:\n",
            "    Label: 2\n"
          ]
        }
      ]
    },
    {
      "cell_type": "code",
      "source": [
        "def calculate_error(predictions, labels):\n",
        "    wrong_predictions = np.sum(predictions != labels)\n",
        "    error = wrong_predictions / len(labels)\n",
        "    return error\n",
        "\n",
        "test_preds = clf.predict(hard_test_X)\n",
        "test_error = calculate_error(test_preds, hard_test_y)\n",
        "print(f\"Test error: {test_error}\")"
      ],
      "metadata": {
        "colab": {
          "base_uri": "https://localhost:8080/"
        },
        "id": "1enFGlkOxtm5",
        "outputId": "4bb11bf9-e9e7-4c19-9279-2842073c6883"
      },
      "execution_count": 16,
      "outputs": [
        {
          "output_type": "stream",
          "name": "stdout",
          "text": [
            "Test error: 0.06666666666666667\n"
          ]
        }
      ]
    },
    {
      "cell_type": "markdown",
      "source": [
        "# 2. Distributed Workers"
      ],
      "metadata": {
        "id": "2QUtVFgDPVio"
      }
    },
    {
      "cell_type": "code",
      "source": [
        "label = None\n"
      ],
      "metadata": {
        "id": "-aPtD56WPoxV",
        "colab": {
          "base_uri": "https://localhost:8080/"
        },
        "outputId": "87db7551-0a36-4bc8-941c-f6584ad2ece6"
      },
      "execution_count": null,
      "outputs": [
        {
          "output_type": "execute_result",
          "data": {
            "text/plain": [
              "False"
            ]
          },
          "metadata": {},
          "execution_count": 70
        }
      ]
    },
    {
      "cell_type": "code",
      "source": [],
      "metadata": {
        "id": "Gjt8N1-a7LzZ"
      },
      "execution_count": null,
      "outputs": []
    }
  ]
}